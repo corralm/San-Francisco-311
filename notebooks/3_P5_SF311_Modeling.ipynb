{
 "cells": [
  {
   "cell_type": "code",
   "execution_count": null,
   "metadata": {
    "Collapsed": "false",
    "ExecuteTime": {
     "end_time": "2020-03-17T16:17:47.263771Z",
     "start_time": "2020-03-17T16:17:47.144276Z"
    }
   },
   "outputs": [],
   "source": [
    "cat /proc/cpuinfo"
   ]
  },
  {
   "cell_type": "markdown",
   "metadata": {
    "Collapsed": "false"
   },
   "source": [
    "Todos\n",
    "* Recursive Feature Elimination\n",
    "    * from sklearn.feature_selection import RFE"
   ]
  },
  {
   "cell_type": "code",
   "execution_count": null,
   "metadata": {
    "Collapsed": "false"
   },
   "outputs": [],
   "source": [
    "client.close()"
   ]
  },
  {
   "cell_type": "code",
   "execution_count": null,
   "metadata": {
    "Collapsed": "false"
   },
   "outputs": [],
   "source": [
    "# Import Dask libraries\n",
    "\n",
    "from dask import delayed\n",
    "import joblib\n",
    "import dask.dataframe as dd\n",
    "import dask.array as da\n",
    "\n",
    "from dask.distributed import Client, progress\n",
    "client = Client(processes=False)\n",
    "client"
   ]
  },
  {
   "cell_type": "code",
   "execution_count": 1,
   "metadata": {
    "Collapsed": "false",
    "ExecuteTime": {
     "end_time": "2020-03-17T03:23:23.388071Z",
     "start_time": "2020-03-17T03:23:12.402438Z"
    }
   },
   "outputs": [
    {
     "name": "stderr",
     "output_type": "stream",
     "text": [
      "Using TensorFlow backend.\n"
     ]
    }
   ],
   "source": [
    "import pandas as pd\n",
    "import numpy as np\n",
    "\n",
    "\n",
    "# Tools\n",
    "from collections import Counter\n",
    "import pickle\n",
    "# import joblib\n",
    "# svc_model = joblib.load('../models/SVC_20k.pkl')\n",
    "\n",
    "# Features\n",
    "from sklearn.preprocessing import LabelEncoder, OneHotEncoder\n",
    "from sklearn.feature_selection import SelectKBest, chi2, f_classif\n",
    "from xgboost import plot_importance\n",
    "\n",
    "# Sampling & Pipeline\n",
    "from imblearn.over_sampling import SMOTE\n",
    "from imblearn.under_sampling import NearMiss\n",
    "from imblearn.under_sampling import RandomUnderSampler\n",
    "from imblearn.pipeline import Pipeline\n",
    "\n",
    "# Model Selection\n",
    "from sklearn.model_selection import train_test_split, KFold\n",
    "from sklearn.model_selection import RandomizedSearchCV, GridSearchCV\n",
    "from sklearn.model_selection import cross_val_score\n",
    "from sklearn.model_selection import StratifiedKFold\n",
    "\n",
    "# Models\n",
    "from sklearn.linear_model import LogisticRegression\n",
    "from sklearn.neighbors import KNeighborsClassifier\n",
    "from sklearn.svm import SVC\n",
    "from sklearn.ensemble import RandomForestClassifier, VotingClassifier\n",
    "from xgboost import XGBClassifier\n",
    "\n",
    "# Metrics\n",
    "from sklearn.metrics import confusion_matrix\n",
    "from sklearn.metrics import accuracy_score\n",
    "from sklearn.metrics import precision_recall_curve, precision_score, recall_score\n",
    "from sklearn.metrics import f1_score, fbeta_score\n",
    "from sklearn.metrics import roc_auc_score, roc_curve, auc\n",
    "\n",
    "# Visualizations\n",
    "from matplotlib import pyplot\n",
    "from matplotlib.pyplot import figure\n",
    "import matplotlib.pyplot as plt\n",
    "import seaborn as sns\n",
    "\n",
    "%matplotlib inline\n",
    "plt.style.use('ggplot')"
   ]
  },
  {
   "cell_type": "code",
   "execution_count": 2,
   "metadata": {
    "Collapsed": "false",
    "ExecuteTime": {
     "end_time": "2020-03-17T03:23:26.296773Z",
     "start_time": "2020-03-17T03:23:25.906933Z"
    }
   },
   "outputs": [
    {
     "data": {
      "text/html": [
       "<div>\n",
       "<style scoped>\n",
       "    .dataframe tbody tr th:only-of-type {\n",
       "        vertical-align: middle;\n",
       "    }\n",
       "\n",
       "    .dataframe tbody tr th {\n",
       "        vertical-align: top;\n",
       "    }\n",
       "\n",
       "    .dataframe thead th {\n",
       "        text-align: right;\n",
       "    }\n",
       "</style>\n",
       "<table border=\"1\" class=\"dataframe\">\n",
       "  <thead>\n",
       "    <tr style=\"text-align: right;\">\n",
       "      <th></th>\n",
       "      <th>case_id</th>\n",
       "      <th>target</th>\n",
       "      <th>opened</th>\n",
       "      <th>closed</th>\n",
       "      <th>updated</th>\n",
       "      <th>status</th>\n",
       "      <th>status_notes</th>\n",
       "      <th>responsible_agency</th>\n",
       "      <th>category</th>\n",
       "      <th>request_type</th>\n",
       "      <th>...</th>\n",
       "      <th>opened_year</th>\n",
       "      <th>opened_month_sin</th>\n",
       "      <th>opened_month_cos</th>\n",
       "      <th>opened_week_sin</th>\n",
       "      <th>opened_week_cos</th>\n",
       "      <th>opened_day_sin</th>\n",
       "      <th>opened_day_cos</th>\n",
       "      <th>opened_hour_sin</th>\n",
       "      <th>opened_hour_cos</th>\n",
       "      <th>resolution_time</th>\n",
       "    </tr>\n",
       "  </thead>\n",
       "  <tbody>\n",
       "    <tr>\n",
       "      <th>811474</th>\n",
       "      <td>9993791</td>\n",
       "      <td>1</td>\n",
       "      <td>2018-12-30 22:40:00</td>\n",
       "      <td>2018-12-30 23:13:06</td>\n",
       "      <td>2018-12-30 23:13:06</td>\n",
       "      <td>Closed</td>\n",
       "      <td>Case Resolved - Officer responded to request u...</td>\n",
       "      <td>Parking Enforcement Dispatch Queue</td>\n",
       "      <td>Parking Enforcement</td>\n",
       "      <td>Parking_on_Sidewalk</td>\n",
       "      <td>...</td>\n",
       "      <td>2018</td>\n",
       "      <td>-2.449294e-16</td>\n",
       "      <td>1.0</td>\n",
       "      <td>-2.449294e-16</td>\n",
       "      <td>1.0</td>\n",
       "      <td>-0.781831</td>\n",
       "      <td>0.62349</td>\n",
       "      <td>-0.500000</td>\n",
       "      <td>0.866025</td>\n",
       "      <td>33.100000</td>\n",
       "    </tr>\n",
       "    <tr>\n",
       "      <th>811481</th>\n",
       "      <td>9993771</td>\n",
       "      <td>1</td>\n",
       "      <td>2018-12-30 22:18:00</td>\n",
       "      <td>2018-12-30 22:19:29</td>\n",
       "      <td>2018-12-30 22:19:29</td>\n",
       "      <td>Closed</td>\n",
       "      <td>Case is Invalid - Contact name and phone numbe...</td>\n",
       "      <td>Parking Enforcement Dispatch Queue</td>\n",
       "      <td>Parking Enforcement</td>\n",
       "      <td>Blocking_Driveway_Cite_Only</td>\n",
       "      <td>...</td>\n",
       "      <td>2018</td>\n",
       "      <td>-2.449294e-16</td>\n",
       "      <td>1.0</td>\n",
       "      <td>-2.449294e-16</td>\n",
       "      <td>1.0</td>\n",
       "      <td>-0.781831</td>\n",
       "      <td>0.62349</td>\n",
       "      <td>-0.500000</td>\n",
       "      <td>0.866025</td>\n",
       "      <td>1.483333</td>\n",
       "    </tr>\n",
       "    <tr>\n",
       "      <th>811482</th>\n",
       "      <td>9993764</td>\n",
       "      <td>0</td>\n",
       "      <td>2018-12-30 22:14:00</td>\n",
       "      <td>2018-12-30 23:12:50</td>\n",
       "      <td>2018-12-30 23:12:50</td>\n",
       "      <td>Closed</td>\n",
       "      <td>Case Resolved - Officer responded to request u...</td>\n",
       "      <td>Parking Enforcement Dispatch Queue</td>\n",
       "      <td>Parking Enforcement</td>\n",
       "      <td>Blocking_Driveway_Cite_Tow</td>\n",
       "      <td>...</td>\n",
       "      <td>2018</td>\n",
       "      <td>-2.449294e-16</td>\n",
       "      <td>1.0</td>\n",
       "      <td>-2.449294e-16</td>\n",
       "      <td>1.0</td>\n",
       "      <td>-0.781831</td>\n",
       "      <td>0.62349</td>\n",
       "      <td>-0.500000</td>\n",
       "      <td>0.866025</td>\n",
       "      <td>58.833333</td>\n",
       "    </tr>\n",
       "    <tr>\n",
       "      <th>811494</th>\n",
       "      <td>9993737</td>\n",
       "      <td>0</td>\n",
       "      <td>2018-12-30 21:53:14</td>\n",
       "      <td>2018-12-30 22:18:00</td>\n",
       "      <td>2018-12-30 22:18:00</td>\n",
       "      <td>Closed</td>\n",
       "      <td>Case Transferred - See encampment sr#9993757</td>\n",
       "      <td>311 Supervisor Queue</td>\n",
       "      <td>General Request - PUBLIC WORKS</td>\n",
       "      <td>request_for_service</td>\n",
       "      <td>...</td>\n",
       "      <td>2018</td>\n",
       "      <td>-2.449294e-16</td>\n",
       "      <td>1.0</td>\n",
       "      <td>-2.449294e-16</td>\n",
       "      <td>1.0</td>\n",
       "      <td>-0.781831</td>\n",
       "      <td>0.62349</td>\n",
       "      <td>-0.707107</td>\n",
       "      <td>0.707107</td>\n",
       "      <td>24.766667</td>\n",
       "    </tr>\n",
       "    <tr>\n",
       "      <th>811508</th>\n",
       "      <td>9993687</td>\n",
       "      <td>0</td>\n",
       "      <td>2018-12-30 21:16:00</td>\n",
       "      <td>2018-12-30 21:38:46</td>\n",
       "      <td>2018-12-30 21:38:46</td>\n",
       "      <td>Closed</td>\n",
       "      <td>Case Resolved - Police Officer responded to re...</td>\n",
       "      <td>Parking Enforcement Dispatch Queue</td>\n",
       "      <td>Parking Enforcement</td>\n",
       "      <td>Blocking_Driveway_Cite_Only</td>\n",
       "      <td>...</td>\n",
       "      <td>2018</td>\n",
       "      <td>-2.449294e-16</td>\n",
       "      <td>1.0</td>\n",
       "      <td>-2.449294e-16</td>\n",
       "      <td>1.0</td>\n",
       "      <td>-0.781831</td>\n",
       "      <td>0.62349</td>\n",
       "      <td>-0.707107</td>\n",
       "      <td>0.707107</td>\n",
       "      <td>22.766667</td>\n",
       "    </tr>\n",
       "  </tbody>\n",
       "</table>\n",
       "<p>5 rows × 31 columns</p>\n",
       "</div>"
      ],
      "text/plain": [
       "        case_id  target              opened              closed  \\\n",
       "811474  9993791       1 2018-12-30 22:40:00 2018-12-30 23:13:06   \n",
       "811481  9993771       1 2018-12-30 22:18:00 2018-12-30 22:19:29   \n",
       "811482  9993764       0 2018-12-30 22:14:00 2018-12-30 23:12:50   \n",
       "811494  9993737       0 2018-12-30 21:53:14 2018-12-30 22:18:00   \n",
       "811508  9993687       0 2018-12-30 21:16:00 2018-12-30 21:38:46   \n",
       "\n",
       "                   updated  status  \\\n",
       "811474 2018-12-30 23:13:06  Closed   \n",
       "811481 2018-12-30 22:19:29  Closed   \n",
       "811482 2018-12-30 23:12:50  Closed   \n",
       "811494 2018-12-30 22:18:00  Closed   \n",
       "811508 2018-12-30 21:38:46  Closed   \n",
       "\n",
       "                                             status_notes  \\\n",
       "811474  Case Resolved - Officer responded to request u...   \n",
       "811481  Case is Invalid - Contact name and phone numbe...   \n",
       "811482  Case Resolved - Officer responded to request u...   \n",
       "811494       Case Transferred - See encampment sr#9993757   \n",
       "811508  Case Resolved - Police Officer responded to re...   \n",
       "\n",
       "                        responsible_agency                        category  \\\n",
       "811474  Parking Enforcement Dispatch Queue             Parking Enforcement   \n",
       "811481  Parking Enforcement Dispatch Queue             Parking Enforcement   \n",
       "811482  Parking Enforcement Dispatch Queue             Parking Enforcement   \n",
       "811494                311 Supervisor Queue  General Request - PUBLIC WORKS   \n",
       "811508  Parking Enforcement Dispatch Queue             Parking Enforcement   \n",
       "\n",
       "                       request_type  ... opened_year opened_month_sin  \\\n",
       "811474          Parking_on_Sidewalk  ...        2018    -2.449294e-16   \n",
       "811481  Blocking_Driveway_Cite_Only  ...        2018    -2.449294e-16   \n",
       "811482   Blocking_Driveway_Cite_Tow  ...        2018    -2.449294e-16   \n",
       "811494          request_for_service  ...        2018    -2.449294e-16   \n",
       "811508  Blocking_Driveway_Cite_Only  ...        2018    -2.449294e-16   \n",
       "\n",
       "       opened_month_cos opened_week_sin opened_week_cos opened_day_sin  \\\n",
       "811474              1.0   -2.449294e-16             1.0      -0.781831   \n",
       "811481              1.0   -2.449294e-16             1.0      -0.781831   \n",
       "811482              1.0   -2.449294e-16             1.0      -0.781831   \n",
       "811494              1.0   -2.449294e-16             1.0      -0.781831   \n",
       "811508              1.0   -2.449294e-16             1.0      -0.781831   \n",
       "\n",
       "        opened_day_cos  opened_hour_sin opened_hour_cos resolution_time  \n",
       "811474         0.62349        -0.500000        0.866025       33.100000  \n",
       "811481         0.62349        -0.500000        0.866025        1.483333  \n",
       "811482         0.62349        -0.500000        0.866025       58.833333  \n",
       "811494         0.62349        -0.707107        0.707107       24.766667  \n",
       "811508         0.62349        -0.707107        0.707107       22.766667  \n",
       "\n",
       "[5 rows x 31 columns]"
      ]
     },
     "execution_count": 2,
     "metadata": {},
     "output_type": "execute_result"
    }
   ],
   "source": [
    "# Load dataframe\n",
    "df = pd.read_pickle('../data/df_pre_model_2018.pkl')\n",
    "\n",
    "df.head()"
   ]
  },
  {
   "cell_type": "code",
   "execution_count": 3,
   "metadata": {
    "Collapsed": "false",
    "ExecuteTime": {
     "end_time": "2020-03-17T03:23:42.973622Z",
     "start_time": "2020-03-17T03:23:31.566307Z"
    }
   },
   "outputs": [
    {
     "data": {
      "text/html": [
       "<div>\n",
       "<style scoped>\n",
       "    .dataframe tbody tr th:only-of-type {\n",
       "        vertical-align: middle;\n",
       "    }\n",
       "\n",
       "    .dataframe tbody tr th {\n",
       "        vertical-align: top;\n",
       "    }\n",
       "\n",
       "    .dataframe thead th {\n",
       "        text-align: right;\n",
       "    }\n",
       "</style>\n",
       "<table border=\"1\" class=\"dataframe\">\n",
       "  <thead>\n",
       "    <tr style=\"text-align: right;\">\n",
       "      <th></th>\n",
       "      <th>latitude</th>\n",
       "      <th>longitude</th>\n",
       "      <th>opened_week_sin</th>\n",
       "      <th>opened_week_cos</th>\n",
       "      <th>opened_day_sin</th>\n",
       "      <th>opened_day_cos</th>\n",
       "      <th>opened_hour_sin</th>\n",
       "      <th>opened_hour_cos</th>\n",
       "      <th>resolution_time</th>\n",
       "      <th>request_type_Abandoned Vehicle - Car2door</th>\n",
       "      <th>...</th>\n",
       "      <th>neighborhood_Westwood Park</th>\n",
       "      <th>neighborhood_Yerba Buena Island</th>\n",
       "      <th>source_Integrated Agency</th>\n",
       "      <th>source_Mail</th>\n",
       "      <th>source_Mobile/Open311</th>\n",
       "      <th>source_Other Department</th>\n",
       "      <th>source_Phone</th>\n",
       "      <th>source_Twitter</th>\n",
       "      <th>source_Web</th>\n",
       "      <th>has_media_1</th>\n",
       "    </tr>\n",
       "  </thead>\n",
       "  <tbody>\n",
       "    <tr>\n",
       "      <th>838007</th>\n",
       "      <td>37.7586</td>\n",
       "      <td>-122.4324</td>\n",
       "      <td>-0.239316</td>\n",
       "      <td>0.970942</td>\n",
       "      <td>0.974928</td>\n",
       "      <td>-0.222521</td>\n",
       "      <td>0.866025</td>\n",
       "      <td>-0.500000</td>\n",
       "      <td>40.000000</td>\n",
       "      <td>0</td>\n",
       "      <td>...</td>\n",
       "      <td>0</td>\n",
       "      <td>0</td>\n",
       "      <td>0</td>\n",
       "      <td>0</td>\n",
       "      <td>1</td>\n",
       "      <td>0</td>\n",
       "      <td>0</td>\n",
       "      <td>0</td>\n",
       "      <td>0</td>\n",
       "      <td>0</td>\n",
       "    </tr>\n",
       "    <tr>\n",
       "      <th>1004322</th>\n",
       "      <td>37.7811</td>\n",
       "      <td>-122.4092</td>\n",
       "      <td>-0.935016</td>\n",
       "      <td>-0.354605</td>\n",
       "      <td>0.974928</td>\n",
       "      <td>-0.222521</td>\n",
       "      <td>-0.500000</td>\n",
       "      <td>-0.866025</td>\n",
       "      <td>1502.000000</td>\n",
       "      <td>0</td>\n",
       "      <td>...</td>\n",
       "      <td>0</td>\n",
       "      <td>0</td>\n",
       "      <td>0</td>\n",
       "      <td>0</td>\n",
       "      <td>0</td>\n",
       "      <td>0</td>\n",
       "      <td>1</td>\n",
       "      <td>0</td>\n",
       "      <td>0</td>\n",
       "      <td>0</td>\n",
       "    </tr>\n",
       "    <tr>\n",
       "      <th>877110</th>\n",
       "      <td>37.7815</td>\n",
       "      <td>-122.4383</td>\n",
       "      <td>-0.663123</td>\n",
       "      <td>0.748511</td>\n",
       "      <td>-0.974928</td>\n",
       "      <td>-0.222521</td>\n",
       "      <td>-0.500000</td>\n",
       "      <td>-0.866025</td>\n",
       "      <td>82.116667</td>\n",
       "      <td>0</td>\n",
       "      <td>...</td>\n",
       "      <td>0</td>\n",
       "      <td>0</td>\n",
       "      <td>0</td>\n",
       "      <td>0</td>\n",
       "      <td>1</td>\n",
       "      <td>0</td>\n",
       "      <td>0</td>\n",
       "      <td>0</td>\n",
       "      <td>0</td>\n",
       "      <td>1</td>\n",
       "    </tr>\n",
       "    <tr>\n",
       "      <th>1052583</th>\n",
       "      <td>37.7806</td>\n",
       "      <td>-122.4058</td>\n",
       "      <td>-0.663123</td>\n",
       "      <td>-0.748511</td>\n",
       "      <td>0.974928</td>\n",
       "      <td>-0.222521</td>\n",
       "      <td>-0.258819</td>\n",
       "      <td>-0.965926</td>\n",
       "      <td>23.600000</td>\n",
       "      <td>0</td>\n",
       "      <td>...</td>\n",
       "      <td>0</td>\n",
       "      <td>0</td>\n",
       "      <td>1</td>\n",
       "      <td>0</td>\n",
       "      <td>0</td>\n",
       "      <td>0</td>\n",
       "      <td>0</td>\n",
       "      <td>0</td>\n",
       "      <td>0</td>\n",
       "      <td>0</td>\n",
       "    </tr>\n",
       "    <tr>\n",
       "      <th>960828</th>\n",
       "      <td>37.7664</td>\n",
       "      <td>-122.4665</td>\n",
       "      <td>-0.992709</td>\n",
       "      <td>0.120537</td>\n",
       "      <td>0.000000</td>\n",
       "      <td>1.000000</td>\n",
       "      <td>0.866025</td>\n",
       "      <td>-0.500000</td>\n",
       "      <td>15763.166667</td>\n",
       "      <td>0</td>\n",
       "      <td>...</td>\n",
       "      <td>0</td>\n",
       "      <td>0</td>\n",
       "      <td>0</td>\n",
       "      <td>0</td>\n",
       "      <td>0</td>\n",
       "      <td>0</td>\n",
       "      <td>0</td>\n",
       "      <td>0</td>\n",
       "      <td>1</td>\n",
       "      <td>0</td>\n",
       "    </tr>\n",
       "  </tbody>\n",
       "</table>\n",
       "<p>5 rows × 2792 columns</p>\n",
       "</div>"
      ],
      "text/plain": [
       "         latitude  longitude  opened_week_sin  opened_week_cos  \\\n",
       "838007    37.7586  -122.4324        -0.239316         0.970942   \n",
       "1004322   37.7811  -122.4092        -0.935016        -0.354605   \n",
       "877110    37.7815  -122.4383        -0.663123         0.748511   \n",
       "1052583   37.7806  -122.4058        -0.663123        -0.748511   \n",
       "960828    37.7664  -122.4665        -0.992709         0.120537   \n",
       "\n",
       "         opened_day_sin  opened_day_cos  opened_hour_sin  opened_hour_cos  \\\n",
       "838007         0.974928       -0.222521         0.866025        -0.500000   \n",
       "1004322        0.974928       -0.222521        -0.500000        -0.866025   \n",
       "877110        -0.974928       -0.222521        -0.500000        -0.866025   \n",
       "1052583        0.974928       -0.222521        -0.258819        -0.965926   \n",
       "960828         0.000000        1.000000         0.866025        -0.500000   \n",
       "\n",
       "         resolution_time  request_type_Abandoned Vehicle - Car2door  ...  \\\n",
       "838007         40.000000                                          0  ...   \n",
       "1004322      1502.000000                                          0  ...   \n",
       "877110         82.116667                                          0  ...   \n",
       "1052583        23.600000                                          0  ...   \n",
       "960828      15763.166667                                          0  ...   \n",
       "\n",
       "         neighborhood_Westwood Park  neighborhood_Yerba Buena Island  \\\n",
       "838007                            0                                0   \n",
       "1004322                           0                                0   \n",
       "877110                            0                                0   \n",
       "1052583                           0                                0   \n",
       "960828                            0                                0   \n",
       "\n",
       "         source_Integrated Agency  source_Mail  source_Mobile/Open311  \\\n",
       "838007                          0            0                      1   \n",
       "1004322                         0            0                      0   \n",
       "877110                          0            0                      1   \n",
       "1052583                         1            0                      0   \n",
       "960828                          0            0                      0   \n",
       "\n",
       "         source_Other Department  source_Phone  source_Twitter  source_Web  \\\n",
       "838007                         0             0               0           0   \n",
       "1004322                        0             1               0           0   \n",
       "877110                         0             0               0           0   \n",
       "1052583                        0             0               0           0   \n",
       "960828                         0             0               0           1   \n",
       "\n",
       "         has_media_1  \n",
       "838007             0  \n",
       "1004322            0  \n",
       "877110             1  \n",
       "1052583            0  \n",
       "960828             0  \n",
       "\n",
       "[5 rows x 2792 columns]"
      ]
     },
     "execution_count": 3,
     "metadata": {},
     "output_type": "execute_result"
    }
   ],
   "source": [
    "# Train and test splitting\n",
    "\n",
    "# Columns to exclude\n",
    "exclude_cols = [\n",
    "    'target', # Target variable\n",
    "    'case_id',\n",
    "    'opened', # Feature Eng\n",
    "    'closed', # Feature Eng\n",
    "    'updated',\n",
    "    'status',\n",
    "    'status_notes', # Needs NLP\n",
    "    'request_details', # Needs NLP\n",
    "    'address', # Needs NLP\n",
    "#     'street', # Convert to 'category' type to get dummies\n",
    "    'point',\n",
    "    \n",
    "    # New items\n",
    "    'responsible_agency',\n",
    "    'category', # Need to choose 'category' or 'request_type' NOT BOTH\n",
    "#     'request_type', # Needs NLP\n",
    "    'opened_year',\n",
    "    'opened_month_sin',\n",
    "    'opened_month_cos',\n",
    "#     'opened_week_sin',\n",
    "#     'opened_week_cos',\n",
    "#     'opened_day_sin',\n",
    "#     'opened_day_cos',\n",
    "#     'opened_hour_sin',\n",
    "#     'opened_hour_cos',\n",
    "    'police_district',\n",
    "    'supervisor_district',\n",
    "#     'latitude',\n",
    "#     'longitude',\n",
    "]\n",
    "\n",
    "# # Scale data using MinMax scaler\n",
    "# # No need to standardize as all features are categorical (maybe scale lat/long....)\n",
    "# scaler = MinMaxScaler()\n",
    "\n",
    "# Predictor variables\n",
    "X = df.drop(columns=exclude_cols, axis=0, inplace=False)\n",
    "\n",
    "# Get dummies for categorical variables\n",
    "X = pd.get_dummies(X, drop_first=True)\n",
    "\n",
    "# Target variable\n",
    "y = df['target']\n",
    "\n",
    "# Split train and test\n",
    "X_train, X_test, y_train, y_test = train_test_split(X, y,\n",
    "                                                    test_size=0.2, \n",
    "                                                    random_state=2020, \n",
    "                                                    stratify=y,  # Stratify to keep same class ratios\n",
    "                                                    shuffle=True # Shuffle data since it's ordered chronologically\n",
    "                                                   )\n",
    "X_train.head()"
   ]
  },
  {
   "cell_type": "markdown",
   "metadata": {
    "Collapsed": "false"
   },
   "source": [
    "# Feature Selection"
   ]
  },
  {
   "cell_type": "code",
   "execution_count": 4,
   "metadata": {
    "Collapsed": "false"
   },
   "outputs": [],
   "source": [
    "def select_features(X_train, y_train, X_test):\n",
    "    '''Returns X_train, X_test, and feature selection function'''\n",
    "    fs = SelectKBest(score_func=f_classif, k='all')\n",
    "    fs.fit(X_train, y_train)\n",
    "    X_train_fs = fs.transform(X_train)\n",
    "    X_test_fs = fs.transform(X_test)\n",
    "    return X_train_fs, X_test_fs, fs"
   ]
  },
  {
   "cell_type": "code",
   "execution_count": 5,
   "metadata": {
    "Collapsed": "false"
   },
   "outputs": [
    {
     "name": "stderr",
     "output_type": "stream",
     "text": [
      "/opt/conda/lib/python3.7/site-packages/sklearn/feature_selection/_univariate_selection.py:114: UserWarning: Features [ 149  459  607  638  758  987 1036 1037 1122 1347 1548 1587 1640 1725\n",
      " 1802 1816 1821 1885 1917 1952 2027 2041 2063 2238 2305 2312 2381 2445\n",
      " 2478 2608 2629 2785] are constant.\n",
      "  UserWarning)\n",
      "/opt/conda/lib/python3.7/site-packages/sklearn/feature_selection/_univariate_selection.py:115: RuntimeWarning: invalid value encountered in true_divide\n",
      "  f = msb / msw\n"
     ]
    }
   ],
   "source": [
    "# Feature selection\n",
    "X_train_fs, X_test_fs, fs = select_features(X_train, y_train, X_test)"
   ]
  },
  {
   "cell_type": "code",
   "execution_count": 6,
   "metadata": {
    "Collapsed": "false"
   },
   "outputs": [
    {
     "data": {
      "text/html": [
       "<div>\n",
       "<style scoped>\n",
       "    .dataframe tbody tr th:only-of-type {\n",
       "        vertical-align: middle;\n",
       "    }\n",
       "\n",
       "    .dataframe tbody tr th {\n",
       "        vertical-align: top;\n",
       "    }\n",
       "\n",
       "    .dataframe thead th {\n",
       "        text-align: right;\n",
       "    }\n",
       "</style>\n",
       "<table border=\"1\" class=\"dataframe\">\n",
       "  <thead>\n",
       "    <tr style=\"text-align: right;\">\n",
       "      <th></th>\n",
       "      <th>Feature</th>\n",
       "      <th>ANOVA F-Value</th>\n",
       "    </tr>\n",
       "  </thead>\n",
       "  <tbody>\n",
       "    <tr>\n",
       "      <th>0</th>\n",
       "      <td>request_type_Abandoned Vehicles</td>\n",
       "      <td>39869</td>\n",
       "    </tr>\n",
       "    <tr>\n",
       "      <th>1</th>\n",
       "      <td>request_type_Bulky Items</td>\n",
       "      <td>20843</td>\n",
       "    </tr>\n",
       "    <tr>\n",
       "      <th>2</th>\n",
       "      <td>request_type_Abandoned Vehicle - Car4door</td>\n",
       "      <td>8612</td>\n",
       "    </tr>\n",
       "    <tr>\n",
       "      <th>3</th>\n",
       "      <td>request_type_Encampment Reports</td>\n",
       "      <td>6729</td>\n",
       "    </tr>\n",
       "    <tr>\n",
       "      <th>4</th>\n",
       "      <td>request_type_Parking_on_Sidewalk</td>\n",
       "      <td>4366</td>\n",
       "    </tr>\n",
       "    <tr>\n",
       "      <th>...</th>\n",
       "      <td>...</td>\n",
       "      <td>...</td>\n",
       "    </tr>\n",
       "    <tr>\n",
       "      <th>2787</th>\n",
       "      <td>street_Mullen and Peralta Mini Park</td>\n",
       "      <td>-9223372036854775808</td>\n",
       "    </tr>\n",
       "    <tr>\n",
       "      <th>2788</th>\n",
       "      <td>street_OLORAN AVE</td>\n",
       "      <td>-9223372036854775808</td>\n",
       "    </tr>\n",
       "    <tr>\n",
       "      <th>2789</th>\n",
       "      <td>street_MILAN TER</td>\n",
       "      <td>-9223372036854775808</td>\n",
       "    </tr>\n",
       "    <tr>\n",
       "      <th>2790</th>\n",
       "      <td>street_WHITING ST</td>\n",
       "      <td>-9223372036854775808</td>\n",
       "    </tr>\n",
       "    <tr>\n",
       "      <th>2791</th>\n",
       "      <td>street_MISSION BAY NORTH BLVD</td>\n",
       "      <td>-9223372036854775808</td>\n",
       "    </tr>\n",
       "  </tbody>\n",
       "</table>\n",
       "<p>2792 rows × 2 columns</p>\n",
       "</div>"
      ],
      "text/plain": [
       "                                        Feature         ANOVA F-Value\n",
       "0               request_type_Abandoned Vehicles                 39869\n",
       "1                      request_type_Bulky Items                 20843\n",
       "2     request_type_Abandoned Vehicle - Car4door                  8612\n",
       "3               request_type_Encampment Reports                  6729\n",
       "4              request_type_Parking_on_Sidewalk                  4366\n",
       "...                                         ...                   ...\n",
       "2787        street_Mullen and Peralta Mini Park  -9223372036854775808\n",
       "2788                          street_OLORAN AVE  -9223372036854775808\n",
       "2789                           street_MILAN TER  -9223372036854775808\n",
       "2790                          street_WHITING ST  -9223372036854775808\n",
       "2791              street_MISSION BAY NORTH BLVD  -9223372036854775808\n",
       "\n",
       "[2792 rows x 2 columns]"
      ]
     },
     "execution_count": 6,
     "metadata": {},
     "output_type": "execute_result"
    }
   ],
   "source": [
    "# Feature scores\n",
    "features_df = pd.DataFrame(data=[X_train.columns, fs.scores_.astype(int)]).transpose()\n",
    "features_df.rename(columns={0: 'Feature', 1: 'ANOVA F-Value'}, inplace=True)\n",
    "features_df.sort_values(by='ANOVA F-Value', ascending=False, inplace=True)\n",
    "features_df.reset_index(drop=True, inplace=True)\n",
    "features_df"
   ]
  },
  {
   "cell_type": "code",
   "execution_count": 7,
   "metadata": {
    "Collapsed": "false"
   },
   "outputs": [],
   "source": [
    "# Select features above threshold\n",
    "threshold = 5\n",
    "best_features_df = features_df[(features_df['ANOVA F-Value'] > threshold)]"
   ]
  },
  {
   "cell_type": "code",
   "execution_count": 8,
   "metadata": {
    "Collapsed": "false"
   },
   "outputs": [],
   "source": [
    "# Filter X_train & X_test with selected features\n",
    "X_train = X_train.filter(items=best_features_df['Feature'])\n",
    "X_test  = X_test.filter(items=best_features_df['Feature'])\n",
    "\n",
    "# Clean column names\n",
    "X_train.columns = X_train.columns.str.strip().str.lower().str.replace(\n",
    "    ' ', '_').str.replace('(', '').str.replace(')', '')\n",
    "\n",
    "X_test.columns = X_test.columns.str.strip().str.lower().str.replace(\n",
    "    ' ', '_').str.replace('(', '').str.replace(')', '')"
   ]
  },
  {
   "cell_type": "code",
   "execution_count": 9,
   "metadata": {
    "Collapsed": "false",
    "ExecuteTime": {
     "end_time": "2020-03-17T03:23:42.979520Z",
     "start_time": "2020-03-17T03:23:42.975234Z"
    }
   },
   "outputs": [
    {
     "name": "stdout",
     "output_type": "stream",
     "text": [
      "df\t (530759, 31)\n",
      "X_train\t (424607, 772)\n",
      "X_test\t (106152, 772)\n",
      "y_train\t (424607,)\n",
      "y_test\t (106152,)\n"
     ]
    }
   ],
   "source": [
    "print('df\\t', df.shape)\n",
    "print('X_train\\t', X_train.shape)\n",
    "print('X_test\\t', X_test.shape)\n",
    "print('y_train\\t', y_train.shape)\n",
    "print('y_test\\t', y_test.shape)"
   ]
  },
  {
   "cell_type": "markdown",
   "metadata": {
    "Collapsed": "false"
   },
   "source": [
    "# Class Balancing"
   ]
  },
  {
   "cell_type": "code",
   "execution_count": 10,
   "metadata": {
    "Collapsed": "false",
    "ExecuteTime": {
     "end_time": "2020-03-17T03:24:04.172126Z",
     "start_time": "2020-03-17T03:24:04.161389Z"
    }
   },
   "outputs": [
    {
     "name": "stdout",
     "output_type": "stream",
     "text": [
      "Class 0: 418924\n",
      "Class 1: 111835\n",
      "Proportion: 3.75 : 1\n",
      "Percentage of Majority Class: 78.9\n"
     ]
    }
   ],
   "source": [
    "# Target variable\n",
    "target_count = df['target'].value_counts()\n",
    "\n",
    "# Print class balance\n",
    "print(f'Class 0: {target_count[0]}')\n",
    "print(f'Class 1: {target_count[1]}')\n",
    "print(f'Proportion: {round(target_count[0] / target_count[1], 2)} : 1')\n",
    "print(f'Percentage of Majority Class: {round(target_count[0] / sum(target_count), 3)*100}')"
   ]
  },
  {
   "cell_type": "code",
   "execution_count": 11,
   "metadata": {
    "Collapsed": "false"
   },
   "outputs": [],
   "source": [
    "# # Pickle dataframe\n",
    "# X_train.to_pickle('../data/X_train.pkl')\n",
    "# X_test.to_pickle('../data/X_test.pkl')"
   ]
  },
  {
   "cell_type": "code",
   "execution_count": 12,
   "metadata": {
    "Collapsed": "false"
   },
   "outputs": [],
   "source": [
    "# USE DASK from here on out"
   ]
  },
  {
   "cell_type": "markdown",
   "metadata": {
    "Collapsed": "false"
   },
   "source": [
    "## Oversampling"
   ]
  },
  {
   "cell_type": "code",
   "execution_count": 13,
   "metadata": {
    "Collapsed": "false",
    "ExecuteTime": {
     "end_time": "2020-03-17T03:24:07.685256Z",
     "start_time": "2020-03-17T03:24:07.682966Z"
    }
   },
   "outputs": [],
   "source": [
    "# # A ratio of .5 is saying that 50% of my data is simulated\n",
    "# # Trevor noted that .2 would be good but let's try different ratios\n",
    "# smote = SMOTE(random_state=2020)\n",
    "# X_train_smote, y_train_smote = smote.fit_sample(X_train, y_train)\n",
    "\n",
    "# # Summarize the new class distribution\n",
    "# Counter(y_train_smote)"
   ]
  },
  {
   "cell_type": "markdown",
   "metadata": {
    "Collapsed": "false"
   },
   "source": [
    "## Undersampling"
   ]
  },
  {
   "cell_type": "code",
   "execution_count": 14,
   "metadata": {
    "Collapsed": "false"
   },
   "outputs": [
    {
     "data": {
      "text/plain": [
       "Counter({0: 89468, 1: 89468})"
      ]
     },
     "execution_count": 14,
     "metadata": {},
     "output_type": "execute_result"
    }
   ],
   "source": [
    "# # Define the undersampling method – RandomUnderSampler\n",
    "rndm_under = RandomUnderSampler(random_state=2020)\n",
    "\n",
    "# Transform the dataset\n",
    "X_train_under, y_train_under = rndm_under.fit_sample(X_train, y_train)\n",
    "\n",
    "# Summarize the new class distribution\n",
    "Counter(y_train_under)"
   ]
  },
  {
   "cell_type": "code",
   "execution_count": 15,
   "metadata": {
    "Collapsed": "false",
    "ExecuteTime": {
     "start_time": "2020-03-17T03:24:30.432Z"
    }
   },
   "outputs": [],
   "source": [
    "# # Define the undersampling method – NearMiss\n",
    "# # Selects the closest examples from the majority class for each minority class.\n",
    "# undersample = NearMiss(version=3, n_neighbors_ver3=3)\n",
    "\n",
    "# # Transform the dataset\n",
    "# X_train_under, y_train_under = undersample.fit_resample(X_train, y_train)\n",
    "\n",
    "# # Summarize the new class distribution\n",
    "# Counter(y_train_under)"
   ]
  },
  {
   "cell_type": "markdown",
   "metadata": {
    "Collapsed": "false"
   },
   "source": [
    "# Modeling"
   ]
  },
  {
   "cell_type": "markdown",
   "metadata": {
    "Collapsed": "false"
   },
   "source": [
    "Objective: Maximize ROC AUC Score as both recall and precision are equally important and the classes are imbalanced"
   ]
  },
  {
   "cell_type": "code",
   "execution_count": 16,
   "metadata": {
    "Collapsed": "false"
   },
   "outputs": [],
   "source": [
    "# Create list of model and performance\n",
    "model_performance = []\n",
    "models_optimized = []"
   ]
  },
  {
   "cell_type": "markdown",
   "metadata": {
    "Collapsed": "false"
   },
   "source": [
    "User RandomizedSearchCV instead:\n",
    "https://blog.usejournal.com/a-comparison-of-grid-search-and-randomized-search-using-scikit-learn-29823179bc85\n"
   ]
  },
  {
   "cell_type": "markdown",
   "metadata": {
    "Collapsed": "false"
   },
   "source": [
    "## Baseline Models"
   ]
  },
  {
   "cell_type": "code",
   "execution_count": 17,
   "metadata": {
    "Collapsed": "false"
   },
   "outputs": [
    {
     "name": "stdout",
     "output_type": "stream",
     "text": [
      "y actual\t: Counter({0: 83785, 1: 22367})\n",
      "y predicted\t: Counter({0: 106152})\n",
      "\n",
      "Confusion Matrix\n",
      "[[83785     0]\n",
      " [22367     0]]\n"
     ]
    }
   ],
   "source": [
    "#Dummy Classifier\n",
    "from sklearn.dummy import DummyClassifier\n",
    "clf = DummyClassifier(strategy= 'most_frequent').fit(X_train_under, y_train_under)\n",
    "y_pred = clf.predict(X_test)\n",
    "\n",
    "#Distribution of y test\n",
    "print('y actual\\t:', Counter(y_test))\n",
    "\n",
    "#Distribution of y predicted\n",
    "print('y predicted\\t:', Counter(y_pred))\n",
    "\n",
    "# Confusion matrix\n",
    "print('\\nConfusion Matrix\\n' + str(confusion_matrix(y_test, y_pred)))"
   ]
  },
  {
   "cell_type": "code",
   "execution_count": 18,
   "metadata": {
    "Collapsed": "false"
   },
   "outputs": [
    {
     "name": "stdout",
     "output_type": "stream",
     "text": [
      "LogisticRegression 0.686\n",
      "KNeighbors 0.764\n",
      "RandomForest 0.879\n",
      "XGBoost 0.899\n"
     ]
    }
   ],
   "source": [
    "base_models = []\n",
    "\n",
    "# Instantiate the models\n",
    "base_models.append(('LogisticRegression', LogisticRegression(solver='liblinear')))\n",
    "base_models.append(('KNeighbors', KNeighborsClassifier()))\n",
    "base_models.append(('RandomForest', RandomForestClassifier(n_estimators=10)))\n",
    "base_models.append(('XGBoost', XGBClassifier()))\n",
    "\n",
    "cv_results = []\n",
    "names = []\n",
    "\n",
    "# Cross Validate - 5 fold\n",
    "for name, model in base_models:\n",
    "    names.append(name)\n",
    "    cv_results.append(np.round_(cross_val_score(model, X_train_under, y_train_under, cv=5, scoring='roc_auc'), 3))\n",
    "\n",
    "for i in range(len(names)):\n",
    "    print(names[i], round(cv_results[i].mean(), 3))"
   ]
  },
  {
   "cell_type": "code",
   "execution_count": null,
   "metadata": {
    "Collapsed": "false"
   },
   "outputs": [],
   "source": [
    "# Identify the models that work best without any GridSearchCV\n",
    "# Plot the ROC Curves\n",
    "# Undersampling (Don't use synthetic data)\n",
    "# How to predict duplicates?\n",
    "## More like unsupervised learning... \n",
    "## Create a function – given a point, identify a case that this is more similar to...\n"
   ]
  },
  {
   "cell_type": "code",
   "execution_count": null,
   "metadata": {
    "Collapsed": "false"
   },
   "outputs": [],
   "source": [
    "# # Save models\n",
    "# with open(f'../models/{name}_20k.pkl', 'wb') as f: # how can I save the model for later use?ii\n",
    "#     pickle.dump(model, f)"
   ]
  },
  {
   "cell_type": "markdown",
   "metadata": {
    "Collapsed": "true"
   },
   "source": [
    "## Logistic Regression"
   ]
  },
  {
   "cell_type": "code",
   "execution_count": null,
   "metadata": {
    "Collapsed": "false"
   },
   "outputs": [],
   "source": [
    "# Grid searching key hyperparameters for logistic regression\n",
    "\n",
    "# Instantiate model and sampler\n",
    "lg_model = LogisticRegression()\n",
    "under = under(random_state=2020)\n",
    "\n",
    "# Construct pipeline\n",
    "steps = [('und', under), ('lgr', lg_model)]\n",
    "pipeline = Pipeline(steps)\n",
    "\n",
    "# Define parameter grid values to be searched\n",
    "param_grid = {\n",
    "    'und__random_state': [2020],\n",
    "    'lgr__solver': ['saga', 'liblinear'],\n",
    "    'lgr__penalty': ['l1', 'l2'],\n",
    "    'lgr__C': [0.001, 0.01, 0.1, 1, 10, 100, 1000]\n",
    "}\n",
    "\n",
    "# Use stratify version of k-fold to keep class imbalance ratio\n",
    "k_fold = StratifiedKFold(n_splits=3, shuffle = True, random_state=2020)\n",
    "\n",
    "# Cross Validation\n",
    "# lg_grid = GridSearchCV(pipeline, param_grid=param_grid, cv=k_fold, n_jobs=-1, return_train_score=True, scoring='roc_auc')\n",
    "lg_rndm = RandomizedSearchCV(pipeline, param_distributions=param_grid, cv=k_fold, n_jobs=-1, return_train_score=True, scoring='roc_auc')\n",
    "\n",
    "# Train with balanced classes\n",
    "grid_result = lg_rndm.fit(X_train_under, y_train_under) # Should I use X_train, y_train here?\n",
    "\n",
    "# Summarize results\n",
    "print(f'Best Score: {round(grid_result.best_score_, 3)}\\nParams: {grid_result.best_params_}\\n')\n",
    "\n",
    "mean_train = grid_result.cv_results_['mean_train_score']\n",
    "mean_test = grid_result.cv_results_['mean_test_score']\n",
    "params = grid_result.cv_results_['params']\n",
    "for mean_tr, mean_ts, param in zip(mean_train, mean_test, params):\n",
    "    print(f'Train {round(mean_tr, 3)}\\tTest {round(mean_ts, 3)}\\tParams: {param}')\n",
    "    \n",
    "# # Examine the best model\n",
    "# print(lg_grid.best_score_)\n",
    "# print(lg_grid.best_params_)"
   ]
  },
  {
   "cell_type": "code",
   "execution_count": null,
   "metadata": {
    "Collapsed": "false"
   },
   "outputs": [],
   "source": [
    "# Instantiate model with best paramaters\n",
    "lg_best = LogisticRegression(C=10, penalty='l2', solver='saga', random_state=2020) # Check the params\n",
    "\n",
    "# Train with balanced classes\n",
    "lg_best.fit(X_train_under, y_train_under)\n",
    "\n",
    "# Get predictions\n",
    "lg_best_preds = lg_best.predict(X_test)\n",
    "# lg_best_y_score = lg_best.predict_proba(X_test)\n",
    "\n",
    "# Get ROC AUC Score, precision, recall, f1-score\n",
    "accuracy  = round(accuracy_score(y_test, lg_best_preds), 3)\n",
    "roc_auc   = round(roc_auc_score(y_test, lg_best_preds), 3)\n",
    "precision = round(precision_score(y_test, lg_best_preds), 3)\n",
    "recall    = round(recall_score(y_test, lg_best_preds), 3)\n",
    "f1        = round(f1_score(y_test, lg_best_preds), 3)\n",
    "\n",
    "print(f'Accuracy  : {accuracy}')\n",
    "print(f'ROC_AUC   : {roc_auc}')\n",
    "print(f'Precision : {precision}')\n",
    "print(f'Recall    : {recall}')\n",
    "print(f'F-score   : {f1}')\n",
    "\n",
    "# Confusion matrix\n",
    "print('\\nConfusion Matrix\\n' + str(confusion_matrix(y_test, lg_best_preds)))"
   ]
  },
  {
   "cell_type": "code",
   "execution_count": null,
   "metadata": {
    "Collapsed": "false"
   },
   "outputs": [],
   "source": [
    "# # Add model and accuracy dict to list\n",
    "# model_performance.append(dict([\n",
    "#     ('Model', 'Logistic Regression'),\n",
    "#     ('ROC AUC', round(roc_auc, 3)),\n",
    "#     ('Precision', round(precision, 3)),\n",
    "#     ('Recall', round(recall, 3)),\n",
    "#     ('f1', round(f1_score, 3))\n",
    "#      ]))\n",
    "\n",
    "# # Add model to list\n",
    "# models_optimized.append('Logistic Regression')"
   ]
  },
  {
   "cell_type": "markdown",
   "metadata": {
    "Collapsed": "true"
   },
   "source": [
    "## KNN"
   ]
  },
  {
   "cell_type": "code",
   "execution_count": null,
   "metadata": {
    "Collapsed": "false"
   },
   "outputs": [],
   "source": [
    "# Grid searching key hyperparameters for KNN\n",
    "\n",
    "# Instantiate model and RandomUnderSampler\n",
    "knn_model = KNeighborsClassifier()\n",
    "under = RandomUnderSampler(random_state=2020)\n",
    "\n",
    "# Construct pipeline\n",
    "steps = [('und', under), ('knn', knn_model)]\n",
    "pipeline = Pipeline(steps)\n",
    "\n",
    "# Define parameter grid values to be searched\n",
    "param_grid = {\n",
    "    'und__random_state': [2020],\n",
    "    'knn__n_neighbors' : [3, 5, 7]\n",
    "}\n",
    "\n",
    "# Use stratify version of k-fold to keep class imbalance ratio\n",
    "k_fold = StratifiedKFold(n_splits=3, shuffle = True, random_state=2020)\n",
    "\n",
    "# Cross Validation\n",
    "# knn_grid = GridSearchCV(pipeline, param_grid=param_grid, cv=k_fold, n_jobs=-1, return_train_score=True, scoring='roc_auc')\n",
    "knn_rndm = RandomizedSearchCV(pipeline, param_distributions=param_grid, cv=k_fold, n_jobs=-1, return_train_score=True, scoring='roc_auc')\n",
    "\n",
    "# Train with balanced classes\n",
    "grid_result = knn_rndm.fit(X_train_under, y_train_under) # Should I use X_train, y_train here?\n",
    "\n",
    "# Summarize results\n",
    "print(f'Best Score: {round(grid_result.best_score_, 3)}\\nParams: {grid_result.best_params_}\\n')\n",
    "\n",
    "mean_train = grid_result.cv_results_['mean_train_score']\n",
    "mean_test = grid_result.cv_results_['mean_test_score']\n",
    "params = grid_result.cv_results_['params']\n",
    "for mean_tr, mean_ts, param in zip(mean_train, mean_test, params):\n",
    "    print(f'Train {round(mean_tr, 3)}\\tTest {round(mean_ts, 3)}\\tParams: {param}')\n",
    "    \n",
    "# # Examine the best model\n",
    "# print(knn_grid.best_score_)\n",
    "# print(knn_grid.best_params_)"
   ]
  },
  {
   "cell_type": "code",
   "execution_count": null,
   "metadata": {
    "Collapsed": "false"
   },
   "outputs": [],
   "source": [
    "# Instantiate model with best paramaters\n",
    "knn_best = KNeighborsClassifier(n_neighbors=7)\n",
    "\n",
    "# Train with balanced classes\n",
    "knn_best.fit(X_train_under, y_train_under)\n",
    "\n",
    "# Get predictions\n",
    "knn_best_preds = knn_best.predict(X_test)\n",
    "# knn_best_y_score = knn_best.predict_proba(X_test)\n",
    "\n",
    "# Get ROC AUC Score, precision, recall, f1-score\n",
    "accuracy  = round(accuracy_score(y_test,  knn_best_preds), 3)\n",
    "roc_auc   = round(roc_auc_score(y_test,   knn_best_preds), 3)\n",
    "precision = round(precision_score(y_test, knn_best_preds), 3)\n",
    "recall    = round(recall_score(y_test,    knn_best_preds), 3)\n",
    "f1        = round(f1_score(y_test,        knn_best_preds), 3)\n",
    "\n",
    "print(f'Accuracy  : {accuracy}')\n",
    "print(f'ROC_AUC   : {roc_auc}')\n",
    "print(f'Precision : {precision}')\n",
    "print(f'Recall    : {recall}')\n",
    "print(f'F-score   : {f1}')\n",
    "\n",
    "# Confusion matrix\n",
    "print('\\nConfusion Matrix\\n' + str(confusion_matrix(y_test, knn_best_preds)))"
   ]
  },
  {
   "cell_type": "code",
   "execution_count": null,
   "metadata": {
    "Collapsed": "false"
   },
   "outputs": [],
   "source": [
    "# # Add model and accuracy dict to list\n",
    "# model_performance.append(dict([\n",
    "#     ('Model', 'KNN'),\n",
    "#     ('ROC AUC', round(roc_auc, 3)),\n",
    "#     ('Precision', round(precision, 3)),\n",
    "#     ('Recall', round(recall, 3)),\n",
    "#     ('f1', round(f1_score, 3))\n",
    "#      ]))\n",
    "\n",
    "# # Add model to list\n",
    "# models_optimized.append('KNN')"
   ]
  },
  {
   "cell_type": "markdown",
   "metadata": {
    "Collapsed": "true"
   },
   "source": [
    "## Random Forest"
   ]
  },
  {
   "cell_type": "code",
   "execution_count": null,
   "metadata": {
    "Collapsed": "false"
   },
   "outputs": [],
   "source": [
    "# Grid searching key hyperparameters for Random Forest\n",
    "\n",
    "# Instantiate model and RandomUnderSampler\n",
    "rf_model = RandomForestClassifier()\n",
    "under = RandomUnderSampler(random_state=2020)\n",
    "\n",
    "# Construct pipeline\n",
    "steps = [('und', under), ('rfc', rf_model)]\n",
    "pipeline = Pipeline(steps)\n",
    "\n",
    "# Define parameter grid values to be searched\n",
    "param_grid = {\n",
    "    'und__random_state': [2020],\n",
    "    'rfc__n_estimators': [50, 100, 150, 200, 1000],\n",
    "    'rfc__max_depth' : [2, 3, 4],\n",
    "    'rfc__max_features' : [5, 10, 15],\n",
    "    'rfc__criterion' : ['gini', 'entropy'],\n",
    "    'rfc__random_state' :[2020]\n",
    "}\n",
    "\n",
    "# Use stratify version of k-fold to keep class imbalance ratio\n",
    "k_fold = StratifiedKFold(n_splits=3, shuffle = True, random_state=2020)\n",
    "\n",
    "# Cross Validation\n",
    "# rf_grid = GridSearchCV(pipeline, param_grid=param_grid, cv=k_fold, n_jobs=-1, return_train_score=True, scoring='roc_auc')\n",
    "rf_rndm = RandomizedSearchCV(pipeline, param_distributions=param_grid, cv=k_fold, n_jobs=-1, return_train_score=True, scoring='roc_auc')\n",
    "\n",
    "# Train with balanced classes\n",
    "grid_result = rf_rndm.fit(X_train_under, y_train_under) # Should I use X_train, y_train here?\n",
    "\n",
    "# Summarize results\n",
    "print(f'Best Score: {round(grid_result.best_score_, 3)}\\nParams: {grid_result.best_params_}\\n')\n",
    "\n",
    "mean_train = grid_result.cv_results_['mean_train_score']\n",
    "mean_test = grid_result.cv_results_['mean_test_score']\n",
    "params = grid_result.cv_results_['params']\n",
    "for mean_tr, mean_ts, param in zip(mean_train, mean_test, params):\n",
    "    print(f'Train {round(mean_tr, 3)}\\tTest {round(mean_ts, 3)}\\tParams: {param}')\n",
    "    \n",
    "# # Examine the best model\n",
    "# print(rf_grid.best_score_)\n",
    "# print(rf_grid.best_params_)"
   ]
  },
  {
   "cell_type": "code",
   "execution_count": null,
   "metadata": {
    "Collapsed": "false"
   },
   "outputs": [],
   "source": [
    "# Instantiate model with best paramaters\n",
    "rf_best = RandomForestClassifier(n_estimators=1000, criterion='entropy', max_depth=4, max_features=10, random_state=2020)\n",
    "\n",
    "# Train with balanced classes\n",
    "rf_best.fit(X_train_under, y_train_under)\n",
    "\n",
    "# Get predictions\n",
    "rf_best_preds = rf_best.predict(X_test)\n",
    "# rf_best_y_score = rf_best.predict_proba(X_test)\n",
    "\n",
    "# Get ROC AUC Score, precision, recall, f1-score\n",
    "accuracy  = round(accuracy_score(y_test,  rf_best_preds), 3)\n",
    "roc_auc   = round(roc_auc_score(y_test,   rf_best_preds), 3)\n",
    "precision = round(precision_score(y_test, rf_best_preds), 3)\n",
    "recall    = round(recall_score(y_test,    rf_best_preds), 3)\n",
    "f1        = round(f1_score(y_test,        rf_best_preds), 3)\n",
    "\n",
    "print(f'Accuracy  : {accuracy}')\n",
    "print(f'ROC_AUC   : {roc_auc}')\n",
    "print(f'Precision : {precision}')\n",
    "print(f'Recall    : {recall}')\n",
    "print(f'F-score   : {f1}')\n",
    "\n",
    "# Confusion matrix\n",
    "print('\\nConfusion Matrix\\n' + str(confusion_matrix(y_test, rf_best_preds)))"
   ]
  },
  {
   "cell_type": "code",
   "execution_count": null,
   "metadata": {
    "Collapsed": "false"
   },
   "outputs": [],
   "source": [
    "# # Add model and accuracy dict to list\n",
    "# model_performance.append(dict([\n",
    "#     ('Model', 'Random Forest'),\n",
    "#     ('ROC AUC', round(roc_auc, 3)),\n",
    "#     ('Precision', round(precision, 3)),\n",
    "#     ('Recall', round(recall, 3)),\n",
    "#     ('F1', round(f1_score, 3))\n",
    "#      ]))\n",
    "\n",
    "# # Add model to list\n",
    "# models_optimized.append('Random Forest')"
   ]
  },
  {
   "cell_type": "markdown",
   "metadata": {
    "Collapsed": "false"
   },
   "source": [
    "## XGBoost"
   ]
  },
  {
   "cell_type": "code",
   "execution_count": null,
   "metadata": {
    "Collapsed": "false"
   },
   "outputs": [],
   "source": [
    "# Grid searching key hyperparameters for XGBoost\n",
    "\n",
    "# Instantiate model and RandomUnderSampler\n",
    "xgb_model = XGBClassifier()\n",
    "under = RandomUnderSampler(random_state=2020)\n",
    "\n",
    "# Construct pipeline\n",
    "steps = [('und', under), ('xgb', xgb_model)]\n",
    "pipeline = Pipeline(steps)\n",
    "\n",
    "# Define parameter grid values to be searched\n",
    "param_grid = {\n",
    "    'und__random_state': [2020],\n",
    "    'xgb__n_estimators': [100, 250, 500, 1000], \n",
    "    'xgb__max_depth': [3, 4, 5], \n",
    "    'xgb__learning_rate': [0.001, 0.01, 0.1]\n",
    "}\n",
    "\n",
    "# Use stratify version of k-fold to keep class imbalance ratio\n",
    "k_fold = StratifiedKFold(n_splits=3, shuffle = True, random_state=2020)\n",
    "\n",
    "# Cross Validation\n",
    "# xgb_grid = GridSearchCV(pipeline, param_grid=param_grid, cv=k_fold, n_jobs=-1, return_train_score=True, scoring='roc_auc')\n",
    "xgb_rndm = RandomizedSearchCV(pipeline, param_distributions=param_grid, cv=k_fold, n_jobs=-1, return_train_score=True, scoring='roc_auc')\n",
    "\n",
    "# Train with balanced classes\n",
    "grid_result = xgb_rndm.fit(X_train_under, y_train_under) # Should I use X_train, y_train here?\n",
    "\n",
    "# Summarize results\n",
    "print(f'Best Score: {round(grid_result.best_score_, 3)}\\nParams: {grid_result.best_params_}\\n')\n",
    "\n",
    "mean_train = grid_result.cv_results_['mean_train_score']\n",
    "mean_test = grid_result.cv_results_['mean_test_score']\n",
    "params = grid_result.cv_results_['params']\n",
    "for mean_tr, mean_ts, param in zip(mean_train, mean_test, params):\n",
    "    print(f'Train {round(mean_tr, 3)}\\tTest {round(mean_ts, 3)}\\tParams: {param}')\n",
    "    \n",
    "# # Examine the best model\n",
    "# print(lg_grid.best_score_)\n",
    "# print(lg_grid.best_params_)"
   ]
  },
  {
   "cell_type": "code",
   "execution_count": 19,
   "metadata": {
    "Collapsed": "false"
   },
   "outputs": [
    {
     "name": "stdout",
     "output_type": "stream",
     "text": [
      "Accuracy  : 0.828\n",
      "ROC_AUC   : 0.812\n",
      "Precision : 0.566\n",
      "Recall    : 0.784\n",
      "F-score   : 0.657\n",
      "\n",
      "Confusion Matrix\n",
      "[[70349 13436]\n",
      " [ 4835 17532]]\n"
     ]
    }
   ],
   "source": [
    "# Instantiate model with best paramaters\n",
    "xgb_best = XGBClassifier(n_estimators=500, max_depth=4, learning_rate=0.1)\n",
    "\n",
    "# Train with balanced classes\n",
    "xgb_best.fit(X_train_under, y_train_under)\n",
    "\n",
    "# Get predictions\n",
    "xgb_best_preds = xgb_best.predict(X_test)\n",
    "# xgb_best_y_score = xgb_best.predict_proba(X_test)\n",
    "\n",
    "# Get ROC AUC Score, precision, recall, f1-score\n",
    "accuracy  = round(accuracy_score(y_test,  xgb_best_preds), 3)\n",
    "roc_auc   = round(roc_auc_score(y_test,   xgb_best_preds), 3)\n",
    "precision = round(precision_score(y_test, xgb_best_preds), 3)\n",
    "recall    = round(recall_score(y_test,    xgb_best_preds), 3)\n",
    "f1        = round(f1_score(y_test,        xgb_best_preds), 3)\n",
    "\n",
    "print(f'Accuracy  : {accuracy}')\n",
    "print(f'ROC_AUC   : {roc_auc}')\n",
    "print(f'Precision : {precision}')\n",
    "print(f'Recall    : {recall}')\n",
    "print(f'F-score   : {f1}')\n",
    "\n",
    "# Confusion matrix\n",
    "print('\\nConfusion Matrix\\n' + str(confusion_matrix(y_test, xgb_best_preds)))"
   ]
  },
  {
   "cell_type": "code",
   "execution_count": null,
   "metadata": {
    "Collapsed": "false"
   },
   "outputs": [],
   "source": [
    "# Add model and accuracy dict to list\n",
    "model_performance.append(dict([\n",
    "    ('Model', 'XGBoost'),\n",
    "    ('ROC AUC', round(roc_auc, 3)),\n",
    "    ('Precision', round(precision, 3)),\n",
    "    ('Recall', round(recall, 3)),\n",
    "    ('F1', round(f1, 3))\n",
    "     ]))\n",
    "\n",
    "# Add model to list\n",
    "models_optimized.append('XGBoost')"
   ]
  },
  {
   "cell_type": "markdown",
   "metadata": {
    "Collapsed": "false"
   },
   "source": [
    "# Feature Importance"
   ]
  },
  {
   "cell_type": "code",
   "execution_count": null,
   "metadata": {
    "Collapsed": "false"
   },
   "outputs": [],
   "source": [
    "# Feature Importance – XGBoost\n",
    "fig, ax = plt.subplots(figsize=(10,10))\n",
    "xgb_best.get_booster().feature_names = list(X_test.columns)\n",
    "plot_importance(xgb_best.get_booster(), max_num_features=15, height=0.8, ax=ax)\n",
    "plt.title('Feature Importance')\n",
    "\n",
    "# plt.savefig('feature_importance.png', bbox_inches='tight');"
   ]
  },
  {
   "cell_type": "markdown",
   "metadata": {
    "Collapsed": "false"
   },
   "source": [
    "# Model Comparison"
   ]
  },
  {
   "cell_type": "code",
   "execution_count": null,
   "metadata": {
    "Collapsed": "false"
   },
   "outputs": [],
   "source": [
    "def plot_roc_curves(classifiers, X_train, y_train, X_test, y_test, sampler = None):\n",
    "    \"\"\"\n",
    "        Function for plotting roc curves of classifiers for comparison\n",
    "        \n",
    "        :param classifiers: dictionary of classifiers\n",
    "        :param sampler: sampling method to use e.g. smote\n",
    "        \n",
    "        :returns fpr: an array of false positive rate values from roc_curve\n",
    "        :returns tpr: an array of true positive rate values from roc_curve\n",
    "        :returns thresholds: an array of threshold values from roc_curve\n",
    "        :returns roc_auc: roc_auc scores for each classifier in classifiers\n",
    "        \n",
    "        https://github.com/kevinchiv/Predicting-Kickstarter-Success/blob/master/02%20-%20Classification%20Modeling.ipynb\n",
    "    \"\"\"\n",
    "\n",
    "    fpr, tpr, thresholds = {}, {}, {}\n",
    "    roc_auc = {}\n",
    "\n",
    "\n",
    "    for classifier_name, classifier in classifiers.items():\n",
    "\n",
    "        #set n_jobs = -1 for faster performance\n",
    "        classifier = classifier.set_params(n_jobs = -1)\n",
    "\n",
    "#         if sampler:\n",
    "#             sampler.set_params(random_state = 42, n_jobs = -1)\n",
    "\n",
    "        steps = [('sampling', sampler),\n",
    "                 (classifier_name, classifier)]\n",
    "\n",
    "        model = Pipeline(steps)\n",
    "\n",
    "        model.fit(X_train, y_train)\n",
    "\n",
    "        y_proba = model.predict_proba(X_test)[:,1]\n",
    "\n",
    "        fpr[classifier_name], tpr[classifier_name], thresholds[classifier_name] = roc_curve(y_test, y_proba)\n",
    "\n",
    "        roc_auc[classifier_name] = round(auc(fpr[classifier_name], tpr[classifier_name]), 3)\n",
    "\n",
    "        print(classifier_name + ' roc_auc score: ' + str(roc_auc[classifier_name]))\n",
    "\n",
    "\n",
    "    plt.figure(figsize=(8, 8))\n",
    "\n",
    "    for classifier_name, classifier in classifiers.items():\n",
    "        sns.lineplot(fpr[classifier_name], tpr[classifier_name], err_style = None);\n",
    "\n",
    "    midline_points = np.arange(0, 1.05, 0.05) \n",
    "\n",
    "    plt.plot(midline_points, midline_points, linestyle ='--', color = 'black');\n",
    "    plt.title(\"ROC Curves for Different Classification Models\", y =1.05, fontsize = 16);\n",
    "    plt.xlabel('FPR', fontsize = 12, x = 1.05);\n",
    "    plt.ylabel('TPR', fontsize = 12, rotation =0, y = 1.05);\n",
    "    plt.legend(list(zip(classifiers.keys(), roc_auc.values())));\n",
    "\n",
    "    return fpr, tpr, thresholds, roc_auc"
   ]
  },
  {
   "cell_type": "code",
   "execution_count": null,
   "metadata": {
    "Collapsed": "false"
   },
   "outputs": [],
   "source": [
    "classifiers = {'KNN': knn_best, \n",
    "               'LGR': lg_best, \n",
    "               'RFC': rf_best, \n",
    "               'XGB': xgb_best,\n",
    "               'Ensemble': VotingClassifier(estimators=[('lr', lg_best), ('rf', rf_best), ('xgb', xgb_best)],\n",
    "                                            voting='soft', weights=[1, 1, 1])\n",
    "              }\n",
    "\n",
    "fpr, tpr, thresholds, roc_auc = plot_roc_curves(classifiers, X_train_under, y_train_under, X_test, y_test)"
   ]
  },
  {
   "cell_type": "markdown",
   "metadata": {
    "Collapsed": "false"
   },
   "source": [
    "## Confusion Matrix for Test Dataset"
   ]
  },
  {
   "cell_type": "code",
   "execution_count": null,
   "metadata": {
    "Collapsed": "false"
   },
   "outputs": [],
   "source": [
    "# # Print confusion matrix for XGBoost\n",
    "# xgb_confusion = confusion_matrix(y_test, test_pred_under)\n",
    "\n",
    "# plt.figure(dpi=125)\n",
    "# sns.heatmap(xgb_confusion, annot=True, fmt='g', square=True, cbar=False,\n",
    "#             xticklabels=['no duplicate', 'is duplicate'],\n",
    "#             yticklabels=['no duplicate', 'is duplicate'])\n",
    "\n",
    "# plt.title('Confusion Matrix - Test Dataset\\nXGBoost', pad=20)\n",
    "# plt.xlabel('Predicted\\n', labelpad=20)\n",
    "# plt.ylabel('Actual\\n', labelpad=20);"
   ]
  }
 ],
 "metadata": {
  "kernelspec": {
   "display_name": "Python 3",
   "language": "python",
   "name": "python3"
  },
  "language_info": {
   "codemirror_mode": {
    "name": "ipython",
    "version": 3
   },
   "file_extension": ".py",
   "mimetype": "text/x-python",
   "name": "python",
   "nbconvert_exporter": "python",
   "pygments_lexer": "ipython3",
   "version": "3.7.6"
  },
  "toc": {
   "base_numbering": 1,
   "nav_menu": {},
   "number_sections": true,
   "sideBar": true,
   "skip_h1_title": false,
   "title_cell": "Table of Contents",
   "title_sidebar": "Contents",
   "toc_cell": false,
   "toc_position": {},
   "toc_section_display": true,
   "toc_window_display": false
  },
  "toc-autonumbering": true,
  "toc-showcode": false,
  "toc-showmarkdowntxt": false
 },
 "nbformat": 4,
 "nbformat_minor": 4
}
