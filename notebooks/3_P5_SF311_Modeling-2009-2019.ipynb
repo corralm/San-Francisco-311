{
 "cells": [
  {
   "cell_type": "code",
   "execution_count": null,
   "metadata": {
    "Collapsed": "false",
    "ExecuteTime": {
     "end_time": "2020-03-17T16:17:47.263771Z",
     "start_time": "2020-03-17T16:17:47.144276Z"
    }
   },
   "outputs": [],
   "source": [
    "cat /proc/cpuinfo"
   ]
  },
  {
   "cell_type": "markdown",
   "metadata": {
    "Collapsed": "false"
   },
   "source": [
    "Todos\n",
    "* Recursive Feature Elimination\n",
    "    * from sklearn.feature_selection import RFE"
   ]
  },
  {
   "cell_type": "code",
   "execution_count": null,
   "metadata": {
    "Collapsed": "false"
   },
   "outputs": [],
   "source": [
    "client.close()"
   ]
  },
  {
   "cell_type": "code",
   "execution_count": 5,
   "metadata": {
    "Collapsed": "false"
   },
   "outputs": [
    {
     "name": "stderr",
     "output_type": "stream",
     "text": [
      "/opt/conda/lib/python3.7/site-packages/sklearn/externals/joblib/__init__.py:15: FutureWarning: sklearn.externals.joblib is deprecated in 0.21 and will be removed in 0.23. Please import this functionality directly from joblib, which can be installed with: pip install joblib. If this warning is raised when loading pickled models, you may need to re-serialize those models with scikit-learn 0.21+.\n",
      "  warnings.warn(msg, category=FutureWarning)\n"
     ]
    },
    {
     "data": {
      "text/html": [
       "<table style=\"border: 2px solid white;\">\n",
       "<tr>\n",
       "<td style=\"vertical-align: top; border: 0px solid white\">\n",
       "<h3 style=\"text-align: left;\">Client</h3>\n",
       "<ul style=\"text-align: left; list-style: none; margin: 0; padding: 0;\">\n",
       "  <li><b>Scheduler: </b>inproc://10.138.0.6/9999/1</li>\n",
       "  <li><b>Dashboard: </b><a href='http://10.138.0.6:8787/status' target='_blank'>http://10.138.0.6:8787/status</a>\n",
       "</ul>\n",
       "</td>\n",
       "<td style=\"vertical-align: top; border: 0px solid white\">\n",
       "<h3 style=\"text-align: left;\">Cluster</h3>\n",
       "<ul style=\"text-align: left; list-style:none; margin: 0; padding: 0;\">\n",
       "  <li><b>Workers: </b>1</li>\n",
       "  <li><b>Cores: </b>16</li>\n",
       "  <li><b>Memory: </b>109.84 GB</li>\n",
       "</ul>\n",
       "</td>\n",
       "</tr>\n",
       "</table>"
      ],
      "text/plain": [
       "<Client: 'inproc://10.138.0.6/9999/1' processes=1 threads=16, memory=109.84 GB>"
      ]
     },
     "execution_count": 5,
     "metadata": {},
     "output_type": "execute_result"
    }
   ],
   "source": [
    "# Import Dask libraries\n",
    "\n",
    "from dask import delayed\n",
    "import joblib\n",
    "import dask.dataframe as dd\n",
    "import dask.array as da\n",
    "\n",
    "from dask.distributed import Client, progress\n",
    "from sklearn.externals.joblib import parallel_backend\n",
    "\n",
    "# with joblib.parallel_backend('dask'):\n",
    "\n",
    "client = Client(processes=False)\n",
    "client"
   ]
  },
  {
   "cell_type": "code",
   "execution_count": 1,
   "metadata": {
    "Collapsed": "false",
    "ExecuteTime": {
     "end_time": "2020-03-17T03:23:23.388071Z",
     "start_time": "2020-03-17T03:23:12.402438Z"
    }
   },
   "outputs": [
    {
     "name": "stderr",
     "output_type": "stream",
     "text": [
      "Using TensorFlow backend.\n"
     ]
    }
   ],
   "source": [
    "import pandas as pd\n",
    "import numpy as np\n",
    "\n",
    "\n",
    "# Tools\n",
    "from collections import Counter\n",
    "import pickle\n",
    "\n",
    "# Features\n",
    "from sklearn.preprocessing import LabelEncoder, OneHotEncoder\n",
    "from sklearn.feature_selection import SelectKBest, chi2, f_classif\n",
    "from xgboost import plot_importance\n",
    "\n",
    "# Sampling & Pipeline\n",
    "from imblearn.over_sampling import SMOTE\n",
    "from imblearn.under_sampling import NearMiss\n",
    "from imblearn.under_sampling import RandomUnderSampler\n",
    "from imblearn.pipeline import Pipeline\n",
    "\n",
    "# Model Selection\n",
    "# from dask_ml.model_selection import train_test_split\n",
    "from sklearn.model_selection import train_test_split, KFold \n",
    "from sklearn.model_selection import RandomizedSearchCV, GridSearchCV\n",
    "from sklearn.model_selection import cross_val_score\n",
    "from sklearn.model_selection import StratifiedKFold\n",
    "\n",
    "# Models\n",
    "from sklearn.linear_model import LogisticRegression\n",
    "from sklearn.neighbors import KNeighborsClassifier\n",
    "from sklearn.ensemble import RandomForestClassifier, VotingClassifier\n",
    "from xgboost import XGBClassifier\n",
    "\n",
    "# # Dask \n",
    "# from dask_ml.linear_model import LogisticRegression\n",
    "# from dask_ml.xgboost import XGBClassifier\n",
    "# from dask_ml.model_selection import RandomizedSearchCV\n",
    "\n",
    "# # HyperbandSearchCVis Dask-ML’s meta-estimator to find the best hyperparameters.\n",
    "# # It can be used as an alternative to RandomizedSearchCV to find similar hyper-parameters\n",
    "# # in less time by not wasting time on hyper-parameters that are not promising. \n",
    "# from dask_ml.model_selection import HyperbandSearchCV \n",
    "\n",
    "# Metrics\n",
    "from sklearn.metrics import confusion_matrix\n",
    "from sklearn.metrics import accuracy_score\n",
    "from sklearn.metrics import precision_recall_curve, precision_score, recall_score\n",
    "from sklearn.metrics import f1_score, fbeta_score\n",
    "from sklearn.metrics import roc_auc_score, roc_curve, auc\n",
    "\n",
    "# Visualizations\n",
    "from matplotlib import pyplot\n",
    "from matplotlib.pyplot import figure\n",
    "import matplotlib.pyplot as plt\n",
    "import seaborn as sns\n",
    "\n",
    "%matplotlib inline\n",
    "plt.style.use('ggplot')"
   ]
  },
  {
   "cell_type": "code",
   "execution_count": 9,
   "metadata": {
    "Collapsed": "false",
    "ExecuteTime": {
     "end_time": "2020-03-17T03:23:26.296773Z",
     "start_time": "2020-03-17T03:23:25.906933Z"
    }
   },
   "outputs": [
    {
     "data": {
      "text/html": [
       "<div>\n",
       "<style scoped>\n",
       "    .dataframe tbody tr th:only-of-type {\n",
       "        vertical-align: middle;\n",
       "    }\n",
       "\n",
       "    .dataframe tbody tr th {\n",
       "        vertical-align: top;\n",
       "    }\n",
       "\n",
       "    .dataframe thead th {\n",
       "        text-align: right;\n",
       "    }\n",
       "</style>\n",
       "<table border=\"1\" class=\"dataframe\">\n",
       "  <thead>\n",
       "    <tr style=\"text-align: right;\">\n",
       "      <th></th>\n",
       "      <th>case_id</th>\n",
       "      <th>target</th>\n",
       "      <th>opened</th>\n",
       "      <th>closed</th>\n",
       "      <th>updated</th>\n",
       "      <th>status</th>\n",
       "      <th>status_notes</th>\n",
       "      <th>responsible_agency</th>\n",
       "      <th>category</th>\n",
       "      <th>request_type</th>\n",
       "      <th>...</th>\n",
       "      <th>address</th>\n",
       "      <th>street</th>\n",
       "      <th>supervisor_district</th>\n",
       "      <th>neighborhood</th>\n",
       "      <th>police_district</th>\n",
       "      <th>latitude</th>\n",
       "      <th>longitude</th>\n",
       "      <th>point</th>\n",
       "      <th>source</th>\n",
       "      <th>has_media</th>\n",
       "    </tr>\n",
       "  </thead>\n",
       "  <tbody>\n",
       "    <tr>\n",
       "      <th>151456</th>\n",
       "      <td>11879627</td>\n",
       "      <td>0</td>\n",
       "      <td>2019-12-30 23:20:00</td>\n",
       "      <td>2019-12-31 00:00:00</td>\n",
       "      <td>2019-12-31 00:00:00</td>\n",
       "      <td>Closed</td>\n",
       "      <td>Case Resolved</td>\n",
       "      <td>DPW Ops Queue</td>\n",
       "      <td>Street and Sidewalk Cleaning</td>\n",
       "      <td>General Cleaning</td>\n",
       "      <td>...</td>\n",
       "      <td>49 WAYNE PL, SAN FRANCISCO, CA, 94133</td>\n",
       "      <td>WAYNE PL</td>\n",
       "      <td>3.0</td>\n",
       "      <td>Russian Hill</td>\n",
       "      <td>CENTRAL</td>\n",
       "      <td>37.796993</td>\n",
       "      <td>-122.411097</td>\n",
       "      <td>(37.7969935, -122.4110965)</td>\n",
       "      <td>Web</td>\n",
       "      <td>0</td>\n",
       "    </tr>\n",
       "    <tr>\n",
       "      <th>151458</th>\n",
       "      <td>11879619</td>\n",
       "      <td>1</td>\n",
       "      <td>2019-12-30 23:16:00</td>\n",
       "      <td>2019-12-30 23:48:04</td>\n",
       "      <td>2019-12-30 23:48:04</td>\n",
       "      <td>Closed</td>\n",
       "      <td>Case is a Duplicate - This issue has already b...</td>\n",
       "      <td>Parking Enforcement Dispatch Queue</td>\n",
       "      <td>Parking Enforcement</td>\n",
       "      <td>Blocking_Driveway_Cite_Tow</td>\n",
       "      <td>...</td>\n",
       "      <td>566 HEAD ST, SAN FRANCISCO, CA, 94132</td>\n",
       "      <td>HEAD ST</td>\n",
       "      <td>11.0</td>\n",
       "      <td>Merced Heights</td>\n",
       "      <td>TARAVAL</td>\n",
       "      <td>37.717341</td>\n",
       "      <td>-122.464250</td>\n",
       "      <td>(37.7173405, -122.4642497)</td>\n",
       "      <td>Web</td>\n",
       "      <td>0</td>\n",
       "    </tr>\n",
       "    <tr>\n",
       "      <th>151470</th>\n",
       "      <td>11879549</td>\n",
       "      <td>0</td>\n",
       "      <td>2019-12-30 22:02:44</td>\n",
       "      <td>2019-12-30 23:57:00</td>\n",
       "      <td>2019-12-30 23:57:00</td>\n",
       "      <td>Closed</td>\n",
       "      <td>Case Resolved</td>\n",
       "      <td>DPW Ops Queue</td>\n",
       "      <td>Street and Sidewalk Cleaning</td>\n",
       "      <td>General Cleaning</td>\n",
       "      <td>...</td>\n",
       "      <td>30 WAYNE PL, SAN FRANCISCO, CA, 94133</td>\n",
       "      <td>WAYNE PL</td>\n",
       "      <td>3.0</td>\n",
       "      <td>Russian Hill</td>\n",
       "      <td>CENTRAL</td>\n",
       "      <td>37.796814</td>\n",
       "      <td>-122.410926</td>\n",
       "      <td>(37.7968142, -122.41092551)</td>\n",
       "      <td>Mobile/Open311</td>\n",
       "      <td>1</td>\n",
       "    </tr>\n",
       "    <tr>\n",
       "      <th>151471</th>\n",
       "      <td>11879548</td>\n",
       "      <td>0</td>\n",
       "      <td>2019-12-30 22:00:00</td>\n",
       "      <td>2019-12-30 23:19:15</td>\n",
       "      <td>2019-12-30 23:19:15</td>\n",
       "      <td>Closed</td>\n",
       "      <td>Case Resolved - Officer responded to request u...</td>\n",
       "      <td>Parking Enforcement Dispatch Queue</td>\n",
       "      <td>Parking Enforcement</td>\n",
       "      <td>Blocking_Driveway_Cite_Only</td>\n",
       "      <td>...</td>\n",
       "      <td>1334 JESSIE ST, SAN FRANCISCO, CA, 94103</td>\n",
       "      <td>JESSIE ST</td>\n",
       "      <td>6.0</td>\n",
       "      <td>South of Market</td>\n",
       "      <td>SOUTHERN</td>\n",
       "      <td>37.771108</td>\n",
       "      <td>-122.421109</td>\n",
       "      <td>(37.771108, -122.4211089)</td>\n",
       "      <td>Mobile/Open311</td>\n",
       "      <td>1</td>\n",
       "    </tr>\n",
       "    <tr>\n",
       "      <th>151472</th>\n",
       "      <td>11879547</td>\n",
       "      <td>0</td>\n",
       "      <td>2019-12-30 22:00:00</td>\n",
       "      <td>2019-12-30 23:03:28</td>\n",
       "      <td>2019-12-30 23:03:28</td>\n",
       "      <td>Closed</td>\n",
       "      <td>Case Resolved - Officer responded to request u...</td>\n",
       "      <td>Parking Enforcement Dispatch Queue</td>\n",
       "      <td>Parking Enforcement</td>\n",
       "      <td>Blocking_Driveway_Cite_Only</td>\n",
       "      <td>...</td>\n",
       "      <td>15 CAINE AVE, SAN FRANCISCO, CA, 94112</td>\n",
       "      <td>CAINE AVE</td>\n",
       "      <td>11.0</td>\n",
       "      <td>Oceanview</td>\n",
       "      <td>TARAVAL</td>\n",
       "      <td>37.717836</td>\n",
       "      <td>-122.449927</td>\n",
       "      <td>(37.71783559, -122.44992668)</td>\n",
       "      <td>Phone</td>\n",
       "      <td>0</td>\n",
       "    </tr>\n",
       "  </tbody>\n",
       "</table>\n",
       "<p>5 rows × 21 columns</p>\n",
       "</div>"
      ],
      "text/plain": [
       "         case_id  target              opened              closed  \\\n",
       "151456  11879627       0 2019-12-30 23:20:00 2019-12-31 00:00:00   \n",
       "151458  11879619       1 2019-12-30 23:16:00 2019-12-30 23:48:04   \n",
       "151470  11879549       0 2019-12-30 22:02:44 2019-12-30 23:57:00   \n",
       "151471  11879548       0 2019-12-30 22:00:00 2019-12-30 23:19:15   \n",
       "151472  11879547       0 2019-12-30 22:00:00 2019-12-30 23:03:28   \n",
       "\n",
       "                   updated  status  \\\n",
       "151456 2019-12-31 00:00:00  Closed   \n",
       "151458 2019-12-30 23:48:04  Closed   \n",
       "151470 2019-12-30 23:57:00  Closed   \n",
       "151471 2019-12-30 23:19:15  Closed   \n",
       "151472 2019-12-30 23:03:28  Closed   \n",
       "\n",
       "                                             status_notes  \\\n",
       "151456                                      Case Resolved   \n",
       "151458  Case is a Duplicate - This issue has already b...   \n",
       "151470                                      Case Resolved   \n",
       "151471  Case Resolved - Officer responded to request u...   \n",
       "151472  Case Resolved - Officer responded to request u...   \n",
       "\n",
       "                        responsible_agency                      category  \\\n",
       "151456                       DPW Ops Queue  Street and Sidewalk Cleaning   \n",
       "151458  Parking Enforcement Dispatch Queue           Parking Enforcement   \n",
       "151470                       DPW Ops Queue  Street and Sidewalk Cleaning   \n",
       "151471  Parking Enforcement Dispatch Queue           Parking Enforcement   \n",
       "151472  Parking Enforcement Dispatch Queue           Parking Enforcement   \n",
       "\n",
       "                       request_type  ...  \\\n",
       "151456             General Cleaning  ...   \n",
       "151458   Blocking_Driveway_Cite_Tow  ...   \n",
       "151470             General Cleaning  ...   \n",
       "151471  Blocking_Driveway_Cite_Only  ...   \n",
       "151472  Blocking_Driveway_Cite_Only  ...   \n",
       "\n",
       "                                         address     street  \\\n",
       "151456     49 WAYNE PL, SAN FRANCISCO, CA, 94133   WAYNE PL   \n",
       "151458     566 HEAD ST, SAN FRANCISCO, CA, 94132    HEAD ST   \n",
       "151470     30 WAYNE PL, SAN FRANCISCO, CA, 94133   WAYNE PL   \n",
       "151471  1334 JESSIE ST, SAN FRANCISCO, CA, 94103  JESSIE ST   \n",
       "151472    15 CAINE AVE, SAN FRANCISCO, CA, 94112  CAINE AVE   \n",
       "\n",
       "       supervisor_district     neighborhood police_district   latitude  \\\n",
       "151456                 3.0     Russian Hill         CENTRAL  37.796993   \n",
       "151458                11.0   Merced Heights         TARAVAL  37.717341   \n",
       "151470                 3.0     Russian Hill         CENTRAL  37.796814   \n",
       "151471                 6.0  South of Market        SOUTHERN  37.771108   \n",
       "151472                11.0        Oceanview         TARAVAL  37.717836   \n",
       "\n",
       "         longitude                         point          source has_media  \n",
       "151456 -122.411097    (37.7969935, -122.4110965)             Web         0  \n",
       "151458 -122.464250    (37.7173405, -122.4642497)             Web         0  \n",
       "151470 -122.410926   (37.7968142, -122.41092551)  Mobile/Open311         1  \n",
       "151471 -122.421109     (37.771108, -122.4211089)  Mobile/Open311         1  \n",
       "151472 -122.449927  (37.71783559, -122.44992668)           Phone         0  \n",
       "\n",
       "[5 rows x 21 columns]"
      ]
     },
     "execution_count": 9,
     "metadata": {},
     "output_type": "execute_result"
    }
   ],
   "source": [
    "# Load dataframe\n",
    "df = pd.read_pickle('../data/df_clean_2009_2019.pkl')\n",
    "\n",
    "# # Convert to Dask dataframe\n",
    "# df = dd.from_pandas(df_pd, npartitions=16)\n",
    "df.head()"
   ]
  },
  {
   "cell_type": "code",
   "execution_count": null,
   "metadata": {
    "Collapsed": "false",
    "ExecuteTime": {
     "end_time": "2020-03-17T03:23:42.973622Z",
     "start_time": "2020-03-17T03:23:31.566307Z"
    }
   },
   "outputs": [],
   "source": [
    "# Train and test splitting\n",
    "\n",
    "# Columns to exclude\n",
    "exclude_cols = [\n",
    "    'target', # Target variable\n",
    "    'case_id',\n",
    "    'opened', # Feature Eng\n",
    "    'closed', # Feature Eng\n",
    "    'updated',\n",
    "    'status',\n",
    "    'status_notes', # Needs NLP\n",
    "    'request_details', # Needs NLP\n",
    "    'address', # Needs NLP\n",
    "#     'street', # Convert to 'category' type to get dummies\n",
    "    'point',\n",
    "    \n",
    "    # New items\n",
    "    'responsible_agency',\n",
    "    'category', # Need to choose 'category' or 'request_type' NOT BOTH\n",
    "#     'request_type', # Needs NLP\n",
    "#     'opened_year',\n",
    "#     'opened_month_sin',\n",
    "#     'opened_month_cos',\n",
    "#     'opened_week_sin',\n",
    "#     'opened_week_cos',\n",
    "#     'opened_day_sin',\n",
    "#     'opened_day_cos',\n",
    "#     'opened_hour_sin',\n",
    "#     'opened_hour_cos',\n",
    "    'police_district',\n",
    "    'supervisor_district',\n",
    "#     'latitude',\n",
    "#     'longitude',\n",
    "]\n",
    "\n",
    "# # Scale data using MinMax scaler\n",
    "# # No need to standardize as all features are categorical (maybe scale lat/long....)\n",
    "# scaler = MinMaxScaler()\n",
    "\n",
    "# Predictor variables\n",
    "X = df.drop(columns=exclude_cols, axis=0, inplace=False)\n",
    "\n",
    "# Get dummies for categorical variables\n",
    "X = pd.get_dummies(X, drop_first=True)\n",
    "\n",
    "# Target variable\n",
    "y = df['target']\n",
    "\n",
    "# Split train and test\n",
    "X_train, X_test, y_train, y_test = train_test_split(X, y,\n",
    "                                                    test_size=0.2, \n",
    "                                                    random_state=2020, \n",
    "                                                    stratify=y,  # Stratify to keep same class ratios\n",
    "                                                    shuffle=True # Shuffle data since it's ordered chronologically\n",
    "                                                   )\n",
    "\n",
    "X_train.head()"
   ]
  },
  {
   "cell_type": "code",
   "execution_count": null,
   "metadata": {
    "Collapsed": "false"
   },
   "outputs": [],
   "source": [
    "# # Transform X_train, X_test, y_train, y_test\n",
    "# X_train = dd.from_pandas(X_train, npartitions=16)\n",
    "# X_test  = dd.from_pandas(X_test,  npartitions=16)\n",
    "# y_train = dd.from_pandas(y_train, npartitions=16)\n",
    "# y_test  = dd.from_pandas(y_test,  npartitions=16)"
   ]
  },
  {
   "cell_type": "markdown",
   "metadata": {
    "Collapsed": "false"
   },
   "source": [
    "# Feature Selection"
   ]
  },
  {
   "cell_type": "code",
   "execution_count": null,
   "metadata": {
    "Collapsed": "false"
   },
   "outputs": [],
   "source": [
    "def select_features(X_train, y_train, X_test):\n",
    "    '''Returns X_train, X_test, and feature selection function'''\n",
    "    fs = SelectKBest(score_func=f_classif, k='all')\n",
    "    fs.fit(X_train, y_train)\n",
    "#     X_train_fs = fs.transform(X_train)\n",
    "#     X_test_fs = fs.transform(X_test)\n",
    "#     return X_train_fs, X_test_fs, fs\n",
    "    return fs"
   ]
  },
  {
   "cell_type": "code",
   "execution_count": null,
   "metadata": {
    "Collapsed": "false"
   },
   "outputs": [],
   "source": [
    "# Feature selection\n",
    "# X_train_fs, X_test_fs, fs = select_features(X_train, y_train, X_test)\n",
    "fs = select_features(X_train, y_train, X_test)"
   ]
  },
  {
   "cell_type": "code",
   "execution_count": null,
   "metadata": {
    "Collapsed": "false"
   },
   "outputs": [],
   "source": [
    "# Feature scores\n",
    "features_df = pd.DataFrame(data=[X_train.columns, fs.scores_.astype(int)]).transpose()\n",
    "features_df.rename(columns={0: 'Feature', 1: 'ANOVA F-Value'}, inplace=True)\n",
    "features_df.sort_values(by='ANOVA F-Value', ascending=False, inplace=True)\n",
    "features_df.reset_index(drop=True, inplace=True)\n",
    "features_df"
   ]
  },
  {
   "cell_type": "code",
   "execution_count": null,
   "metadata": {
    "Collapsed": "false"
   },
   "outputs": [],
   "source": [
    "# Select features above threshold\n",
    "threshold = 8\n",
    "best_features_df = features_df[(features_df['ANOVA F-Value'] > threshold)]"
   ]
  },
  {
   "cell_type": "code",
   "execution_count": 12,
   "metadata": {
    "Collapsed": "false"
   },
   "outputs": [],
   "source": [
    "# best_features_df.to_pickle('../data/best_features_df.pkl')\n",
    "best_features_df = pd.read_pickle('../data/best_features_df.pkl')"
   ]
  },
  {
   "cell_type": "code",
   "execution_count": 15,
   "metadata": {
    "Collapsed": "false"
   },
   "outputs": [
    {
     "data": {
      "text/html": [
       "<div>\n",
       "<style scoped>\n",
       "    .dataframe tbody tr th:only-of-type {\n",
       "        vertical-align: middle;\n",
       "    }\n",
       "\n",
       "    .dataframe tbody tr th {\n",
       "        vertical-align: top;\n",
       "    }\n",
       "\n",
       "    .dataframe thead th {\n",
       "        text-align: right;\n",
       "    }\n",
       "</style>\n",
       "<table border=\"1\" class=\"dataframe\">\n",
       "  <thead>\n",
       "    <tr style=\"text-align: right;\">\n",
       "      <th></th>\n",
       "      <th>Feature</th>\n",
       "      <th>ANOVA F-Value</th>\n",
       "    </tr>\n",
       "  </thead>\n",
       "  <tbody>\n",
       "    <tr>\n",
       "      <th>0</th>\n",
       "      <td>request_type_Abandoned Vehicles</td>\n",
       "      <td>40076</td>\n",
       "    </tr>\n",
       "    <tr>\n",
       "      <th>1</th>\n",
       "      <td>request_type_Bulky Items</td>\n",
       "      <td>20830</td>\n",
       "    </tr>\n",
       "    <tr>\n",
       "      <th>2</th>\n",
       "      <td>request_type_Abandoned Vehicle - Car4door</td>\n",
       "      <td>8720</td>\n",
       "    </tr>\n",
       "    <tr>\n",
       "      <th>3</th>\n",
       "      <td>request_type_Encampment Reports</td>\n",
       "      <td>6768</td>\n",
       "    </tr>\n",
       "    <tr>\n",
       "      <th>4</th>\n",
       "      <td>request_type_Parking_on_Sidewalk</td>\n",
       "      <td>4365</td>\n",
       "    </tr>\n",
       "  </tbody>\n",
       "</table>\n",
       "</div>"
      ],
      "text/plain": [
       "                                     Feature ANOVA F-Value\n",
       "0            request_type_Abandoned Vehicles         40076\n",
       "1                   request_type_Bulky Items         20830\n",
       "2  request_type_Abandoned Vehicle - Car4door          8720\n",
       "3            request_type_Encampment Reports          6768\n",
       "4           request_type_Parking_on_Sidewalk          4365"
      ]
     },
     "execution_count": 15,
     "metadata": {},
     "output_type": "execute_result"
    }
   ],
   "source": [
    "best_features_df.head()"
   ]
  },
  {
   "cell_type": "code",
   "execution_count": null,
   "metadata": {
    "Collapsed": "false"
   },
   "outputs": [],
   "source": [
    "# Filter X_train & X_test with selected features\n",
    "X_train = X_train.filter(items=best_features_df['Feature'])\n",
    "X_test  = X_test.filter(items=best_features_df['Feature'])\n",
    "\n",
    "# Clean column names\n",
    "X_train.columns = X_train.columns.str.strip().str.lower().str.replace(\n",
    "    ' ', '_').str.replace('(', '').str.replace(')', '')\n",
    "\n",
    "X_test.columns = X_test.columns.str.strip().str.lower().str.replace(\n",
    "    ' ', '_').str.replace('(', '').str.replace(')', '')"
   ]
  },
  {
   "cell_type": "code",
   "execution_count": null,
   "metadata": {
    "Collapsed": "false",
    "ExecuteTime": {
     "end_time": "2020-03-17T03:23:42.979520Z",
     "start_time": "2020-03-17T03:23:42.975234Z"
    }
   },
   "outputs": [],
   "source": [
    "print('df\\t', df.shape)\n",
    "print('X_train\\t', X_train.shape)\n",
    "print('X_test\\t', X_test.shape)\n",
    "print('y_train\\t', y_train.shape)\n",
    "print('y_test\\t', y_test.shape)"
   ]
  },
  {
   "cell_type": "markdown",
   "metadata": {
    "Collapsed": "false"
   },
   "source": [
    "# Class Balancing"
   ]
  },
  {
   "cell_type": "code",
   "execution_count": 11,
   "metadata": {
    "Collapsed": "false",
    "ExecuteTime": {
     "end_time": "2020-03-17T03:24:04.172126Z",
     "start_time": "2020-03-17T03:24:04.161389Z"
    }
   },
   "outputs": [
    {
     "name": "stdout",
     "output_type": "stream",
     "text": [
      "Class 0: 2883435\n",
      "Class 1: 530199\n",
      "Proportion: 5.44 : 1\n",
      "Percentage of Majority Class: 84.5\n"
     ]
    }
   ],
   "source": [
    "# Target variable\n",
    "target_count = df['target'].value_counts()\n",
    "\n",
    "# Print class balance\n",
    "print(f'Class 0: {target_count[0]}')\n",
    "print(f'Class 1: {target_count[1]}')\n",
    "print(f'Proportion: {round(target_count[0] / target_count[1], 2)} : 1')\n",
    "print(f'Percentage of Majority Class: {round(target_count[0] / sum(target_count), 3)*100}')"
   ]
  },
  {
   "cell_type": "code",
   "execution_count": null,
   "metadata": {
    "Collapsed": "false"
   },
   "outputs": [],
   "source": [
    "# USE DASK from here on out"
   ]
  },
  {
   "cell_type": "markdown",
   "metadata": {
    "Collapsed": "false"
   },
   "source": [
    "## Oversampling"
   ]
  },
  {
   "cell_type": "code",
   "execution_count": null,
   "metadata": {
    "Collapsed": "false",
    "ExecuteTime": {
     "end_time": "2020-03-17T03:24:07.685256Z",
     "start_time": "2020-03-17T03:24:07.682966Z"
    }
   },
   "outputs": [],
   "source": [
    "# # A ratio of .5 is saying that 50% of my data is simulated\n",
    "# # Trevor noted that .2 would be good but let's try different ratios\n",
    "# smote = SMOTE(random_state=2020)\n",
    "# X_train_smote, y_train_smote = smote.fit_sample(X_train, y_train)\n",
    "\n",
    "# # Summarize the new class distribution\n",
    "# Counter(y_train_smote)"
   ]
  },
  {
   "cell_type": "markdown",
   "metadata": {
    "Collapsed": "false"
   },
   "source": [
    "## Undersampling"
   ]
  },
  {
   "cell_type": "code",
   "execution_count": null,
   "metadata": {
    "Collapsed": "false"
   },
   "outputs": [],
   "source": [
    "# # Define the undersampling method – RandomUnderSampler\n",
    "rndm_under = RandomUnderSampler(random_state=2020)\n",
    "\n",
    "# Transform the dataset\n",
    "X_train_under, y_train_under = rndm_under.fit_sample(X_train, y_train)\n",
    "\n",
    "# Summarize the new class distribution\n",
    "Counter(y_train_under)"
   ]
  },
  {
   "cell_type": "code",
   "execution_count": null,
   "metadata": {
    "Collapsed": "false",
    "ExecuteTime": {
     "start_time": "2020-03-17T03:24:30.432Z"
    }
   },
   "outputs": [],
   "source": [
    "# # Define the undersampling method – NearMiss\n",
    "# # Selects the closest examples from the majority class for each minority class.\n",
    "# undersample = NearMiss(version=3, n_neighbors_ver3=3)\n",
    "\n",
    "# # Transform the dataset\n",
    "# X_train_under, y_train_under = undersample.fit_resample(X_train, y_train)\n",
    "\n",
    "# # Summarize the new class distribution\n",
    "# Counter(y_train_under)"
   ]
  },
  {
   "cell_type": "code",
   "execution_count": 2,
   "metadata": {
    "Collapsed": "false"
   },
   "outputs": [],
   "source": [
    "# # Pickle dataframes\n",
    "# X_train_under.to_pickle('../data/X_train_under.pkl')\n",
    "# X_test.to_pickle('../data/X_test.pkl')\n",
    "# y_train_under.to_pickle('../data/y_train_under.pkl')\n",
    "# y_test.to_pickle('../data/y_test.pkl')\n",
    "\n",
    "# Load dataframe\n",
    "X_train_under = pd.read_pickle('../data/X_train_under.pkl')\n",
    "X_test        = pd.read_pickle('../data/X_test.pkl')\n",
    "y_train_under = pd.read_pickle('../data/y_train_under.pkl')\n",
    "y_test        = pd.read_pickle('../data/y_test.pkl')\n",
    "\n",
    "# # Transform to Dask dataframes\n",
    "# X_train_under = dd.from_pandas(X_train_under, npartitions=16)\n",
    "# X_test        = dd.from_pandas(X_test, npartitions=16)\n",
    "# y_train_under = dd.from_pandas(y_train_under, npartitions=16)\n",
    "# y_test        = dd.from_pandas(y_test, npartitions=16)"
   ]
  },
  {
   "cell_type": "code",
   "execution_count": null,
   "metadata": {
    "Collapsed": "false"
   },
   "outputs": [],
   "source": [
    "type(X_train_under)"
   ]
  },
  {
   "cell_type": "markdown",
   "metadata": {
    "Collapsed": "false"
   },
   "source": [
    "# Modeling"
   ]
  },
  {
   "cell_type": "markdown",
   "metadata": {
    "Collapsed": "false"
   },
   "source": [
    "Objective: Maximize ROC AUC Score as both recall and precision are equally important and the classes are imbalanced"
   ]
  },
  {
   "cell_type": "code",
   "execution_count": null,
   "metadata": {
    "Collapsed": "false"
   },
   "outputs": [],
   "source": [
    "# Create list of model and performance\n",
    "model_performance = []\n",
    "models_optimized = []"
   ]
  },
  {
   "cell_type": "markdown",
   "metadata": {
    "Collapsed": "false"
   },
   "source": [
    "User RandomizedSearchCV instead:\n",
    "https://blog.usejournal.com/a-comparison-of-grid-search-and-randomized-search-using-scikit-learn-29823179bc85\n"
   ]
  },
  {
   "cell_type": "markdown",
   "metadata": {
    "Collapsed": "false"
   },
   "source": [
    "## Baseline Models"
   ]
  },
  {
   "cell_type": "code",
   "execution_count": null,
   "metadata": {
    "Collapsed": "false"
   },
   "outputs": [],
   "source": [
    "#Dummy Classifier\n",
    "from sklearn.dummy import DummyClassifier\n",
    "clf = DummyClassifier(strategy= 'most_frequent').fit(X_train_under, y_train_under)\n",
    "y_pred = clf.predict(X_test)\n",
    "\n",
    "#Distribution of y test\n",
    "print('y actual\\t:', Counter(y_test))\n",
    "\n",
    "#Distribution of y predicted\n",
    "print('y predicted\\t:', Counter(y_pred))\n",
    "\n",
    "# Confusion matrix\n",
    "print('\\nConfusion Matrix\\n' + str(confusion_matrix(y_test, y_pred)))"
   ]
  },
  {
   "cell_type": "code",
   "execution_count": null,
   "metadata": {
    "Collapsed": "false"
   },
   "outputs": [],
   "source": [
    "base_models = []\n",
    "\n",
    "# Instantiate the models\n",
    "base_models.append(('LogisticRegression', LogisticRegression(solver='liblinear')))\n",
    "base_models.append(('KNeighbors', KNeighborsClassifier()))\n",
    "base_models.append(('RandomForest', RandomForestClassifier(n_estimators=10)))\n",
    "base_models.append(('XGBoost', XGBClassifier()))\n",
    "\n",
    "cv_results = []\n",
    "names = []\n",
    "\n",
    "# Cross Validate - 5 fold\n",
    "with joblib.parallel_backend('dask'):\n",
    "    for name, model in base_models:\n",
    "        names.append(name)\n",
    "        cv_results.append(np.round_(cross_val_score(model, X_train_under, y_train_under, cv=5, scoring='roc_auc'), 3))\n",
    "\n",
    "    for i in range(len(names)):\n",
    "        print(names[i], round(cv_results[i].mean(), 3))"
   ]
  },
  {
   "cell_type": "code",
   "execution_count": null,
   "metadata": {
    "Collapsed": "false"
   },
   "outputs": [],
   "source": [
    "# Identify the models that work best without any GridSearchCV\n",
    "# Plot the ROC Curves\n",
    "# Undersampling (Don't use synthetic data)\n",
    "# How to predict duplicates?\n",
    "## More like unsupervised learning... \n",
    "## Create a function – given a point, identify a case that this is more similar to...\n"
   ]
  },
  {
   "cell_type": "code",
   "execution_count": null,
   "metadata": {
    "Collapsed": "false"
   },
   "outputs": [],
   "source": [
    "# # Save models\n",
    "# with open(f'../models/{name}_20k.pkl', 'wb') as f: # how can I save the model for later use?ii\n",
    "#     pickle.dump(model, f)"
   ]
  },
  {
   "cell_type": "markdown",
   "metadata": {
    "Collapsed": "false"
   },
   "source": [
    "## Logistic Regression"
   ]
  },
  {
   "cell_type": "code",
   "execution_count": null,
   "metadata": {
    "Collapsed": "false"
   },
   "outputs": [],
   "source": [
    "# Grid searching key hyperparameters for logistic regression\n",
    "\n",
    "# Instantiate model and sampler\n",
    "lg_model = LogisticRegression()\n",
    "under = under(random_state=2020)\n",
    "\n",
    "# Construct pipeline\n",
    "steps = [('und', under), ('lgr', lg_model)]\n",
    "pipeline = Pipeline(steps)\n",
    "\n",
    "# Define parameter grid values to be searched\n",
    "param_grid = {\n",
    "    'und__random_state': [2020],\n",
    "    'lgr__solver': ['saga', 'liblinear'],\n",
    "    'lgr__penalty': ['l1', 'l2'],\n",
    "    'lgr__C': [0.001, 0.01, 0.1, 1, 10, 100, 1000]\n",
    "}\n",
    "\n",
    "# Use stratify version of k-fold to keep class imbalance ratio\n",
    "k_fold = StratifiedKFold(n_splits=3, shuffle = True, random_state=2020)\n",
    "\n",
    "# Cross Validation\n",
    "# lg_grid = GridSearchCV(pipeline, param_grid=param_grid, cv=k_fold, n_jobs=-1, return_train_score=True, scoring='roc_auc')\n",
    "lg_rndm = RandomizedSearchCV(pipeline, param_distributions=param_grid, cv=k_fold, n_jobs=-1, return_train_score=True, scoring='roc_auc')\n",
    "\n",
    "# Train with balanced classes\n",
    "grid_result = lg_rndm.fit(X_train_under, y_train_under) # Should I use X_train, y_train here?\n",
    "\n",
    "# Summarize results\n",
    "print(f'Best Score: {round(grid_result.best_score_, 3)}\\nParams: {grid_result.best_params_}\\n')\n",
    "\n",
    "mean_train = grid_result.cv_results_['mean_train_score']\n",
    "mean_test = grid_result.cv_results_['mean_test_score']\n",
    "params = grid_result.cv_results_['params']\n",
    "for mean_tr, mean_ts, param in zip(mean_train, mean_test, params):\n",
    "    print(f'Train {round(mean_tr, 3)}\\tTest {round(mean_ts, 3)}\\tParams: {param}')\n",
    "    \n",
    "# # Examine the best model\n",
    "# print(lg_grid.best_score_)\n",
    "# print(lg_grid.best_params_)"
   ]
  },
  {
   "cell_type": "code",
   "execution_count": null,
   "metadata": {
    "Collapsed": "false"
   },
   "outputs": [],
   "source": [
    "# Instantiate model with best paramaters\n",
    "lg_best = LogisticRegression(C=10, penalty='l2', solver='saga', random_state=2020) # Check the params\n",
    "\n",
    "# Train with balanced classes\n",
    "lg_best.fit(X_train_under, y_train_under)\n",
    "\n",
    "# Get predictions\n",
    "lg_best_preds = lg_best.predict(X_test)\n",
    "# lg_best_y_score = lg_best.predict_proba(X_test)\n",
    "\n",
    "# Get ROC AUC Score, precision, recall, f1-score\n",
    "accuracy  = round(accuracy_score(y_test, lg_best_preds), 3)\n",
    "roc_auc   = round(roc_auc_score(y_test, lg_best_preds), 3)\n",
    "precision = round(precision_score(y_test, lg_best_preds), 3)\n",
    "recall    = round(recall_score(y_test, lg_best_preds), 3)\n",
    "f1        = round(f1_score(y_test, lg_best_preds), 3)\n",
    "\n",
    "print(f'Accuracy  : {accuracy}')\n",
    "print(f'ROC_AUC   : {roc_auc}')\n",
    "print(f'Precision : {precision}')\n",
    "print(f'Recall    : {recall}')\n",
    "print(f'F-score   : {f1}')\n",
    "\n",
    "# Confusion matrix\n",
    "print('\\nConfusion Matrix\\n' + str(confusion_matrix(y_test, lg_best_preds)))"
   ]
  },
  {
   "cell_type": "code",
   "execution_count": null,
   "metadata": {
    "Collapsed": "false"
   },
   "outputs": [],
   "source": [
    "# # Add model and accuracy dict to list\n",
    "# model_performance.append(dict([\n",
    "#     ('Model', 'Logistic Regression'),\n",
    "#     ('ROC AUC', round(roc_auc, 3)),\n",
    "#     ('Precision', round(precision, 3)),\n",
    "#     ('Recall', round(recall, 3)),\n",
    "#     ('f1', round(f1_score, 3))\n",
    "#      ]))\n",
    "\n",
    "# # Add model to list\n",
    "# models_optimized.append('Logistic Regression')"
   ]
  },
  {
   "cell_type": "markdown",
   "metadata": {
    "Collapsed": "true"
   },
   "source": [
    "## KNN"
   ]
  },
  {
   "cell_type": "code",
   "execution_count": null,
   "metadata": {
    "Collapsed": "false"
   },
   "outputs": [],
   "source": [
    "# Grid searching key hyperparameters for KNN\n",
    "\n",
    "# Instantiate model and RandomUnderSampler\n",
    "knn_model = KNeighborsClassifier()\n",
    "under = RandomUnderSampler(random_state=2020)\n",
    "\n",
    "# Construct pipeline\n",
    "steps = [('und', under), ('knn', knn_model)]\n",
    "pipeline = Pipeline(steps)\n",
    "\n",
    "# Define parameter grid values to be searched\n",
    "param_grid = {\n",
    "    'und__random_state': [2020],\n",
    "    'knn__n_neighbors' : [3, 5, 7]\n",
    "}\n",
    "\n",
    "# Use stratify version of k-fold to keep class imbalance ratio\n",
    "k_fold = StratifiedKFold(n_splits=3, shuffle = True, random_state=2020)\n",
    "\n",
    "# Cross Validation\n",
    "# knn_grid = GridSearchCV(pipeline, param_grid=param_grid, cv=k_fold, n_jobs=-1, return_train_score=True, scoring='roc_auc')\n",
    "knn_rndm = RandomizedSearchCV(pipeline, param_distributions=param_grid, cv=k_fold, n_jobs=-1, return_train_score=True, scoring='roc_auc')\n",
    "\n",
    "# Train with balanced classes\n",
    "grid_result = knn_rndm.fit(X_train_under, y_train_under) # Should I use X_train, y_train here?\n",
    "\n",
    "# Summarize results\n",
    "print(f'Best Score: {round(grid_result.best_score_, 3)}\\nParams: {grid_result.best_params_}\\n')\n",
    "\n",
    "mean_train = grid_result.cv_results_['mean_train_score']\n",
    "mean_test = grid_result.cv_results_['mean_test_score']\n",
    "params = grid_result.cv_results_['params']\n",
    "for mean_tr, mean_ts, param in zip(mean_train, mean_test, params):\n",
    "    print(f'Train {round(mean_tr, 3)}\\tTest {round(mean_ts, 3)}\\tParams: {param}')\n",
    "    \n",
    "# # Examine the best model\n",
    "# print(knn_grid.best_score_)\n",
    "# print(knn_grid.best_params_)"
   ]
  },
  {
   "cell_type": "code",
   "execution_count": null,
   "metadata": {
    "Collapsed": "false"
   },
   "outputs": [],
   "source": [
    "# Instantiate model with best paramaters\n",
    "knn_best = KNeighborsClassifier(n_neighbors=7)\n",
    "\n",
    "# Train with balanced classes\n",
    "knn_best.fit(X_train_under, y_train_under)\n",
    "\n",
    "# Get predictions\n",
    "knn_best_preds = knn_best.predict(X_test)\n",
    "# knn_best_y_score = knn_best.predict_proba(X_test)\n",
    "\n",
    "# Get ROC AUC Score, precision, recall, f1-score\n",
    "accuracy  = round(accuracy_score(y_test,  knn_best_preds), 3)\n",
    "roc_auc   = round(roc_auc_score(y_test,   knn_best_preds), 3)\n",
    "precision = round(precision_score(y_test, knn_best_preds), 3)\n",
    "recall    = round(recall_score(y_test,    knn_best_preds), 3)\n",
    "f1        = round(f1_score(y_test,        knn_best_preds), 3)\n",
    "\n",
    "print(f'Accuracy  : {accuracy}')\n",
    "print(f'ROC_AUC   : {roc_auc}')\n",
    "print(f'Precision : {precision}')\n",
    "print(f'Recall    : {recall}')\n",
    "print(f'F-score   : {f1}')\n",
    "\n",
    "# Confusion matrix\n",
    "print('\\nConfusion Matrix\\n' + str(confusion_matrix(y_test, knn_best_preds)))"
   ]
  },
  {
   "cell_type": "code",
   "execution_count": null,
   "metadata": {
    "Collapsed": "false"
   },
   "outputs": [],
   "source": [
    "# # Add model and accuracy dict to list\n",
    "# model_performance.append(dict([\n",
    "#     ('Model', 'KNN'),\n",
    "#     ('ROC AUC', round(roc_auc, 3)),\n",
    "#     ('Precision', round(precision, 3)),\n",
    "#     ('Recall', round(recall, 3)),\n",
    "#     ('f1', round(f1_score, 3))\n",
    "#      ]))\n",
    "\n",
    "# # Add model to list\n",
    "# models_optimized.append('KNN')"
   ]
  },
  {
   "cell_type": "markdown",
   "metadata": {
    "Collapsed": "true"
   },
   "source": [
    "## Random Forest"
   ]
  },
  {
   "cell_type": "code",
   "execution_count": null,
   "metadata": {
    "Collapsed": "false"
   },
   "outputs": [],
   "source": [
    "# Grid searching key hyperparameters for Random Forest\n",
    "\n",
    "# Instantiate model and RandomUnderSampler\n",
    "rf_model = RandomForestClassifier()\n",
    "under = RandomUnderSampler(random_state=2020)\n",
    "\n",
    "# Construct pipeline\n",
    "steps = [('und', under), ('rfc', rf_model)]\n",
    "pipeline = Pipeline(steps)\n",
    "\n",
    "# Define parameter grid values to be searched\n",
    "param_grid = {\n",
    "    'und__random_state': [2020],\n",
    "    'rfc__n_estimators': [50, 100, 150, 200, 1000],\n",
    "    'rfc__max_depth' : [2, 3, 4],\n",
    "    'rfc__max_features' : [5, 10, 15],\n",
    "    'rfc__criterion' : ['gini', 'entropy'],\n",
    "    'rfc__random_state' :[2020]\n",
    "}\n",
    "\n",
    "# Use stratify version of k-fold to keep class imbalance ratio\n",
    "k_fold = StratifiedKFold(n_splits=3, shuffle = True, random_state=2020)\n",
    "\n",
    "# Cross Validation\n",
    "# rf_grid = GridSearchCV(pipeline, param_grid=param_grid, cv=k_fold, n_jobs=-1, return_train_score=True, scoring='roc_auc')\n",
    "rf_rndm = RandomizedSearchCV(pipeline, param_distributions=param_grid, cv=k_fold, n_jobs=-1, return_train_score=True, scoring='roc_auc')\n",
    "\n",
    "# Train with balanced classes\n",
    "grid_result = rf_rndm.fit(X_train_under, y_train_under) # Should I use X_train, y_train here?\n",
    "\n",
    "# Summarize results\n",
    "print(f'Best Score: {round(grid_result.best_score_, 3)}\\nParams: {grid_result.best_params_}\\n')\n",
    "\n",
    "mean_train = grid_result.cv_results_['mean_train_score']\n",
    "mean_test = grid_result.cv_results_['mean_test_score']\n",
    "params = grid_result.cv_results_['params']\n",
    "for mean_tr, mean_ts, param in zip(mean_train, mean_test, params):\n",
    "    print(f'Train {round(mean_tr, 3)}\\tTest {round(mean_ts, 3)}\\tParams: {param}')\n",
    "    \n",
    "# # Examine the best model\n",
    "# print(rf_grid.best_score_)\n",
    "# print(rf_grid.best_params_)"
   ]
  },
  {
   "cell_type": "code",
   "execution_count": null,
   "metadata": {
    "Collapsed": "false"
   },
   "outputs": [],
   "source": [
    "# Instantiate model with best paramaters\n",
    "rf_best = RandomForestClassifier(n_estimators=1000, criterion='entropy', max_depth=4, max_features=10, random_state=2020)\n",
    "\n",
    "# Train with balanced classes\n",
    "rf_best.fit(X_train_under, y_train_under)\n",
    "\n",
    "# Get predictions\n",
    "rf_best_preds = rf_best.predict(X_test)\n",
    "# rf_best_y_score = rf_best.predict_proba(X_test)\n",
    "\n",
    "# Get ROC AUC Score, precision, recall, f1-score\n",
    "accuracy  = round(accuracy_score(y_test,  rf_best_preds), 3)\n",
    "roc_auc   = round(roc_auc_score(y_test,   rf_best_preds), 3)\n",
    "precision = round(precision_score(y_test, rf_best_preds), 3)\n",
    "recall    = round(recall_score(y_test,    rf_best_preds), 3)\n",
    "f1        = round(f1_score(y_test,        rf_best_preds), 3)\n",
    "\n",
    "print(f'Accuracy  : {accuracy}')\n",
    "print(f'ROC_AUC   : {roc_auc}')\n",
    "print(f'Precision : {precision}')\n",
    "print(f'Recall    : {recall}')\n",
    "print(f'F-score   : {f1}')\n",
    "\n",
    "# Confusion matrix\n",
    "print('\\nConfusion Matrix\\n' + str(confusion_matrix(y_test, rf_best_preds)))"
   ]
  },
  {
   "cell_type": "code",
   "execution_count": null,
   "metadata": {
    "Collapsed": "false"
   },
   "outputs": [],
   "source": [
    "# # Add model and accuracy dict to list\n",
    "# model_performance.append(dict([\n",
    "#     ('Model', 'Random Forest'),\n",
    "#     ('ROC AUC', round(roc_auc, 3)),\n",
    "#     ('Precision', round(precision, 3)),\n",
    "#     ('Recall', round(recall, 3)),\n",
    "#     ('F1', round(f1_score, 3))\n",
    "#      ]))\n",
    "\n",
    "# # Add model to list\n",
    "# models_optimized.append('Random Forest')"
   ]
  },
  {
   "cell_type": "markdown",
   "metadata": {
    "Collapsed": "false"
   },
   "source": [
    "## XGBoost"
   ]
  },
  {
   "cell_type": "code",
   "execution_count": null,
   "metadata": {
    "Collapsed": "false"
   },
   "outputs": [],
   "source": [
    "# Grid searching key hyperparameters for XGBoost\n",
    "# Instantiate model and RandomUnderSampler\n",
    "xgb_model = XGBClassifier()\n",
    "under = RandomUnderSampler(random_state=2020)\n",
    "\n",
    "# Construct pipeline\n",
    "steps = [('und', under), ('xgb', xgb_model)]\n",
    "pipeline = Pipeline(steps)\n",
    "\n",
    "# Define parameter grid values to be searched\n",
    "param_grid = {\n",
    "    'und__random_state': [2020],\n",
    "    'xgb__n_estimators': [100, 250, 500, 1000], \n",
    "    'xgb__max_depth': [3, 4, 5], \n",
    "    'xgb__learning_rate': [0.001, 0.01, 0.1]\n",
    "}\n",
    "\n",
    "# Use stratify version of k-fold to keep class imbalance ratio\n",
    "k_fold = StratifiedKFold(n_splits=3, shuffle = True, random_state=2020)\n",
    "\n",
    "# Cross Validation\n",
    "# xgb_grid = GridSearchCV(pipeline, param_grid=param_grid, cv=k_fold, n_jobs=-1, return_train_score=True, scoring='roc_auc')\n",
    "xgb_rndm = RandomizedSearchCV(pipeline, param_distributions=param_grid, cv=3, n_jobs=-1, return_train_score=True, scoring='roc_auc')\n",
    "# # Dask HyperbandSearchCV\n",
    "# search = HyperbandSearchCV(xgb_model, param_grid, max_iter=3, patience=True)\n",
    "\n",
    "# Train with balanced classes\n",
    "grid_result = xgb_rndm.fit(X_train_under, y_train_under)\n",
    "\n",
    "# Summarize results\n",
    "print(f'Best Score: {round(grid_result.best_score_, 3)}\\nParams: {grid_result.best_params_}\\n')\n",
    "\n",
    "mean_train = grid_result.cv_results_['mean_train_score']\n",
    "mean_test = grid_result.cv_results_['mean_test_score']\n",
    "params = grid_result.cv_results_['params']\n",
    "for mean_tr, mean_ts, param in zip(mean_train, mean_test, params):\n",
    "    print(f'Train {round(mean_tr, 3)}\\tTest {round(mean_ts, 3)}\\tParams: {param}')\n",
    "\n",
    "# # Examine the best model\n",
    "# print(lg_grid.best_score_)\n",
    "# print(lg_grid.best_params_)"
   ]
  },
  {
   "cell_type": "code",
   "execution_count": 6,
   "metadata": {
    "Collapsed": "false"
   },
   "outputs": [
    {
     "name": "stdout",
     "output_type": "stream",
     "text": [
      "Accuracy  : 0.769\n",
      "ROC_AUC   : 0.754\n",
      "Precision : 0.375\n",
      "Recall    : 0.733\n",
      "F-score   : 0.496\n",
      "\n",
      "Confusion Matrix\n",
      "[[447322 129365]\n",
      " [ 28342  77698]]\n"
     ]
    }
   ],
   "source": [
    "with joblib.parallel_backend('dask'):\n",
    "\n",
    "\n",
    "    # Instantiate model with best paramaters\n",
    "    xgb_best = XGBClassifier(n_estimators=500, max_depth=4, learning_rate=0.1)\n",
    "\n",
    "    # Train with balanced classes\n",
    "    xgb_best.fit(X_train_under, y_train_under)\n",
    "\n",
    "    # Get predictions\n",
    "    xgb_best_preds = xgb_best.predict(X_test)\n",
    "    # xgb_best_y_score = xgb_best.predict_proba(X_test)\n",
    "\n",
    "    # Get ROC AUC Score, precision, recall, f1-score\n",
    "    accuracy  = round(accuracy_score(y_test,  xgb_best_preds), 3)\n",
    "    roc_auc   = round(roc_auc_score(y_test,   xgb_best_preds), 3)\n",
    "    precision = round(precision_score(y_test, xgb_best_preds), 3)\n",
    "    recall    = round(recall_score(y_test,    xgb_best_preds), 3)\n",
    "    f1        = round(f1_score(y_test,        xgb_best_preds), 3)\n",
    "\n",
    "    print(f'Accuracy  : {accuracy}')\n",
    "    print(f'ROC_AUC   : {roc_auc}')\n",
    "    print(f'Precision : {precision}')\n",
    "    print(f'Recall    : {recall}')\n",
    "    print(f'F-score   : {f1}')\n",
    "\n",
    "    # Confusion matrix\n",
    "    print('\\nConfusion Matrix\\n' + str(confusion_matrix(y_test, xgb_best_preds)))"
   ]
  },
  {
   "cell_type": "code",
   "execution_count": null,
   "metadata": {
    "Collapsed": "false"
   },
   "outputs": [],
   "source": [
    "# Add model and accuracy dict to list\n",
    "model_performance.append(dict([\n",
    "    ('Model', 'XGBoost'),\n",
    "    ('ROC AUC', round(roc_auc, 3)),\n",
    "    ('Precision', round(precision, 3)),\n",
    "    ('Recall', round(recall, 3)),\n",
    "    ('F1', round(f1, 3))\n",
    "     ]))\n",
    "\n",
    "# Add model to list\n",
    "models_optimized.append('XGBoost')"
   ]
  },
  {
   "cell_type": "markdown",
   "metadata": {
    "Collapsed": "false"
   },
   "source": [
    "# Feature Importance"
   ]
  },
  {
   "cell_type": "code",
   "execution_count": 7,
   "metadata": {
    "Collapsed": "false"
   },
   "outputs": [
    {
     "data": {
      "image/png": "[encoded data removed]",
      "text/plain": [
       "<Figure size 720x720 with 1 Axes>"
      ]
     },
     "metadata": {},
     "output_type": "display_data"
    }
   ],
   "source": [
    "with joblib.parallel_backend('dask'):\n",
    "\n",
    "    # Feature Importance – XGBoost\n",
    "    fig, ax = plt.subplots(figsize=(10,10))\n",
    "    xgb_best.get_booster().feature_names = list(X_test.columns)\n",
    "    plot_importance(xgb_best.get_booster(), max_num_features=15, height=0.8, ax=ax)\n",
    "    plt.title('Feature Importance')\n",
    "\n",
    "    # plt.savefig('feature_importance.png', bbox_inches='tight');"
   ]
  },
  {
   "cell_type": "markdown",
   "metadata": {
    "Collapsed": "false"
   },
   "source": [
    "# Model Comparison"
   ]
  },
  {
   "cell_type": "code",
   "execution_count": null,
   "metadata": {
    "Collapsed": "false"
   },
   "outputs": [],
   "source": [
    "def plot_roc_curves(classifiers, X_train, y_train, X_test, y_test, sampler = None):\n",
    "    \"\"\"\n",
    "        Function for plotting roc curves of classifiers for comparison\n",
    "        \n",
    "        :param classifiers: dictionary of classifiers\n",
    "        :param sampler: sampling method to use e.g. smote\n",
    "        \n",
    "        :returns fpr: an array of false positive rate values from roc_curve\n",
    "        :returns tpr: an array of true positive rate values from roc_curve\n",
    "        :returns thresholds: an array of threshold values from roc_curve\n",
    "        :returns roc_auc: roc_auc scores for each classifier in classifiers\n",
    "        \n",
    "        https://github.com/kevinchiv/Predicting-Kickstarter-Success/blob/master/02%20-%20Classification%20Modeling.ipynb\n",
    "    \"\"\"\n",
    "\n",
    "    fpr, tpr, thresholds = {}, {}, {}\n",
    "    roc_auc = {}\n",
    "\n",
    "\n",
    "    for classifier_name, classifier in classifiers.items():\n",
    "\n",
    "        #set n_jobs = -1 for faster performance\n",
    "        classifier = classifier.set_params(n_jobs = -1)\n",
    "\n",
    "#         if sampler:\n",
    "#             sampler.set_params(random_state = 42, n_jobs = -1)\n",
    "\n",
    "        steps = [('sampling', sampler),\n",
    "                 (classifier_name, classifier)]\n",
    "\n",
    "        model = Pipeline(steps)\n",
    "\n",
    "        model.fit(X_train, y_train)\n",
    "\n",
    "        y_proba = model.predict_proba(X_test)[:,1]\n",
    "\n",
    "        fpr[classifier_name], tpr[classifier_name], thresholds[classifier_name] = roc_curve(y_test, y_proba)\n",
    "\n",
    "        roc_auc[classifier_name] = round(auc(fpr[classifier_name], tpr[classifier_name]), 3)\n",
    "\n",
    "        print(classifier_name + ' roc_auc score: ' + str(roc_auc[classifier_name]))\n",
    "\n",
    "\n",
    "    plt.figure(figsize=(8, 8))\n",
    "\n",
    "    for classifier_name, classifier in classifiers.items():\n",
    "        sns.lineplot(fpr[classifier_name], tpr[classifier_name], err_style = None);\n",
    "\n",
    "    midline_points = np.arange(0, 1.05, 0.05) \n",
    "\n",
    "    plt.plot(midline_points, midline_points, linestyle ='--', color = 'black');\n",
    "    plt.title(\"ROC Curves for Different Classification Models\", y =1.05, fontsize = 16);\n",
    "    plt.xlabel('FPR', fontsize = 12, x = 1.05);\n",
    "    plt.ylabel('TPR', fontsize = 12, rotation =0, y = 1.05);\n",
    "    plt.legend(list(zip(classifiers.keys(), roc_auc.values())));\n",
    "\n",
    "    return fpr, tpr, thresholds, roc_auc"
   ]
  },
  {
   "cell_type": "code",
   "execution_count": null,
   "metadata": {
    "Collapsed": "false"
   },
   "outputs": [],
   "source": [
    "classifiers = {'KNN': knn_best, \n",
    "               'LGR': lg_best, \n",
    "               'RFC': rf_best, \n",
    "               'XGB': xgb_best,\n",
    "               'Ensemble': VotingClassifier(estimators=[('lr', lg_best), ('rf', rf_best), ('xgb', xgb_best)],\n",
    "                                            voting='soft', weights=[1, 1, 1])\n",
    "              }\n",
    "\n",
    "fpr, tpr, thresholds, roc_auc = plot_roc_curves(classifiers, X_train_under, y_train_under, X_test, y_test)"
   ]
  },
  {
   "cell_type": "markdown",
   "metadata": {
    "Collapsed": "false"
   },
   "source": [
    "## Confusion Matrix for Test Dataset"
   ]
  },
  {
   "cell_type": "code",
   "execution_count": null,
   "metadata": {
    "Collapsed": "false"
   },
   "outputs": [],
   "source": [
    "# # Print confusion matrix for XGBoost\n",
    "# xgb_confusion = confusion_matrix(y_test, test_pred_under)\n",
    "\n",
    "# plt.figure(dpi=125)\n",
    "# sns.heatmap(xgb_confusion, annot=True, fmt='g', square=True, cbar=False,\n",
    "#             xticklabels=['no duplicate', 'is duplicate'],\n",
    "#             yticklabels=['no duplicate', 'is duplicate'])\n",
    "\n",
    "# plt.title('Confusion Matrix - Test Dataset\\nXGBoost', pad=20)\n",
    "# plt.xlabel('Predicted\\n', labelpad=20)\n",
    "# plt.ylabel('Actual\\n', labelpad=20);"
   ]
  }
 ],
 "metadata": {
  "kernelspec": {
   "display_name": "Python 3",
   "language": "python",
   "name": "python3"
  },
  "language_info": {
   "codemirror_mode": {
    "name": "ipython",
    "version": 3
   },
   "file_extension": ".py",
   "mimetype": "text/x-python",
   "name": "python",
   "nbconvert_exporter": "python",
   "pygments_lexer": "ipython3",
   "version": "3.7.6"
  },
  "toc": {
   "base_numbering": 1,
   "nav_menu": {},
   "number_sections": true,
   "sideBar": true,
   "skip_h1_title": false,
   "title_cell": "Table of Contents",
   "title_sidebar": "Contents",
   "toc_cell": false,
   "toc_position": {},
   "toc_section_display": true,
   "toc_window_display": false
  },
  "toc-autonumbering": true,
  "toc-showcode": false,
  "toc-showmarkdowntxt": false
 },
 "nbformat": 4,
 "nbformat_minor": 4
}
