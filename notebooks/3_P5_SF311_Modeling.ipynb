{
 "cells": [
  {
   "cell_type": "code",
   "execution_count": null,
   "metadata": {
    "Collapsed": "false"
   },
   "outputs": [],
   "source": [
    "# Add table of contents"
   ]
  },
  {
   "cell_type": "code",
   "execution_count": 2,
   "metadata": {
    "Collapsed": "false"
   },
   "outputs": [
    {
     "name": "stderr",
     "output_type": "stream",
     "text": [
      "Using TensorFlow backend.\n",
      "/Users/miguel/anaconda3/envs/metis/lib/python3.7/site-packages/tensorflow/python/framework/dtypes.py:526: FutureWarning: Passing (type, 1) or '1type' as a synonym of type is deprecated; in a future version of numpy, it will be understood as (type, (1,)) / '(1,)type'.\n",
      "  _np_qint8 = np.dtype([(\"qint8\", np.int8, 1)])\n",
      "/Users/miguel/anaconda3/envs/metis/lib/python3.7/site-packages/tensorflow/python/framework/dtypes.py:527: FutureWarning: Passing (type, 1) or '1type' as a synonym of type is deprecated; in a future version of numpy, it will be understood as (type, (1,)) / '(1,)type'.\n",
      "  _np_quint8 = np.dtype([(\"quint8\", np.uint8, 1)])\n",
      "/Users/miguel/anaconda3/envs/metis/lib/python3.7/site-packages/tensorflow/python/framework/dtypes.py:528: FutureWarning: Passing (type, 1) or '1type' as a synonym of type is deprecated; in a future version of numpy, it will be understood as (type, (1,)) / '(1,)type'.\n",
      "  _np_qint16 = np.dtype([(\"qint16\", np.int16, 1)])\n",
      "/Users/miguel/anaconda3/envs/metis/lib/python3.7/site-packages/tensorflow/python/framework/dtypes.py:529: FutureWarning: Passing (type, 1) or '1type' as a synonym of type is deprecated; in a future version of numpy, it will be understood as (type, (1,)) / '(1,)type'.\n",
      "  _np_quint16 = np.dtype([(\"quint16\", np.uint16, 1)])\n",
      "/Users/miguel/anaconda3/envs/metis/lib/python3.7/site-packages/tensorflow/python/framework/dtypes.py:530: FutureWarning: Passing (type, 1) or '1type' as a synonym of type is deprecated; in a future version of numpy, it will be understood as (type, (1,)) / '(1,)type'.\n",
      "  _np_qint32 = np.dtype([(\"qint32\", np.int32, 1)])\n",
      "/Users/miguel/anaconda3/envs/metis/lib/python3.7/site-packages/tensorflow/python/framework/dtypes.py:535: FutureWarning: Passing (type, 1) or '1type' as a synonym of type is deprecated; in a future version of numpy, it will be understood as (type, (1,)) / '(1,)type'.\n",
      "  np_resource = np.dtype([(\"resource\", np.ubyte, 1)])\n"
     ]
    }
   ],
   "source": [
    "import pandas as pd\n",
    "import numpy as np\n",
    "\n",
    "# Tools\n",
    "from collections import Counter\n",
    "\n",
    "# Preprocessing\n",
    "from sklearn.preprocessing import MinMaxScaler\n",
    "\n",
    "# Modeling\n",
    "from sklearn.model_selection import train_test_split\n",
    "from imblearn.over_sampling import SMOTE\n",
    "from xgboost import XGBClassifier\n",
    "from sklearn.svm import LinearSVC, SVC # Remove\n",
    "from sklearn.datasets import make_classification\n",
    "\n",
    "# Metrics\n",
    "from sklearn.metrics import accuracy_score, confusion_matrix\n",
    "\n",
    "# # Visualizations\n",
    "# from matplotlib.pyplot import figure\n",
    "# from sklearn.metrics import roc_auc_score, roc_curve\n",
    "# import matplotlib.pyplot as plt\n",
    "# import seaborn as sns\n",
    "# from mlxtend.plotting import plot_decision_regions\n",
    "# %matplotlib inline\n"
   ]
  },
  {
   "cell_type": "markdown",
   "metadata": {
    "Collapsed": "false"
   },
   "source": [
    "# Train and Test Splitting"
   ]
  },
  {
   "cell_type": "code",
   "execution_count": 7,
   "metadata": {
    "Collapsed": "false"
   },
   "outputs": [
    {
     "data": {
      "text/html": [
       "<div>\n",
       "<style scoped>\n",
       "    .dataframe tbody tr th:only-of-type {\n",
       "        vertical-align: middle;\n",
       "    }\n",
       "\n",
       "    .dataframe tbody tr th {\n",
       "        vertical-align: top;\n",
       "    }\n",
       "\n",
       "    .dataframe thead th {\n",
       "        text-align: right;\n",
       "    }\n",
       "</style>\n",
       "<table border=\"1\" class=\"dataframe\">\n",
       "  <thead>\n",
       "    <tr style=\"text-align: right;\">\n",
       "      <th></th>\n",
       "      <th>case_id</th>\n",
       "      <th>is_duplicate</th>\n",
       "      <th>opened</th>\n",
       "      <th>closed</th>\n",
       "      <th>updated</th>\n",
       "      <th>status_notes</th>\n",
       "      <th>responsible_agency</th>\n",
       "      <th>category</th>\n",
       "      <th>request_type</th>\n",
       "      <th>request_details</th>\n",
       "      <th>...</th>\n",
       "      <th>source</th>\n",
       "      <th>opened_year</th>\n",
       "      <th>opened_month_sin</th>\n",
       "      <th>opened_month_cos</th>\n",
       "      <th>opened_week_sin</th>\n",
       "      <th>opened_week_cos</th>\n",
       "      <th>opened_day_sin</th>\n",
       "      <th>opened_day_cos</th>\n",
       "      <th>opened_hour_sin</th>\n",
       "      <th>opened_hour_cos</th>\n",
       "    </tr>\n",
       "  </thead>\n",
       "  <tbody>\n",
       "    <tr>\n",
       "      <th>619</th>\n",
       "      <td>11879423</td>\n",
       "      <td>0</td>\n",
       "      <td>2019-12-30 20:54:00</td>\n",
       "      <td>2020-01-03 11:59:19</td>\n",
       "      <td>2020-01-03 11:59:19</td>\n",
       "      <td>Agencies responded to request and no encampmen...</td>\n",
       "      <td>Duplicate Case Hold Queue</td>\n",
       "      <td>Encampments</td>\n",
       "      <td>Encampment Reports</td>\n",
       "      <td>Encampment Cleanup</td>\n",
       "      <td>...</td>\n",
       "      <td>Mobile/Open311</td>\n",
       "      <td>2019</td>\n",
       "      <td>-2.449294e-16</td>\n",
       "      <td>1.0</td>\n",
       "      <td>0.120537</td>\n",
       "      <td>0.992709</td>\n",
       "      <td>0.0</td>\n",
       "      <td>1.0</td>\n",
       "      <td>-8.660254e-01</td>\n",
       "      <td>0.500000</td>\n",
       "    </tr>\n",
       "    <tr>\n",
       "      <th>620</th>\n",
       "      <td>11877576</td>\n",
       "      <td>0</td>\n",
       "      <td>2019-12-30 13:31:54</td>\n",
       "      <td>2019-12-31 13:42:03</td>\n",
       "      <td>2019-12-31 13:42:03</td>\n",
       "      <td>Case Resolved - SES Graffiti Crew  - Remove Si...</td>\n",
       "      <td>DPW Ops Queue</td>\n",
       "      <td>Illegal Postings</td>\n",
       "      <td>Illegal Postings - Affixed_Improperly</td>\n",
       "      <td>Affixed Improperly</td>\n",
       "      <td>...</td>\n",
       "      <td>Mobile/Open311</td>\n",
       "      <td>2019</td>\n",
       "      <td>-2.449294e-16</td>\n",
       "      <td>1.0</td>\n",
       "      <td>0.120537</td>\n",
       "      <td>0.992709</td>\n",
       "      <td>0.0</td>\n",
       "      <td>1.0</td>\n",
       "      <td>-2.588190e-01</td>\n",
       "      <td>-0.965926</td>\n",
       "    </tr>\n",
       "    <tr>\n",
       "      <th>621</th>\n",
       "      <td>11877532</td>\n",
       "      <td>0</td>\n",
       "      <td>2019-12-30 13:26:00</td>\n",
       "      <td>2019-12-30 14:03:00</td>\n",
       "      <td>2019-12-30 14:03:00</td>\n",
       "      <td>Case Resolved</td>\n",
       "      <td>DPW Ops Queue</td>\n",
       "      <td>Street and Sidewalk Cleaning</td>\n",
       "      <td>General Cleaning</td>\n",
       "      <td>Other Loose Garbage</td>\n",
       "      <td>...</td>\n",
       "      <td>Phone</td>\n",
       "      <td>2019</td>\n",
       "      <td>-2.449294e-16</td>\n",
       "      <td>1.0</td>\n",
       "      <td>0.120537</td>\n",
       "      <td>0.992709</td>\n",
       "      <td>0.0</td>\n",
       "      <td>1.0</td>\n",
       "      <td>-2.588190e-01</td>\n",
       "      <td>-0.965926</td>\n",
       "    </tr>\n",
       "    <tr>\n",
       "      <th>622</th>\n",
       "      <td>11877496</td>\n",
       "      <td>0</td>\n",
       "      <td>2019-12-30 13:22:00</td>\n",
       "      <td>2019-12-30 18:53:45</td>\n",
       "      <td>2019-12-30 18:53:45</td>\n",
       "      <td>Case Resolved - WASTE NOT FOUND               ...</td>\n",
       "      <td>Recology_Abandoned</td>\n",
       "      <td>Street and Sidewalk Cleaning</td>\n",
       "      <td>Bulky Items</td>\n",
       "      <td>Refrigerator</td>\n",
       "      <td>...</td>\n",
       "      <td>Phone</td>\n",
       "      <td>2019</td>\n",
       "      <td>-2.449294e-16</td>\n",
       "      <td>1.0</td>\n",
       "      <td>0.120537</td>\n",
       "      <td>0.992709</td>\n",
       "      <td>0.0</td>\n",
       "      <td>1.0</td>\n",
       "      <td>-2.588190e-01</td>\n",
       "      <td>-0.965926</td>\n",
       "    </tr>\n",
       "    <tr>\n",
       "      <th>623</th>\n",
       "      <td>11877234</td>\n",
       "      <td>0</td>\n",
       "      <td>2019-12-30 12:45:38</td>\n",
       "      <td>2020-01-02 07:17:00</td>\n",
       "      <td>2020-01-02 07:17:00</td>\n",
       "      <td>Case Resolved</td>\n",
       "      <td>DPW Ops Queue</td>\n",
       "      <td>Street and Sidewalk Cleaning</td>\n",
       "      <td>General Cleaning</td>\n",
       "      <td>Other Loose Garbage</td>\n",
       "      <td>...</td>\n",
       "      <td>Mobile/Open311</td>\n",
       "      <td>2019</td>\n",
       "      <td>-2.449294e-16</td>\n",
       "      <td>1.0</td>\n",
       "      <td>0.120537</td>\n",
       "      <td>0.992709</td>\n",
       "      <td>0.0</td>\n",
       "      <td>1.0</td>\n",
       "      <td>1.224647e-16</td>\n",
       "      <td>-1.000000</td>\n",
       "    </tr>\n",
       "  </tbody>\n",
       "</table>\n",
       "<p>5 rows × 28 columns</p>\n",
       "</div>"
      ],
      "text/plain": [
       "      case_id  is_duplicate              opened              closed  \\\n",
       "619  11879423             0 2019-12-30 20:54:00 2020-01-03 11:59:19   \n",
       "620  11877576             0 2019-12-30 13:31:54 2019-12-31 13:42:03   \n",
       "621  11877532             0 2019-12-30 13:26:00 2019-12-30 14:03:00   \n",
       "622  11877496             0 2019-12-30 13:22:00 2019-12-30 18:53:45   \n",
       "623  11877234             0 2019-12-30 12:45:38 2020-01-02 07:17:00   \n",
       "\n",
       "                updated                                       status_notes  \\\n",
       "619 2020-01-03 11:59:19  Agencies responded to request and no encampmen...   \n",
       "620 2019-12-31 13:42:03  Case Resolved - SES Graffiti Crew  - Remove Si...   \n",
       "621 2019-12-30 14:03:00                                      Case Resolved   \n",
       "622 2019-12-30 18:53:45  Case Resolved - WASTE NOT FOUND               ...   \n",
       "623 2020-01-02 07:17:00                                      Case Resolved   \n",
       "\n",
       "            responsible_agency                      category  \\\n",
       "619  Duplicate Case Hold Queue                   Encampments   \n",
       "620              DPW Ops Queue              Illegal Postings   \n",
       "621              DPW Ops Queue  Street and Sidewalk Cleaning   \n",
       "622         Recology_Abandoned  Street and Sidewalk Cleaning   \n",
       "623              DPW Ops Queue  Street and Sidewalk Cleaning   \n",
       "\n",
       "                              request_type      request_details  ...  \\\n",
       "619                     Encampment Reports   Encampment Cleanup  ...   \n",
       "620  Illegal Postings - Affixed_Improperly   Affixed Improperly  ...   \n",
       "621                       General Cleaning  Other Loose Garbage  ...   \n",
       "622                            Bulky Items         Refrigerator  ...   \n",
       "623                       General Cleaning  Other Loose Garbage  ...   \n",
       "\n",
       "             source opened_year opened_month_sin opened_month_cos  \\\n",
       "619  Mobile/Open311        2019    -2.449294e-16              1.0   \n",
       "620  Mobile/Open311        2019    -2.449294e-16              1.0   \n",
       "621           Phone        2019    -2.449294e-16              1.0   \n",
       "622           Phone        2019    -2.449294e-16              1.0   \n",
       "623  Mobile/Open311        2019    -2.449294e-16              1.0   \n",
       "\n",
       "    opened_week_sin  opened_week_cos  opened_day_sin opened_day_cos  \\\n",
       "619        0.120537         0.992709             0.0            1.0   \n",
       "620        0.120537         0.992709             0.0            1.0   \n",
       "621        0.120537         0.992709             0.0            1.0   \n",
       "622        0.120537         0.992709             0.0            1.0   \n",
       "623        0.120537         0.992709             0.0            1.0   \n",
       "\n",
       "    opened_hour_sin opened_hour_cos  \n",
       "619   -8.660254e-01        0.500000  \n",
       "620   -2.588190e-01       -0.965926  \n",
       "621   -2.588190e-01       -0.965926  \n",
       "622   -2.588190e-01       -0.965926  \n",
       "623    1.224647e-16       -1.000000  \n",
       "\n",
       "[5 rows x 28 columns]"
      ]
     },
     "execution_count": 7,
     "metadata": {},
     "output_type": "execute_result"
    }
   ],
   "source": [
    "# Load dataframe\n",
    "df = pd.read_pickle('../data/df_cyclical_features_20k.pkl')\n",
    "\n",
    "df.head()"
   ]
  },
  {
   "cell_type": "code",
   "execution_count": 8,
   "metadata": {
    "Collapsed": "false"
   },
   "outputs": [
    {
     "data": {
      "text/html": [
       "<div>\n",
       "<style scoped>\n",
       "    .dataframe tbody tr th:only-of-type {\n",
       "        vertical-align: middle;\n",
       "    }\n",
       "\n",
       "    .dataframe tbody tr th {\n",
       "        vertical-align: top;\n",
       "    }\n",
       "\n",
       "    .dataframe thead th {\n",
       "        text-align: right;\n",
       "    }\n",
       "</style>\n",
       "<table border=\"1\" class=\"dataframe\">\n",
       "  <thead>\n",
       "    <tr style=\"text-align: right;\">\n",
       "      <th></th>\n",
       "      <th>latitude</th>\n",
       "      <th>longitude</th>\n",
       "      <th>opened_month_sin</th>\n",
       "      <th>opened_month_cos</th>\n",
       "      <th>opened_week_sin</th>\n",
       "      <th>opened_week_cos</th>\n",
       "      <th>opened_day_sin</th>\n",
       "      <th>opened_day_cos</th>\n",
       "      <th>opened_hour_sin</th>\n",
       "      <th>opened_hour_cos</th>\n",
       "      <th>...</th>\n",
       "      <th>opened_year_2010</th>\n",
       "      <th>opened_year_2011</th>\n",
       "      <th>opened_year_2012</th>\n",
       "      <th>opened_year_2013</th>\n",
       "      <th>opened_year_2014</th>\n",
       "      <th>opened_year_2015</th>\n",
       "      <th>opened_year_2016</th>\n",
       "      <th>opened_year_2017</th>\n",
       "      <th>opened_year_2018</th>\n",
       "      <th>opened_year_2019</th>\n",
       "    </tr>\n",
       "  </thead>\n",
       "  <tbody>\n",
       "    <tr>\n",
       "      <th>19476</th>\n",
       "      <td>37.784027</td>\n",
       "      <td>-122.409607</td>\n",
       "      <td>0.866025</td>\n",
       "      <td>-5.000000e-01</td>\n",
       "      <td>0.970942</td>\n",
       "      <td>-2.393157e-01</td>\n",
       "      <td>0.000000</td>\n",
       "      <td>1.000000</td>\n",
       "      <td>-2.588190e-01</td>\n",
       "      <td>-0.965926</td>\n",
       "      <td>...</td>\n",
       "      <td>0</td>\n",
       "      <td>0</td>\n",
       "      <td>0</td>\n",
       "      <td>0</td>\n",
       "      <td>0</td>\n",
       "      <td>0</td>\n",
       "      <td>0</td>\n",
       "      <td>0</td>\n",
       "      <td>0</td>\n",
       "      <td>0</td>\n",
       "    </tr>\n",
       "    <tr>\n",
       "      <th>4602</th>\n",
       "      <td>37.770302</td>\n",
       "      <td>-122.450912</td>\n",
       "      <td>-0.866025</td>\n",
       "      <td>5.000000e-01</td>\n",
       "      <td>-0.992709</td>\n",
       "      <td>1.205367e-01</td>\n",
       "      <td>0.000000</td>\n",
       "      <td>1.000000</td>\n",
       "      <td>2.588190e-01</td>\n",
       "      <td>-0.965926</td>\n",
       "      <td>...</td>\n",
       "      <td>0</td>\n",
       "      <td>0</td>\n",
       "      <td>0</td>\n",
       "      <td>0</td>\n",
       "      <td>0</td>\n",
       "      <td>0</td>\n",
       "      <td>0</td>\n",
       "      <td>0</td>\n",
       "      <td>1</td>\n",
       "      <td>0</td>\n",
       "    </tr>\n",
       "    <tr>\n",
       "      <th>10155</th>\n",
       "      <td>37.720915</td>\n",
       "      <td>-122.435768</td>\n",
       "      <td>-0.866025</td>\n",
       "      <td>-5.000000e-01</td>\n",
       "      <td>-0.822984</td>\n",
       "      <td>-5.680647e-01</td>\n",
       "      <td>0.433884</td>\n",
       "      <td>-0.900969</td>\n",
       "      <td>8.660254e-01</td>\n",
       "      <td>-0.500000</td>\n",
       "      <td>...</td>\n",
       "      <td>0</td>\n",
       "      <td>0</td>\n",
       "      <td>0</td>\n",
       "      <td>0</td>\n",
       "      <td>0</td>\n",
       "      <td>0</td>\n",
       "      <td>1</td>\n",
       "      <td>0</td>\n",
       "      <td>0</td>\n",
       "      <td>0</td>\n",
       "    </tr>\n",
       "    <tr>\n",
       "      <th>7455</th>\n",
       "      <td>37.764227</td>\n",
       "      <td>-122.410453</td>\n",
       "      <td>-1.000000</td>\n",
       "      <td>-1.836970e-16</td>\n",
       "      <td>-1.000000</td>\n",
       "      <td>-1.836970e-16</td>\n",
       "      <td>0.974928</td>\n",
       "      <td>-0.222521</td>\n",
       "      <td>1.224647e-16</td>\n",
       "      <td>-1.000000</td>\n",
       "      <td>...</td>\n",
       "      <td>0</td>\n",
       "      <td>0</td>\n",
       "      <td>0</td>\n",
       "      <td>0</td>\n",
       "      <td>0</td>\n",
       "      <td>0</td>\n",
       "      <td>0</td>\n",
       "      <td>1</td>\n",
       "      <td>0</td>\n",
       "      <td>0</td>\n",
       "    </tr>\n",
       "    <tr>\n",
       "      <th>14313</th>\n",
       "      <td>37.747768</td>\n",
       "      <td>-122.403488</td>\n",
       "      <td>0.500000</td>\n",
       "      <td>-8.660254e-01</td>\n",
       "      <td>0.748511</td>\n",
       "      <td>-6.631227e-01</td>\n",
       "      <td>0.000000</td>\n",
       "      <td>1.000000</td>\n",
       "      <td>-2.588190e-01</td>\n",
       "      <td>-0.965926</td>\n",
       "      <td>...</td>\n",
       "      <td>0</td>\n",
       "      <td>0</td>\n",
       "      <td>0</td>\n",
       "      <td>0</td>\n",
       "      <td>1</td>\n",
       "      <td>0</td>\n",
       "      <td>0</td>\n",
       "      <td>0</td>\n",
       "      <td>0</td>\n",
       "      <td>0</td>\n",
       "    </tr>\n",
       "  </tbody>\n",
       "</table>\n",
       "<p>5 rows × 1658 columns</p>\n",
       "</div>"
      ],
      "text/plain": [
       "        latitude   longitude  opened_month_sin  opened_month_cos  \\\n",
       "19476  37.784027 -122.409607          0.866025     -5.000000e-01   \n",
       "4602   37.770302 -122.450912         -0.866025      5.000000e-01   \n",
       "10155  37.720915 -122.435768         -0.866025     -5.000000e-01   \n",
       "7455   37.764227 -122.410453         -1.000000     -1.836970e-16   \n",
       "14313  37.747768 -122.403488          0.500000     -8.660254e-01   \n",
       "\n",
       "       opened_week_sin  opened_week_cos  opened_day_sin  opened_day_cos  \\\n",
       "19476         0.970942    -2.393157e-01        0.000000        1.000000   \n",
       "4602         -0.992709     1.205367e-01        0.000000        1.000000   \n",
       "10155        -0.822984    -5.680647e-01        0.433884       -0.900969   \n",
       "7455         -1.000000    -1.836970e-16        0.974928       -0.222521   \n",
       "14313         0.748511    -6.631227e-01        0.000000        1.000000   \n",
       "\n",
       "       opened_hour_sin  opened_hour_cos  ...  opened_year_2010  \\\n",
       "19476    -2.588190e-01        -0.965926  ...                 0   \n",
       "4602      2.588190e-01        -0.965926  ...                 0   \n",
       "10155     8.660254e-01        -0.500000  ...                 0   \n",
       "7455      1.224647e-16        -1.000000  ...                 0   \n",
       "14313    -2.588190e-01        -0.965926  ...                 0   \n",
       "\n",
       "       opened_year_2011  opened_year_2012  opened_year_2013  opened_year_2014  \\\n",
       "19476                 0                 0                 0                 0   \n",
       "4602                  0                 0                 0                 0   \n",
       "10155                 0                 0                 0                 0   \n",
       "7455                  0                 0                 0                 0   \n",
       "14313                 0                 0                 0                 1   \n",
       "\n",
       "       opened_year_2015  opened_year_2016  opened_year_2017  opened_year_2018  \\\n",
       "19476                 0                 0                 0                 0   \n",
       "4602                  0                 0                 0                 1   \n",
       "10155                 0                 1                 0                 0   \n",
       "7455                  0                 0                 1                 0   \n",
       "14313                 0                 0                 0                 0   \n",
       "\n",
       "       opened_year_2019  \n",
       "19476                 0  \n",
       "4602                  0  \n",
       "10155                 0  \n",
       "7455                  0  \n",
       "14313                 0  \n",
       "\n",
       "[5 rows x 1658 columns]"
      ]
     },
     "execution_count": 8,
     "metadata": {},
     "output_type": "execute_result"
    }
   ],
   "source": [
    "# Columns to exclude\n",
    "exclude_cols = [\n",
    "    'is_duplicate', # Target variable\n",
    "    'case_id',\n",
    "    'opened', # Needs Feature Eng\n",
    "    'closed', # Needs Feature Eng\n",
    "    'updated',\n",
    "    'responsible_agency', # Needs NLP\n",
    "    'status_notes', # Needs NLP\n",
    "    'request_type', # Needs NLP\n",
    "    'request_details', # Needs NLP\n",
    "    'address', # Needs NLP\n",
    "#     'street', # Convert to 'category' type to get dummies\n",
    "    'point'\n",
    "]\n",
    "\n",
    "# # Scale data using MinMax scaler\n",
    "# # No need to standardize as all features are categorical (maybe scale lat/long....)\n",
    "# scaler = MinMaxScaler()\n",
    "\n",
    "# Predictor variables\n",
    "x_variables_df = df.drop(columns=exclude_cols, axis=0, inplace=False)\n",
    "\n",
    "# Get dummies for categorical variables\n",
    "X = pd.get_dummies(x_variables_df, drop_first=True)\n",
    "\n",
    "# Target variable\n",
    "y = df['is_duplicate']\n",
    "\n",
    "# Split train and test\n",
    "X_train, X_test, y_train, y_test = train_test_split(X, y,\n",
    "                                                    test_size=0.2, \n",
    "                                                    random_state=2020, \n",
    "                                                    stratify=y,  # Stratify to keep same class ratios\n",
    "                                                    shuffle=True # Shuffle data since it's ordered chronologically\n",
    "                                                   )\n",
    "X_train.head()"
   ]
  },
  {
   "cell_type": "code",
   "execution_count": 9,
   "metadata": {
    "Collapsed": "false"
   },
   "outputs": [
    {
     "name": "stdout",
     "output_type": "stream",
     "text": [
      "df\t (16786, 28)\n",
      "X_train\t (13428, 1658)\n",
      "X_test\t (3358, 1658)\n",
      "y_train\t (13428,)\n",
      "y_test\t (3358,)\n"
     ]
    }
   ],
   "source": [
    "print('df\\t', df.shape)\n",
    "print('X_train\\t', X_train.shape)\n",
    "print('X_test\\t', X_test.shape)\n",
    "print('y_train\\t', y_train.shape)\n",
    "print('y_test\\t', y_test.shape)"
   ]
  },
  {
   "cell_type": "markdown",
   "metadata": {
    "Collapsed": "false"
   },
   "source": [
    "## Class Balancing"
   ]
  },
  {
   "cell_type": "code",
   "execution_count": 10,
   "metadata": {
    "Collapsed": "false"
   },
   "outputs": [
    {
     "name": "stdout",
     "output_type": "stream",
     "text": [
      "Class 0: 15824\n",
      "Class 1: 962\n",
      "Proportion: 16.45 : 1\n",
      "Percentage of Majority Class: 94.3\n"
     ]
    }
   ],
   "source": [
    "# Target variable\n",
    "target_count = df['is_duplicate'].value_counts()\n",
    "\n",
    "# Print class balance\n",
    "print(f'Class 0: {target_count[0]}')\n",
    "print(f'Class 1: {target_count[1]}')\n",
    "print(f'Proportion: {round(target_count[0] / target_count[1], 2)} : 1')\n",
    "print(f'Percentage of Majority Class: {round(target_count[0] / sum(target_count), 3)*100}')"
   ]
  },
  {
   "cell_type": "code",
   "execution_count": 11,
   "metadata": {
    "Collapsed": "false"
   },
   "outputs": [
    {
     "data": {
      "text/plain": [
       "Counter({0: 12658, 1: 12658})"
      ]
     },
     "execution_count": 11,
     "metadata": {},
     "output_type": "execute_result"
    }
   ],
   "source": [
    "# A ratio of .5 is saying that 50% of my data is simulated\n",
    "# Trevor noted that .2 would be good but let's try different ratios\n",
    "X_smoted, y_smoted = SMOTE(random_state=2020).fit_sample(X_train, y_train)\n",
    "Counter(y_smoted)\n",
    "# pd.Series(y_smoted).value_counts().plot.bar()"
   ]
  },
  {
   "cell_type": "code",
   "execution_count": 12,
   "metadata": {
    "Collapsed": "false"
   },
   "outputs": [],
   "source": [
    "# Add cross validation"
   ]
  },
  {
   "cell_type": "markdown",
   "metadata": {
    "Collapsed": "false"
   },
   "source": [
    "# Modeling"
   ]
  },
  {
   "cell_type": "code",
   "execution_count": 13,
   "metadata": {
    "Collapsed": "false"
   },
   "outputs": [
    {
     "data": {
      "text/plain": [
       "XGBClassifier(base_score=0.5, booster='gbtree', colsample_bylevel=1,\n",
       "              colsample_bynode=1, colsample_bytree=1, gamma=0,\n",
       "              learning_rate=0.1, max_delta_step=0, max_depth=3,\n",
       "              min_child_weight=1, missing=None, n_estimators=100, n_jobs=1,\n",
       "              nthread=None, objective='binary:logistic', random_state=0,\n",
       "              reg_alpha=0, reg_lambda=1, scale_pos_weight=1, seed=None,\n",
       "              silent=None, subsample=1, verbosity=1)"
      ]
     },
     "execution_count": 13,
     "metadata": {},
     "output_type": "execute_result"
    }
   ],
   "source": [
    "# Istantiate the model\n",
    "xgb_clf = XGBClassifier()\n",
    "\n",
    "# Construct X_smoted dataframe\n",
    "X_smoted_df = pd.DataFrame(X_smoted, columns=X_test.columns)\n",
    "\n",
    "# Train the model\n",
    "xgb_clf.fit(X_smoted_df, y_smoted)"
   ]
  },
  {
   "cell_type": "code",
   "execution_count": 14,
   "metadata": {
    "Collapsed": "false"
   },
   "outputs": [],
   "source": [
    "# Make prediction on training data\n",
    "train_pred_smote = xgb_clf.predict(X_smoted_df)\n",
    "\n",
    "# # Make prediction on test data\n",
    "# test_pred_smote = xgb_clf.predict(X_test)"
   ]
  },
  {
   "cell_type": "code",
   "execution_count": 15,
   "metadata": {
    "Collapsed": "false"
   },
   "outputs": [
    {
     "name": "stdout",
     "output_type": "stream",
     "text": [
      "Training Accuracy Score =  95.28\n"
     ]
    }
   ],
   "source": [
    "print('Training Accuracy Score = ', round(accuracy_score(train_pred_smote, y_smoted), 4)*100)\n",
    "# print('Tests = ', round(accuracy_score(test_pred_smote, y_test), 4)*100)"
   ]
  },
  {
   "cell_type": "code",
   "execution_count": 16,
   "metadata": {
    "Collapsed": "false"
   },
   "outputs": [
    {
     "ename": "NameError",
     "evalue": "name 'plt' is not defined",
     "output_type": "error",
     "traceback": [
      "\u001b[0;31m---------------------------------------------------------------------------\u001b[0m",
      "\u001b[0;31mNameError\u001b[0m                                 Traceback (most recent call last)",
      "\u001b[0;32m<ipython-input-16-2b692c386a57>\u001b[0m in \u001b[0;36m<module>\u001b[0;34m\u001b[0m\n\u001b[1;32m      2\u001b[0m \u001b[0mxgb_confusion\u001b[0m \u001b[0;34m=\u001b[0m \u001b[0mconfusion_matrix\u001b[0m\u001b[0;34m(\u001b[0m\u001b[0my_smoted\u001b[0m\u001b[0;34m,\u001b[0m \u001b[0mtrain_pred_smote\u001b[0m\u001b[0;34m)\u001b[0m\u001b[0;34m\u001b[0m\u001b[0;34m\u001b[0m\u001b[0m\n\u001b[1;32m      3\u001b[0m \u001b[0;34m\u001b[0m\u001b[0m\n\u001b[0;32m----> 4\u001b[0;31m \u001b[0mplt\u001b[0m\u001b[0;34m.\u001b[0m\u001b[0mfigure\u001b[0m\u001b[0;34m(\u001b[0m\u001b[0mdpi\u001b[0m\u001b[0;34m=\u001b[0m\u001b[0;36m125\u001b[0m\u001b[0;34m)\u001b[0m\u001b[0;34m\u001b[0m\u001b[0;34m\u001b[0m\u001b[0m\n\u001b[0m\u001b[1;32m      5\u001b[0m sns.heatmap(xgb_confusion, annot=True, fmt='g', square=True, cbar=False,\n\u001b[1;32m      6\u001b[0m             \u001b[0mxticklabels\u001b[0m\u001b[0;34m=\u001b[0m\u001b[0;34m[\u001b[0m\u001b[0;34m'no duplicate'\u001b[0m\u001b[0;34m,\u001b[0m \u001b[0;34m'is duplicate'\u001b[0m\u001b[0;34m]\u001b[0m\u001b[0;34m,\u001b[0m\u001b[0;34m\u001b[0m\u001b[0;34m\u001b[0m\u001b[0m\n",
      "\u001b[0;31mNameError\u001b[0m: name 'plt' is not defined"
     ]
    }
   ],
   "source": [
    "# Print confusion matrix for XGBoost\n",
    "xgb_confusion = confusion_matrix(y_smoted, train_pred_smote)\n",
    "\n",
    "plt.figure(dpi=125)\n",
    "sns.heatmap(xgb_confusion, annot=True, fmt='g', square=True, cbar=False,\n",
    "            xticklabels=['no duplicate', 'is duplicate'],\n",
    "            yticklabels=['no duplicate', 'is duplicate'])\n",
    "\n",
    "plt.title('Confusion Matrix - Training Dataset\\nXGBoost', pad=20)\n",
    "plt.xlabel('Predicted\\n', labelpad=20)\n",
    "plt.ylabel('Actual\\n', labelpad=20);"
   ]
  },
  {
   "cell_type": "markdown",
   "metadata": {
    "Collapsed": "false"
   },
   "source": [
    "## Confusion Matrix for Test Dataset"
   ]
  },
  {
   "cell_type": "code",
   "execution_count": null,
   "metadata": {
    "Collapsed": "false"
   },
   "outputs": [],
   "source": [
    "# # Print confusion matrix for XGBoost – TEST Dataset\n",
    "# xgb_confusion = confusion_matrix(y_test, test_pred_smote)\n",
    "\n",
    "# plt.figure(dpi=125)\n",
    "# sns.heatmap(xgb_confusion, annot=True, fmt='g', square=True, cbar=False,\n",
    "#             xticklabels=['no duplicate', 'is duplicate'],\n",
    "#             yticklabels=['no duplicate', 'is duplicate'])\n",
    "\n",
    "# plt.title('Confusion Matrix - Test Dataset\\nXGBoost', pad=20)\n",
    "# plt.xlabel('Predicted\\n', labelpad=20)\n",
    "# plt.ylabel('Actual\\n', labelpad=20);"
   ]
  }
 ],
 "metadata": {
  "kernelspec": {
   "display_name": "Python 3.7.4 64-bit ('metis': conda)",
   "language": "python",
   "name": "python37464bitmetiscondab8a2cd9d238449bd838e7f95913d7792"
  },
  "language_info": {
   "codemirror_mode": {
    "name": "ipython",
    "version": 3
   },
   "file_extension": ".py",
   "mimetype": "text/x-python",
   "name": "python",
   "nbconvert_exporter": "python",
   "pygments_lexer": "ipython3",
   "version": "3.7.4"
  }
 },
 "nbformat": 4,
 "nbformat_minor": 4
}
