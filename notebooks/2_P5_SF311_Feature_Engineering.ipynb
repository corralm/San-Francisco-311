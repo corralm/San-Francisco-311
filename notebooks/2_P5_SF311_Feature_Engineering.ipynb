{
 "cells": [
  {
   "cell_type": "code",
   "execution_count": null,
   "metadata": {
    "Collapsed": "false"
   },
   "outputs": [],
   "source": [
    "# Add table of contents"
   ]
  },
  {
   "cell_type": "code",
   "execution_count": 158,
   "metadata": {
    "Collapsed": "false"
   },
   "outputs": [],
   "source": [
    "import pandas as pd\n",
    "import numpy as np\n",
    "\n",
    "from matplotlib.pyplot import figure\n",
    "import matplotlib.pyplot as plt\n",
    "import seaborn as sns\n",
    "%matplotlib inline"
   ]
  },
  {
   "cell_type": "code",
   "execution_count": 208,
   "metadata": {
    "Collapsed": "false"
   },
   "outputs": [
    {
     "data": {
      "text/html": [
       "<div>\n",
       "<style scoped>\n",
       "    .dataframe tbody tr th:only-of-type {\n",
       "        vertical-align: middle;\n",
       "    }\n",
       "\n",
       "    .dataframe tbody tr th {\n",
       "        vertical-align: top;\n",
       "    }\n",
       "\n",
       "    .dataframe thead th {\n",
       "        text-align: right;\n",
       "    }\n",
       "</style>\n",
       "<table border=\"1\" class=\"dataframe\">\n",
       "  <thead>\n",
       "    <tr style=\"text-align: right;\">\n",
       "      <th></th>\n",
       "      <th>case_id</th>\n",
       "      <th>is_duplicate</th>\n",
       "      <th>opened</th>\n",
       "      <th>closed</th>\n",
       "      <th>updated</th>\n",
       "      <th>status_notes</th>\n",
       "      <th>responsible_agency</th>\n",
       "      <th>category</th>\n",
       "      <th>request_type</th>\n",
       "      <th>request_details</th>\n",
       "      <th>address</th>\n",
       "      <th>street</th>\n",
       "      <th>supervisor_district</th>\n",
       "      <th>neighborhood</th>\n",
       "      <th>police_district</th>\n",
       "      <th>latitude</th>\n",
       "      <th>longitude</th>\n",
       "      <th>point</th>\n",
       "      <th>source</th>\n",
       "    </tr>\n",
       "  </thead>\n",
       "  <tbody>\n",
       "    <tr>\n",
       "      <th>619</th>\n",
       "      <td>11879423</td>\n",
       "      <td>0</td>\n",
       "      <td>2019-12-30 20:54:00</td>\n",
       "      <td>2020-01-03 11:59:19</td>\n",
       "      <td>2020-01-03 11:59:19</td>\n",
       "      <td>Agencies responded to request and no encampment in area. Area verified clean.</td>\n",
       "      <td>Duplicate Case Hold Queue</td>\n",
       "      <td>Encampments</td>\n",
       "      <td>Encampment Reports</td>\n",
       "      <td>Encampment Cleanup</td>\n",
       "      <td>3983 19TH ST, SAN FRANCISCO, CA, 94114</td>\n",
       "      <td>19TH ST</td>\n",
       "      <td>8</td>\n",
       "      <td>Dolores Heights</td>\n",
       "      <td>MISSION</td>\n",
       "      <td>37.75928</td>\n",
       "      <td>-122.43216</td>\n",
       "      <td>(37.759285, -122.432162)</td>\n",
       "      <td>Mobile/Open311</td>\n",
       "    </tr>\n",
       "    <tr>\n",
       "      <th>620</th>\n",
       "      <td>11877576</td>\n",
       "      <td>0</td>\n",
       "      <td>2019-12-30 13:31:54</td>\n",
       "      <td>2019-12-31 13:42:03</td>\n",
       "      <td>2019-12-31 13:42:03</td>\n",
       "      <td>Case Resolved - SES Graffiti Crew  - Remove Sign - Pole - Shared (Comment)</td>\n",
       "      <td>DPW Ops Queue</td>\n",
       "      <td>Illegal Postings</td>\n",
       "      <td>Illegal Postings - Affixed_Improperly</td>\n",
       "      <td>Affixed Improperly</td>\n",
       "      <td>111 PAGE ST, SAN FRANCISCO, CA, 94102</td>\n",
       "      <td>PAGE ST</td>\n",
       "      <td>5</td>\n",
       "      <td>Lower Haight</td>\n",
       "      <td>NORTHERN</td>\n",
       "      <td>37.77385</td>\n",
       "      <td>-122.42308</td>\n",
       "      <td>(37.77385123, -122.42307977)</td>\n",
       "      <td>Mobile/Open311</td>\n",
       "    </tr>\n",
       "    <tr>\n",
       "      <th>621</th>\n",
       "      <td>11877532</td>\n",
       "      <td>0</td>\n",
       "      <td>2019-12-30 13:26:00</td>\n",
       "      <td>2019-12-30 14:03:00</td>\n",
       "      <td>2019-12-30 14:03:00</td>\n",
       "      <td>Case Resolved</td>\n",
       "      <td>DPW Ops Queue</td>\n",
       "      <td>Street and Sidewalk Cleaning</td>\n",
       "      <td>General Cleaning</td>\n",
       "      <td>Other Loose Garbage</td>\n",
       "      <td>Intersection of OSAGE ALY and 26TH ST</td>\n",
       "      <td>OSAGE ALY</td>\n",
       "      <td>9</td>\n",
       "      <td>Mission</td>\n",
       "      <td>MISSION</td>\n",
       "      <td>37.74901</td>\n",
       "      <td>-122.41871</td>\n",
       "      <td>(37.74900818, -122.4187088)</td>\n",
       "      <td>Phone</td>\n",
       "    </tr>\n",
       "    <tr>\n",
       "      <th>622</th>\n",
       "      <td>11877496</td>\n",
       "      <td>0</td>\n",
       "      <td>2019-12-30 13:22:00</td>\n",
       "      <td>2019-12-30 18:53:45</td>\n",
       "      <td>2019-12-30 18:53:45</td>\n",
       "      <td>Case Resolved - WASTE NOT FOUND                                   Other;</td>\n",
       "      <td>Recology_Abandoned</td>\n",
       "      <td>Street and Sidewalk Cleaning</td>\n",
       "      <td>Bulky Items</td>\n",
       "      <td>Refrigerator</td>\n",
       "      <td>Intersection of OSAGE ALY and 25TH ST</td>\n",
       "      <td>OSAGE ALY</td>\n",
       "      <td>9</td>\n",
       "      <td>Mission</td>\n",
       "      <td>MISSION</td>\n",
       "      <td>37.75061</td>\n",
       "      <td>-122.41886</td>\n",
       "      <td>(37.75060654, -122.41886139)</td>\n",
       "      <td>Phone</td>\n",
       "    </tr>\n",
       "    <tr>\n",
       "      <th>623</th>\n",
       "      <td>11877234</td>\n",
       "      <td>0</td>\n",
       "      <td>2019-12-30 12:45:38</td>\n",
       "      <td>2020-01-02 07:17:00</td>\n",
       "      <td>2020-01-02 07:17:00</td>\n",
       "      <td>Case Resolved</td>\n",
       "      <td>DPW Ops Queue</td>\n",
       "      <td>Street and Sidewalk Cleaning</td>\n",
       "      <td>General Cleaning</td>\n",
       "      <td>Other Loose Garbage</td>\n",
       "      <td>Intersection of ELGIN PARK and MCCOPPIN ST</td>\n",
       "      <td>ELGIN PARK</td>\n",
       "      <td>8</td>\n",
       "      <td>Mint Hill</td>\n",
       "      <td>SOUTHERN</td>\n",
       "      <td>37.77148</td>\n",
       "      <td>-122.42332</td>\n",
       "      <td>(37.77148065, -122.4233246)</td>\n",
       "      <td>Mobile/Open311</td>\n",
       "    </tr>\n",
       "  </tbody>\n",
       "</table>\n",
       "</div>"
      ],
      "text/plain": [
       "      case_id  is_duplicate              opened              closed             updated                                                                   status_notes         responsible_agency                      category                           request_type      request_details                                     address      street supervisor_district     neighborhood police_district  latitude  longitude                         point          source\n",
       "619  11879423  0            2019-12-30 20:54:00 2020-01-03 11:59:19 2020-01-03 11:59:19  Agencies responded to request and no encampment in area. Area verified clean.  Duplicate Case Hold Queue  Encampments                   Encampment Reports                     Encampment Cleanup   3983 19TH ST, SAN FRANCISCO, CA, 94114      19TH ST     8                   Dolores Heights  MISSION         37.75928 -122.43216  (37.759285, -122.432162)      Mobile/Open311\n",
       "620  11877576  0            2019-12-30 13:31:54 2019-12-31 13:42:03 2019-12-31 13:42:03  Case Resolved - SES Graffiti Crew  - Remove Sign - Pole - Shared (Comment)     DPW Ops Queue              Illegal Postings              Illegal Postings - Affixed_Improperly  Affixed Improperly   111 PAGE ST, SAN FRANCISCO, CA, 94102       PAGE ST     5                   Lower Haight     NORTHERN        37.77385 -122.42308  (37.77385123, -122.42307977)  Mobile/Open311\n",
       "621  11877532  0            2019-12-30 13:26:00 2019-12-30 14:03:00 2019-12-30 14:03:00  Case Resolved                                                                  DPW Ops Queue              Street and Sidewalk Cleaning  General Cleaning                       Other Loose Garbage  Intersection of OSAGE ALY and 26TH ST       OSAGE ALY   9                   Mission          MISSION         37.74901 -122.41871  (37.74900818, -122.4187088)   Phone         \n",
       "622  11877496  0            2019-12-30 13:22:00 2019-12-30 18:53:45 2019-12-30 18:53:45  Case Resolved - WASTE NOT FOUND                                   Other;       Recology_Abandoned         Street and Sidewalk Cleaning  Bulky Items                            Refrigerator         Intersection of OSAGE ALY and 25TH ST       OSAGE ALY   9                   Mission          MISSION         37.75061 -122.41886  (37.75060654, -122.41886139)  Phone         \n",
       "623  11877234  0            2019-12-30 12:45:38 2020-01-02 07:17:00 2020-01-02 07:17:00  Case Resolved                                                                  DPW Ops Queue              Street and Sidewalk Cleaning  General Cleaning                       Other Loose Garbage  Intersection of ELGIN PARK and MCCOPPIN ST  ELGIN PARK  8                   Mint Hill        SOUTHERN        37.77148 -122.42332  (37.77148065, -122.4233246)   Mobile/Open311"
      ]
     },
     "execution_count": 208,
     "metadata": {},
     "output_type": "execute_result"
    }
   ],
   "source": [
    "# Load dataframe\n",
    "df = pd.read_pickle('../data/df_clean_20k.pkl')\n",
    "\n",
    "df.head()"
   ]
  },
  {
   "cell_type": "markdown",
   "metadata": {
    "Collapsed": "false"
   },
   "source": [
    "# Cyclical Features\n",
    "http://blog.davidkaleko.com/feature-engineering-cyclical-features.html"
   ]
  },
  {
   "cell_type": "code",
   "execution_count": 209,
   "metadata": {
    "Collapsed": "false"
   },
   "outputs": [],
   "source": [
    "# Year\n",
    "df['opened_year'] = df['opened'].dt.year.astype('category')\n",
    "\n",
    "# Month\n",
    "month = df['opened'].dt.month\n",
    "df['opened_month_sin'] = np.sin(month*(2.*np.pi/12))\n",
    "df['opened_month_cos'] = np.cos(month*(2.*np.pi/12))\n",
    "\n",
    "# Week\n",
    "week = df['opened'].dt.week\n",
    "df['opened_week_sin'] = np.sin(week*(2.*np.pi/52))\n",
    "df['opened_week_cos'] = np.cos(week*(2.*np.pi/52))\n",
    "\n",
    "# Day of week\n",
    "day = df['opened'].dt.dayofweek\n",
    "df['opened_day_sin'] = np.sin(day*(2.*np.pi/7))\n",
    "df['opened_day_cos'] = np.cos(day*(2.*np.pi/7))\n",
    "\n",
    "# Hour\n",
    "hour = df['opened'].dt.hour\n",
    "df['opened_hour_sin'] = np.sin(hour*(2.*np.pi/24))\n",
    "df['opened_hour_cos'] = np.cos(hour*(2.*np.pi/24))"
   ]
  },
  {
   "cell_type": "code",
   "execution_count": 210,
   "metadata": {
    "Collapsed": "false"
   },
   "outputs": [
    {
     "name": "stdout",
     "output_type": "stream",
     "text": [
      "<class 'pandas.core.frame.DataFrame'>\n",
      "Int64Index: 16786 entries, 619 to 19685\n",
      "Data columns (total 28 columns):\n",
      "case_id                16786 non-null int64\n",
      "is_duplicate           16786 non-null int64\n",
      "opened                 16786 non-null datetime64[ns]\n",
      "closed                 16786 non-null datetime64[ns]\n",
      "updated                16786 non-null datetime64[ns]\n",
      "status_notes           16786 non-null object\n",
      "responsible_agency     16786 non-null object\n",
      "category               16786 non-null category\n",
      "request_type           16786 non-null object\n",
      "request_details        16786 non-null object\n",
      "address                16786 non-null object\n",
      "street                 16786 non-null object\n",
      "supervisor_district    16786 non-null category\n",
      "neighborhood           16786 non-null category\n",
      "police_district        16786 non-null category\n",
      "latitude               16786 non-null float64\n",
      "longitude              16786 non-null float64\n",
      "point                  16786 non-null object\n",
      "source                 16786 non-null category\n",
      "opened_year            16786 non-null category\n",
      "opened_month_sin       16786 non-null float64\n",
      "opened_month_cos       16786 non-null float64\n",
      "opened_week_sin        16786 non-null float64\n",
      "opened_week_cos        16786 non-null float64\n",
      "opened_day_sin         16786 non-null float64\n",
      "opened_day_cos         16786 non-null float64\n",
      "opened_hour_sin        16786 non-null float64\n",
      "opened_hour_cos        16786 non-null float64\n",
      "dtypes: category(6), datetime64[ns](3), float64(10), int64(2), object(7)\n",
      "memory usage: 3.1+ MB\n"
     ]
    }
   ],
   "source": [
    "df.info()"
   ]
  },
  {
   "cell_type": "markdown",
   "metadata": {
    "Collapsed": "false"
   },
   "source": [
    "# Latitude and Longitude"
   ]
  },
  {
   "cell_type": "code",
   "execution_count": null,
   "metadata": {
    "Collapsed": "false"
   },
   "outputs": [],
   "source": [
    "# # Test rounding the lat/long\n",
    "# df['latitude'] = round(df['latitude'], 4)\n",
    "# df['longitude'] = round(df['longitude'], 4)"
   ]
  },
  {
   "cell_type": "code",
   "execution_count": 228,
   "metadata": {
    "Collapsed": "false"
   },
   "outputs": [],
   "source": [
    "df.to_pickle('../data/df_cyclical_features_20k.pkl')"
   ]
  }
 ],
 "metadata": {
  "kernelspec": {
   "display_name": "Python 3.7.4 64-bit ('metis': conda)",
   "language": "python",
   "name": "python37464bitmetiscondab8a2cd9d238449bd838e7f95913d7792"
  },
  "language_info": {
   "codemirror_mode": {
    "name": "ipython",
    "version": 3
   },
   "file_extension": ".py",
   "mimetype": "text/x-python",
   "name": "python",
   "nbconvert_exporter": "python",
   "pygments_lexer": "ipython3",
   "version": "3.7.4"
  }
 },
 "nbformat": 4,
 "nbformat_minor": 4
}
