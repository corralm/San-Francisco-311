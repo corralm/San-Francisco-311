{
 "cells": [
  {
   "cell_type": "code",
   "execution_count": null,
   "metadata": {
    "Collapsed": "false",
    "ExecuteTime": {
     "end_time": "2020-03-17T03:19:19.476531Z",
     "start_time": "2020-03-17T03:19:19.474079Z"
    }
   },
   "outputs": [],
   "source": [
    "# Add table of contents"
   ]
  },
  {
   "cell_type": "code",
   "execution_count": 1,
   "metadata": {
    "Collapsed": "false",
    "ExecuteTime": {
     "end_time": "2020-03-17T03:19:21.171766Z",
     "start_time": "2020-03-17T03:19:20.057660Z"
    }
   },
   "outputs": [],
   "source": [
    "import pandas as pd\n",
    "import numpy as np\n",
    "\n",
    "from matplotlib.pyplot import figure\n",
    "import matplotlib.pyplot as plt\n",
    "import seaborn as sns\n",
    "%matplotlib inline"
   ]
  },
  {
   "cell_type": "code",
   "execution_count": 2,
   "metadata": {
    "Collapsed": "false",
    "ExecuteTime": {
     "end_time": "2020-03-17T03:20:01.503337Z",
     "start_time": "2020-03-17T03:20:01.133482Z"
    }
   },
   "outputs": [
    {
     "data": {
      "text/html": [
       "<div>\n",
       "<style scoped>\n",
       "    .dataframe tbody tr th:only-of-type {\n",
       "        vertical-align: middle;\n",
       "    }\n",
       "\n",
       "    .dataframe tbody tr th {\n",
       "        vertical-align: top;\n",
       "    }\n",
       "\n",
       "    .dataframe thead th {\n",
       "        text-align: right;\n",
       "    }\n",
       "</style>\n",
       "<table border=\"1\" class=\"dataframe\">\n",
       "  <thead>\n",
       "    <tr style=\"text-align: right;\">\n",
       "      <th></th>\n",
       "      <th>case_id</th>\n",
       "      <th>target</th>\n",
       "      <th>opened</th>\n",
       "      <th>closed</th>\n",
       "      <th>updated</th>\n",
       "      <th>status</th>\n",
       "      <th>status_notes</th>\n",
       "      <th>responsible_agency</th>\n",
       "      <th>category</th>\n",
       "      <th>request_type</th>\n",
       "      <th>...</th>\n",
       "      <th>address</th>\n",
       "      <th>street</th>\n",
       "      <th>supervisor_district</th>\n",
       "      <th>neighborhood</th>\n",
       "      <th>police_district</th>\n",
       "      <th>latitude</th>\n",
       "      <th>longitude</th>\n",
       "      <th>point</th>\n",
       "      <th>source</th>\n",
       "      <th>has_media</th>\n",
       "    </tr>\n",
       "  </thead>\n",
       "  <tbody>\n",
       "    <tr>\n",
       "      <th>810969</th>\n",
       "      <td>9995194</td>\n",
       "      <td>1</td>\n",
       "      <td>2018-12-31 10:42:22</td>\n",
       "      <td>2018-12-31 00:00:00</td>\n",
       "      <td>2018-12-31 00:00:00</td>\n",
       "      <td>Closed</td>\n",
       "      <td>Case Resolved - duplicate of 21375555 -</td>\n",
       "      <td>DPW - Bureau of Street Use and Mapping - G</td>\n",
       "      <td>General Request - PUBLIC WORKS</td>\n",
       "      <td>request_for_service</td>\n",
       "      <td>...</td>\n",
       "      <td>31 HANGAH ST, SAN FRANCISCO, CA, 94108</td>\n",
       "      <td>HANGAH ST</td>\n",
       "      <td>3.0</td>\n",
       "      <td>Chinatown</td>\n",
       "      <td>CENTRAL</td>\n",
       "      <td>37.793526</td>\n",
       "      <td>-122.407562</td>\n",
       "      <td>(37.7935257, -122.40756226)</td>\n",
       "      <td>Integrated Agency</td>\n",
       "      <td>0</td>\n",
       "    </tr>\n",
       "    <tr>\n",
       "      <th>811474</th>\n",
       "      <td>9993791</td>\n",
       "      <td>1</td>\n",
       "      <td>2018-12-30 22:40:00</td>\n",
       "      <td>2018-12-30 23:13:06</td>\n",
       "      <td>2018-12-30 23:13:06</td>\n",
       "      <td>Closed</td>\n",
       "      <td>Case Resolved - Officer responded to request u...</td>\n",
       "      <td>Parking Enforcement Dispatch Queue</td>\n",
       "      <td>Parking Enforcement</td>\n",
       "      <td>Parking_on_Sidewalk</td>\n",
       "      <td>...</td>\n",
       "      <td>140 PRECITA AVE, SAN FRANCISCO, CA, 94110</td>\n",
       "      <td>PRECITA AVE</td>\n",
       "      <td>9.0</td>\n",
       "      <td>Bernal Heights</td>\n",
       "      <td>INGLESIDE</td>\n",
       "      <td>37.747047</td>\n",
       "      <td>-122.417297</td>\n",
       "      <td>(37.747047, -122.417297)</td>\n",
       "      <td>Mobile/Open311</td>\n",
       "      <td>1</td>\n",
       "    </tr>\n",
       "    <tr>\n",
       "      <th>811481</th>\n",
       "      <td>9993771</td>\n",
       "      <td>1</td>\n",
       "      <td>2018-12-30 22:18:00</td>\n",
       "      <td>2018-12-30 22:19:29</td>\n",
       "      <td>2018-12-30 22:19:29</td>\n",
       "      <td>Closed</td>\n",
       "      <td>Case is Invalid - Contact name and phone numbe...</td>\n",
       "      <td>Parking Enforcement Dispatch Queue</td>\n",
       "      <td>Parking Enforcement</td>\n",
       "      <td>Blocking_Driveway_Cite_Only</td>\n",
       "      <td>...</td>\n",
       "      <td>754 MOULTRIE ST, SAN FRANCISCO, CA, 94110</td>\n",
       "      <td>MOULTRIE ST</td>\n",
       "      <td>9.0</td>\n",
       "      <td>Bernal Heights</td>\n",
       "      <td>INGLESIDE</td>\n",
       "      <td>37.735334</td>\n",
       "      <td>-122.416215</td>\n",
       "      <td>(37.73533399, -122.4162146)</td>\n",
       "      <td>Phone</td>\n",
       "      <td>0</td>\n",
       "    </tr>\n",
       "  </tbody>\n",
       "</table>\n",
       "<p>3 rows × 21 columns</p>\n",
       "</div>"
      ],
      "text/plain": [
       "        case_id  target              opened              closed  \\\n",
       "810969  9995194       1 2018-12-31 10:42:22 2018-12-31 00:00:00   \n",
       "811474  9993791       1 2018-12-30 22:40:00 2018-12-30 23:13:06   \n",
       "811481  9993771       1 2018-12-30 22:18:00 2018-12-30 22:19:29   \n",
       "\n",
       "                   updated  status  \\\n",
       "810969 2018-12-31 00:00:00  Closed   \n",
       "811474 2018-12-30 23:13:06  Closed   \n",
       "811481 2018-12-30 22:19:29  Closed   \n",
       "\n",
       "                                             status_notes  \\\n",
       "810969            Case Resolved - duplicate of 21375555 -   \n",
       "811474  Case Resolved - Officer responded to request u...   \n",
       "811481  Case is Invalid - Contact name and phone numbe...   \n",
       "\n",
       "                                responsible_agency  \\\n",
       "810969  DPW - Bureau of Street Use and Mapping - G   \n",
       "811474          Parking Enforcement Dispatch Queue   \n",
       "811481          Parking Enforcement Dispatch Queue   \n",
       "\n",
       "                              category                 request_type  ...  \\\n",
       "810969  General Request - PUBLIC WORKS          request_for_service  ...   \n",
       "811474             Parking Enforcement          Parking_on_Sidewalk  ...   \n",
       "811481             Parking Enforcement  Blocking_Driveway_Cite_Only  ...   \n",
       "\n",
       "                                          address       street  \\\n",
       "810969     31 HANGAH ST, SAN FRANCISCO, CA, 94108    HANGAH ST   \n",
       "811474  140 PRECITA AVE, SAN FRANCISCO, CA, 94110  PRECITA AVE   \n",
       "811481  754 MOULTRIE ST, SAN FRANCISCO, CA, 94110  MOULTRIE ST   \n",
       "\n",
       "       supervisor_district    neighborhood police_district   latitude  \\\n",
       "810969                 3.0       Chinatown         CENTRAL  37.793526   \n",
       "811474                 9.0  Bernal Heights       INGLESIDE  37.747047   \n",
       "811481                 9.0  Bernal Heights       INGLESIDE  37.735334   \n",
       "\n",
       "         longitude                        point             source has_media  \n",
       "810969 -122.407562  (37.7935257, -122.40756226)  Integrated Agency         0  \n",
       "811474 -122.417297     (37.747047, -122.417297)     Mobile/Open311         1  \n",
       "811481 -122.416215  (37.73533399, -122.4162146)              Phone         0  \n",
       "\n",
       "[3 rows x 21 columns]"
      ]
     },
     "execution_count": 2,
     "metadata": {},
     "output_type": "execute_result"
    }
   ],
   "source": [
    "# Load dataframe\n",
    "df = pd.read_pickle('../data/df_clean_2018.pkl')\n",
    "\n",
    "df.head(3)"
   ]
  },
  {
   "cell_type": "markdown",
   "metadata": {
    "Collapsed": "false"
   },
   "source": [
    "# Cyclical Features\n",
    "http://blog.davidkaleko.com/feature-engineering-cyclical-features.html"
   ]
  },
  {
   "cell_type": "code",
   "execution_count": 10,
   "metadata": {
    "Collapsed": "false",
    "ExecuteTime": {
     "end_time": "2020-03-17T03:20:08.724052Z",
     "start_time": "2020-03-17T03:20:08.251413Z"
    }
   },
   "outputs": [],
   "source": [
    "# Year\n",
    "df['opened_year'] = df['opened'].dt.year.astype('category')\n",
    "\n",
    "# Month\n",
    "month = df['opened'].dt.month\n",
    "df['opened_month_sin'] = np.sin(month*(2.*np.pi/12))\n",
    "df['opened_month_cos'] = np.cos(month*(2.*np.pi/12))\n",
    "\n",
    "# Week\n",
    "week = df['opened'].dt.week\n",
    "df['opened_week_sin'] = np.sin(week*(2.*np.pi/52))\n",
    "df['opened_week_cos'] = np.cos(week*(2.*np.pi/52))\n",
    "\n",
    "# Day of week\n",
    "day = df['opened'].dt.dayofweek\n",
    "df['opened_day_sin'] = np.sin(day*(2.*np.pi/7))\n",
    "df['opened_day_cos'] = np.cos(day*(2.*np.pi/7))\n",
    "\n",
    "# Hour\n",
    "hour = df['opened'].dt.hour\n",
    "df['opened_hour_sin'] = np.sin(hour*(2.*np.pi/24))\n",
    "df['opened_hour_cos'] = np.cos(hour*(2.*np.pi/24))"
   ]
  },
  {
   "cell_type": "code",
   "execution_count": 11,
   "metadata": {
    "Collapsed": "false",
    "ExecuteTime": {
     "end_time": "2020-03-17T03:20:09.083943Z",
     "start_time": "2020-03-17T03:20:09.061185Z"
    }
   },
   "outputs": [
    {
     "data": {
      "text/html": [
       "<div>\n",
       "<style scoped>\n",
       "    .dataframe tbody tr th:only-of-type {\n",
       "        vertical-align: middle;\n",
       "    }\n",
       "\n",
       "    .dataframe tbody tr th {\n",
       "        vertical-align: top;\n",
       "    }\n",
       "\n",
       "    .dataframe thead th {\n",
       "        text-align: right;\n",
       "    }\n",
       "</style>\n",
       "<table border=\"1\" class=\"dataframe\">\n",
       "  <thead>\n",
       "    <tr style=\"text-align: right;\">\n",
       "      <th></th>\n",
       "      <th>case_id</th>\n",
       "      <th>target</th>\n",
       "      <th>opened</th>\n",
       "      <th>closed</th>\n",
       "      <th>updated</th>\n",
       "      <th>status</th>\n",
       "      <th>status_notes</th>\n",
       "      <th>responsible_agency</th>\n",
       "      <th>category</th>\n",
       "      <th>request_type</th>\n",
       "      <th>...</th>\n",
       "      <th>has_media</th>\n",
       "      <th>opened_year</th>\n",
       "      <th>opened_month_sin</th>\n",
       "      <th>opened_month_cos</th>\n",
       "      <th>opened_week_sin</th>\n",
       "      <th>opened_week_cos</th>\n",
       "      <th>opened_day_sin</th>\n",
       "      <th>opened_day_cos</th>\n",
       "      <th>opened_hour_sin</th>\n",
       "      <th>opened_hour_cos</th>\n",
       "    </tr>\n",
       "  </thead>\n",
       "  <tbody>\n",
       "    <tr>\n",
       "      <th>810969</th>\n",
       "      <td>9995194</td>\n",
       "      <td>1</td>\n",
       "      <td>2018-12-31 10:42:22</td>\n",
       "      <td>2018-12-31 00:00:00</td>\n",
       "      <td>2018-12-31 00:00:00</td>\n",
       "      <td>Closed</td>\n",
       "      <td>Case Resolved - duplicate of 21375555 -</td>\n",
       "      <td>DPW - Bureau of Street Use and Mapping - G</td>\n",
       "      <td>General Request - PUBLIC WORKS</td>\n",
       "      <td>request_for_service</td>\n",
       "      <td>...</td>\n",
       "      <td>0</td>\n",
       "      <td>2018</td>\n",
       "      <td>-2.449294e-16</td>\n",
       "      <td>1.0</td>\n",
       "      <td>1.205367e-01</td>\n",
       "      <td>0.992709</td>\n",
       "      <td>0.000000</td>\n",
       "      <td>1.00000</td>\n",
       "      <td>0.5</td>\n",
       "      <td>-0.866025</td>\n",
       "    </tr>\n",
       "    <tr>\n",
       "      <th>811474</th>\n",
       "      <td>9993791</td>\n",
       "      <td>1</td>\n",
       "      <td>2018-12-30 22:40:00</td>\n",
       "      <td>2018-12-30 23:13:06</td>\n",
       "      <td>2018-12-30 23:13:06</td>\n",
       "      <td>Closed</td>\n",
       "      <td>Case Resolved - Officer responded to request u...</td>\n",
       "      <td>Parking Enforcement Dispatch Queue</td>\n",
       "      <td>Parking Enforcement</td>\n",
       "      <td>Parking_on_Sidewalk</td>\n",
       "      <td>...</td>\n",
       "      <td>1</td>\n",
       "      <td>2018</td>\n",
       "      <td>-2.449294e-16</td>\n",
       "      <td>1.0</td>\n",
       "      <td>-2.449294e-16</td>\n",
       "      <td>1.000000</td>\n",
       "      <td>-0.781831</td>\n",
       "      <td>0.62349</td>\n",
       "      <td>-0.5</td>\n",
       "      <td>0.866025</td>\n",
       "    </tr>\n",
       "    <tr>\n",
       "      <th>811481</th>\n",
       "      <td>9993771</td>\n",
       "      <td>1</td>\n",
       "      <td>2018-12-30 22:18:00</td>\n",
       "      <td>2018-12-30 22:19:29</td>\n",
       "      <td>2018-12-30 22:19:29</td>\n",
       "      <td>Closed</td>\n",
       "      <td>Case is Invalid - Contact name and phone numbe...</td>\n",
       "      <td>Parking Enforcement Dispatch Queue</td>\n",
       "      <td>Parking Enforcement</td>\n",
       "      <td>Blocking_Driveway_Cite_Only</td>\n",
       "      <td>...</td>\n",
       "      <td>0</td>\n",
       "      <td>2018</td>\n",
       "      <td>-2.449294e-16</td>\n",
       "      <td>1.0</td>\n",
       "      <td>-2.449294e-16</td>\n",
       "      <td>1.000000</td>\n",
       "      <td>-0.781831</td>\n",
       "      <td>0.62349</td>\n",
       "      <td>-0.5</td>\n",
       "      <td>0.866025</td>\n",
       "    </tr>\n",
       "  </tbody>\n",
       "</table>\n",
       "<p>3 rows × 30 columns</p>\n",
       "</div>"
      ],
      "text/plain": [
       "        case_id  target              opened              closed  \\\n",
       "810969  9995194       1 2018-12-31 10:42:22 2018-12-31 00:00:00   \n",
       "811474  9993791       1 2018-12-30 22:40:00 2018-12-30 23:13:06   \n",
       "811481  9993771       1 2018-12-30 22:18:00 2018-12-30 22:19:29   \n",
       "\n",
       "                   updated  status  \\\n",
       "810969 2018-12-31 00:00:00  Closed   \n",
       "811474 2018-12-30 23:13:06  Closed   \n",
       "811481 2018-12-30 22:19:29  Closed   \n",
       "\n",
       "                                             status_notes  \\\n",
       "810969            Case Resolved - duplicate of 21375555 -   \n",
       "811474  Case Resolved - Officer responded to request u...   \n",
       "811481  Case is Invalid - Contact name and phone numbe...   \n",
       "\n",
       "                                responsible_agency  \\\n",
       "810969  DPW - Bureau of Street Use and Mapping - G   \n",
       "811474          Parking Enforcement Dispatch Queue   \n",
       "811481          Parking Enforcement Dispatch Queue   \n",
       "\n",
       "                              category                 request_type  ...  \\\n",
       "810969  General Request - PUBLIC WORKS          request_for_service  ...   \n",
       "811474             Parking Enforcement          Parking_on_Sidewalk  ...   \n",
       "811481             Parking Enforcement  Blocking_Driveway_Cite_Only  ...   \n",
       "\n",
       "       has_media opened_year opened_month_sin opened_month_cos  \\\n",
       "810969         0        2018    -2.449294e-16              1.0   \n",
       "811474         1        2018    -2.449294e-16              1.0   \n",
       "811481         0        2018    -2.449294e-16              1.0   \n",
       "\n",
       "       opened_week_sin opened_week_cos  opened_day_sin  opened_day_cos  \\\n",
       "810969    1.205367e-01        0.992709        0.000000         1.00000   \n",
       "811474   -2.449294e-16        1.000000       -0.781831         0.62349   \n",
       "811481   -2.449294e-16        1.000000       -0.781831         0.62349   \n",
       "\n",
       "       opened_hour_sin opened_hour_cos  \n",
       "810969             0.5       -0.866025  \n",
       "811474            -0.5        0.866025  \n",
       "811481            -0.5        0.866025  \n",
       "\n",
       "[3 rows x 30 columns]"
      ]
     },
     "execution_count": 11,
     "metadata": {},
     "output_type": "execute_result"
    }
   ],
   "source": [
    "df.head(3)"
   ]
  },
  {
   "cell_type": "markdown",
   "metadata": {
    "Collapsed": "false"
   },
   "source": [
    "# Latitude and Longitude"
   ]
  },
  {
   "cell_type": "code",
   "execution_count": 12,
   "metadata": {
    "Collapsed": "false",
    "ExecuteTime": {
     "end_time": "2020-03-17T03:20:12.192197Z",
     "start_time": "2020-03-17T03:20:12.189965Z"
    }
   },
   "outputs": [
    {
     "data": {
      "text/plain": [
       "(530810, 30)"
      ]
     },
     "execution_count": 12,
     "metadata": {},
     "output_type": "execute_result"
    }
   ],
   "source": [
    "# Rounding the lat/long\n",
    "df['latitude'] = round(df['latitude'], 4)\n",
    "df['longitude'] = round(df['longitude'], 4)\n",
    "df.shape"
   ]
  },
  {
   "cell_type": "markdown",
   "metadata": {
    "Collapsed": "false"
   },
   "source": [
    "## Resolution Time"
   ]
  },
  {
   "cell_type": "code",
   "execution_count": 13,
   "metadata": {
    "Collapsed": "false"
   },
   "outputs": [
    {
     "data": {
      "text/plain": [
       "(530759, 31)"
      ]
     },
     "execution_count": 13,
     "metadata": {},
     "output_type": "execute_result"
    }
   ],
   "source": [
    "# Diff in minutes\n",
    "df['resolution_time'] = df['closed'] - df['opened']\n",
    "df['resolution_time'] = (df['resolution_time']/np.timedelta64(1,'m'))\n",
    "# Remove rows with negative minutes & requests over 7 days\n",
    "df = df.loc[(df['resolution_time'] > 0)] # * (df['resolution_time'] < 10080)\n",
    "df.shape"
   ]
  },
  {
   "cell_type": "code",
   "execution_count": 16,
   "metadata": {
    "Collapsed": "false"
   },
   "outputs": [],
   "source": [
    "df.to_pickle('../data/df_pre_model_2018.pkl')"
   ]
  },
  {
   "cell_type": "markdown",
   "metadata": {
    "Collapsed": "false"
   },
   "source": [
    "# Appendix"
   ]
  },
  {
   "cell_type": "code",
   "execution_count": 14,
   "metadata": {
    "Collapsed": "false"
   },
   "outputs": [
    {
     "data": {
      "text/plain": [
       "(array([5.10133e+05, 8.92600e+03, 2.98000e+03, 2.12000e+03, 2.67800e+03,\n",
       "        1.71700e+03, 1.07800e+03, 5.04000e+02, 3.89000e+02, 2.34000e+02]),\n",
       " array([1.66666667e-02, 5.18661767e+04, 1.03732337e+05, 1.55598497e+05,\n",
       "        2.07464657e+05, 2.59330817e+05, 3.11196977e+05, 3.63063137e+05,\n",
       "        4.14929297e+05, 4.66795457e+05, 5.18661617e+05]),\n",
       " <a list of 10 Patch objects>)"
      ]
     },
     "execution_count": 14,
     "metadata": {},
     "output_type": "execute_result"
    },
    {
     "data": {
      "image/png": "[encoded data removed]",
      "text/plain": [
       "<Figure size 432x288 with 1 Axes>"
      ]
     },
     "metadata": {
      "needs_background": "light"
     },
     "output_type": "display_data"
    }
   ],
   "source": [
    "# Distribution of Resolution Time\n",
    "plt.hist(df['resolution_time'])"
   ]
  },
  {
   "cell_type": "code",
   "execution_count": 9,
   "metadata": {
    "Collapsed": "false"
   },
   "outputs": [
    {
     "data": {
      "text/plain": [
       "Abandoned Vehicle                 25309\n",
       "Encampments                       22140\n",
       "Street and Sidewalk Cleaning      18950\n",
       "Parking Enforcement               14824\n",
       "Graffiti                          10237\n",
       "General Request - PUBLIC WORKS     2529\n",
       "Homeless Concerns                  2415\n",
       "Tree Maintenance                   2413\n",
       "Rec and Park Requests              1975\n",
       "Sewer Issues                       1586\n",
       "Name: category, dtype: int64"
      ]
     },
     "execution_count": 9,
     "metadata": {},
     "output_type": "execute_result"
    }
   ],
   "source": [
    "# Top categories by frequency of wasteful requests\n",
    "df.loc[df['target']==1, 'category'].value_counts()[:10]"
   ]
  }
 ],
 "metadata": {
  "kernelspec": {
   "display_name": "Python 3",
   "language": "python",
   "name": "python3"
  },
  "language_info": {
   "codemirror_mode": {
    "name": "ipython",
    "version": 3
   },
   "file_extension": ".py",
   "mimetype": "text/x-python",
   "name": "python",
   "nbconvert_exporter": "python",
   "pygments_lexer": "ipython3",
   "version": "3.7.6"
  },
  "toc": {
   "base_numbering": 1,
   "nav_menu": {},
   "number_sections": true,
   "sideBar": true,
   "skip_h1_title": false,
   "title_cell": "Table of Contents",
   "title_sidebar": "Contents",
   "toc_cell": false,
   "toc_position": {},
   "toc_section_display": true,
   "toc_window_display": false
  }
 },
 "nbformat": 4,
 "nbformat_minor": 4
}
