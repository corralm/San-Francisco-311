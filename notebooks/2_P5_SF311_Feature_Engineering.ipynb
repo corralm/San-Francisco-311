{
 "cells": [
  {
   "cell_type": "code",
   "execution_count": null,
   "metadata": {
    "Collapsed": "false",
    "ExecuteTime": {
     "end_time": "2020-03-17T03:19:19.476531Z",
     "start_time": "2020-03-17T03:19:19.474079Z"
    }
   },
   "outputs": [],
   "source": [
    "# Add table of contents"
   ]
  },
  {
   "cell_type": "code",
   "execution_count": 35,
   "metadata": {
    "Collapsed": "false",
    "ExecuteTime": {
     "end_time": "2020-03-17T03:19:21.171766Z",
     "start_time": "2020-03-17T03:19:20.057660Z"
    }
   },
   "outputs": [],
   "source": [
    "import pandas as pd\n",
    "import numpy as np\n",
    "\n",
    "from matplotlib.pyplot import figure\n",
    "import matplotlib.pyplot as plt\n",
    "import seaborn as sns\n",
    "%matplotlib inline"
   ]
  },
  {
   "cell_type": "code",
   "execution_count": 36,
   "metadata": {
    "Collapsed": "false",
    "ExecuteTime": {
     "end_time": "2020-03-17T03:20:01.503337Z",
     "start_time": "2020-03-17T03:20:01.133482Z"
    }
   },
   "outputs": [
    {
     "data": {
      "text/html": [
       "<div>\n",
       "<style scoped>\n",
       "    .dataframe tbody tr th:only-of-type {\n",
       "        vertical-align: middle;\n",
       "    }\n",
       "\n",
       "    .dataframe tbody tr th {\n",
       "        vertical-align: top;\n",
       "    }\n",
       "\n",
       "    .dataframe thead th {\n",
       "        text-align: right;\n",
       "    }\n",
       "</style>\n",
       "<table border=\"1\" class=\"dataframe\">\n",
       "  <thead>\n",
       "    <tr style=\"text-align: right;\">\n",
       "      <th></th>\n",
       "      <th>case_id</th>\n",
       "      <th>target</th>\n",
       "      <th>opened</th>\n",
       "      <th>closed</th>\n",
       "      <th>updated</th>\n",
       "      <th>status</th>\n",
       "      <th>status_notes</th>\n",
       "      <th>responsible_agency</th>\n",
       "      <th>category</th>\n",
       "      <th>request_type</th>\n",
       "      <th>...</th>\n",
       "      <th>address</th>\n",
       "      <th>street</th>\n",
       "      <th>supervisor_district</th>\n",
       "      <th>neighborhood</th>\n",
       "      <th>police_district</th>\n",
       "      <th>latitude</th>\n",
       "      <th>longitude</th>\n",
       "      <th>point</th>\n",
       "      <th>source</th>\n",
       "      <th>has_media</th>\n",
       "    </tr>\n",
       "  </thead>\n",
       "  <tbody>\n",
       "    <tr>\n",
       "      <th>810969</th>\n",
       "      <td>9995194</td>\n",
       "      <td>1</td>\n",
       "      <td>2018-12-31 10:42:22</td>\n",
       "      <td>2018-12-31 00:00:00</td>\n",
       "      <td>2018-12-31 00:00:00</td>\n",
       "      <td>Closed</td>\n",
       "      <td>Case Resolved - duplicate of 21375555 -</td>\n",
       "      <td>DPW - Bureau of Street Use and Mapping - G</td>\n",
       "      <td>General Request - PUBLIC WORKS</td>\n",
       "      <td>request_for_service</td>\n",
       "      <td>...</td>\n",
       "      <td>31 HANGAH ST, SAN FRANCISCO, CA, 94108</td>\n",
       "      <td>HANGAH ST</td>\n",
       "      <td>3.0</td>\n",
       "      <td>Chinatown</td>\n",
       "      <td>CENTRAL</td>\n",
       "      <td>37.793526</td>\n",
       "      <td>-122.407562</td>\n",
       "      <td>(37.7935257, -122.40756226)</td>\n",
       "      <td>Integrated Agency</td>\n",
       "      <td>0</td>\n",
       "    </tr>\n",
       "    <tr>\n",
       "      <th>811474</th>\n",
       "      <td>9993791</td>\n",
       "      <td>1</td>\n",
       "      <td>2018-12-30 22:40:00</td>\n",
       "      <td>2018-12-30 23:13:06</td>\n",
       "      <td>2018-12-30 23:13:06</td>\n",
       "      <td>Closed</td>\n",
       "      <td>Case Resolved - Officer responded to request u...</td>\n",
       "      <td>Parking Enforcement Dispatch Queue</td>\n",
       "      <td>Parking Enforcement</td>\n",
       "      <td>Parking_on_Sidewalk</td>\n",
       "      <td>...</td>\n",
       "      <td>140 PRECITA AVE, SAN FRANCISCO, CA, 94110</td>\n",
       "      <td>PRECITA AVE</td>\n",
       "      <td>9.0</td>\n",
       "      <td>Bernal Heights</td>\n",
       "      <td>INGLESIDE</td>\n",
       "      <td>37.747047</td>\n",
       "      <td>-122.417297</td>\n",
       "      <td>(37.747047, -122.417297)</td>\n",
       "      <td>Mobile/Open311</td>\n",
       "      <td>1</td>\n",
       "    </tr>\n",
       "    <tr>\n",
       "      <th>811481</th>\n",
       "      <td>9993771</td>\n",
       "      <td>1</td>\n",
       "      <td>2018-12-30 22:18:00</td>\n",
       "      <td>2018-12-30 22:19:29</td>\n",
       "      <td>2018-12-30 22:19:29</td>\n",
       "      <td>Closed</td>\n",
       "      <td>Case is Invalid - Contact name and phone numbe...</td>\n",
       "      <td>Parking Enforcement Dispatch Queue</td>\n",
       "      <td>Parking Enforcement</td>\n",
       "      <td>Blocking_Driveway_Cite_Only</td>\n",
       "      <td>...</td>\n",
       "      <td>754 MOULTRIE ST, SAN FRANCISCO, CA, 94110</td>\n",
       "      <td>MOULTRIE ST</td>\n",
       "      <td>9.0</td>\n",
       "      <td>Bernal Heights</td>\n",
       "      <td>INGLESIDE</td>\n",
       "      <td>37.735334</td>\n",
       "      <td>-122.416215</td>\n",
       "      <td>(37.73533399, -122.4162146)</td>\n",
       "      <td>Phone</td>\n",
       "      <td>0</td>\n",
       "    </tr>\n",
       "    <tr>\n",
       "      <th>811482</th>\n",
       "      <td>9993764</td>\n",
       "      <td>0</td>\n",
       "      <td>2018-12-30 22:14:00</td>\n",
       "      <td>2018-12-30 23:12:50</td>\n",
       "      <td>2018-12-30 23:12:50</td>\n",
       "      <td>Closed</td>\n",
       "      <td>Case Resolved - Officer responded to request u...</td>\n",
       "      <td>Parking Enforcement Dispatch Queue</td>\n",
       "      <td>Parking Enforcement</td>\n",
       "      <td>Blocking_Driveway_Cite_Tow</td>\n",
       "      <td>...</td>\n",
       "      <td>2312 35TH AVE, SAN FRANCISCO, CA, 94116</td>\n",
       "      <td>35TH AVE</td>\n",
       "      <td>4.0</td>\n",
       "      <td>Parkside</td>\n",
       "      <td>TARAVAL</td>\n",
       "      <td>37.743806</td>\n",
       "      <td>-122.492778</td>\n",
       "      <td>(37.74380555, -122.49277774)</td>\n",
       "      <td>Mobile/Open311</td>\n",
       "      <td>1</td>\n",
       "    </tr>\n",
       "    <tr>\n",
       "      <th>811494</th>\n",
       "      <td>9993737</td>\n",
       "      <td>0</td>\n",
       "      <td>2018-12-30 21:53:14</td>\n",
       "      <td>2018-12-30 22:18:00</td>\n",
       "      <td>2018-12-30 22:18:00</td>\n",
       "      <td>Closed</td>\n",
       "      <td>Case Transferred - See encampment sr#9993757</td>\n",
       "      <td>311 Supervisor Queue</td>\n",
       "      <td>General Request - PUBLIC WORKS</td>\n",
       "      <td>request_for_service</td>\n",
       "      <td>...</td>\n",
       "      <td>Intersection of LANDERS ST and 15TH ST</td>\n",
       "      <td>LANDERS ST</td>\n",
       "      <td>8.0</td>\n",
       "      <td>Mission Dolores</td>\n",
       "      <td>MISSION</td>\n",
       "      <td>37.766210</td>\n",
       "      <td>-122.427747</td>\n",
       "      <td>(37.76620958, -122.42774722)</td>\n",
       "      <td>Mobile/Open311</td>\n",
       "      <td>1</td>\n",
       "    </tr>\n",
       "  </tbody>\n",
       "</table>\n",
       "<p>5 rows × 21 columns</p>\n",
       "</div>"
      ],
      "text/plain": [
       "        case_id  target              opened              closed  \\\n",
       "810969  9995194       1 2018-12-31 10:42:22 2018-12-31 00:00:00   \n",
       "811474  9993791       1 2018-12-30 22:40:00 2018-12-30 23:13:06   \n",
       "811481  9993771       1 2018-12-30 22:18:00 2018-12-30 22:19:29   \n",
       "811482  9993764       0 2018-12-30 22:14:00 2018-12-30 23:12:50   \n",
       "811494  9993737       0 2018-12-30 21:53:14 2018-12-30 22:18:00   \n",
       "\n",
       "                   updated  status  \\\n",
       "810969 2018-12-31 00:00:00  Closed   \n",
       "811474 2018-12-30 23:13:06  Closed   \n",
       "811481 2018-12-30 22:19:29  Closed   \n",
       "811482 2018-12-30 23:12:50  Closed   \n",
       "811494 2018-12-30 22:18:00  Closed   \n",
       "\n",
       "                                             status_notes  \\\n",
       "810969            Case Resolved - duplicate of 21375555 -   \n",
       "811474  Case Resolved - Officer responded to request u...   \n",
       "811481  Case is Invalid - Contact name and phone numbe...   \n",
       "811482  Case Resolved - Officer responded to request u...   \n",
       "811494       Case Transferred - See encampment sr#9993757   \n",
       "\n",
       "                                responsible_agency  \\\n",
       "810969  DPW - Bureau of Street Use and Mapping - G   \n",
       "811474          Parking Enforcement Dispatch Queue   \n",
       "811481          Parking Enforcement Dispatch Queue   \n",
       "811482          Parking Enforcement Dispatch Queue   \n",
       "811494                        311 Supervisor Queue   \n",
       "\n",
       "                              category                 request_type  ...  \\\n",
       "810969  General Request - PUBLIC WORKS          request_for_service  ...   \n",
       "811474             Parking Enforcement          Parking_on_Sidewalk  ...   \n",
       "811481             Parking Enforcement  Blocking_Driveway_Cite_Only  ...   \n",
       "811482             Parking Enforcement   Blocking_Driveway_Cite_Tow  ...   \n",
       "811494  General Request - PUBLIC WORKS          request_for_service  ...   \n",
       "\n",
       "                                          address       street  \\\n",
       "810969     31 HANGAH ST, SAN FRANCISCO, CA, 94108    HANGAH ST   \n",
       "811474  140 PRECITA AVE, SAN FRANCISCO, CA, 94110  PRECITA AVE   \n",
       "811481  754 MOULTRIE ST, SAN FRANCISCO, CA, 94110  MOULTRIE ST   \n",
       "811482    2312 35TH AVE, SAN FRANCISCO, CA, 94116     35TH AVE   \n",
       "811494     Intersection of LANDERS ST and 15TH ST   LANDERS ST   \n",
       "\n",
       "       supervisor_district     neighborhood police_district   latitude  \\\n",
       "810969                 3.0        Chinatown         CENTRAL  37.793526   \n",
       "811474                 9.0   Bernal Heights       INGLESIDE  37.747047   \n",
       "811481                 9.0   Bernal Heights       INGLESIDE  37.735334   \n",
       "811482                 4.0         Parkside         TARAVAL  37.743806   \n",
       "811494                 8.0  Mission Dolores         MISSION  37.766210   \n",
       "\n",
       "         longitude                         point             source has_media  \n",
       "810969 -122.407562   (37.7935257, -122.40756226)  Integrated Agency         0  \n",
       "811474 -122.417297      (37.747047, -122.417297)     Mobile/Open311         1  \n",
       "811481 -122.416215   (37.73533399, -122.4162146)              Phone         0  \n",
       "811482 -122.492778  (37.74380555, -122.49277774)     Mobile/Open311         1  \n",
       "811494 -122.427747  (37.76620958, -122.42774722)     Mobile/Open311         1  \n",
       "\n",
       "[5 rows x 21 columns]"
      ]
     },
     "execution_count": 36,
     "metadata": {},
     "output_type": "execute_result"
    }
   ],
   "source": [
    "# Load dataframe\n",
    "df = pd.read_pickle('../data/01_df_clean_2018.pkl')\n",
    "\n",
    "df.head()"
   ]
  },
  {
   "cell_type": "markdown",
   "metadata": {
    "Collapsed": "false"
   },
   "source": [
    "# Cyclical Features\n",
    "http://blog.davidkaleko.com/feature-engineering-cyclical-features.html"
   ]
  },
  {
   "cell_type": "code",
   "execution_count": 37,
   "metadata": {
    "Collapsed": "false",
    "ExecuteTime": {
     "end_time": "2020-03-17T03:20:08.724052Z",
     "start_time": "2020-03-17T03:20:08.251413Z"
    }
   },
   "outputs": [],
   "source": [
    "# Year\n",
    "df['opened_year'] = df['opened'].dt.year.astype('category')\n",
    "\n",
    "# Month\n",
    "month = df['opened'].dt.month\n",
    "df['opened_month_sin'] = np.sin(month*(2.*np.pi/12))\n",
    "df['opened_month_cos'] = np.cos(month*(2.*np.pi/12))\n",
    "\n",
    "# Week\n",
    "week = df['opened'].dt.week\n",
    "df['opened_week_sin'] = np.sin(week*(2.*np.pi/52))\n",
    "df['opened_week_cos'] = np.cos(week*(2.*np.pi/52))\n",
    "\n",
    "# Day of week\n",
    "day = df['opened'].dt.dayofweek\n",
    "df['opened_day_sin'] = np.sin(day*(2.*np.pi/7))\n",
    "df['opened_day_cos'] = np.cos(day*(2.*np.pi/7))\n",
    "\n",
    "# Hour\n",
    "hour = df['opened'].dt.hour\n",
    "df['opened_hour_sin'] = np.sin(hour*(2.*np.pi/24))\n",
    "df['opened_hour_cos'] = np.cos(hour*(2.*np.pi/24))"
   ]
  },
  {
   "cell_type": "code",
   "execution_count": 38,
   "metadata": {
    "Collapsed": "false",
    "ExecuteTime": {
     "end_time": "2020-03-17T03:20:09.083943Z",
     "start_time": "2020-03-17T03:20:09.061185Z"
    }
   },
   "outputs": [
    {
     "data": {
      "text/html": [
       "<div>\n",
       "<style scoped>\n",
       "    .dataframe tbody tr th:only-of-type {\n",
       "        vertical-align: middle;\n",
       "    }\n",
       "\n",
       "    .dataframe tbody tr th {\n",
       "        vertical-align: top;\n",
       "    }\n",
       "\n",
       "    .dataframe thead th {\n",
       "        text-align: right;\n",
       "    }\n",
       "</style>\n",
       "<table border=\"1\" class=\"dataframe\">\n",
       "  <thead>\n",
       "    <tr style=\"text-align: right;\">\n",
       "      <th></th>\n",
       "      <th>case_id</th>\n",
       "      <th>target</th>\n",
       "      <th>opened</th>\n",
       "      <th>closed</th>\n",
       "      <th>updated</th>\n",
       "      <th>status</th>\n",
       "      <th>status_notes</th>\n",
       "      <th>responsible_agency</th>\n",
       "      <th>category</th>\n",
       "      <th>request_type</th>\n",
       "      <th>...</th>\n",
       "      <th>has_media</th>\n",
       "      <th>opened_year</th>\n",
       "      <th>opened_month_sin</th>\n",
       "      <th>opened_month_cos</th>\n",
       "      <th>opened_week_sin</th>\n",
       "      <th>opened_week_cos</th>\n",
       "      <th>opened_day_sin</th>\n",
       "      <th>opened_day_cos</th>\n",
       "      <th>opened_hour_sin</th>\n",
       "      <th>opened_hour_cos</th>\n",
       "    </tr>\n",
       "  </thead>\n",
       "  <tbody>\n",
       "    <tr>\n",
       "      <th>810969</th>\n",
       "      <td>9995194</td>\n",
       "      <td>1</td>\n",
       "      <td>2018-12-31 10:42:22</td>\n",
       "      <td>2018-12-31 00:00:00</td>\n",
       "      <td>2018-12-31 00:00:00</td>\n",
       "      <td>Closed</td>\n",
       "      <td>Case Resolved - duplicate of 21375555 -</td>\n",
       "      <td>DPW - Bureau of Street Use and Mapping - G</td>\n",
       "      <td>General Request - PUBLIC WORKS</td>\n",
       "      <td>request_for_service</td>\n",
       "      <td>...</td>\n",
       "      <td>0</td>\n",
       "      <td>2018</td>\n",
       "      <td>-2.449294e-16</td>\n",
       "      <td>1.0</td>\n",
       "      <td>1.205367e-01</td>\n",
       "      <td>0.992709</td>\n",
       "      <td>0.000000</td>\n",
       "      <td>1.00000</td>\n",
       "      <td>0.500000</td>\n",
       "      <td>-0.866025</td>\n",
       "    </tr>\n",
       "    <tr>\n",
       "      <th>811474</th>\n",
       "      <td>9993791</td>\n",
       "      <td>1</td>\n",
       "      <td>2018-12-30 22:40:00</td>\n",
       "      <td>2018-12-30 23:13:06</td>\n",
       "      <td>2018-12-30 23:13:06</td>\n",
       "      <td>Closed</td>\n",
       "      <td>Case Resolved - Officer responded to request u...</td>\n",
       "      <td>Parking Enforcement Dispatch Queue</td>\n",
       "      <td>Parking Enforcement</td>\n",
       "      <td>Parking_on_Sidewalk</td>\n",
       "      <td>...</td>\n",
       "      <td>1</td>\n",
       "      <td>2018</td>\n",
       "      <td>-2.449294e-16</td>\n",
       "      <td>1.0</td>\n",
       "      <td>-2.449294e-16</td>\n",
       "      <td>1.000000</td>\n",
       "      <td>-0.781831</td>\n",
       "      <td>0.62349</td>\n",
       "      <td>-0.500000</td>\n",
       "      <td>0.866025</td>\n",
       "    </tr>\n",
       "    <tr>\n",
       "      <th>811481</th>\n",
       "      <td>9993771</td>\n",
       "      <td>1</td>\n",
       "      <td>2018-12-30 22:18:00</td>\n",
       "      <td>2018-12-30 22:19:29</td>\n",
       "      <td>2018-12-30 22:19:29</td>\n",
       "      <td>Closed</td>\n",
       "      <td>Case is Invalid - Contact name and phone numbe...</td>\n",
       "      <td>Parking Enforcement Dispatch Queue</td>\n",
       "      <td>Parking Enforcement</td>\n",
       "      <td>Blocking_Driveway_Cite_Only</td>\n",
       "      <td>...</td>\n",
       "      <td>0</td>\n",
       "      <td>2018</td>\n",
       "      <td>-2.449294e-16</td>\n",
       "      <td>1.0</td>\n",
       "      <td>-2.449294e-16</td>\n",
       "      <td>1.000000</td>\n",
       "      <td>-0.781831</td>\n",
       "      <td>0.62349</td>\n",
       "      <td>-0.500000</td>\n",
       "      <td>0.866025</td>\n",
       "    </tr>\n",
       "    <tr>\n",
       "      <th>811482</th>\n",
       "      <td>9993764</td>\n",
       "      <td>0</td>\n",
       "      <td>2018-12-30 22:14:00</td>\n",
       "      <td>2018-12-30 23:12:50</td>\n",
       "      <td>2018-12-30 23:12:50</td>\n",
       "      <td>Closed</td>\n",
       "      <td>Case Resolved - Officer responded to request u...</td>\n",
       "      <td>Parking Enforcement Dispatch Queue</td>\n",
       "      <td>Parking Enforcement</td>\n",
       "      <td>Blocking_Driveway_Cite_Tow</td>\n",
       "      <td>...</td>\n",
       "      <td>1</td>\n",
       "      <td>2018</td>\n",
       "      <td>-2.449294e-16</td>\n",
       "      <td>1.0</td>\n",
       "      <td>-2.449294e-16</td>\n",
       "      <td>1.000000</td>\n",
       "      <td>-0.781831</td>\n",
       "      <td>0.62349</td>\n",
       "      <td>-0.500000</td>\n",
       "      <td>0.866025</td>\n",
       "    </tr>\n",
       "    <tr>\n",
       "      <th>811494</th>\n",
       "      <td>9993737</td>\n",
       "      <td>0</td>\n",
       "      <td>2018-12-30 21:53:14</td>\n",
       "      <td>2018-12-30 22:18:00</td>\n",
       "      <td>2018-12-30 22:18:00</td>\n",
       "      <td>Closed</td>\n",
       "      <td>Case Transferred - See encampment sr#9993757</td>\n",
       "      <td>311 Supervisor Queue</td>\n",
       "      <td>General Request - PUBLIC WORKS</td>\n",
       "      <td>request_for_service</td>\n",
       "      <td>...</td>\n",
       "      <td>1</td>\n",
       "      <td>2018</td>\n",
       "      <td>-2.449294e-16</td>\n",
       "      <td>1.0</td>\n",
       "      <td>-2.449294e-16</td>\n",
       "      <td>1.000000</td>\n",
       "      <td>-0.781831</td>\n",
       "      <td>0.62349</td>\n",
       "      <td>-0.707107</td>\n",
       "      <td>0.707107</td>\n",
       "    </tr>\n",
       "  </tbody>\n",
       "</table>\n",
       "<p>5 rows × 30 columns</p>\n",
       "</div>"
      ],
      "text/plain": [
       "        case_id  target              opened              closed  \\\n",
       "810969  9995194       1 2018-12-31 10:42:22 2018-12-31 00:00:00   \n",
       "811474  9993791       1 2018-12-30 22:40:00 2018-12-30 23:13:06   \n",
       "811481  9993771       1 2018-12-30 22:18:00 2018-12-30 22:19:29   \n",
       "811482  9993764       0 2018-12-30 22:14:00 2018-12-30 23:12:50   \n",
       "811494  9993737       0 2018-12-30 21:53:14 2018-12-30 22:18:00   \n",
       "\n",
       "                   updated  status  \\\n",
       "810969 2018-12-31 00:00:00  Closed   \n",
       "811474 2018-12-30 23:13:06  Closed   \n",
       "811481 2018-12-30 22:19:29  Closed   \n",
       "811482 2018-12-30 23:12:50  Closed   \n",
       "811494 2018-12-30 22:18:00  Closed   \n",
       "\n",
       "                                             status_notes  \\\n",
       "810969            Case Resolved - duplicate of 21375555 -   \n",
       "811474  Case Resolved - Officer responded to request u...   \n",
       "811481  Case is Invalid - Contact name and phone numbe...   \n",
       "811482  Case Resolved - Officer responded to request u...   \n",
       "811494       Case Transferred - See encampment sr#9993757   \n",
       "\n",
       "                                responsible_agency  \\\n",
       "810969  DPW - Bureau of Street Use and Mapping - G   \n",
       "811474          Parking Enforcement Dispatch Queue   \n",
       "811481          Parking Enforcement Dispatch Queue   \n",
       "811482          Parking Enforcement Dispatch Queue   \n",
       "811494                        311 Supervisor Queue   \n",
       "\n",
       "                              category                 request_type  ...  \\\n",
       "810969  General Request - PUBLIC WORKS          request_for_service  ...   \n",
       "811474             Parking Enforcement          Parking_on_Sidewalk  ...   \n",
       "811481             Parking Enforcement  Blocking_Driveway_Cite_Only  ...   \n",
       "811482             Parking Enforcement   Blocking_Driveway_Cite_Tow  ...   \n",
       "811494  General Request - PUBLIC WORKS          request_for_service  ...   \n",
       "\n",
       "       has_media opened_year opened_month_sin opened_month_cos  \\\n",
       "810969         0        2018    -2.449294e-16              1.0   \n",
       "811474         1        2018    -2.449294e-16              1.0   \n",
       "811481         0        2018    -2.449294e-16              1.0   \n",
       "811482         1        2018    -2.449294e-16              1.0   \n",
       "811494         1        2018    -2.449294e-16              1.0   \n",
       "\n",
       "       opened_week_sin opened_week_cos  opened_day_sin  opened_day_cos  \\\n",
       "810969    1.205367e-01        0.992709        0.000000         1.00000   \n",
       "811474   -2.449294e-16        1.000000       -0.781831         0.62349   \n",
       "811481   -2.449294e-16        1.000000       -0.781831         0.62349   \n",
       "811482   -2.449294e-16        1.000000       -0.781831         0.62349   \n",
       "811494   -2.449294e-16        1.000000       -0.781831         0.62349   \n",
       "\n",
       "       opened_hour_sin opened_hour_cos  \n",
       "810969        0.500000       -0.866025  \n",
       "811474       -0.500000        0.866025  \n",
       "811481       -0.500000        0.866025  \n",
       "811482       -0.500000        0.866025  \n",
       "811494       -0.707107        0.707107  \n",
       "\n",
       "[5 rows x 30 columns]"
      ]
     },
     "execution_count": 38,
     "metadata": {},
     "output_type": "execute_result"
    }
   ],
   "source": [
    "df.head()"
   ]
  },
  {
   "cell_type": "markdown",
   "metadata": {
    "Collapsed": "false"
   },
   "source": [
    "# Latitude and Longitude"
   ]
  },
  {
   "cell_type": "code",
   "execution_count": 39,
   "metadata": {
    "Collapsed": "false",
    "ExecuteTime": {
     "end_time": "2020-03-17T03:20:12.192197Z",
     "start_time": "2020-03-17T03:20:12.189965Z"
    }
   },
   "outputs": [
    {
     "data": {
      "text/plain": [
       "(529820, 30)"
      ]
     },
     "execution_count": 39,
     "metadata": {},
     "output_type": "execute_result"
    }
   ],
   "source": [
    "# Rounding the lat/long\n",
    "df['latitude'] = round(df['latitude'], 4)\n",
    "df['longitude'] = round(df['longitude'], 4)\n",
    "df.shape"
   ]
  },
  {
   "cell_type": "markdown",
   "metadata": {
    "Collapsed": "false"
   },
   "source": [
    "# Resolution Time"
   ]
  },
  {
   "cell_type": "code",
   "execution_count": 40,
   "metadata": {
    "Collapsed": "false"
   },
   "outputs": [
    {
     "data": {
      "text/plain": [
       "(529769, 31)"
      ]
     },
     "execution_count": 40,
     "metadata": {},
     "output_type": "execute_result"
    }
   ],
   "source": [
    "# Diff in minutes\n",
    "df['resolution_time'] = df['closed'] - df['opened']\n",
    "df['resolution_time'] = (df['resolution_time']/np.timedelta64(1,'m'))\n",
    "# Remove rows with negative minutes & requests over 7 days\n",
    "df = df.loc[(df['resolution_time'] > 0)] #& (df['resolution_time'] < 10080)]\n",
    "df.shape"
   ]
  },
  {
   "cell_type": "markdown",
   "metadata": {
    "Collapsed": "false"
   },
   "source": [
    "# Category Grouping\n",
    "* General\n",
    "    * Blocked Pedestrian Walkway\n",
    "    * Encampment\n",
    "    * Noise Issue\n",
    "    * Park Requests\n",
    "    * Tree Maintenance\n",
    "* Cleaner Streets\n",
    "    * Garbage Containers\n",
    "    * Graffiti\n",
    "    * Illegal Postings\n",
    "    * Street or Sidewalk Cleaning\n",
    "* Parking & Transportation\n",
    "    * Abandoned Vehicles\n",
    "    * Blocked Driveway & Illegal Parking\n",
    "    * Muni Employee Feedback\n",
    "    * Muni Service Feedback\n",
    "* Repair\n",
    "    * Curb & Sidewalk Issues\n",
    "    * Damaged Public Property\n",
    "    * Flooding, Sewer & Water Leak Issues\n",
    "    * Parking & Traffic Sign Repair\n",
    "    * Pothole & Street Issues\n",
    "    * Streetlight Repair"
   ]
  },
  {
   "cell_type": "code",
   "execution_count": 41,
   "metadata": {
    "Collapsed": "false"
   },
   "outputs": [],
   "source": [
    "df.to_pickle('../data/02_df_pre_model_2018.pkl')"
   ]
  },
  {
   "cell_type": "markdown",
   "metadata": {
    "Collapsed": "false"
   },
   "source": [
    "# Appendix"
   ]
  },
  {
   "cell_type": "code",
   "execution_count": null,
   "metadata": {
    "Collapsed": "false"
   },
   "outputs": [],
   "source": [
    "# Distribution of Resolution Time\n",
    "plt.hist(df['resolution_time'])"
   ]
  },
  {
   "cell_type": "code",
   "execution_count": null,
   "metadata": {
    "Collapsed": "false"
   },
   "outputs": [],
   "source": [
    "# Top categories by frequency of wasteful requests\n",
    "df.loc[df['target']==1, 'category'].value_counts()[:10]"
   ]
  },
  {
   "cell_type": "code",
   "execution_count": null,
   "metadata": {
    "Collapsed": "false"
   },
   "outputs": [],
   "source": []
  }
 ],
 "metadata": {
  "kernelspec": {
   "display_name": "Python 3",
   "language": "python",
   "name": "python3"
  },
  "language_info": {
   "codemirror_mode": {
    "name": "ipython",
    "version": 3
   },
   "file_extension": ".py",
   "mimetype": "text/x-python",
   "name": "python",
   "nbconvert_exporter": "python",
   "pygments_lexer": "ipython3",
   "version": "3.7.6"
  },
  "toc": {
   "base_numbering": 1,
   "nav_menu": {},
   "number_sections": true,
   "sideBar": true,
   "skip_h1_title": false,
   "title_cell": "Table of Contents",
   "title_sidebar": "Contents",
   "toc_cell": false,
   "toc_position": {},
   "toc_section_display": true,
   "toc_window_display": false
  }
 },
 "nbformat": 4,
 "nbformat_minor": 4
}
