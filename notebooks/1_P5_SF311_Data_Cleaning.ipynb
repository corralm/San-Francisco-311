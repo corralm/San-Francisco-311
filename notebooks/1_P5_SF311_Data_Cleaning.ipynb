{
 "cells": [
  {
   "cell_type": "code",
   "execution_count": null,
   "metadata": {
    "Collapsed": "false",
    "ExecuteTime": {
     "end_time": "2020-03-17T02:57:55.891629Z",
     "start_time": "2020-03-17T02:57:55.889391Z"
    }
   },
   "outputs": [],
   "source": [
    "cat /proc/cpuinfo"
   ]
  },
  {
   "cell_type": "markdown",
   "metadata": {
    "Collapsed": "false"
   },
   "source": [
    "# Libraries and Notebook Options"
   ]
  },
  {
   "cell_type": "code",
   "execution_count": 2,
   "metadata": {
    "Collapsed": "false",
    "ExecuteTime": {
     "end_time": "2020-03-17T02:57:57.175452Z",
     "start_time": "2020-03-17T02:57:57.172777Z"
    }
   },
   "outputs": [],
   "source": [
    "import pandas as pd\n",
    "import numpy as np\n",
    "import pickle\n",
    "\n",
    "# # Exploratory Data Analysis\n",
    "# from pandas_profiling import ProfileReport"
   ]
  },
  {
   "cell_type": "markdown",
   "metadata": {
    "Collapsed": "false"
   },
   "source": [
    "# SODA API"
   ]
  },
  {
   "cell_type": "code",
   "execution_count": null,
   "metadata": {
    "Collapsed": "false",
    "ExecuteTime": {
     "end_time": "2020-03-17T02:57:58.480481Z",
     "start_time": "2020-03-17T02:57:58.478122Z"
    }
   },
   "outputs": [],
   "source": [
    "# from sodapy import Socrata\n",
    "# # Unauthenticated client only works with public data sets. Note 'None'\n",
    "# # in place of application token, and no username or password:\n",
    "# client = Socrata('data.sfgov.org', None)\n",
    "\n",
    "# # Authenticate the client\n",
    "# domain = 'data.sfgov.org'\n",
    "# app_token = 'tZuHs7ko1xQezRBAgUN10D0i9'\n",
    "# username = 'corraljrmiguel@gmail.com'\n",
    "# password = 'Xd9@rzwPhZjKsNg8cima'\n",
    "\n",
    "# client = Socrata(domain,\n",
    "#                  app_token,\n",
    "#                  username=username,\n",
    "#                  password=password)\n",
    "\n",
    "# # Returns as JSON from API\n",
    "# # converted to Python list of dictionaries by sodapy.\n",
    "# results = client.get('vw6y-z8j6', limit=10000)\n",
    "# # results = client.get('vw6y-z8j6', where='service_request_id=12167455')\n",
    "\n",
    "# # Convert to pandas dataframe\n",
    "# df = pd.DataFrame.from_records(results)"
   ]
  },
  {
   "cell_type": "markdown",
   "metadata": {
    "Collapsed": "false"
   },
   "source": [
    "# Data Cleaning"
   ]
  },
  {
   "cell_type": "code",
   "execution_count": 16,
   "metadata": {
    "Collapsed": "false",
    "ExecuteTime": {
     "end_time": "2020-03-17T02:58:30.626056Z",
     "start_time": "2020-03-17T02:57:59.298301Z"
    }
   },
   "outputs": [
    {
     "data": {
      "text/plain": [
       "(4108469, 47)"
      ]
     },
     "execution_count": 16,
     "metadata": {},
     "output_type": "execute_result"
    }
   ],
   "source": [
    "# # Import CSV – 4.1M rows\n",
    "# df = pd.read_csv('../data/311_Cases.csv')\n",
    "df = pd.read_csv('../data/rows.csv')\n",
    "\n",
    "# # [TEMPORARY]\n",
    "# df = read_pickle('../data/df_raw_all.pkl')\n",
    "# df = df.sample(n=20000, random_state=2020)\n",
    "\n",
    "# Sort dataframe by CaseID (newest first)\n",
    "df.sort_values(by='CaseID', ascending=False, inplace=True)\n",
    "\n",
    "# # Set index to CaseID\n",
    "# df.set_index('CaseID', drop=True)\n",
    "\n",
    "# Reset the index\n",
    "df.reset_index(drop=True, inplace=True)\n",
    "\n",
    "df.shape"
   ]
  },
  {
   "cell_type": "code",
   "execution_count": 20,
   "metadata": {
    "Collapsed": "false",
    "ExecuteTime": {
     "end_time": "2020-03-17T02:58:31.689174Z",
     "start_time": "2020-03-17T02:58:30.627673Z"
    }
   },
   "outputs": [
    {
     "name": "stdout",
     "output_type": "stream",
     "text": [
      "(4108469, 20)\n"
     ]
    },
    {
     "data": {
      "text/html": [
       "<div>\n",
       "<style scoped>\n",
       "    .dataframe tbody tr th:only-of-type {\n",
       "        vertical-align: middle;\n",
       "    }\n",
       "\n",
       "    .dataframe tbody tr th {\n",
       "        vertical-align: top;\n",
       "    }\n",
       "\n",
       "    .dataframe thead th {\n",
       "        text-align: right;\n",
       "    }\n",
       "</style>\n",
       "<table border=\"1\" class=\"dataframe\">\n",
       "  <thead>\n",
       "    <tr style=\"text-align: right;\">\n",
       "      <th></th>\n",
       "      <th>CaseID</th>\n",
       "      <th>Opened</th>\n",
       "      <th>Closed</th>\n",
       "      <th>Updated</th>\n",
       "      <th>Status</th>\n",
       "      <th>Status Notes</th>\n",
       "      <th>Responsible Agency</th>\n",
       "      <th>Category</th>\n",
       "      <th>Request Type</th>\n",
       "      <th>Request Details</th>\n",
       "      <th>Address</th>\n",
       "      <th>Street</th>\n",
       "      <th>Supervisor District</th>\n",
       "      <th>Neighborhood</th>\n",
       "      <th>Police District</th>\n",
       "      <th>Latitude</th>\n",
       "      <th>Longitude</th>\n",
       "      <th>Point</th>\n",
       "      <th>Source</th>\n",
       "      <th>Media URL</th>\n",
       "    </tr>\n",
       "  </thead>\n",
       "  <tbody>\n",
       "    <tr>\n",
       "      <th>0</th>\n",
       "      <td>12217125</td>\n",
       "      <td>03/15/2020 09:48:00 AM</td>\n",
       "      <td>03/15/2020 09:55:27 AM</td>\n",
       "      <td>03/15/2020 09:55:27 AM</td>\n",
       "      <td>Closed</td>\n",
       "      <td>Case is a Duplicate - This issue has already b...</td>\n",
       "      <td>Parking Enforcement Dispatch Queue</td>\n",
       "      <td>Parking Enforcement</td>\n",
       "      <td>Parking_on_Sidewalk</td>\n",
       "      <td>White -  -</td>\n",
       "      <td>79 REGENT ST, SAN FRANCISCO, CA, 94112</td>\n",
       "      <td>REGENT ST</td>\n",
       "      <td>11.0</td>\n",
       "      <td>Outer Mission</td>\n",
       "      <td>INGLESIDE</td>\n",
       "      <td>37.709772</td>\n",
       "      <td>-122.456850</td>\n",
       "      <td>(37.70977185, -122.45684959)</td>\n",
       "      <td>Phone</td>\n",
       "      <td>http://mobile311.sfgov.org/reports/12217125/ph...</td>\n",
       "    </tr>\n",
       "    <tr>\n",
       "      <th>1</th>\n",
       "      <td>12217120</td>\n",
       "      <td>03/15/2020 09:46:48 AM</td>\n",
       "      <td>03/15/2020 11:34:19 AM</td>\n",
       "      <td>03/15/2020 11:34:19 AM</td>\n",
       "      <td>Closed</td>\n",
       "      <td>Case Resolved - Pickup completed.</td>\n",
       "      <td>Recology_Abandoned</td>\n",
       "      <td>Street and Sidewalk Cleaning</td>\n",
       "      <td>Bulky Items</td>\n",
       "      <td>Boxed or Bagged Items</td>\n",
       "      <td>1821 LARKIN ST, SAN FRANCISCO, CA, 94109</td>\n",
       "      <td>LARKIN ST</td>\n",
       "      <td>3.0</td>\n",
       "      <td>Polk Gulch</td>\n",
       "      <td>CENTRAL</td>\n",
       "      <td>37.794470</td>\n",
       "      <td>-122.419841</td>\n",
       "      <td>(37.79447016, -122.41984125)</td>\n",
       "      <td>Mobile/Open311</td>\n",
       "      <td>NaN</td>\n",
       "    </tr>\n",
       "    <tr>\n",
       "      <th>2</th>\n",
       "      <td>12217118</td>\n",
       "      <td>03/15/2020 09:45:41 AM</td>\n",
       "      <td>03/15/2020 10:37:53 AM</td>\n",
       "      <td>03/15/2020 10:37:53 AM</td>\n",
       "      <td>Closed</td>\n",
       "      <td>Case Resolved - Pickup completed.</td>\n",
       "      <td>Recology_Abandoned</td>\n",
       "      <td>Street and Sidewalk Cleaning</td>\n",
       "      <td>Bulky Items</td>\n",
       "      <td>Furniture</td>\n",
       "      <td>1504 JACKSON ST, SAN FRANCISCO, CA, 94109</td>\n",
       "      <td>JACKSON ST</td>\n",
       "      <td>3.0</td>\n",
       "      <td>Polk Gulch</td>\n",
       "      <td>NORTHERN</td>\n",
       "      <td>37.794438</td>\n",
       "      <td>-122.419890</td>\n",
       "      <td>(37.7944381, -122.41988987)</td>\n",
       "      <td>Mobile/Open311</td>\n",
       "      <td>NaN</td>\n",
       "    </tr>\n",
       "    <tr>\n",
       "      <th>3</th>\n",
       "      <td>12217114</td>\n",
       "      <td>03/15/2020 09:44:00 AM</td>\n",
       "      <td>03/15/2020 10:57:06 AM</td>\n",
       "      <td>03/15/2020 10:57:06 AM</td>\n",
       "      <td>Closed</td>\n",
       "      <td>Case Resolved - Officer responded to request u...</td>\n",
       "      <td>Parking Enforcement Dispatch Queue</td>\n",
       "      <td>Parking Enforcement</td>\n",
       "      <td>Blocking_Driveway_Cite_Only</td>\n",
       "      <td>Dark grey - Toyota Highlander - 6XUP467</td>\n",
       "      <td>520 28TH AVE, SAN FRANCISCO, CA, 94121</td>\n",
       "      <td>28TH AVE</td>\n",
       "      <td>1.0</td>\n",
       "      <td>Outer Richmond</td>\n",
       "      <td>RICHMOND</td>\n",
       "      <td>37.779429</td>\n",
       "      <td>-122.487687</td>\n",
       "      <td>(37.7794291, -122.4876867)</td>\n",
       "      <td>Web</td>\n",
       "      <td>NaN</td>\n",
       "    </tr>\n",
       "    <tr>\n",
       "      <th>4</th>\n",
       "      <td>12217108</td>\n",
       "      <td>03/15/2020 09:41:00 AM</td>\n",
       "      <td>03/15/2020 11:07:40 AM</td>\n",
       "      <td>03/15/2020 11:07:40 AM</td>\n",
       "      <td>Closed</td>\n",
       "      <td>Case Resolved - Pickup completed.</td>\n",
       "      <td>Recology_Abandoned</td>\n",
       "      <td>Street and Sidewalk Cleaning</td>\n",
       "      <td>Bulky Items</td>\n",
       "      <td>Electronics</td>\n",
       "      <td>Intersection of WOOLSEY ST and GOETTINGEN ST</td>\n",
       "      <td>WOOLSEY ST</td>\n",
       "      <td>9.0</td>\n",
       "      <td>Portola</td>\n",
       "      <td>BAYVIEW</td>\n",
       "      <td>37.724461</td>\n",
       "      <td>-122.405571</td>\n",
       "      <td>(37.7244606, -122.40557098)</td>\n",
       "      <td>Phone</td>\n",
       "      <td>NaN</td>\n",
       "    </tr>\n",
       "  </tbody>\n",
       "</table>\n",
       "</div>"
      ],
      "text/plain": [
       "     CaseID                  Opened                  Closed  \\\n",
       "0  12217125  03/15/2020 09:48:00 AM  03/15/2020 09:55:27 AM   \n",
       "1  12217120  03/15/2020 09:46:48 AM  03/15/2020 11:34:19 AM   \n",
       "2  12217118  03/15/2020 09:45:41 AM  03/15/2020 10:37:53 AM   \n",
       "3  12217114  03/15/2020 09:44:00 AM  03/15/2020 10:57:06 AM   \n",
       "4  12217108  03/15/2020 09:41:00 AM  03/15/2020 11:07:40 AM   \n",
       "\n",
       "                  Updated  Status  \\\n",
       "0  03/15/2020 09:55:27 AM  Closed   \n",
       "1  03/15/2020 11:34:19 AM  Closed   \n",
       "2  03/15/2020 10:37:53 AM  Closed   \n",
       "3  03/15/2020 10:57:06 AM  Closed   \n",
       "4  03/15/2020 11:07:40 AM  Closed   \n",
       "\n",
       "                                        Status Notes  \\\n",
       "0  Case is a Duplicate - This issue has already b...   \n",
       "1                  Case Resolved - Pickup completed.   \n",
       "2                  Case Resolved - Pickup completed.   \n",
       "3  Case Resolved - Officer responded to request u...   \n",
       "4                  Case Resolved - Pickup completed.   \n",
       "\n",
       "                   Responsible Agency                      Category  \\\n",
       "0  Parking Enforcement Dispatch Queue           Parking Enforcement   \n",
       "1                  Recology_Abandoned  Street and Sidewalk Cleaning   \n",
       "2                  Recology_Abandoned  Street and Sidewalk Cleaning   \n",
       "3  Parking Enforcement Dispatch Queue           Parking Enforcement   \n",
       "4                  Recology_Abandoned  Street and Sidewalk Cleaning   \n",
       "\n",
       "                  Request Type                          Request Details  \\\n",
       "0          Parking_on_Sidewalk                               White -  -   \n",
       "1                  Bulky Items                    Boxed or Bagged Items   \n",
       "2                  Bulky Items                                Furniture   \n",
       "3  Blocking_Driveway_Cite_Only  Dark grey - Toyota Highlander - 6XUP467   \n",
       "4                  Bulky Items                              Electronics   \n",
       "\n",
       "                                        Address      Street  \\\n",
       "0        79 REGENT ST, SAN FRANCISCO, CA, 94112   REGENT ST   \n",
       "1      1821 LARKIN ST, SAN FRANCISCO, CA, 94109   LARKIN ST   \n",
       "2     1504 JACKSON ST, SAN FRANCISCO, CA, 94109  JACKSON ST   \n",
       "3        520 28TH AVE, SAN FRANCISCO, CA, 94121    28TH AVE   \n",
       "4  Intersection of WOOLSEY ST and GOETTINGEN ST  WOOLSEY ST   \n",
       "\n",
       "   Supervisor District    Neighborhood Police District   Latitude   Longitude  \\\n",
       "0                 11.0   Outer Mission       INGLESIDE  37.709772 -122.456850   \n",
       "1                  3.0      Polk Gulch         CENTRAL  37.794470 -122.419841   \n",
       "2                  3.0      Polk Gulch        NORTHERN  37.794438 -122.419890   \n",
       "3                  1.0  Outer Richmond        RICHMOND  37.779429 -122.487687   \n",
       "4                  9.0         Portola         BAYVIEW  37.724461 -122.405571   \n",
       "\n",
       "                          Point          Source  \\\n",
       "0  (37.70977185, -122.45684959)           Phone   \n",
       "1  (37.79447016, -122.41984125)  Mobile/Open311   \n",
       "2   (37.7944381, -122.41988987)  Mobile/Open311   \n",
       "3    (37.7794291, -122.4876867)             Web   \n",
       "4   (37.7244606, -122.40557098)           Phone   \n",
       "\n",
       "                                           Media URL  \n",
       "0  http://mobile311.sfgov.org/reports/12217125/ph...  \n",
       "1                                                NaN  \n",
       "2                                                NaN  \n",
       "3                                                NaN  \n",
       "4                                                NaN  "
      ]
     },
     "execution_count": 20,
     "metadata": {},
     "output_type": "execute_result"
    }
   ],
   "source": [
    "# Drop all computed columns (unnecessary)\n",
    "df = df.iloc[:, 0:20]\n",
    "# df = df.loc[:, ~df.columns.str.contains('^:@')]\n",
    "\n",
    "# Drop 'Updated' column\n",
    "df.drop(columns='Updated', inplace=True)\n",
    "\n",
    "print(df.shape)\n",
    "df.head()"
   ]
  },
  {
   "cell_type": "code",
   "execution_count": 21,
   "metadata": {
    "Collapsed": "false",
    "ExecuteTime": {
     "end_time": "2020-03-17T02:58:32.558366Z",
     "start_time": "2020-03-17T02:58:31.690794Z"
    }
   },
   "outputs": [
    {
     "name": "stdout",
     "output_type": "stream",
     "text": [
      "<class 'pandas.core.frame.DataFrame'>\n",
      "RangeIndex: 4108469 entries, 0 to 4108468\n",
      "Data columns (total 20 columns):\n",
      " #   Column               Dtype  \n",
      "---  ------               -----  \n",
      " 0   case_id              int64  \n",
      " 1   opened               object \n",
      " 2   closed               object \n",
      " 3   updated              object \n",
      " 4   status               object \n",
      " 5   status_notes         object \n",
      " 6   responsible_agency   object \n",
      " 7   category             object \n",
      " 8   request_type         object \n",
      " 9   request_details      object \n",
      " 10  address              object \n",
      " 11  street               object \n",
      " 12  supervisor_district  float64\n",
      " 13  neighborhood         object \n",
      " 14  police_district      object \n",
      " 15  latitude             float64\n",
      " 16  longitude            float64\n",
      " 17  point                object \n",
      " 18  source               object \n",
      " 19  media_url            object \n",
      "dtypes: float64(3), int64(1), object(16)\n",
      "memory usage: 626.9+ MB\n"
     ]
    }
   ],
   "source": [
    "# Strip column names and format\n",
    "df.columns = df.columns.str.strip().str.lower().str.replace(\n",
    "    ' ', '_').str.replace('(', '').str.replace(')', '')\n",
    "\n",
    "# Rename 'caseid' column\n",
    "df.rename({'caseid': 'case_id'}, axis='columns', inplace=True)\n",
    "\n",
    "df.info()"
   ]
  },
  {
   "cell_type": "code",
   "execution_count": 22,
   "metadata": {
    "Collapsed": "false",
    "ExecuteTime": {
     "end_time": "2020-03-17T03:16:19.935840Z",
     "start_time": "2020-03-17T02:58:32.560364Z"
    }
   },
   "outputs": [
    {
     "data": {
      "text/plain": [
       "(4108469, 20)"
      ]
     },
     "execution_count": 22,
     "metadata": {},
     "output_type": "execute_result"
    }
   ],
   "source": [
    "# Convert time columns to datetime\n",
    "df['opened'] = pd.to_datetime(df['opened'])\n",
    "df['closed'] = pd.to_datetime(df['closed'])\n",
    "df['updated'] = pd.to_datetime(df['updated'])\n",
    "# df.iloc[:, 1:4] = pd.to_datetime(df.iloc[:, 1:4].stack()).unstack()\n",
    "\n",
    "df.shape"
   ]
  },
  {
   "cell_type": "code",
   "execution_count": 89,
   "metadata": {
    "Collapsed": "false"
   },
   "outputs": [],
   "source": [
    "# # Pickle dataframe\n",
    "# df.to_pickle('../data/df_columns_to_datetime.pkl')\n",
    "\n",
    "# Load dataframe\n",
    "df = pd.read_pickle('../data/df_columns_to_datetime.pkl')"
   ]
  },
  {
   "cell_type": "code",
   "execution_count": 90,
   "metadata": {
    "Collapsed": "false",
    "ExecuteTime": {
     "end_time": "2020-03-17T03:17:38.953681Z",
     "start_time": "2020-03-17T03:17:38.429690Z"
    }
   },
   "outputs": [
    {
     "name": "stdout",
     "output_type": "stream",
     "text": [
      "<class 'pandas.core.frame.DataFrame'>\n",
      "RangeIndex: 4108469 entries, 0 to 4108468\n",
      "Data columns (total 20 columns):\n",
      " #   Column               Dtype         \n",
      "---  ------               -----         \n",
      " 0   case_id              int64         \n",
      " 1   opened               datetime64[ns]\n",
      " 2   closed               datetime64[ns]\n",
      " 3   updated              datetime64[ns]\n",
      " 4   status               object        \n",
      " 5   status_notes         object        \n",
      " 6   responsible_agency   object        \n",
      " 7   category             category      \n",
      " 8   request_type         object        \n",
      " 9   request_details      object        \n",
      " 10  address              object        \n",
      " 11  street               object        \n",
      " 12  supervisor_district  category      \n",
      " 13  neighborhood         category      \n",
      " 14  police_district      category      \n",
      " 15  latitude             float64       \n",
      " 16  longitude            float64       \n",
      " 17  point                object        \n",
      " 18  source               category      \n",
      " 19  media_url            object        \n",
      "dtypes: category(5), datetime64[ns](3), float64(2), int64(1), object(9)\n",
      "memory usage: 489.8+ MB\n"
     ]
    }
   ],
   "source": [
    "# Convert categorical columns to 'category' type\n",
    "df['supervisor_district'] = pd.to_numeric(df['supervisor_district'], downcast='integer').astype('category')\n",
    "\n",
    "cols = df[['category', 'neighborhood', 'police_district', 'source']]\n",
    "for col in cols:\n",
    "    df[col] = df[col].astype('category')\n",
    "    \n",
    "df.info()"
   ]
  },
  {
   "cell_type": "code",
   "execution_count": 91,
   "metadata": {
    "Collapsed": "false"
   },
   "outputs": [],
   "source": [
    "# Create 'has_media' column\n",
    "df['has_media'] = df['media_url'].notnull().astype('int8').astype('category')\n",
    "\n",
    "# Drop 'media_url' as we now have 'has_media'\n",
    "df.drop(columns=['media_url'], inplace=True)\n",
    "\n",
    "# Drop all rows with any missing value\n",
    "df.dropna(how='any', inplace=True)"
   ]
  },
  {
   "cell_type": "code",
   "execution_count": 92,
   "metadata": {
    "Collapsed": "false"
   },
   "outputs": [
    {
     "name": "stdout",
     "output_type": "stream",
     "text": [
      "<class 'pandas.core.frame.DataFrame'>\n",
      "Int64Index: 3618752 entries, 0 to 4108468\n",
      "Data columns (total 20 columns):\n",
      " #   Column               Dtype         \n",
      "---  ------               -----         \n",
      " 0   case_id              int64         \n",
      " 1   opened               datetime64[ns]\n",
      " 2   closed               datetime64[ns]\n",
      " 3   updated              datetime64[ns]\n",
      " 4   status               object        \n",
      " 5   status_notes         object        \n",
      " 6   responsible_agency   object        \n",
      " 7   category             category      \n",
      " 8   request_type         object        \n",
      " 9   request_details      object        \n",
      " 10  address              object        \n",
      " 11  street               object        \n",
      " 12  supervisor_district  category      \n",
      " 13  neighborhood         category      \n",
      " 14  police_district      category      \n",
      " 15  latitude             float64       \n",
      " 16  longitude            float64       \n",
      " 17  point                object        \n",
      " 18  source               category      \n",
      " 19  has_media            category      \n",
      "dtypes: category(6), datetime64[ns](3), float64(2), int64(1), object(8)\n",
      "memory usage: 434.9+ MB\n"
     ]
    }
   ],
   "source": [
    "df.info()"
   ]
  },
  {
   "cell_type": "markdown",
   "metadata": {
    "Collapsed": "false"
   },
   "source": [
    "# Target Variable"
   ]
  },
  {
   "cell_type": "code",
   "execution_count": 93,
   "metadata": {
    "Collapsed": "false",
    "ExecuteTime": {
     "end_time": "2020-03-17T03:17:42.088326Z",
     "start_time": "2020-03-17T03:17:41.565353Z"
    }
   },
   "outputs": [],
   "source": [
    "# # Create 'is_duplicate' column\n",
    "# def create_is_duplicate(df):\n",
    "#     \"\"\"Return 'is_duplicate' column\"\"\"\n",
    "    \n",
    "#     # Search for duplicates in 'status_notes'\n",
    "#     df.insert(loc=1, column='is_duplicate', \n",
    "#               value=df['status_notes'].str.lower().str.contains('dup', regex=True).astype('int'))\n",
    "    \n",
    "#     # Fill 'nan' values with 0\n",
    "#     df['is_duplicate'].fillna(0, inplace=True)\n",
    "    \n",
    "#     return df\n",
    "\n",
    "# create_is_duplicate(df)"
   ]
  },
  {
   "cell_type": "markdown",
   "metadata": {
    "Collapsed": "false"
   },
   "source": [
    "SF311 appears to have a problem with requests that are not resolved since there isn't enough information or worse, the issue is not found once a team is on site. \n",
    "\n",
    "* duplicates\n",
    "    * dup\n",
    "    * dupe\n",
    "    * duplicate\n",
    "    * same\n",
    "    * already\n",
    "    * abated\n",
    "* invalid\n",
    "    * cancelled\n",
    "    * case is invalid\n",
    "    * no action required\n",
    "    * insufficient information provided\n",
    "    * not accepted\n",
    "* waste\n",
    "    * not found\n",
    "    * nothing found\n",
    "    * none\n",
    "    * gone on arrival\n",
    "    * unable to locate\n",
    "    * no longer\n",
    "    * no condition\n",
    "    * no action\n",
    "    * no response\n",
    "    * no construction"
   ]
  },
  {
   "cell_type": "code",
   "execution_count": 94,
   "metadata": {
    "Collapsed": "false"
   },
   "outputs": [
    {
     "data": {
      "text/html": [
       "<div>\n",
       "<style scoped>\n",
       "    .dataframe tbody tr th:only-of-type {\n",
       "        vertical-align: middle;\n",
       "    }\n",
       "\n",
       "    .dataframe tbody tr th {\n",
       "        vertical-align: top;\n",
       "    }\n",
       "\n",
       "    .dataframe thead th {\n",
       "        text-align: right;\n",
       "    }\n",
       "</style>\n",
       "<table border=\"1\" class=\"dataframe\">\n",
       "  <thead>\n",
       "    <tr style=\"text-align: right;\">\n",
       "      <th></th>\n",
       "      <th>case_id</th>\n",
       "      <th>target</th>\n",
       "      <th>opened</th>\n",
       "      <th>closed</th>\n",
       "      <th>updated</th>\n",
       "      <th>status</th>\n",
       "      <th>status_notes</th>\n",
       "      <th>responsible_agency</th>\n",
       "      <th>category</th>\n",
       "      <th>request_type</th>\n",
       "      <th>...</th>\n",
       "      <th>address</th>\n",
       "      <th>street</th>\n",
       "      <th>supervisor_district</th>\n",
       "      <th>neighborhood</th>\n",
       "      <th>police_district</th>\n",
       "      <th>latitude</th>\n",
       "      <th>longitude</th>\n",
       "      <th>point</th>\n",
       "      <th>source</th>\n",
       "      <th>has_media</th>\n",
       "    </tr>\n",
       "  </thead>\n",
       "  <tbody>\n",
       "    <tr>\n",
       "      <th>0</th>\n",
       "      <td>12217125</td>\n",
       "      <td>1</td>\n",
       "      <td>2020-03-15 09:48:00</td>\n",
       "      <td>2020-03-15 09:55:27</td>\n",
       "      <td>2020-03-15 09:55:27</td>\n",
       "      <td>Closed</td>\n",
       "      <td>Case is a Duplicate - This issue has already b...</td>\n",
       "      <td>Parking Enforcement Dispatch Queue</td>\n",
       "      <td>Parking Enforcement</td>\n",
       "      <td>Parking_on_Sidewalk</td>\n",
       "      <td>...</td>\n",
       "      <td>79 REGENT ST, SAN FRANCISCO, CA, 94112</td>\n",
       "      <td>REGENT ST</td>\n",
       "      <td>11.0</td>\n",
       "      <td>Outer Mission</td>\n",
       "      <td>INGLESIDE</td>\n",
       "      <td>37.709772</td>\n",
       "      <td>-122.456850</td>\n",
       "      <td>(37.70977185, -122.45684959)</td>\n",
       "      <td>Phone</td>\n",
       "      <td>1</td>\n",
       "    </tr>\n",
       "    <tr>\n",
       "      <th>1</th>\n",
       "      <td>12217120</td>\n",
       "      <td>0</td>\n",
       "      <td>2020-03-15 09:46:48</td>\n",
       "      <td>2020-03-15 11:34:19</td>\n",
       "      <td>2020-03-15 11:34:19</td>\n",
       "      <td>Closed</td>\n",
       "      <td>Case Resolved - Pickup completed.</td>\n",
       "      <td>Recology_Abandoned</td>\n",
       "      <td>Street and Sidewalk Cleaning</td>\n",
       "      <td>Bulky Items</td>\n",
       "      <td>...</td>\n",
       "      <td>1821 LARKIN ST, SAN FRANCISCO, CA, 94109</td>\n",
       "      <td>LARKIN ST</td>\n",
       "      <td>3.0</td>\n",
       "      <td>Polk Gulch</td>\n",
       "      <td>CENTRAL</td>\n",
       "      <td>37.794470</td>\n",
       "      <td>-122.419841</td>\n",
       "      <td>(37.79447016, -122.41984125)</td>\n",
       "      <td>Mobile/Open311</td>\n",
       "      <td>0</td>\n",
       "    </tr>\n",
       "    <tr>\n",
       "      <th>2</th>\n",
       "      <td>12217118</td>\n",
       "      <td>0</td>\n",
       "      <td>2020-03-15 09:45:41</td>\n",
       "      <td>2020-03-15 10:37:53</td>\n",
       "      <td>2020-03-15 10:37:53</td>\n",
       "      <td>Closed</td>\n",
       "      <td>Case Resolved - Pickup completed.</td>\n",
       "      <td>Recology_Abandoned</td>\n",
       "      <td>Street and Sidewalk Cleaning</td>\n",
       "      <td>Bulky Items</td>\n",
       "      <td>...</td>\n",
       "      <td>1504 JACKSON ST, SAN FRANCISCO, CA, 94109</td>\n",
       "      <td>JACKSON ST</td>\n",
       "      <td>3.0</td>\n",
       "      <td>Polk Gulch</td>\n",
       "      <td>NORTHERN</td>\n",
       "      <td>37.794438</td>\n",
       "      <td>-122.419890</td>\n",
       "      <td>(37.7944381, -122.41988987)</td>\n",
       "      <td>Mobile/Open311</td>\n",
       "      <td>0</td>\n",
       "    </tr>\n",
       "    <tr>\n",
       "      <th>3</th>\n",
       "      <td>12217114</td>\n",
       "      <td>0</td>\n",
       "      <td>2020-03-15 09:44:00</td>\n",
       "      <td>2020-03-15 10:57:06</td>\n",
       "      <td>2020-03-15 10:57:06</td>\n",
       "      <td>Closed</td>\n",
       "      <td>Case Resolved - Officer responded to request u...</td>\n",
       "      <td>Parking Enforcement Dispatch Queue</td>\n",
       "      <td>Parking Enforcement</td>\n",
       "      <td>Blocking_Driveway_Cite_Only</td>\n",
       "      <td>...</td>\n",
       "      <td>520 28TH AVE, SAN FRANCISCO, CA, 94121</td>\n",
       "      <td>28TH AVE</td>\n",
       "      <td>1.0</td>\n",
       "      <td>Outer Richmond</td>\n",
       "      <td>RICHMOND</td>\n",
       "      <td>37.779429</td>\n",
       "      <td>-122.487687</td>\n",
       "      <td>(37.7794291, -122.4876867)</td>\n",
       "      <td>Web</td>\n",
       "      <td>0</td>\n",
       "    </tr>\n",
       "    <tr>\n",
       "      <th>4</th>\n",
       "      <td>12217108</td>\n",
       "      <td>0</td>\n",
       "      <td>2020-03-15 09:41:00</td>\n",
       "      <td>2020-03-15 11:07:40</td>\n",
       "      <td>2020-03-15 11:07:40</td>\n",
       "      <td>Closed</td>\n",
       "      <td>Case Resolved - Pickup completed.</td>\n",
       "      <td>Recology_Abandoned</td>\n",
       "      <td>Street and Sidewalk Cleaning</td>\n",
       "      <td>Bulky Items</td>\n",
       "      <td>...</td>\n",
       "      <td>Intersection of WOOLSEY ST and GOETTINGEN ST</td>\n",
       "      <td>WOOLSEY ST</td>\n",
       "      <td>9.0</td>\n",
       "      <td>Portola</td>\n",
       "      <td>BAYVIEW</td>\n",
       "      <td>37.724461</td>\n",
       "      <td>-122.405571</td>\n",
       "      <td>(37.7244606, -122.40557098)</td>\n",
       "      <td>Phone</td>\n",
       "      <td>0</td>\n",
       "    </tr>\n",
       "  </tbody>\n",
       "</table>\n",
       "<p>5 rows × 21 columns</p>\n",
       "</div>"
      ],
      "text/plain": [
       "    case_id  target              opened              closed  \\\n",
       "0  12217125       1 2020-03-15 09:48:00 2020-03-15 09:55:27   \n",
       "1  12217120       0 2020-03-15 09:46:48 2020-03-15 11:34:19   \n",
       "2  12217118       0 2020-03-15 09:45:41 2020-03-15 10:37:53   \n",
       "3  12217114       0 2020-03-15 09:44:00 2020-03-15 10:57:06   \n",
       "4  12217108       0 2020-03-15 09:41:00 2020-03-15 11:07:40   \n",
       "\n",
       "              updated  status  \\\n",
       "0 2020-03-15 09:55:27  Closed   \n",
       "1 2020-03-15 11:34:19  Closed   \n",
       "2 2020-03-15 10:37:53  Closed   \n",
       "3 2020-03-15 10:57:06  Closed   \n",
       "4 2020-03-15 11:07:40  Closed   \n",
       "\n",
       "                                        status_notes  \\\n",
       "0  Case is a Duplicate - This issue has already b...   \n",
       "1                  Case Resolved - Pickup completed.   \n",
       "2                  Case Resolved - Pickup completed.   \n",
       "3  Case Resolved - Officer responded to request u...   \n",
       "4                  Case Resolved - Pickup completed.   \n",
       "\n",
       "                   responsible_agency                      category  \\\n",
       "0  Parking Enforcement Dispatch Queue           Parking Enforcement   \n",
       "1                  Recology_Abandoned  Street and Sidewalk Cleaning   \n",
       "2                  Recology_Abandoned  Street and Sidewalk Cleaning   \n",
       "3  Parking Enforcement Dispatch Queue           Parking Enforcement   \n",
       "4                  Recology_Abandoned  Street and Sidewalk Cleaning   \n",
       "\n",
       "                  request_type  ...  \\\n",
       "0          Parking_on_Sidewalk  ...   \n",
       "1                  Bulky Items  ...   \n",
       "2                  Bulky Items  ...   \n",
       "3  Blocking_Driveway_Cite_Only  ...   \n",
       "4                  Bulky Items  ...   \n",
       "\n",
       "                                        address      street  \\\n",
       "0        79 REGENT ST, SAN FRANCISCO, CA, 94112   REGENT ST   \n",
       "1      1821 LARKIN ST, SAN FRANCISCO, CA, 94109   LARKIN ST   \n",
       "2     1504 JACKSON ST, SAN FRANCISCO, CA, 94109  JACKSON ST   \n",
       "3        520 28TH AVE, SAN FRANCISCO, CA, 94121    28TH AVE   \n",
       "4  Intersection of WOOLSEY ST and GOETTINGEN ST  WOOLSEY ST   \n",
       "\n",
       "  supervisor_district    neighborhood police_district   latitude   longitude  \\\n",
       "0                11.0   Outer Mission       INGLESIDE  37.709772 -122.456850   \n",
       "1                 3.0      Polk Gulch         CENTRAL  37.794470 -122.419841   \n",
       "2                 3.0      Polk Gulch        NORTHERN  37.794438 -122.419890   \n",
       "3                 1.0  Outer Richmond        RICHMOND  37.779429 -122.487687   \n",
       "4                 9.0         Portola         BAYVIEW  37.724461 -122.405571   \n",
       "\n",
       "                          point          source has_media  \n",
       "0  (37.70977185, -122.45684959)           Phone         1  \n",
       "1  (37.79447016, -122.41984125)  Mobile/Open311         0  \n",
       "2   (37.7944381, -122.41988987)  Mobile/Open311         0  \n",
       "3    (37.7794291, -122.4876867)             Web         0  \n",
       "4   (37.7244606, -122.40557098)           Phone         0  \n",
       "\n",
       "[5 rows x 21 columns]"
      ]
     },
     "execution_count": 94,
     "metadata": {},
     "output_type": "execute_result"
    }
   ],
   "source": [
    "# Create target variable – wasteful requests\n",
    "def create_target(df):\n",
    "    \"\"\"Return 'target' column\"\"\"\n",
    "    regex_str = 'dup|same|already|abated|invalid|cancelled|insufficient|unable|gone|no\\b|none\\b|not\\b|nothing'\n",
    "    df.insert(loc=1, column='target',\n",
    "               value=df['status_notes'].str.lower().str.contains(regex_str, regex=True).astype('int8'))\n",
    "    return df\n",
    "    \n",
    "create_target(df)\n",
    "\n",
    "df.head()"
   ]
  },
  {
   "cell_type": "code",
   "execution_count": 95,
   "metadata": {
    "Collapsed": "false",
    "ExecuteTime": {
     "end_time": "2020-03-17T03:17:31.605120Z",
     "start_time": "2020-03-17T03:17:30.771466Z"
    }
   },
   "outputs": [
    {
     "data": {
      "text/plain": [
       "(530810, 21)"
      ]
     },
     "execution_count": 95,
     "metadata": {},
     "output_type": "execute_result"
    }
   ],
   "source": [
    "# # Remove incomplete years (2008 & 2020)\n",
    "# df = df.loc[(df['opened'] >= '2009-01-01') & (df['opened'] <= '2019-12-31')]\n",
    "\n",
    "# TEMP\n",
    "df = df.loc[(df['opened'] >= '2018-01-01') & (df['closed'] <= '2018-12-31')]\n",
    "\n",
    "# # Drop 'status' column as all incidents are 'closed' after running the code above\n",
    "# df.drop('status', axis=1, inplace=True)\n",
    "\n",
    "df.shape"
   ]
  },
  {
   "cell_type": "code",
   "execution_count": null,
   "metadata": {
    "Collapsed": "false",
    "ExecuteTime": {
     "end_time": "2020-03-17T03:17:42.415618Z",
     "start_time": "2020-03-17T03:17:42.413495Z"
    }
   },
   "outputs": [],
   "source": [
    "# from pandas_profiling import ProfileReport\n",
    "# profile = ProfileReport(df, title='Pandas Profiling Report', html={'style':{'full_width':True}})\n",
    "# profile.to_notebook_iframe()"
   ]
  },
  {
   "cell_type": "code",
   "execution_count": 97,
   "metadata": {
    "Collapsed": "false",
    "ExecuteTime": {
     "end_time": "2020-03-17T03:17:43.715173Z",
     "start_time": "2020-03-17T03:17:43.712987Z"
    }
   },
   "outputs": [],
   "source": [
    "# # Pickle dataframe\n",
    "# df.to_pickle('../data/df_clean_20k.pkl')"
   ]
  },
  {
   "cell_type": "code",
   "execution_count": 98,
   "metadata": {
    "Collapsed": "false",
    "ExecuteTime": {
     "end_time": "2020-03-17T03:17:46.020472Z",
     "start_time": "2020-03-17T03:17:45.421382Z"
    }
   },
   "outputs": [],
   "source": [
    "# TEMP\n",
    "df.to_pickle('../data/df_clean_2018.pkl')\n",
    "# df = pd.read_pickle('../data/df_clean_all_2018.pkl')"
   ]
  }
 ],
 "metadata": {
  "kernelspec": {
   "display_name": "Python 3",
   "language": "python",
   "name": "python3"
  },
  "language_info": {
   "codemirror_mode": {
    "name": "ipython",
    "version": 3
   },
   "file_extension": ".py",
   "mimetype": "text/x-python",
   "name": "python",
   "nbconvert_exporter": "python",
   "pygments_lexer": "ipython3",
   "version": "3.7.6"
  },
  "toc": {
   "base_numbering": 1,
   "nav_menu": {},
   "number_sections": true,
   "sideBar": true,
   "skip_h1_title": false,
   "title_cell": "Table of Contents",
   "title_sidebar": "Contents",
   "toc_cell": false,
   "toc_position": {},
   "toc_section_display": true,
   "toc_window_display": false
  }
 },
 "nbformat": 4,
 "nbformat_minor": 4
}
