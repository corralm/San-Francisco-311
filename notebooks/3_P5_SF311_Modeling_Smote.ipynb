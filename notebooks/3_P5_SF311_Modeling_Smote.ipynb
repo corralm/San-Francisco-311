{
 "cells": [
  {
   "cell_type": "code",
   "execution_count": null,
   "metadata": {
    "Collapsed": "false",
    "ExecuteTime": {
     "end_time": "2020-03-17T16:17:47.263771Z",
     "start_time": "2020-03-17T16:17:47.144276Z"
    }
   },
   "outputs": [],
   "source": [
    "cat /proc/cpuinfo"
   ]
  },
  {
   "cell_type": "markdown",
   "metadata": {
    "Collapsed": "false"
   },
   "source": [
    "Todos\n",
    "* Recursive Feature Elimination\n",
    "    * from sklearn.feature_selection import RFE"
   ]
  },
  {
   "cell_type": "code",
   "execution_count": null,
   "metadata": {
    "Collapsed": "false"
   },
   "outputs": [],
   "source": [
    "client.close()"
   ]
  },
  {
   "cell_type": "code",
   "execution_count": null,
   "metadata": {
    "Collapsed": "false"
   },
   "outputs": [],
   "source": [
    "from dask.distributed import Client, progress\n",
    "client = Client(processes=False)\n",
    "client"
   ]
  },
  {
   "cell_type": "code",
   "execution_count": 62,
   "metadata": {
    "Collapsed": "false",
    "ExecuteTime": {
     "end_time": "2020-03-17T03:23:23.388071Z",
     "start_time": "2020-03-17T03:23:12.402438Z"
    }
   },
   "outputs": [],
   "source": [
    "# from dask import delayed\n",
    "# import dask.dataframe as dd\n",
    "# import dask.array as da\n",
    "\n",
    "import pandas as pd\n",
    "import numpy as np\n",
    "\n",
    "\n",
    "# Tools\n",
    "from collections import Counter\n",
    "import pickle\n",
    "# import joblib\n",
    "# svc_model = joblib.load('../models/SVC_20k.pkl')\n",
    "\n",
    "# Sampling & Pipeline\n",
    "from imblearn.over_sampling import SMOTE\n",
    "from imblearn.under_sampling import NearMiss\n",
    "from imblearn.under_sampling import RandomUnderSampler\n",
    "from imblearn.pipeline import Pipeline\n",
    "\n",
    "# Model Selection\n",
    "from sklearn.model_selection import train_test_split, KFold\n",
    "from sklearn.model_selection import RandomizedSearchCV, GridSearchCV\n",
    "from sklearn.model_selection import cross_val_score\n",
    "from sklearn.model_selection import StratifiedKFold\n",
    "\n",
    "# Models\n",
    "from sklearn.linear_model import LogisticRegression\n",
    "from sklearn.neighbors import KNeighborsClassifier\n",
    "from sklearn.svm import SVC\n",
    "from sklearn.ensemble import RandomForestClassifier, VotingClassifier\n",
    "from xgboost import XGBClassifier\n",
    "\n",
    "# Metrics\n",
    "from sklearn.metrics import confusion_matrix\n",
    "from sklearn.metrics import accuracy_score\n",
    "from sklearn.metrics import precision_recall_curve, precision_score, recall_score\n",
    "from sklearn.metrics import f1_score, fbeta_score\n",
    "from sklearn.metrics import roc_auc_score, roc_curve, auc\n",
    "\n",
    "# Features\n",
    "from sklearn.feature_selection import SelectKBest, chi2, f_classif\n",
    "from xgboost import plot_importance\n",
    "\n",
    "# Visualizations\n",
    "from matplotlib import pyplot\n",
    "from matplotlib.pyplot import figure\n",
    "import matplotlib.pyplot as plt\n",
    "import seaborn as sns\n",
    "\n",
    "%matplotlib inline\n",
    "plt.style.use('ggplot')"
   ]
  },
  {
   "cell_type": "code",
   "execution_count": 2,
   "metadata": {
    "Collapsed": "false",
    "ExecuteTime": {
     "end_time": "2020-03-17T03:23:26.296773Z",
     "start_time": "2020-03-17T03:23:25.906933Z"
    }
   },
   "outputs": [
    {
     "data": {
      "text/html": [
       "<div>\n",
       "<style scoped>\n",
       "    .dataframe tbody tr th:only-of-type {\n",
       "        vertical-align: middle;\n",
       "    }\n",
       "\n",
       "    .dataframe tbody tr th {\n",
       "        vertical-align: top;\n",
       "    }\n",
       "\n",
       "    .dataframe thead th {\n",
       "        text-align: right;\n",
       "    }\n",
       "</style>\n",
       "<table border=\"1\" class=\"dataframe\">\n",
       "  <thead>\n",
       "    <tr style=\"text-align: right;\">\n",
       "      <th></th>\n",
       "      <th>case_id</th>\n",
       "      <th>is_duplicate</th>\n",
       "      <th>opened</th>\n",
       "      <th>closed</th>\n",
       "      <th>updated</th>\n",
       "      <th>status_notes</th>\n",
       "      <th>responsible_agency</th>\n",
       "      <th>category</th>\n",
       "      <th>request_type</th>\n",
       "      <th>request_details</th>\n",
       "      <th>...</th>\n",
       "      <th>source</th>\n",
       "      <th>opened_year</th>\n",
       "      <th>opened_month_sin</th>\n",
       "      <th>opened_month_cos</th>\n",
       "      <th>opened_week_sin</th>\n",
       "      <th>opened_week_cos</th>\n",
       "      <th>opened_day_sin</th>\n",
       "      <th>opened_day_cos</th>\n",
       "      <th>opened_hour_sin</th>\n",
       "      <th>opened_hour_cos</th>\n",
       "    </tr>\n",
       "  </thead>\n",
       "  <tbody>\n",
       "    <tr>\n",
       "      <th>810969</th>\n",
       "      <td>9995194</td>\n",
       "      <td>1</td>\n",
       "      <td>2018-12-31 10:42:22</td>\n",
       "      <td>2018-12-31 00:00:00</td>\n",
       "      <td>2018-12-31 00:00:00</td>\n",
       "      <td>Case Resolved - duplicate of 21375555 -</td>\n",
       "      <td>DPW - Bureau of Street Use and Mapping - G</td>\n",
       "      <td>General Request - PUBLIC WORKS</td>\n",
       "      <td>request_for_service</td>\n",
       "      <td>bsm - request_for_service</td>\n",
       "      <td>...</td>\n",
       "      <td>Integrated Agency</td>\n",
       "      <td>2018</td>\n",
       "      <td>-2.449294e-16</td>\n",
       "      <td>1.0</td>\n",
       "      <td>1.205367e-01</td>\n",
       "      <td>0.992709</td>\n",
       "      <td>0.000000</td>\n",
       "      <td>1.00000</td>\n",
       "      <td>0.500000</td>\n",
       "      <td>-0.866025</td>\n",
       "    </tr>\n",
       "    <tr>\n",
       "      <th>811474</th>\n",
       "      <td>9993791</td>\n",
       "      <td>0</td>\n",
       "      <td>2018-12-30 22:40:00</td>\n",
       "      <td>2018-12-30 23:13:06</td>\n",
       "      <td>2018-12-30 23:13:06</td>\n",
       "      <td>Case Resolved - Officer responded to request u...</td>\n",
       "      <td>Parking Enforcement Dispatch Queue</td>\n",
       "      <td>Parking Enforcement</td>\n",
       "      <td>Parking_on_Sidewalk</td>\n",
       "      <td>Black - Toyota Camry - NO PLATES</td>\n",
       "      <td>...</td>\n",
       "      <td>Mobile/Open311</td>\n",
       "      <td>2018</td>\n",
       "      <td>-2.449294e-16</td>\n",
       "      <td>1.0</td>\n",
       "      <td>-2.449294e-16</td>\n",
       "      <td>1.000000</td>\n",
       "      <td>-0.781831</td>\n",
       "      <td>0.62349</td>\n",
       "      <td>-0.500000</td>\n",
       "      <td>0.866025</td>\n",
       "    </tr>\n",
       "    <tr>\n",
       "      <th>811481</th>\n",
       "      <td>9993771</td>\n",
       "      <td>0</td>\n",
       "      <td>2018-12-30 22:18:00</td>\n",
       "      <td>2018-12-30 22:19:29</td>\n",
       "      <td>2018-12-30 22:19:29</td>\n",
       "      <td>Case is Invalid - Contact name and phone numbe...</td>\n",
       "      <td>Parking Enforcement Dispatch Queue</td>\n",
       "      <td>Parking Enforcement</td>\n",
       "      <td>Blocking_Driveway_Cite_Only</td>\n",
       "      <td>silver` - Mazda 3 Hatch back - 7YVN660</td>\n",
       "      <td>...</td>\n",
       "      <td>Phone</td>\n",
       "      <td>2018</td>\n",
       "      <td>-2.449294e-16</td>\n",
       "      <td>1.0</td>\n",
       "      <td>-2.449294e-16</td>\n",
       "      <td>1.000000</td>\n",
       "      <td>-0.781831</td>\n",
       "      <td>0.62349</td>\n",
       "      <td>-0.500000</td>\n",
       "      <td>0.866025</td>\n",
       "    </tr>\n",
       "    <tr>\n",
       "      <th>811482</th>\n",
       "      <td>9993764</td>\n",
       "      <td>0</td>\n",
       "      <td>2018-12-30 22:14:00</td>\n",
       "      <td>2018-12-30 23:12:50</td>\n",
       "      <td>2018-12-30 23:12:50</td>\n",
       "      <td>Case Resolved - Officer responded to request u...</td>\n",
       "      <td>Parking Enforcement Dispatch Queue</td>\n",
       "      <td>Parking Enforcement</td>\n",
       "      <td>Blocking_Driveway_Cite_Tow</td>\n",
       "      <td>Black - Prius - 6ZYG936</td>\n",
       "      <td>...</td>\n",
       "      <td>Mobile/Open311</td>\n",
       "      <td>2018</td>\n",
       "      <td>-2.449294e-16</td>\n",
       "      <td>1.0</td>\n",
       "      <td>-2.449294e-16</td>\n",
       "      <td>1.000000</td>\n",
       "      <td>-0.781831</td>\n",
       "      <td>0.62349</td>\n",
       "      <td>-0.500000</td>\n",
       "      <td>0.866025</td>\n",
       "    </tr>\n",
       "    <tr>\n",
       "      <th>811494</th>\n",
       "      <td>9993737</td>\n",
       "      <td>0</td>\n",
       "      <td>2018-12-30 21:53:14</td>\n",
       "      <td>2018-12-30 22:18:00</td>\n",
       "      <td>2018-12-30 22:18:00</td>\n",
       "      <td>Case Transferred - See encampment sr#9993757</td>\n",
       "      <td>311 Supervisor Queue</td>\n",
       "      <td>General Request - PUBLIC WORKS</td>\n",
       "      <td>request_for_service</td>\n",
       "      <td>bsm - request_for_service</td>\n",
       "      <td>...</td>\n",
       "      <td>Mobile/Open311</td>\n",
       "      <td>2018</td>\n",
       "      <td>-2.449294e-16</td>\n",
       "      <td>1.0</td>\n",
       "      <td>-2.449294e-16</td>\n",
       "      <td>1.000000</td>\n",
       "      <td>-0.781831</td>\n",
       "      <td>0.62349</td>\n",
       "      <td>-0.707107</td>\n",
       "      <td>0.707107</td>\n",
       "    </tr>\n",
       "  </tbody>\n",
       "</table>\n",
       "<p>5 rows × 28 columns</p>\n",
       "</div>"
      ],
      "text/plain": [
       "        case_id  is_duplicate              opened              closed  \\\n",
       "810969  9995194             1 2018-12-31 10:42:22 2018-12-31 00:00:00   \n",
       "811474  9993791             0 2018-12-30 22:40:00 2018-12-30 23:13:06   \n",
       "811481  9993771             0 2018-12-30 22:18:00 2018-12-30 22:19:29   \n",
       "811482  9993764             0 2018-12-30 22:14:00 2018-12-30 23:12:50   \n",
       "811494  9993737             0 2018-12-30 21:53:14 2018-12-30 22:18:00   \n",
       "\n",
       "                   updated                                       status_notes  \\\n",
       "810969 2018-12-31 00:00:00            Case Resolved - duplicate of 21375555 -   \n",
       "811474 2018-12-30 23:13:06  Case Resolved - Officer responded to request u...   \n",
       "811481 2018-12-30 22:19:29  Case is Invalid - Contact name and phone numbe...   \n",
       "811482 2018-12-30 23:12:50  Case Resolved - Officer responded to request u...   \n",
       "811494 2018-12-30 22:18:00       Case Transferred - See encampment sr#9993757   \n",
       "\n",
       "                                responsible_agency  \\\n",
       "810969  DPW - Bureau of Street Use and Mapping - G   \n",
       "811474          Parking Enforcement Dispatch Queue   \n",
       "811481          Parking Enforcement Dispatch Queue   \n",
       "811482          Parking Enforcement Dispatch Queue   \n",
       "811494                        311 Supervisor Queue   \n",
       "\n",
       "                              category                 request_type  \\\n",
       "810969  General Request - PUBLIC WORKS          request_for_service   \n",
       "811474             Parking Enforcement          Parking_on_Sidewalk   \n",
       "811481             Parking Enforcement  Blocking_Driveway_Cite_Only   \n",
       "811482             Parking Enforcement   Blocking_Driveway_Cite_Tow   \n",
       "811494  General Request - PUBLIC WORKS          request_for_service   \n",
       "\n",
       "                               request_details  ...             source  \\\n",
       "810969               bsm - request_for_service  ...  Integrated Agency   \n",
       "811474        Black - Toyota Camry - NO PLATES  ...     Mobile/Open311   \n",
       "811481  silver` - Mazda 3 Hatch back - 7YVN660  ...              Phone   \n",
       "811482                 Black - Prius - 6ZYG936  ...     Mobile/Open311   \n",
       "811494               bsm - request_for_service  ...     Mobile/Open311   \n",
       "\n",
       "       opened_year opened_month_sin opened_month_cos opened_week_sin  \\\n",
       "810969        2018    -2.449294e-16              1.0    1.205367e-01   \n",
       "811474        2018    -2.449294e-16              1.0   -2.449294e-16   \n",
       "811481        2018    -2.449294e-16              1.0   -2.449294e-16   \n",
       "811482        2018    -2.449294e-16              1.0   -2.449294e-16   \n",
       "811494        2018    -2.449294e-16              1.0   -2.449294e-16   \n",
       "\n",
       "        opened_week_cos  opened_day_sin opened_day_cos opened_hour_sin  \\\n",
       "810969         0.992709        0.000000        1.00000        0.500000   \n",
       "811474         1.000000       -0.781831        0.62349       -0.500000   \n",
       "811481         1.000000       -0.781831        0.62349       -0.500000   \n",
       "811482         1.000000       -0.781831        0.62349       -0.500000   \n",
       "811494         1.000000       -0.781831        0.62349       -0.707107   \n",
       "\n",
       "       opened_hour_cos  \n",
       "810969       -0.866025  \n",
       "811474        0.866025  \n",
       "811481        0.866025  \n",
       "811482        0.866025  \n",
       "811494        0.707107  \n",
       "\n",
       "[5 rows x 28 columns]"
      ]
     },
     "execution_count": 2,
     "metadata": {},
     "output_type": "execute_result"
    }
   ],
   "source": [
    "# Load dataframe\n",
    "df = pd.read_pickle('../data/df_cyclical_2018.pkl')\n",
    "\n",
    "df.head()"
   ]
  },
  {
   "cell_type": "code",
   "execution_count": 3,
   "metadata": {
    "Collapsed": "false",
    "ExecuteTime": {
     "end_time": "2020-03-17T03:23:42.973622Z",
     "start_time": "2020-03-17T03:23:31.566307Z"
    }
   },
   "outputs": [
    {
     "data": {
      "text/html": [
       "<div>\n",
       "<style scoped>\n",
       "    .dataframe tbody tr th:only-of-type {\n",
       "        vertical-align: middle;\n",
       "    }\n",
       "\n",
       "    .dataframe tbody tr th {\n",
       "        vertical-align: top;\n",
       "    }\n",
       "\n",
       "    .dataframe thead th {\n",
       "        text-align: right;\n",
       "    }\n",
       "</style>\n",
       "<table border=\"1\" class=\"dataframe\">\n",
       "  <thead>\n",
       "    <tr style=\"text-align: right;\">\n",
       "      <th></th>\n",
       "      <th>latitude</th>\n",
       "      <th>longitude</th>\n",
       "      <th>opened_month_sin</th>\n",
       "      <th>opened_month_cos</th>\n",
       "      <th>opened_week_sin</th>\n",
       "      <th>opened_week_cos</th>\n",
       "      <th>opened_day_sin</th>\n",
       "      <th>opened_day_cos</th>\n",
       "      <th>opened_hour_sin</th>\n",
       "      <th>opened_hour_cos</th>\n",
       "      <th>...</th>\n",
       "      <th>police_district_PARK</th>\n",
       "      <th>police_district_RICHMOND</th>\n",
       "      <th>police_district_SOUTHERN</th>\n",
       "      <th>police_district_TARAVAL</th>\n",
       "      <th>police_district_TENDERLOIN</th>\n",
       "      <th>source_Mobile/Open311</th>\n",
       "      <th>source_Other Department</th>\n",
       "      <th>source_Phone</th>\n",
       "      <th>source_Twitter</th>\n",
       "      <th>source_Web</th>\n",
       "    </tr>\n",
       "  </thead>\n",
       "  <tbody>\n",
       "    <tr>\n",
       "      <th>1254989</th>\n",
       "      <td>37.7494</td>\n",
       "      <td>-122.4049</td>\n",
       "      <td>8.660254e-01</td>\n",
       "      <td>-0.500000</td>\n",
       "      <td>0.970942</td>\n",
       "      <td>-0.239316</td>\n",
       "      <td>-0.974928</td>\n",
       "      <td>-0.222521</td>\n",
       "      <td>-0.500000</td>\n",
       "      <td>-8.660254e-01</td>\n",
       "      <td>...</td>\n",
       "      <td>0</td>\n",
       "      <td>0</td>\n",
       "      <td>0</td>\n",
       "      <td>0</td>\n",
       "      <td>0</td>\n",
       "      <td>1</td>\n",
       "      <td>0</td>\n",
       "      <td>0</td>\n",
       "      <td>0</td>\n",
       "      <td>0</td>\n",
       "    </tr>\n",
       "    <tr>\n",
       "      <th>825764</th>\n",
       "      <td>37.7241</td>\n",
       "      <td>-122.4352</td>\n",
       "      <td>-2.449294e-16</td>\n",
       "      <td>1.000000</td>\n",
       "      <td>-0.120537</td>\n",
       "      <td>0.992709</td>\n",
       "      <td>0.974928</td>\n",
       "      <td>-0.222521</td>\n",
       "      <td>-1.000000</td>\n",
       "      <td>-1.836970e-16</td>\n",
       "      <td>...</td>\n",
       "      <td>0</td>\n",
       "      <td>0</td>\n",
       "      <td>0</td>\n",
       "      <td>0</td>\n",
       "      <td>0</td>\n",
       "      <td>1</td>\n",
       "      <td>0</td>\n",
       "      <td>0</td>\n",
       "      <td>0</td>\n",
       "      <td>0</td>\n",
       "    </tr>\n",
       "    <tr>\n",
       "      <th>1133920</th>\n",
       "      <td>37.7600</td>\n",
       "      <td>-122.4335</td>\n",
       "      <td>1.224647e-16</td>\n",
       "      <td>-1.000000</td>\n",
       "      <td>0.120537</td>\n",
       "      <td>-0.992709</td>\n",
       "      <td>0.433884</td>\n",
       "      <td>-0.900969</td>\n",
       "      <td>-1.000000</td>\n",
       "      <td>-1.836970e-16</td>\n",
       "      <td>...</td>\n",
       "      <td>0</td>\n",
       "      <td>0</td>\n",
       "      <td>0</td>\n",
       "      <td>0</td>\n",
       "      <td>0</td>\n",
       "      <td>0</td>\n",
       "      <td>0</td>\n",
       "      <td>0</td>\n",
       "      <td>0</td>\n",
       "      <td>1</td>\n",
       "    </tr>\n",
       "    <tr>\n",
       "      <th>1133478</th>\n",
       "      <td>37.7714</td>\n",
       "      <td>-122.4369</td>\n",
       "      <td>1.224647e-16</td>\n",
       "      <td>-1.000000</td>\n",
       "      <td>0.120537</td>\n",
       "      <td>-0.992709</td>\n",
       "      <td>-0.433884</td>\n",
       "      <td>-0.900969</td>\n",
       "      <td>0.965926</td>\n",
       "      <td>-2.588190e-01</td>\n",
       "      <td>...</td>\n",
       "      <td>0</td>\n",
       "      <td>0</td>\n",
       "      <td>0</td>\n",
       "      <td>0</td>\n",
       "      <td>0</td>\n",
       "      <td>0</td>\n",
       "      <td>0</td>\n",
       "      <td>0</td>\n",
       "      <td>0</td>\n",
       "      <td>1</td>\n",
       "    </tr>\n",
       "    <tr>\n",
       "      <th>880572</th>\n",
       "      <td>37.7238</td>\n",
       "      <td>-122.4356</td>\n",
       "      <td>-5.000000e-01</td>\n",
       "      <td>0.866025</td>\n",
       "      <td>-0.663123</td>\n",
       "      <td>0.748511</td>\n",
       "      <td>0.433884</td>\n",
       "      <td>-0.900969</td>\n",
       "      <td>0.866025</td>\n",
       "      <td>-5.000000e-01</td>\n",
       "      <td>...</td>\n",
       "      <td>0</td>\n",
       "      <td>0</td>\n",
       "      <td>0</td>\n",
       "      <td>0</td>\n",
       "      <td>0</td>\n",
       "      <td>1</td>\n",
       "      <td>0</td>\n",
       "      <td>0</td>\n",
       "      <td>0</td>\n",
       "      <td>0</td>\n",
       "    </tr>\n",
       "  </tbody>\n",
       "</table>\n",
       "<p>5 rows × 2612 columns</p>\n",
       "</div>"
      ],
      "text/plain": [
       "         latitude  longitude  opened_month_sin  opened_month_cos  \\\n",
       "1254989   37.7494  -122.4049      8.660254e-01         -0.500000   \n",
       "825764    37.7241  -122.4352     -2.449294e-16          1.000000   \n",
       "1133920   37.7600  -122.4335      1.224647e-16         -1.000000   \n",
       "1133478   37.7714  -122.4369      1.224647e-16         -1.000000   \n",
       "880572    37.7238  -122.4356     -5.000000e-01          0.866025   \n",
       "\n",
       "         opened_week_sin  opened_week_cos  opened_day_sin  opened_day_cos  \\\n",
       "1254989         0.970942        -0.239316       -0.974928       -0.222521   \n",
       "825764         -0.120537         0.992709        0.974928       -0.222521   \n",
       "1133920         0.120537        -0.992709        0.433884       -0.900969   \n",
       "1133478         0.120537        -0.992709       -0.433884       -0.900969   \n",
       "880572         -0.663123         0.748511        0.433884       -0.900969   \n",
       "\n",
       "         opened_hour_sin  opened_hour_cos  ...  police_district_PARK  \\\n",
       "1254989        -0.500000    -8.660254e-01  ...                     0   \n",
       "825764         -1.000000    -1.836970e-16  ...                     0   \n",
       "1133920        -1.000000    -1.836970e-16  ...                     0   \n",
       "1133478         0.965926    -2.588190e-01  ...                     0   \n",
       "880572          0.866025    -5.000000e-01  ...                     0   \n",
       "\n",
       "         police_district_RICHMOND  police_district_SOUTHERN  \\\n",
       "1254989                         0                         0   \n",
       "825764                          0                         0   \n",
       "1133920                         0                         0   \n",
       "1133478                         0                         0   \n",
       "880572                          0                         0   \n",
       "\n",
       "         police_district_TARAVAL  police_district_TENDERLOIN  \\\n",
       "1254989                        0                           0   \n",
       "825764                         0                           0   \n",
       "1133920                        0                           0   \n",
       "1133478                        0                           0   \n",
       "880572                         0                           0   \n",
       "\n",
       "         source_Mobile/Open311  source_Other Department  source_Phone  \\\n",
       "1254989                      1                        0             0   \n",
       "825764                       1                        0             0   \n",
       "1133920                      0                        0             0   \n",
       "1133478                      0                        0             0   \n",
       "880572                       1                        0             0   \n",
       "\n",
       "         source_Twitter  source_Web  \n",
       "1254989               0           0  \n",
       "825764                0           0  \n",
       "1133920               0           1  \n",
       "1133478               0           1  \n",
       "880572                0           0  \n",
       "\n",
       "[5 rows x 2612 columns]"
      ]
     },
     "execution_count": 3,
     "metadata": {},
     "output_type": "execute_result"
    }
   ],
   "source": [
    "# Train and test splitting\n",
    "\n",
    "# Columns to exclude\n",
    "exclude_cols = [\n",
    "    'is_duplicate', # Target variable\n",
    "    'case_id',\n",
    "    'opened', # Needs Feature Eng\n",
    "    'closed', # Needs Feature Eng\n",
    "    'updated',\n",
    "    'responsible_agency', # Needs NLP\n",
    "    'status_notes', # Needs NLP\n",
    "    'request_type', # Needs NLP\n",
    "    'request_details', # Needs NLP\n",
    "    'address', # Needs NLP\n",
    "#     'street', # Convert to 'category' type to get dummies\n",
    "    'point'\n",
    "]\n",
    "\n",
    "# # Scale data using MinMax scaler\n",
    "# # No need to standardize as all features are categorical (maybe scale lat/long....)\n",
    "# scaler = MinMaxScaler()\n",
    "\n",
    "# Predictor variables\n",
    "X = df.drop(columns=exclude_cols, axis=0, inplace=False)\n",
    "\n",
    "# Get dummies for categorical variables\n",
    "X = pd.get_dummies(X, drop_first=True)\n",
    "\n",
    "# Target variable\n",
    "y = df['is_duplicate']\n",
    "\n",
    "# Split train and test\n",
    "X_train, X_test, y_train, y_test = train_test_split(X, y,\n",
    "                                                    test_size=0.2, \n",
    "                                                    random_state=2020, \n",
    "                                                    stratify=y,  # Stratify to keep same class ratios\n",
    "                                                    shuffle=True # Shuffle data since it's ordered chronologically\n",
    "                                                   )\n",
    "X_train.head()"
   ]
  },
  {
   "cell_type": "markdown",
   "metadata": {
    "Collapsed": "false"
   },
   "source": [
    "# Feature Selection"
   ]
  },
  {
   "cell_type": "code",
   "execution_count": 4,
   "metadata": {
    "Collapsed": "false"
   },
   "outputs": [],
   "source": [
    "def select_features(X_train, y_train, X_test):\n",
    "    '''Returns X_train, X_test, and feature selection function'''\n",
    "    fs = SelectKBest(score_func=f_classif, k=25)\n",
    "    fs.fit(X_train, y_train)\n",
    "    X_train_fs = fs.transform(X_train)\n",
    "    X_test_fs = fs.transform(X_test)\n",
    "    return X_train_fs, X_test_fs, fs"
   ]
  },
  {
   "cell_type": "code",
   "execution_count": 5,
   "metadata": {
    "Collapsed": "false"
   },
   "outputs": [
    {
     "name": "stderr",
     "output_type": "stream",
     "text": [
      "/opt/conda/lib/python3.7/site-packages/sklearn/feature_selection/_univariate_selection.py:114: UserWarning: Features [  51   52  126  211  340  377  424  442  466  553  735  754  804  831\n",
      "  901  927  956 1198 1211 1249 1355 1451 1607 1621 1805 1913 1937 1945\n",
      " 1955 2110 2404 2454 2458] are constant.\n",
      "  UserWarning)\n",
      "/opt/conda/lib/python3.7/site-packages/sklearn/feature_selection/_univariate_selection.py:115: RuntimeWarning: invalid value encountered in true_divide\n",
      "  f = msb / msw\n"
     ]
    }
   ],
   "source": [
    "# Feature selection\n",
    "X_train_fs, X_test_fs, fs = select_features(X_train, y_train, X_test)"
   ]
  },
  {
   "cell_type": "code",
   "execution_count": 17,
   "metadata": {
    "Collapsed": "false"
   },
   "outputs": [
    {
     "data": {
      "text/html": [
       "<div>\n",
       "<style scoped>\n",
       "    .dataframe tbody tr th:only-of-type {\n",
       "        vertical-align: middle;\n",
       "    }\n",
       "\n",
       "    .dataframe tbody tr th {\n",
       "        vertical-align: top;\n",
       "    }\n",
       "\n",
       "    .dataframe thead th {\n",
       "        text-align: right;\n",
       "    }\n",
       "</style>\n",
       "<table border=\"1\" class=\"dataframe\">\n",
       "  <thead>\n",
       "    <tr style=\"text-align: right;\">\n",
       "      <th></th>\n",
       "      <th>Feature</th>\n",
       "      <th>ANOVA F-Value</th>\n",
       "    </tr>\n",
       "  </thead>\n",
       "  <tbody>\n",
       "    <tr>\n",
       "      <th>0</th>\n",
       "      <td>category_Encampments</td>\n",
       "      <td>20489</td>\n",
       "    </tr>\n",
       "    <tr>\n",
       "      <th>1</th>\n",
       "      <td>street_BERRY ST</td>\n",
       "      <td>6446</td>\n",
       "    </tr>\n",
       "    <tr>\n",
       "      <th>2</th>\n",
       "      <td>category_Street and Sidewalk Cleaning</td>\n",
       "      <td>4874</td>\n",
       "    </tr>\n",
       "    <tr>\n",
       "      <th>3</th>\n",
       "      <td>neighborhood_Showplace Square</td>\n",
       "      <td>4123</td>\n",
       "    </tr>\n",
       "    <tr>\n",
       "      <th>4</th>\n",
       "      <td>source_Phone</td>\n",
       "      <td>3749</td>\n",
       "    </tr>\n",
       "    <tr>\n",
       "      <th>5</th>\n",
       "      <td>opened_month_sin</td>\n",
       "      <td>3168</td>\n",
       "    </tr>\n",
       "    <tr>\n",
       "      <th>6</th>\n",
       "      <td>opened_week_sin</td>\n",
       "      <td>3055</td>\n",
       "    </tr>\n",
       "    <tr>\n",
       "      <th>7</th>\n",
       "      <td>police_district_SOUTHERN</td>\n",
       "      <td>3035</td>\n",
       "    </tr>\n",
       "    <tr>\n",
       "      <th>8</th>\n",
       "      <td>source_Mobile/Open311</td>\n",
       "      <td>2549</td>\n",
       "    </tr>\n",
       "    <tr>\n",
       "      <th>9</th>\n",
       "      <td>police_district_MISSION</td>\n",
       "      <td>2131</td>\n",
       "    </tr>\n",
       "    <tr>\n",
       "      <th>10</th>\n",
       "      <td>neighborhood_Mission</td>\n",
       "      <td>1522</td>\n",
       "    </tr>\n",
       "    <tr>\n",
       "      <th>11</th>\n",
       "      <td>category_Tree Maintenance</td>\n",
       "      <td>1520</td>\n",
       "    </tr>\n",
       "    <tr>\n",
       "      <th>12</th>\n",
       "      <td>supervisor_district_6</td>\n",
       "      <td>1483</td>\n",
       "    </tr>\n",
       "    <tr>\n",
       "      <th>13</th>\n",
       "      <td>neighborhood_South of Market</td>\n",
       "      <td>1196</td>\n",
       "    </tr>\n",
       "    <tr>\n",
       "      <th>14</th>\n",
       "      <td>category_MUNI Feedback</td>\n",
       "      <td>1095</td>\n",
       "    </tr>\n",
       "  </tbody>\n",
       "</table>\n",
       "</div>"
      ],
      "text/plain": [
       "                                  Feature ANOVA F-Value\n",
       "0                    category_Encampments         20489\n",
       "1                         street_BERRY ST          6446\n",
       "2   category_Street and Sidewalk Cleaning          4874\n",
       "3           neighborhood_Showplace Square          4123\n",
       "4                            source_Phone          3749\n",
       "5                        opened_month_sin          3168\n",
       "6                         opened_week_sin          3055\n",
       "7                police_district_SOUTHERN          3035\n",
       "8                   source_Mobile/Open311          2549\n",
       "9                 police_district_MISSION          2131\n",
       "10                   neighborhood_Mission          1522\n",
       "11              category_Tree Maintenance          1520\n",
       "12                  supervisor_district_6          1483\n",
       "13           neighborhood_South of Market          1196\n",
       "14                 category_MUNI Feedback          1095"
      ]
     },
     "execution_count": 17,
     "metadata": {},
     "output_type": "execute_result"
    }
   ],
   "source": [
    "# Feature scores\n",
    "features_df = pd.DataFrame(data=[X_train.columns, fs.scores_.astype(int)]).transpose()\n",
    "features_df.rename(columns={0: 'Feature', 1: 'ANOVA F-Value'}, inplace=True)\n",
    "features_df.sort_values(by='ANOVA F-Value', ascending=False, inplace=True)\n",
    "features_df.reset_index(drop=True, inplace=True)\n",
    "\n",
    "# Select features above threshold\n",
    "threshold = 1000\n",
    "best_features_df = features_df[(features_df['ANOVA F-Value'] > threshold)]\n",
    "best_features_df"
   ]
  },
  {
   "cell_type": "code",
   "execution_count": 28,
   "metadata": {
    "Collapsed": "false"
   },
   "outputs": [
    {
     "data": {
      "text/plain": [
       "((424648, 15), (106162, 15))"
      ]
     },
     "execution_count": 28,
     "metadata": {},
     "output_type": "execute_result"
    }
   ],
   "source": [
    "# Filter X_train & X_test with selected features\n",
    "X_train = X_train.filter(items=best_features_df['Feature'])\n",
    "X_test  = X_test.filter(items=best_features_df['Feature'])\n",
    "\n",
    "# Clean column names\n",
    "X_train.columns = X_train.columns.str.strip().str.lower().str.replace(\n",
    "    ' ', '_').str.replace('(', '').str.replace(')', '')\n",
    "\n",
    "X_test.columns = X_test.columns.str.strip().str.lower().str.replace(\n",
    "    ' ', '_').str.replace('(', '').str.replace(')', '')"
   ]
  },
  {
   "cell_type": "code",
   "execution_count": 29,
   "metadata": {
    "Collapsed": "false",
    "ExecuteTime": {
     "end_time": "2020-03-17T03:23:42.979520Z",
     "start_time": "2020-03-17T03:23:42.975234Z"
    }
   },
   "outputs": [
    {
     "name": "stdout",
     "output_type": "stream",
     "text": [
      "df\t (530810, 28)\n",
      "X_train\t (424648, 15)\n",
      "X_test\t (106162, 15)\n",
      "y_train\t (424648,)\n",
      "y_test\t (106162,)\n"
     ]
    }
   ],
   "source": [
    "print('df\\t', df.shape)\n",
    "print('X_train\\t', X_train.shape)\n",
    "print('X_test\\t', X_test.shape)\n",
    "print('y_train\\t', y_train.shape)\n",
    "print('y_test\\t', y_test.shape)"
   ]
  },
  {
   "cell_type": "markdown",
   "metadata": {
    "Collapsed": "false"
   },
   "source": [
    "# Class Balancing"
   ]
  },
  {
   "cell_type": "code",
   "execution_count": 31,
   "metadata": {
    "Collapsed": "false",
    "ExecuteTime": {
     "end_time": "2020-03-17T03:24:04.172126Z",
     "start_time": "2020-03-17T03:24:04.161389Z"
    }
   },
   "outputs": [
    {
     "name": "stdout",
     "output_type": "stream",
     "text": [
      "Class 0: 474425\n",
      "Class 1: 56385\n",
      "Proportion: 8.41 : 1\n",
      "Percentage of Majority Class: 89.4\n"
     ]
    }
   ],
   "source": [
    "# Target variable\n",
    "target_count = df['is_duplicate'].value_counts()\n",
    "\n",
    "# Print class balance\n",
    "print(f'Class 0: {target_count[0]}')\n",
    "print(f'Class 1: {target_count[1]}')\n",
    "print(f'Proportion: {round(target_count[0] / target_count[1], 2)} : 1')\n",
    "print(f'Percentage of Majority Class: {round(target_count[0] / sum(target_count), 3)*100}')"
   ]
  },
  {
   "cell_type": "code",
   "execution_count": null,
   "metadata": {
    "Collapsed": "false"
   },
   "outputs": [],
   "source": [
    "# USE DASK from here on out"
   ]
  },
  {
   "cell_type": "markdown",
   "metadata": {
    "Collapsed": "false"
   },
   "source": [
    "## Oversampling"
   ]
  },
  {
   "cell_type": "code",
   "execution_count": 41,
   "metadata": {
    "Collapsed": "false",
    "ExecuteTime": {
     "end_time": "2020-03-17T03:24:07.685256Z",
     "start_time": "2020-03-17T03:24:07.682966Z"
    }
   },
   "outputs": [
    {
     "data": {
      "text/plain": [
       "Counter({0: 379540, 1: 379540})"
      ]
     },
     "execution_count": 41,
     "metadata": {},
     "output_type": "execute_result"
    }
   ],
   "source": [
    "# A ratio of .5 is saying that 50% of my data is simulated\n",
    "# Trevor noted that .2 would be good but let's try different ratios\n",
    "smote = SMOTE(random_state=2020)\n",
    "X_train_smote, y_train_smote = smote.fit_sample(X_train, y_train)\n",
    "\n",
    "# Summarize the new class distribution\n",
    "Counter(y_train_smote)"
   ]
  },
  {
   "cell_type": "markdown",
   "metadata": {
    "Collapsed": "false"
   },
   "source": [
    "## Undersampling"
   ]
  },
  {
   "cell_type": "code",
   "execution_count": 63,
   "metadata": {
    "Collapsed": "false"
   },
   "outputs": [],
   "source": [
    "# # Define the undersampling method – RandomUnderSampler\n",
    "rndm_under = RandomUnderSampler(random_state=2020)\n",
    "\n",
    "# Transform the dataset\n",
    "X_train_under, y_train_under = rndm_under.fit_sample(X_train, y_train)\n",
    "\n",
    "# # Summarize the new class distribution\n",
    "# Counter(y_train_under)"
   ]
  },
  {
   "cell_type": "code",
   "execution_count": 39,
   "metadata": {
    "Collapsed": "false",
    "ExecuteTime": {
     "start_time": "2020-03-17T03:24:30.432Z"
    }
   },
   "outputs": [
    {
     "name": "stderr",
     "output_type": "stream",
     "text": [
      "/opt/conda/lib/python3.7/site-packages/imblearn/under_sampling/_prototype_selection/_nearmiss.py:175: UserWarning: The number of the samples to be selected is larger than the number of samples available. The balancing ratio cannot be ensure and all samples will be returned.\n",
      "  \"The number of the samples to be selected is larger\"\n"
     ]
    },
    {
     "data": {
      "text/plain": [
       "Counter({0: 10976, 1: 45108})"
      ]
     },
     "execution_count": 39,
     "metadata": {},
     "output_type": "execute_result"
    }
   ],
   "source": [
    "# # Define the undersampling method – NearMiss\n",
    "# # Selects the closest examples from the majority class for each minority class.\n",
    "# undersample = NearMiss(version=3, n_neighbors_ver3=3)\n",
    "\n",
    "# # Transform the dataset\n",
    "# X_train_under, y_train_under = undersample.fit_resample(X_train, y_train)\n",
    "\n",
    "# # Summarize the new class distribution\n",
    "# Counter(y_train_under)"
   ]
  },
  {
   "cell_type": "markdown",
   "metadata": {
    "Collapsed": "false"
   },
   "source": [
    "# Modeling"
   ]
  },
  {
   "cell_type": "markdown",
   "metadata": {
    "Collapsed": "false"
   },
   "source": [
    "Objective: Maximize ROC AUC Score as both recall and precision are equally important and the classes are imbalanced"
   ]
  },
  {
   "cell_type": "code",
   "execution_count": 34,
   "metadata": {
    "Collapsed": "false"
   },
   "outputs": [],
   "source": [
    "# Create list of model and performance\n",
    "model_performance = []\n",
    "models_optimized = []"
   ]
  },
  {
   "cell_type": "markdown",
   "metadata": {
    "Collapsed": "false"
   },
   "source": [
    "User RandomizedSearchCV instead:\n",
    "https://blog.usejournal.com/a-comparison-of-grid-search-and-randomized-search-using-scikit-learn-29823179bc85\n"
   ]
  },
  {
   "cell_type": "markdown",
   "metadata": {
    "Collapsed": "false"
   },
   "source": [
    "## Baseline Models"
   ]
  },
  {
   "cell_type": "code",
   "execution_count": null,
   "metadata": {
    "Collapsed": "false"
   },
   "outputs": [],
   "source": [
    "# #Dummy Classifier\n",
    "# from sklearn.dummy import DummyClassifier\n",
    "# clf = DummyClassifier(strategy= 'most_frequent').fit(X_train_under, y_train_under)\n",
    "# y_pred = clf.predict(X_test)\n",
    "\n",
    "# #Distribution of y test\n",
    "# print('y actual\\t:', Counter(y_test))\n",
    "\n",
    "# #Distribution of y predicted\n",
    "# print('y predicted\\t:', Counter(y_pred))\n",
    "\n",
    "# # Confusion matrix\n",
    "# print('\\nConfusion Matrix\\n' + str(confusion_matrix(y_test, y_pred)))"
   ]
  },
  {
   "cell_type": "code",
   "execution_count": 42,
   "metadata": {
    "Collapsed": "false"
   },
   "outputs": [
    {
     "name": "stdout",
     "output_type": "stream",
     "text": [
      "LogisticRegression 0.714\n",
      "KNeighbors 0.722\n",
      "RandomForest 0.786\n",
      "XGBoost 0.781\n"
     ]
    }
   ],
   "source": [
    "base_models = []\n",
    "\n",
    "# Instantiate the models\n",
    "base_models.append(('LogisticRegression', LogisticRegression(solver='liblinear')))\n",
    "base_models.append(('KNeighbors', KNeighborsClassifier()))\n",
    "base_models.append(('RandomForest', RandomForestClassifier(n_estimators=10)))\n",
    "base_models.append(('XGBoost', XGBClassifier()))\n",
    "\n",
    "cv_results = []\n",
    "names = []\n",
    "\n",
    "# Cross Validate - 5 fold\n",
    "for name, model in base_models:\n",
    "    names.append(name)\n",
    "    cv_results.append(np.round_(cross_val_score(model, X_train_smote, y_train_smote, cv=5, scoring='roc_auc'), 3))\n",
    "\n",
    "for i in range(len(names)):\n",
    "    print(names[i], round(cv_results[i].mean(), 3))"
   ]
  },
  {
   "cell_type": "code",
   "execution_count": 36,
   "metadata": {
    "Collapsed": "false"
   },
   "outputs": [],
   "source": [
    "# Identify the models that work best without any GridSearchCV\n",
    "# Plot the ROC Curves\n",
    "# Undersampling (Don't use synthetic data)\n",
    "# How to predict duplicates?\n",
    "## More like unsupervised learning... \n",
    "## Create a function – given a point, identify a case that this is more similar to...\n"
   ]
  },
  {
   "cell_type": "code",
   "execution_count": 37,
   "metadata": {
    "Collapsed": "false"
   },
   "outputs": [],
   "source": [
    "# # Save models\n",
    "# with open(f'../models/{name}_20k.pkl', 'wb') as f: # how can I save the model for later use?ii\n",
    "#     pickle.dump(model, f)"
   ]
  },
  {
   "cell_type": "markdown",
   "metadata": {
    "Collapsed": "false"
   },
   "source": [
    "## Logistic Regression"
   ]
  },
  {
   "cell_type": "code",
   "execution_count": 43,
   "metadata": {
    "Collapsed": "false"
   },
   "outputs": [
    {
     "name": "stdout",
     "output_type": "stream",
     "text": [
      "Best Score: 0.714\n",
      "Params: {'smt__random_state': 2020, 'lgr__solver': 'saga', 'lgr__penalty': 'l2', 'lgr__C': 10}\n",
      "\n",
      "Train 0.714\tTest 0.714\tParams: {'smt__random_state': 2020, 'lgr__solver': 'saga', 'lgr__penalty': 'l2', 'lgr__C': 1}\n",
      "Train 0.714\tTest 0.714\tParams: {'smt__random_state': 2020, 'lgr__solver': 'liblinear', 'lgr__penalty': 'l2', 'lgr__C': 1}\n",
      "Train 0.714\tTest 0.714\tParams: {'smt__random_state': 2020, 'lgr__solver': 'saga', 'lgr__penalty': 'l2', 'lgr__C': 10}\n",
      "Train 0.714\tTest 0.714\tParams: {'smt__random_state': 2020, 'lgr__solver': 'saga', 'lgr__penalty': 'l1', 'lgr__C': 0.01}\n",
      "Train 0.714\tTest 0.714\tParams: {'smt__random_state': 2020, 'lgr__solver': 'liblinear', 'lgr__penalty': 'l1', 'lgr__C': 0.01}\n",
      "Train 0.714\tTest 0.714\tParams: {'smt__random_state': 2020, 'lgr__solver': 'liblinear', 'lgr__penalty': 'l1', 'lgr__C': 1}\n",
      "Train 0.714\tTest 0.714\tParams: {'smt__random_state': 2020, 'lgr__solver': 'saga', 'lgr__penalty': 'l2', 'lgr__C': 100}\n",
      "Train 0.714\tTest 0.714\tParams: {'smt__random_state': 2020, 'lgr__solver': 'saga', 'lgr__penalty': 'l1', 'lgr__C': 100}\n",
      "Train 0.714\tTest 0.714\tParams: {'smt__random_state': 2020, 'lgr__solver': 'liblinear', 'lgr__penalty': 'l1', 'lgr__C': 10}\n",
      "Train 0.712\tTest 0.711\tParams: {'smt__random_state': 2020, 'lgr__solver': 'saga', 'lgr__penalty': 'l1', 'lgr__C': 0.001}\n"
     ]
    }
   ],
   "source": [
    "# Grid searching key hyperparameters for logistic regression\n",
    "\n",
    "# Instantiate model and sampler\n",
    "lg_model = LogisticRegression()\n",
    "smote = SMOTE(random_state=2020)\n",
    "\n",
    "# Construct pipeline\n",
    "steps = [('smt', smote), ('lgr', lg_model)]\n",
    "pipeline = Pipeline(steps)\n",
    "\n",
    "# Define parameter grid values to be searched\n",
    "param_grid = {\n",
    "    'smt__random_state': [2020],\n",
    "    'lgr__solver': ['saga', 'liblinear'],\n",
    "    'lgr__penalty': ['l1', 'l2'],\n",
    "    'lgr__C': [0.001, 0.01, 0.1, 1, 10, 100, 1000]\n",
    "}\n",
    "\n",
    "# Use stratify version of k-fold to keep class imbalance ratio\n",
    "k_fold = StratifiedKFold(n_splits=3, shuffle = True, random_state=2020)\n",
    "\n",
    "# Cross Validation\n",
    "# lg_grid = GridSearchCV(pipeline, param_grid=param_grid, cv=k_fold, n_jobs=-1, return_train_score=True, scoring='roc_auc')\n",
    "lg_rndm = RandomizedSearchCV(pipeline, param_distributions=param_grid, cv=k_fold, n_jobs=-1, return_train_score=True, scoring='roc_auc')\n",
    "\n",
    "# Train with balanced classes\n",
    "grid_result = lg_rndm.fit(X_train_smote, y_train_smote) # Should I use X_train, y_train here?\n",
    "\n",
    "# Summarize results\n",
    "print(f'Best Score: {round(grid_result.best_score_, 3)}\\nParams: {grid_result.best_params_}\\n')\n",
    "\n",
    "mean_train = grid_result.cv_results_['mean_train_score']\n",
    "mean_test = grid_result.cv_results_['mean_test_score']\n",
    "params = grid_result.cv_results_['params']\n",
    "for mean_tr, mean_ts, param in zip(mean_train, mean_test, params):\n",
    "    print(f'Train {round(mean_tr, 3)}\\tTest {round(mean_ts, 3)}\\tParams: {param}')\n",
    "    \n",
    "# # Examine the best model\n",
    "# print(lg_grid.best_score_)\n",
    "# print(lg_grid.best_params_)"
   ]
  },
  {
   "cell_type": "code",
   "execution_count": 53,
   "metadata": {
    "Collapsed": "false"
   },
   "outputs": [
    {
     "name": "stdout",
     "output_type": "stream",
     "text": [
      "Accuracy  : 0.692\n",
      "ROC_AUC   : 0.651\n",
      "Precision : 0.193\n",
      "Recall    : 0.598\n",
      "F-score   : 0.292\n",
      "\n",
      "Confusion Matrix\n",
      "[[66746 28139]\n",
      " [ 4536  6741]]\n"
     ]
    }
   ],
   "source": [
    "# Instantiate model with best paramaters\n",
    "lg_best = LogisticRegression(C=10, penalty='l2', solver='saga', random_state=2020) # Check the params\n",
    "\n",
    "# Train with balanced classes\n",
    "lg_best.fit(X_train_smote, y_train_smote)\n",
    "\n",
    "# Get predictions\n",
    "lg_best_preds = lg_best.predict(X_test)\n",
    "# lg_best_y_score = lg_best.predict_proba(X_test)\n",
    "\n",
    "# Get ROC AUC Score, precision, recall, f1-score\n",
    "accuracy  = round(accuracy_score(y_test, lg_best_preds), 3)\n",
    "roc_auc   = round(roc_auc_score(y_test, lg_best_preds), 3)\n",
    "precision = round(precision_score(y_test, lg_best_preds), 3)\n",
    "recall    = round(recall_score(y_test, lg_best_preds), 3)\n",
    "f1        = round(f1_score(y_test, lg_best_preds), 3)\n",
    "\n",
    "print(f'Accuracy  : {accuracy}')\n",
    "print(f'ROC_AUC   : {roc_auc}')\n",
    "print(f'Precision : {precision}')\n",
    "print(f'Recall    : {recall}')\n",
    "print(f'F-score   : {f1}')\n",
    "\n",
    "# Confusion matrix\n",
    "print('\\nConfusion Matrix\\n' + str(confusion_matrix(y_test, lg_best_preds)))"
   ]
  },
  {
   "cell_type": "code",
   "execution_count": 54,
   "metadata": {
    "Collapsed": "false"
   },
   "outputs": [],
   "source": [
    "# # Add model and accuracy dict to list\n",
    "# model_performance.append(dict([\n",
    "#     ('Model', 'Logistic Regression'),\n",
    "#     ('ROC AUC', round(roc_auc, 3)),\n",
    "#     ('Precision', round(precision, 3)),\n",
    "#     ('Recall', round(recall, 3)),\n",
    "#     ('f1', round(f1_score, 3))\n",
    "#      ]))\n",
    "\n",
    "# # Add model to list\n",
    "# models_optimized.append('Logistic Regression')"
   ]
  },
  {
   "cell_type": "markdown",
   "metadata": {
    "Collapsed": "false"
   },
   "source": [
    "## KNN"
   ]
  },
  {
   "cell_type": "code",
   "execution_count": 45,
   "metadata": {
    "Collapsed": "false"
   },
   "outputs": [
    {
     "name": "stderr",
     "output_type": "stream",
     "text": [
      "/opt/conda/lib/python3.7/site-packages/sklearn/model_selection/_search.py:281: UserWarning: The total space of parameters 3 is smaller than n_iter=10. Running 3 iterations. For exhaustive searches, use GridSearchCV.\n",
      "  % (grid_size, self.n_iter, grid_size), UserWarning)\n"
     ]
    },
    {
     "name": "stdout",
     "output_type": "stream",
     "text": [
      "Best Score: 0.732\n",
      "Params: {'smt__random_state': 2020, 'knn__n_neighbors': 7}\n",
      "\n",
      "Train 0.713\tTest 0.706\tParams: {'smt__random_state': 2020, 'knn__n_neighbors': 3}\n",
      "Train 0.732\tTest 0.725\tParams: {'smt__random_state': 2020, 'knn__n_neighbors': 5}\n",
      "Train 0.739\tTest 0.732\tParams: {'smt__random_state': 2020, 'knn__n_neighbors': 7}\n"
     ]
    }
   ],
   "source": [
    "# Grid searching key hyperparameters for KNN\n",
    "\n",
    "# Instantiate model and SMOTE\n",
    "knn_model = KNeighborsClassifier()\n",
    "smote = SMOTE(random_state=2020)\n",
    "\n",
    "# Construct pipeline\n",
    "steps = [('smt', smote), ('knn', knn_model)]\n",
    "pipeline = Pipeline(steps)\n",
    "\n",
    "# Define parameter grid values to be searched\n",
    "param_grid = {\n",
    "    'smt__random_state': [2020],\n",
    "    'knn__n_neighbors' : [3, 5, 7]\n",
    "}\n",
    "\n",
    "# Use stratify version of k-fold to keep class imbalance ratio\n",
    "k_fold = StratifiedKFold(n_splits=3, shuffle = True, random_state=2020)\n",
    "\n",
    "# Cross Validation\n",
    "# knn_grid = GridSearchCV(pipeline, param_grid=param_grid, cv=k_fold, n_jobs=-1, return_train_score=True, scoring='roc_auc')\n",
    "knn_rndm = RandomizedSearchCV(pipeline, param_distributions=param_grid, cv=k_fold, n_jobs=-1, return_train_score=True, scoring='roc_auc')\n",
    "\n",
    "# Train with balanced classes\n",
    "grid_result = knn_rndm.fit(X_train_smote, y_train_smote) # Should I use X_train, y_train here?\n",
    "\n",
    "# Summarize results\n",
    "print(f'Best Score: {round(grid_result.best_score_, 3)}\\nParams: {grid_result.best_params_}\\n')\n",
    "\n",
    "mean_train = grid_result.cv_results_['mean_train_score']\n",
    "mean_test = grid_result.cv_results_['mean_test_score']\n",
    "params = grid_result.cv_results_['params']\n",
    "for mean_tr, mean_ts, param in zip(mean_train, mean_test, params):\n",
    "    print(f'Train {round(mean_tr, 3)}\\tTest {round(mean_ts, 3)}\\tParams: {param}')\n",
    "    \n",
    "# # Examine the best model\n",
    "# print(knn_grid.best_score_)\n",
    "# print(knn_grid.best_params_)"
   ]
  },
  {
   "cell_type": "code",
   "execution_count": 46,
   "metadata": {
    "Collapsed": "false"
   },
   "outputs": [
    {
     "name": "stdout",
     "output_type": "stream",
     "text": [
      "Accuracy  : 0.742\n",
      "ROC_AUC   : 0.656\n",
      "Precision : 0.217\n",
      "Recall    : 0.545\n",
      "F-score   : 0.31\n",
      "\n",
      "Confusion Matrix\n",
      "[[72657 22228]\n",
      " [ 5128  6149]]\n"
     ]
    }
   ],
   "source": [
    "# Instantiate model with best paramaters\n",
    "knn_best = KNeighborsClassifier(n_neighbors=7)\n",
    "\n",
    "# Train with balanced classes\n",
    "knn_best.fit(X_train_smote, y_train_smote)\n",
    "\n",
    "# Get predictions\n",
    "knn_best_preds = knn_best.predict(X_test)\n",
    "# knn_best_y_score = knn_best.predict_proba(X_test)\n",
    "\n",
    "# Get ROC AUC Score, precision, recall, f1-score\n",
    "accuracy  = round(accuracy_score(y_test,  knn_best_preds), 3)\n",
    "roc_auc   = round(roc_auc_score(y_test,   knn_best_preds), 3)\n",
    "precision = round(precision_score(y_test, knn_best_preds), 3)\n",
    "recall    = round(recall_score(y_test,    knn_best_preds), 3)\n",
    "f1        = round(f1_score(y_test,        knn_best_preds), 3)\n",
    "\n",
    "print(f'Accuracy  : {accuracy}')\n",
    "print(f'ROC_AUC   : {roc_auc}')\n",
    "print(f'Precision : {precision}')\n",
    "print(f'Recall    : {recall}')\n",
    "print(f'F-score   : {f1}')\n",
    "\n",
    "# Confusion matrix\n",
    "print('\\nConfusion Matrix\\n' + str(confusion_matrix(y_test, knn_best_preds)))"
   ]
  },
  {
   "cell_type": "code",
   "execution_count": 48,
   "metadata": {
    "Collapsed": "false"
   },
   "outputs": [],
   "source": [
    "# # Add model and accuracy dict to list\n",
    "# model_performance.append(dict([\n",
    "#     ('Model', 'KNN'),\n",
    "#     ('ROC AUC', round(roc_auc, 3)),\n",
    "#     ('Precision', round(precision, 3)),\n",
    "#     ('Recall', round(recall, 3)),\n",
    "#     ('f1', round(f1_score, 3))\n",
    "#      ]))\n",
    "\n",
    "# # Add model to list\n",
    "# models_optimized.append('KNN')"
   ]
  },
  {
   "cell_type": "markdown",
   "metadata": {
    "Collapsed": "false"
   },
   "source": [
    "## Random Forest"
   ]
  },
  {
   "cell_type": "code",
   "execution_count": 55,
   "metadata": {
    "Collapsed": "false"
   },
   "outputs": [
    {
     "name": "stdout",
     "output_type": "stream",
     "text": [
      "Best Score: 0.717\n",
      "Params: {'smt__random_state': 2020, 'rfc__random_state': 2020, 'rfc__n_estimators': 100, 'rfc__max_features': 10, 'rfc__max_depth': 3, 'rfc__criterion': 'gini'}\n",
      "\n",
      "Train 0.705\tTest 0.705\tParams: {'smt__random_state': 2020, 'rfc__random_state': 2020, 'rfc__n_estimators': 200, 'rfc__max_features': 5, 'rfc__max_depth': 2, 'rfc__criterion': 'gini'}\n",
      "Train 0.713\tTest 0.713\tParams: {'smt__random_state': 2020, 'rfc__random_state': 2020, 'rfc__n_estimators': 100, 'rfc__max_features': 5, 'rfc__max_depth': 3, 'rfc__criterion': 'entropy'}\n",
      "Train 0.717\tTest 0.717\tParams: {'smt__random_state': 2020, 'rfc__random_state': 2020, 'rfc__n_estimators': 100, 'rfc__max_features': 10, 'rfc__max_depth': 3, 'rfc__criterion': 'gini'}\n",
      "Train 0.713\tTest 0.713\tParams: {'smt__random_state': 2020, 'rfc__random_state': 2020, 'rfc__n_estimators': 100, 'rfc__max_features': 15, 'rfc__max_depth': 4, 'rfc__criterion': 'gini'}\n",
      "Train 0.701\tTest 0.701\tParams: {'smt__random_state': 2020, 'rfc__random_state': 2020, 'rfc__n_estimators': 1000, 'rfc__max_features': 10, 'rfc__max_depth': 2, 'rfc__criterion': 'gini'}\n",
      "Train 0.657\tTest 0.657\tParams: {'smt__random_state': 2020, 'rfc__random_state': 2020, 'rfc__n_estimators': 100, 'rfc__max_features': 15, 'rfc__max_depth': 2, 'rfc__criterion': 'entropy'}\n",
      "Train 0.657\tTest 0.657\tParams: {'smt__random_state': 2020, 'rfc__random_state': 2020, 'rfc__n_estimators': 50, 'rfc__max_features': 15, 'rfc__max_depth': 2, 'rfc__criterion': 'entropy'}\n",
      "Train 0.704\tTest 0.704\tParams: {'smt__random_state': 2020, 'rfc__random_state': 2020, 'rfc__n_estimators': 200, 'rfc__max_features': 5, 'rfc__max_depth': 2, 'rfc__criterion': 'entropy'}\n",
      "Train 0.715\tTest 0.715\tParams: {'smt__random_state': 2020, 'rfc__random_state': 2020, 'rfc__n_estimators': 1000, 'rfc__max_features': 15, 'rfc__max_depth': 4, 'rfc__criterion': 'entropy'}\n",
      "Train 0.715\tTest 0.715\tParams: {'smt__random_state': 2020, 'rfc__random_state': 2020, 'rfc__n_estimators': 200, 'rfc__max_features': 15, 'rfc__max_depth': 4, 'rfc__criterion': 'entropy'}\n"
     ]
    }
   ],
   "source": [
    "# Grid searching key hyperparameters for Random Forest\n",
    "\n",
    "# Instantiate model and SMOTE\n",
    "rf_model = RandomForestClassifier()\n",
    "smote = SMOTE(random_state=2020)\n",
    "\n",
    "# Construct pipeline\n",
    "steps = [('smt', smote), ('rfc', rf_model)]\n",
    "pipeline = Pipeline(steps)\n",
    "\n",
    "# Define parameter grid values to be searched\n",
    "param_grid = {\n",
    "    'smt__random_state': [2020],\n",
    "    'rfc__n_estimators': [50, 100, 150, 200, 1000],\n",
    "    'rfc__max_depth' : [2, 3, 4],\n",
    "    'rfc__max_features' : [5, 10, 15],\n",
    "    'rfc__criterion' : ['gini', 'entropy'],\n",
    "    'rfc__random_state' :[2020]\n",
    "}\n",
    "\n",
    "# Use stratify version of k-fold to keep class imbalance ratio\n",
    "k_fold = StratifiedKFold(n_splits=3, shuffle = True, random_state=2020)\n",
    "\n",
    "# Cross Validation\n",
    "# rf_grid = GridSearchCV(pipeline, param_grid=param_grid, cv=k_fold, n_jobs=-1, return_train_score=True, scoring='roc_auc')\n",
    "rf_rndm = RandomizedSearchCV(pipeline, param_distributions=param_grid, cv=k_fold, n_jobs=-1, return_train_score=True, scoring='roc_auc')\n",
    "\n",
    "# Train with balanced classes\n",
    "grid_result = rf_rndm.fit(X_train_smote, y_train_smote) # Should I use X_train, y_train here?\n",
    "\n",
    "# Summarize results\n",
    "print(f'Best Score: {round(grid_result.best_score_, 3)}\\nParams: {grid_result.best_params_}\\n')\n",
    "\n",
    "mean_train = grid_result.cv_results_['mean_train_score']\n",
    "mean_test = grid_result.cv_results_['mean_test_score']\n",
    "params = grid_result.cv_results_['params']\n",
    "for mean_tr, mean_ts, param in zip(mean_train, mean_test, params):\n",
    "    print(f'Train {round(mean_tr, 3)}\\tTest {round(mean_ts, 3)}\\tParams: {param}')\n",
    "    \n",
    "# # Examine the best model\n",
    "# print(rf_grid.best_score_)\n",
    "# print(rf_grid.best_params_)"
   ]
  },
  {
   "cell_type": "code",
   "execution_count": 56,
   "metadata": {
    "Collapsed": "false"
   },
   "outputs": [
    {
     "name": "stdout",
     "output_type": "stream",
     "text": [
      "Accuracy  : 0.753\n",
      "ROC_AUC   : 0.649\n",
      "Precision : 0.219\n",
      "Recall    : 0.518\n",
      "F-score   : 0.308\n",
      "\n",
      "Confusion Matrix\n",
      "[[74081 20804]\n",
      " [ 5437  5840]]\n"
     ]
    }
   ],
   "source": [
    "# Instantiate model with best paramaters\n",
    "rf_best = RandomForestClassifier(n_estimators=100, criterion='gini', max_depth=3, max_features=10, random_state=2020)\n",
    "\n",
    "# Train with balanced classes\n",
    "rf_best.fit(X_train_smote, y_train_smote)\n",
    "\n",
    "# Get predictions\n",
    "rf_best_preds = rf_best.predict(X_test)\n",
    "# rf_best_y_score = rf_best.predict_proba(X_test)\n",
    "\n",
    "# Get ROC AUC Score, precision, recall, f1-score\n",
    "accuracy  = round(accuracy_score(y_test,  rf_best_preds), 3)\n",
    "roc_auc   = round(roc_auc_score(y_test,   rf_best_preds), 3)\n",
    "precision = round(precision_score(y_test, rf_best_preds), 3)\n",
    "recall    = round(recall_score(y_test,    rf_best_preds), 3)\n",
    "f1        = round(f1_score(y_test,        rf_best_preds), 3)\n",
    "\n",
    "print(f'Accuracy  : {accuracy}')\n",
    "print(f'ROC_AUC   : {roc_auc}')\n",
    "print(f'Precision : {precision}')\n",
    "print(f'Recall    : {recall}')\n",
    "print(f'F-score   : {f1}')\n",
    "\n",
    "# Confusion matrix\n",
    "print('\\nConfusion Matrix\\n' + str(confusion_matrix(y_test, rf_best_preds)))"
   ]
  },
  {
   "cell_type": "code",
   "execution_count": 57,
   "metadata": {
    "Collapsed": "false"
   },
   "outputs": [],
   "source": [
    "# # Add model and accuracy dict to list\n",
    "# model_performance.append(dict([\n",
    "#     ('Model', 'Random Forest'),\n",
    "#     ('ROC AUC', round(roc_auc, 3)),\n",
    "#     ('Precision', round(precision, 3)),\n",
    "#     ('Recall', round(recall, 3)),\n",
    "#     ('F1', round(f1_score, 3))\n",
    "#      ]))\n",
    "\n",
    "# # Add model to list\n",
    "# models_optimized.append('Random Forest')"
   ]
  },
  {
   "cell_type": "markdown",
   "metadata": {
    "Collapsed": "false"
   },
   "source": [
    "## XGBoost"
   ]
  },
  {
   "cell_type": "code",
   "execution_count": 61,
   "metadata": {
    "Collapsed": "false"
   },
   "outputs": [
    {
     "name": "stdout",
     "output_type": "stream",
     "text": [
      "Best Score: 0.767\n",
      "Params: {'xgb__n_estimators': 250, 'xgb__max_depth': 4, 'xgb__learning_rate': 0.1, 'smt__random_state': 2020}\n",
      "\n",
      "Train 0.717\tTest 0.717\tParams: {'xgb__n_estimators': 100, 'xgb__max_depth': 3, 'xgb__learning_rate': 0.01, 'smt__random_state': 2020}\n",
      "Train 0.763\tTest 0.762\tParams: {'xgb__n_estimators': 100, 'xgb__max_depth': 5, 'xgb__learning_rate': 0.1, 'smt__random_state': 2020}\n",
      "Train 0.762\tTest 0.762\tParams: {'xgb__n_estimators': 1000, 'xgb__max_depth': 5, 'xgb__learning_rate': 0.01, 'smt__random_state': 2020}\n",
      "Train 0.73\tTest 0.73\tParams: {'xgb__n_estimators': 250, 'xgb__max_depth': 3, 'xgb__learning_rate': 0.01, 'smt__random_state': 2020}\n",
      "Train 0.745\tTest 0.745\tParams: {'xgb__n_estimators': 250, 'xgb__max_depth': 5, 'xgb__learning_rate': 0.01, 'smt__random_state': 2020}\n",
      "Train 0.727\tTest 0.727\tParams: {'xgb__n_estimators': 500, 'xgb__max_depth': 4, 'xgb__learning_rate': 0.001, 'smt__random_state': 2020}\n",
      "Train 0.746\tTest 0.746\tParams: {'xgb__n_estimators': 500, 'xgb__max_depth': 4, 'xgb__learning_rate': 0.01, 'smt__random_state': 2020}\n",
      "Train 0.714\tTest 0.714\tParams: {'xgb__n_estimators': 500, 'xgb__max_depth': 3, 'xgb__learning_rate': 0.001, 'smt__random_state': 2020}\n",
      "Train 0.755\tTest 0.755\tParams: {'xgb__n_estimators': 250, 'xgb__max_depth': 3, 'xgb__learning_rate': 0.1, 'smt__random_state': 2020}\n",
      "Train 0.768\tTest 0.767\tParams: {'xgb__n_estimators': 250, 'xgb__max_depth': 4, 'xgb__learning_rate': 0.1, 'smt__random_state': 2020}\n"
     ]
    }
   ],
   "source": [
    "# Grid searching key hyperparameters for XGBoost\n",
    "\n",
    "# Instantiate model and SMOTE\n",
    "xgb_model = XGBClassifier()\n",
    "smote = SMOTE(random_state=2020)\n",
    "\n",
    "# Construct pipeline\n",
    "steps = [('smt', smote), ('xgb', xgb_model)]\n",
    "pipeline = Pipeline(steps)\n",
    "\n",
    "# Define parameter grid values to be searched\n",
    "param_grid = {\n",
    "    'smt__random_state': [2020],\n",
    "    'xgb__n_estimators': [100, 250, 500, 1000], \n",
    "    'xgb__max_depth': [3, 4, 5], \n",
    "    'xgb__learning_rate': [0.001, 0.01, 0.1]\n",
    "}\n",
    "\n",
    "# Use stratify version of k-fold to keep class imbalance ratio\n",
    "k_fold = StratifiedKFold(n_splits=3, shuffle = True, random_state=2020)\n",
    "\n",
    "# Cross Validation\n",
    "# xgb_grid = GridSearchCV(pipeline, param_grid=param_grid, cv=k_fold, n_jobs=-1, return_train_score=True, scoring='roc_auc')\n",
    "xgb_rndm = RandomizedSearchCV(pipeline, param_distributions=param_grid, cv=k_fold, n_jobs=-1, return_train_score=True, scoring='roc_auc')\n",
    "\n",
    "# Train with balanced classes\n",
    "grid_result = xgb_rndm.fit(X_train_smote, y_train_smote) # Should I use X_train, y_train here?\n",
    "\n",
    "# Summarize results\n",
    "print(f'Best Score: {round(grid_result.best_score_, 3)}\\nParams: {grid_result.best_params_}\\n')\n",
    "\n",
    "mean_train = grid_result.cv_results_['mean_train_score']\n",
    "mean_test = grid_result.cv_results_['mean_test_score']\n",
    "params = grid_result.cv_results_['params']\n",
    "for mean_tr, mean_ts, param in zip(mean_train, mean_test, params):\n",
    "    print(f'Train {round(mean_tr, 3)}\\tTest {round(mean_ts, 3)}\\tParams: {param}')\n",
    "    \n",
    "# # Examine the best model\n",
    "# print(lg_grid.best_score_)\n",
    "# print(lg_grid.best_params_)"
   ]
  },
  {
   "cell_type": "code",
   "execution_count": 64,
   "metadata": {
    "Collapsed": "false"
   },
   "outputs": [
    {
     "name": "stdout",
     "output_type": "stream",
     "text": [
      "Accuracy  : 0.753\n",
      "ROC_AUC   : 0.649\n",
      "Precision : 0.219\n",
      "Recall    : 0.518\n",
      "F-score   : 0.308\n",
      "\n",
      "Confusion Matrix\n",
      "[[71271 23614]\n",
      " [ 4643  6634]]\n"
     ]
    }
   ],
   "source": [
    "# Instantiate model with best paramaters\n",
    "xgb_best = XGBClassifier(n_estimators=250, max_depth=4, learning_rate=0.1)\n",
    "\n",
    "# Train with balanced classes\n",
    "xgb_best.fit(X_train_smote, y_train_smote)\n",
    "\n",
    "# Get predictions\n",
    "xgb_best_preds = xgb_best.predict(X_test)\n",
    "# xgb_best_y_score = xgb_best.predict_proba(X_test)\n",
    "\n",
    "# Get ROC AUC Score, precision, recall, f1-score\n",
    "accuracy  = round(accuracy_score(y_test,  rf_best_preds), 3)\n",
    "roc_auc   = round(roc_auc_score(y_test,   rf_best_preds), 3)\n",
    "precision = round(precision_score(y_test, rf_best_preds), 3)\n",
    "recall    = round(recall_score(y_test,    rf_best_preds), 3)\n",
    "f1        = round(f1_score(y_test,        rf_best_preds), 3)\n",
    "\n",
    "print(f'Accuracy  : {accuracy}')\n",
    "print(f'ROC_AUC   : {roc_auc}')\n",
    "print(f'Precision : {precision}')\n",
    "print(f'Recall    : {recall}')\n",
    "print(f'F-score   : {f1}')\n",
    "\n",
    "# Confusion matrix\n",
    "print('\\nConfusion Matrix\\n' + str(confusion_matrix(y_test, xgb_best_preds)))"
   ]
  },
  {
   "cell_type": "code",
   "execution_count": 65,
   "metadata": {
    "Collapsed": "false"
   },
   "outputs": [],
   "source": [
    "# # Add model and accuracy dict to list\n",
    "# model_performance.append(dict([\n",
    "#     ('Model', 'XGBoost'),\n",
    "#     ('ROC AUC', round(roc_auc, 3)),\n",
    "#     ('Precision', round(precision, 3)),\n",
    "#     ('Recall', round(recall, 3)),\n",
    "#     ('F1', round(f1, 3))\n",
    "#      ]))\n",
    "\n",
    "# # Add model to list\n",
    "# models_optimized.append('XGBoost')"
   ]
  },
  {
   "cell_type": "markdown",
   "metadata": {
    "Collapsed": "false"
   },
   "source": [
    "# Feature Importance"
   ]
  },
  {
   "cell_type": "code",
   "execution_count": 66,
   "metadata": {
    "Collapsed": "false"
   },
   "outputs": [
    {
     "data": {
      "text/plain": [
       "Text(0.5, 1.0, 'Feature Importance')"
      ]
     },
     "execution_count": 66,
     "metadata": {},
     "output_type": "execute_result"
    },
    {
     "data": {
      "image/png": "[encoded data removed]",
      "text/plain": [
       "<Figure size 720x720 with 1 Axes>"
      ]
     },
     "metadata": {},
     "output_type": "display_data"
    }
   ],
   "source": [
    "# Feature Importance – XGBoost\n",
    "fig, ax = plt.subplots(figsize=(10,10))\n",
    "xgb_best.get_booster().feature_names = list(X_test.columns)\n",
    "plot_importance(xgb_best.get_booster(), max_num_features=15, height=0.8, ax=ax)\n",
    "plt.title('Feature Importance')\n",
    "\n",
    "# plt.savefig('feature_importance.png', bbox_inches='tight');"
   ]
  },
  {
   "cell_type": "markdown",
   "metadata": {
    "Collapsed": "false"
   },
   "source": [
    "# Model Comparison"
   ]
  },
  {
   "cell_type": "code",
   "execution_count": 67,
   "metadata": {
    "Collapsed": "false"
   },
   "outputs": [],
   "source": [
    "def plot_roc_curves(classifiers, X_train, y_train, X_test, y_test, sampler = None):\n",
    "    \"\"\"\n",
    "        Function for plotting roc curves of classifiers for comparison\n",
    "        \n",
    "        :param classifiers: dictionary of classifiers\n",
    "        :param sampler: sampling method to use e.g. smote\n",
    "        \n",
    "        :returns fpr: an array of false positive rate values from roc_curve\n",
    "        :returns tpr: an array of true positive rate values from roc_curve\n",
    "        :returns thresholds: an array of threshold values from roc_curve\n",
    "        :returns roc_auc: roc_auc scores for each classifier in classifiers\n",
    "        \n",
    "        https://github.com/kevinchiv/Predicting-Kickstarter-Success/blob/master/02%20-%20Classification%20Modeling.ipynb\n",
    "    \"\"\"\n",
    "\n",
    "    fpr, tpr, thresholds = {}, {}, {}\n",
    "    roc_auc = {}\n",
    "\n",
    "\n",
    "    for classifier_name, classifier in classifiers.items():\n",
    "\n",
    "        #set n_jobs = -1 for faster performance\n",
    "        classifier = classifier.set_params(n_jobs = -1)\n",
    "\n",
    "#         if sampler:\n",
    "#             sampler.set_params(random_state = 42, n_jobs = -1)\n",
    "\n",
    "        steps = [('sampling', sampler),\n",
    "                 (classifier_name, classifier)]\n",
    "\n",
    "        model = Pipeline(steps)\n",
    "\n",
    "        model.fit(X_train, y_train)\n",
    "\n",
    "        y_proba = model.predict_proba(X_test)[:,1]\n",
    "\n",
    "        fpr[classifier_name], tpr[classifier_name], thresholds[classifier_name] = roc_curve(y_test, y_proba)\n",
    "\n",
    "        roc_auc[classifier_name] = round(auc(fpr[classifier_name], tpr[classifier_name]), 3)\n",
    "\n",
    "        print(classifier_name + ' roc_auc score: ' + str(roc_auc[classifier_name]))\n",
    "\n",
    "\n",
    "    plt.figure(figsize=(8, 8))\n",
    "\n",
    "    for classifier_name, classifier in classifiers.items():\n",
    "        sns.lineplot(fpr[classifier_name], tpr[classifier_name], err_style = None);\n",
    "\n",
    "    midline_points = np.arange(0, 1.05, 0.05) \n",
    "\n",
    "    plt.plot(midline_points, midline_points, linestyle ='--', color = 'black');\n",
    "    plt.title(\"ROC Curves for Different Classification Models\", y =1.05, fontsize = 16);\n",
    "    plt.xlabel('FPR', fontsize = 12, x = 1.05);\n",
    "    plt.ylabel('TPR', fontsize = 12, rotation =0, y = 1.05);\n",
    "    plt.legend(list(zip(classifiers.keys(), roc_auc.values())));\n",
    "\n",
    "    return fpr, tpr, thresholds, roc_auc"
   ]
  },
  {
   "cell_type": "code",
   "execution_count": 68,
   "metadata": {
    "Collapsed": "false"
   },
   "outputs": [
    {
     "name": "stdout",
     "output_type": "stream",
     "text": [
      "KNN roc_auc score: 0.708\n",
      "LGR roc_auc score: 0.71\n",
      "RFC roc_auc score: 0.714\n",
      "XGB roc_auc score: 0.744\n",
      "Ensemble roc_auc score: 0.731\n"
     ]
    },
    {
     "data": {
      "image/png": "[encoded data removed]",
      "text/plain": [
       "<Figure size 576x576 with 1 Axes>"
      ]
     },
     "metadata": {},
     "output_type": "display_data"
    }
   ],
   "source": [
    "classifiers = {'KNN': knn_best, \n",
    "               'LGR': lg_best, \n",
    "               'RFC': rf_best, \n",
    "               'XGB': xgb_best,\n",
    "               'Ensemble': VotingClassifier(estimators=[('lr', lg_best), ('rf', rf_best), ('xgb', xgb_best)],\n",
    "                                            voting='soft', weights=[1, 1, 1])\n",
    "              }\n",
    "\n",
    "fpr, tpr, thresholds, roc_auc = plot_roc_curves(classifiers, X_train_smote, y_train_smote, X_test, y_test)"
   ]
  },
  {
   "cell_type": "markdown",
   "metadata": {
    "Collapsed": "false"
   },
   "source": [
    "## Confusion Matrix for Test Dataset"
   ]
  },
  {
   "cell_type": "code",
   "execution_count": null,
   "metadata": {
    "Collapsed": "false"
   },
   "outputs": [],
   "source": [
    "# # Print confusion matrix for XGBoost\n",
    "# xgb_confusion = confusion_matrix(y_test, test_pred_smote)\n",
    "\n",
    "# plt.figure(dpi=125)\n",
    "# sns.heatmap(xgb_confusion, annot=True, fmt='g', square=True, cbar=False,\n",
    "#             xticklabels=['no duplicate', 'is duplicate'],\n",
    "#             yticklabels=['no duplicate', 'is duplicate'])\n",
    "\n",
    "# plt.title('Confusion Matrix - Test Dataset\\nXGBoost', pad=20)\n",
    "# plt.xlabel('Predicted\\n', labelpad=20)\n",
    "# plt.ylabel('Actual\\n', labelpad=20);"
   ]
  }
 ],
 "metadata": {
  "kernelspec": {
   "display_name": "Python 3",
   "language": "python",
   "name": "python3"
  },
  "language_info": {
   "codemirror_mode": {
    "name": "ipython",
    "version": 3
   },
   "file_extension": ".py",
   "mimetype": "text/x-python",
   "name": "python",
   "nbconvert_exporter": "python",
   "pygments_lexer": "ipython3",
   "version": "3.7.6"
  },
  "toc": {
   "base_numbering": 1,
   "nav_menu": {},
   "number_sections": true,
   "sideBar": true,
   "skip_h1_title": false,
   "title_cell": "Table of Contents",
   "title_sidebar": "Contents",
   "toc_cell": false,
   "toc_position": {},
   "toc_section_display": true,
   "toc_window_display": false
  },
  "toc-autonumbering": true,
  "toc-showcode": false,
  "toc-showmarkdowntxt": false
 },
 "nbformat": 4,
 "nbformat_minor": 4
}
