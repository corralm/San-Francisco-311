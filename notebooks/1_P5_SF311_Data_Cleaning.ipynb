{
 "cells": [
  {
   "cell_type": "code",
   "execution_count": null,
   "metadata": {
    "Collapsed": "false"
   },
   "outputs": [],
   "source": [
    "# Add table of contents"
   ]
  },
  {
   "cell_type": "markdown",
   "metadata": {
    "Collapsed": "false"
   },
   "source": [
    "# Libraries and Notebook Options"
   ]
  },
  {
   "cell_type": "code",
   "execution_count": 1,
   "metadata": {
    "Collapsed": "false"
   },
   "outputs": [],
   "source": [
    "import pandas as pd\n",
    "import numpy as np\n",
    "import pickle\n",
    "\n",
    "# # Exploratory Data Analysis\n",
    "# from pandas_profiling import ProfileReport"
   ]
  },
  {
   "cell_type": "markdown",
   "metadata": {
    "Collapsed": "false"
   },
   "source": [
    "# SODA API"
   ]
  },
  {
   "cell_type": "code",
   "execution_count": 2,
   "metadata": {
    "Collapsed": "false"
   },
   "outputs": [],
   "source": [
    "# from sodapy import Socrata\n",
    "# # Unauthenticated client only works with public data sets. Note 'None'\n",
    "# # in place of application token, and no username or password:\n",
    "# client = Socrata('data.sfgov.org', None)\n",
    "\n",
    "# # Authenticate the client\n",
    "# domain = 'data.sfgov.org'\n",
    "# app_token = 'tZuHs7ko1xQezRBAgUN10D0i9'\n",
    "# username = 'corraljrmiguel@gmail.com'\n",
    "# password = 'Xd9@rzwPhZjKsNg8cima'\n",
    "\n",
    "# client = Socrata(domain,\n",
    "#                  app_token,\n",
    "#                  username=username,\n",
    "#                  password=password)\n",
    "\n",
    "# # Returns as JSON from API\n",
    "# # converted to Python list of dictionaries by sodapy.\n",
    "# results = client.get('vw6y-z8j6', limit=10000)\n",
    "# # results = client.get('vw6y-z8j6', where='service_request_id=12167455')\n",
    "\n",
    "# # Convert to pandas dataframe\n",
    "# df = pd.DataFrame.from_records(results)"
   ]
  },
  {
   "cell_type": "markdown",
   "metadata": {
    "Collapsed": "false"
   },
   "source": [
    "# Data Cleaning"
   ]
  },
  {
   "cell_type": "code",
   "execution_count": 3,
   "metadata": {
    "Collapsed": "false"
   },
   "outputs": [
    {
     "data": {
      "text/plain": [
       "(4107366, 47)"
      ]
     },
     "execution_count": 3,
     "metadata": {},
     "output_type": "execute_result"
    }
   ],
   "source": [
    "# # Import CSV – 4.1M rows\n",
    "# df = pd.read_csv('../data/311_Cases.csv')\n",
    "df = pd.read_csv('../data/rows.csv')\n",
    "\n",
    "# # [TEMPORARY]\n",
    "# df = read_pickle('../data/df_raw_all.pkl')\n",
    "# df = df.sample(n=20000, random_state=2020)\n",
    "\n",
    "# Sort dataframe by CaseID (newest first)\n",
    "df.sort_values(by='CaseID', ascending=False, inplace=True)\n",
    "\n",
    "# # Set index to CaseID\n",
    "# df.set_index('CaseID', drop=True)\n",
    "\n",
    "# Reset the index\n",
    "df.reset_index(drop=True, inplace=True)\n",
    "\n",
    "df.shape"
   ]
  },
  {
   "cell_type": "code",
   "execution_count": 4,
   "metadata": {
    "Collapsed": "false"
   },
   "outputs": [
    {
     "name": "stdout",
     "output_type": "stream",
     "text": [
      "(4107366, 19)\n"
     ]
    },
    {
     "data": {
      "text/html": [
       "<div>\n",
       "<style scoped>\n",
       "    .dataframe tbody tr th:only-of-type {\n",
       "        vertical-align: middle;\n",
       "    }\n",
       "\n",
       "    .dataframe tbody tr th {\n",
       "        vertical-align: top;\n",
       "    }\n",
       "\n",
       "    .dataframe thead th {\n",
       "        text-align: right;\n",
       "    }\n",
       "</style>\n",
       "<table border=\"1\" class=\"dataframe\">\n",
       "  <thead>\n",
       "    <tr style=\"text-align: right;\">\n",
       "      <th></th>\n",
       "      <th>CaseID</th>\n",
       "      <th>Opened</th>\n",
       "      <th>Closed</th>\n",
       "      <th>Updated</th>\n",
       "      <th>Status</th>\n",
       "      <th>Status Notes</th>\n",
       "      <th>Responsible Agency</th>\n",
       "      <th>Category</th>\n",
       "      <th>Request Type</th>\n",
       "      <th>Request Details</th>\n",
       "      <th>Address</th>\n",
       "      <th>Street</th>\n",
       "      <th>Supervisor District</th>\n",
       "      <th>Neighborhood</th>\n",
       "      <th>Police District</th>\n",
       "      <th>Latitude</th>\n",
       "      <th>Longitude</th>\n",
       "      <th>Point</th>\n",
       "      <th>Source</th>\n",
       "    </tr>\n",
       "  </thead>\n",
       "  <tbody>\n",
       "    <tr>\n",
       "      <th>0</th>\n",
       "      <td>12214650</td>\n",
       "      <td>03/14/2020 09:35:00 AM</td>\n",
       "      <td>03/14/2020 09:39:41 AM</td>\n",
       "      <td>03/14/2020 09:39:41 AM</td>\n",
       "      <td>Closed</td>\n",
       "      <td>Case is a Duplicate - This issue has already b...</td>\n",
       "      <td>Parking Enforcement Dispatch Queue</td>\n",
       "      <td>Parking Enforcement</td>\n",
       "      <td>Blocking_Driveway_Cite_Tow</td>\n",
       "      <td>Black - BMW/x2 - R540y0</td>\n",
       "      <td>545 ASHBURY ST, SAN FRANCISCO, CA, 94117</td>\n",
       "      <td>ASHBURY ST</td>\n",
       "      <td>5.0</td>\n",
       "      <td>Haight Ashbury</td>\n",
       "      <td>PARK</td>\n",
       "      <td>37.770263</td>\n",
       "      <td>-122.447232</td>\n",
       "      <td>(37.7702626, -122.4472325)</td>\n",
       "      <td>Web</td>\n",
       "    </tr>\n",
       "    <tr>\n",
       "      <th>1</th>\n",
       "      <td>12214645</td>\n",
       "      <td>03/14/2020 09:34:00 AM</td>\n",
       "      <td>03/14/2020 11:22:00 AM</td>\n",
       "      <td>03/14/2020 11:22:00 AM</td>\n",
       "      <td>Closed</td>\n",
       "      <td>Case Resolved - Officer responded to request u...</td>\n",
       "      <td>Parking Enforcement Dispatch Queue</td>\n",
       "      <td>Parking Enforcement</td>\n",
       "      <td>Blocking_Driveway_Cite_Tow</td>\n",
       "      <td>Grey - Ford//focus - 7aph120</td>\n",
       "      <td>545 ASHBURY ST, SAN FRANCISCO, CA, 94117</td>\n",
       "      <td>ASHBURY ST</td>\n",
       "      <td>5.0</td>\n",
       "      <td>Haight Ashbury</td>\n",
       "      <td>PARK</td>\n",
       "      <td>37.770263</td>\n",
       "      <td>-122.447232</td>\n",
       "      <td>(37.7702626, -122.4472325)</td>\n",
       "      <td>Web</td>\n",
       "    </tr>\n",
       "    <tr>\n",
       "      <th>2</th>\n",
       "      <td>12214640</td>\n",
       "      <td>03/14/2020 09:33:02 AM</td>\n",
       "      <td>03/14/2020 11:30:59 AM</td>\n",
       "      <td>03/14/2020 11:30:59 AM</td>\n",
       "      <td>Closed</td>\n",
       "      <td>Case Resolved - Pickup completed.</td>\n",
       "      <td>Recology_Abandoned</td>\n",
       "      <td>Street and Sidewalk Cleaning</td>\n",
       "      <td>Bulky Items</td>\n",
       "      <td>Refrigerator</td>\n",
       "      <td>582 48TH AVE, SAN FRANCISCO, CA, 94121</td>\n",
       "      <td>48TH AVE</td>\n",
       "      <td>1.0</td>\n",
       "      <td>Sutro Heights</td>\n",
       "      <td>RICHMOND</td>\n",
       "      <td>37.777370</td>\n",
       "      <td>-122.509247</td>\n",
       "      <td>(37.77737, -122.50924667)</td>\n",
       "      <td>Mobile/Open311</td>\n",
       "    </tr>\n",
       "    <tr>\n",
       "      <th>3</th>\n",
       "      <td>12214639</td>\n",
       "      <td>03/14/2020 09:32:55 AM</td>\n",
       "      <td>03/14/2020 10:12:17 AM</td>\n",
       "      <td>03/14/2020 10:12:17 AM</td>\n",
       "      <td>Closed</td>\n",
       "      <td>Case Resolved - Pickup completed.</td>\n",
       "      <td>Recology_Abandoned</td>\n",
       "      <td>Street and Sidewalk Cleaning</td>\n",
       "      <td>Bulky Items</td>\n",
       "      <td>Boxed or Bagged Items</td>\n",
       "      <td>11 AMAZON AVE, SAN FRANCISCO, CA, 94112</td>\n",
       "      <td>AMAZON AVE</td>\n",
       "      <td>11.0</td>\n",
       "      <td>Excelsior</td>\n",
       "      <td>INGLESIDE</td>\n",
       "      <td>37.717062</td>\n",
       "      <td>-122.439998</td>\n",
       "      <td>(37.71706177, -122.4399978)</td>\n",
       "      <td>Mobile/Open311</td>\n",
       "    </tr>\n",
       "    <tr>\n",
       "      <th>4</th>\n",
       "      <td>12214638</td>\n",
       "      <td>03/14/2020 09:32:00 AM</td>\n",
       "      <td>03/14/2020 09:48:30 AM</td>\n",
       "      <td>03/14/2020 09:48:30 AM</td>\n",
       "      <td>Closed</td>\n",
       "      <td>Case Resolved - See CAD# 200740897 for details.</td>\n",
       "      <td>Parking Enforcement Dispatch Queue</td>\n",
       "      <td>Parking Enforcement</td>\n",
       "      <td>Other_Illegal_Parking</td>\n",
       "      <td>Silver - Nissan Altima - 6JWK906</td>\n",
       "      <td>2136 FUNSTON AVE, SAN FRANCISCO, CA, 94116</td>\n",
       "      <td>FUNSTON AVE</td>\n",
       "      <td>7.0</td>\n",
       "      <td>Golden Gate Heights</td>\n",
       "      <td>TARAVAL</td>\n",
       "      <td>37.748255</td>\n",
       "      <td>-122.469175</td>\n",
       "      <td>(37.748255, -122.469175)</td>\n",
       "      <td>Mobile/Open311</td>\n",
       "    </tr>\n",
       "  </tbody>\n",
       "</table>\n",
       "</div>"
      ],
      "text/plain": [
       "     CaseID                  Opened                  Closed  \\\n",
       "0  12214650  03/14/2020 09:35:00 AM  03/14/2020 09:39:41 AM   \n",
       "1  12214645  03/14/2020 09:34:00 AM  03/14/2020 11:22:00 AM   \n",
       "2  12214640  03/14/2020 09:33:02 AM  03/14/2020 11:30:59 AM   \n",
       "3  12214639  03/14/2020 09:32:55 AM  03/14/2020 10:12:17 AM   \n",
       "4  12214638  03/14/2020 09:32:00 AM  03/14/2020 09:48:30 AM   \n",
       "\n",
       "                  Updated  Status  \\\n",
       "0  03/14/2020 09:39:41 AM  Closed   \n",
       "1  03/14/2020 11:22:00 AM  Closed   \n",
       "2  03/14/2020 11:30:59 AM  Closed   \n",
       "3  03/14/2020 10:12:17 AM  Closed   \n",
       "4  03/14/2020 09:48:30 AM  Closed   \n",
       "\n",
       "                                        Status Notes  \\\n",
       "0  Case is a Duplicate - This issue has already b...   \n",
       "1  Case Resolved - Officer responded to request u...   \n",
       "2                  Case Resolved - Pickup completed.   \n",
       "3                  Case Resolved - Pickup completed.   \n",
       "4    Case Resolved - See CAD# 200740897 for details.   \n",
       "\n",
       "                   Responsible Agency                      Category  \\\n",
       "0  Parking Enforcement Dispatch Queue           Parking Enforcement   \n",
       "1  Parking Enforcement Dispatch Queue           Parking Enforcement   \n",
       "2                  Recology_Abandoned  Street and Sidewalk Cleaning   \n",
       "3                  Recology_Abandoned  Street and Sidewalk Cleaning   \n",
       "4  Parking Enforcement Dispatch Queue           Parking Enforcement   \n",
       "\n",
       "                 Request Type                   Request Details  \\\n",
       "0  Blocking_Driveway_Cite_Tow           Black - BMW/x2 - R540y0   \n",
       "1  Blocking_Driveway_Cite_Tow      Grey - Ford//focus - 7aph120   \n",
       "2                 Bulky Items                      Refrigerator   \n",
       "3                 Bulky Items             Boxed or Bagged Items   \n",
       "4       Other_Illegal_Parking  Silver - Nissan Altima - 6JWK906   \n",
       "\n",
       "                                      Address       Street  \\\n",
       "0    545 ASHBURY ST, SAN FRANCISCO, CA, 94117   ASHBURY ST   \n",
       "1    545 ASHBURY ST, SAN FRANCISCO, CA, 94117   ASHBURY ST   \n",
       "2      582 48TH AVE, SAN FRANCISCO, CA, 94121     48TH AVE   \n",
       "3     11 AMAZON AVE, SAN FRANCISCO, CA, 94112   AMAZON AVE   \n",
       "4  2136 FUNSTON AVE, SAN FRANCISCO, CA, 94116  FUNSTON AVE   \n",
       "\n",
       "   Supervisor District         Neighborhood Police District   Latitude  \\\n",
       "0                  5.0       Haight Ashbury            PARK  37.770263   \n",
       "1                  5.0       Haight Ashbury            PARK  37.770263   \n",
       "2                  1.0        Sutro Heights        RICHMOND  37.777370   \n",
       "3                 11.0            Excelsior       INGLESIDE  37.717062   \n",
       "4                  7.0  Golden Gate Heights         TARAVAL  37.748255   \n",
       "\n",
       "    Longitude                        Point          Source  \n",
       "0 -122.447232   (37.7702626, -122.4472325)             Web  \n",
       "1 -122.447232   (37.7702626, -122.4472325)             Web  \n",
       "2 -122.509247    (37.77737, -122.50924667)  Mobile/Open311  \n",
       "3 -122.439998  (37.71706177, -122.4399978)  Mobile/Open311  \n",
       "4 -122.469175     (37.748255, -122.469175)  Mobile/Open311  "
      ]
     },
     "execution_count": 4,
     "metadata": {},
     "output_type": "execute_result"
    }
   ],
   "source": [
    "# Drop all computed columns (unnecessary)\n",
    "df = df.iloc[:, 0:19]\n",
    "# df = df.loc[:, ~df.columns.str.contains('^:@')]\n",
    "\n",
    "print(df.shape)\n",
    "df.head()"
   ]
  },
  {
   "cell_type": "code",
   "execution_count": 5,
   "metadata": {
    "Collapsed": "false"
   },
   "outputs": [
    {
     "name": "stdout",
     "output_type": "stream",
     "text": [
      "<class 'pandas.core.frame.DataFrame'>\n",
      "RangeIndex: 4107366 entries, 0 to 4107365\n",
      "Data columns (total 19 columns):\n",
      "case_id                int64\n",
      "opened                 object\n",
      "closed                 object\n",
      "updated                object\n",
      "status                 object\n",
      "status_notes           object\n",
      "responsible_agency     object\n",
      "category               object\n",
      "request_type           object\n",
      "request_details        object\n",
      "address                object\n",
      "street                 object\n",
      "supervisor_district    float64\n",
      "neighborhood           object\n",
      "police_district        object\n",
      "latitude               float64\n",
      "longitude              float64\n",
      "point                  object\n",
      "source                 object\n",
      "dtypes: float64(3), int64(1), object(15)\n",
      "memory usage: 595.4+ MB\n"
     ]
    }
   ],
   "source": [
    "# Strip column names and format\n",
    "df.columns = df.columns.str.strip().str.lower().str.replace(\n",
    "    ' ', '_').str.replace('(', '').str.replace(')', '')\n",
    "\n",
    "# Rename 'caseid' column\n",
    "df.rename({'caseid': 'case_id'}, axis='columns', inplace=True)\n",
    "\n",
    "df.info()"
   ]
  },
  {
   "cell_type": "code",
   "execution_count": 6,
   "metadata": {
    "Collapsed": "false"
   },
   "outputs": [
    {
     "data": {
      "text/plain": [
       "(4107366, 19)"
      ]
     },
     "execution_count": 6,
     "metadata": {},
     "output_type": "execute_result"
    }
   ],
   "source": [
    "# Convert time columns to datetime\n",
    "df['opened'] = pd.to_datetime(df['opened'])\n",
    "df['closed'] = pd.to_datetime(df['closed'])\n",
    "df['updated'] = pd.to_datetime(df['updated'])\n",
    "# df.iloc[:, 1:4] = pd.to_datetime(df.iloc[:, 1:4].stack()).unstack()\n",
    "\n",
    "df.shape"
   ]
  },
  {
   "cell_type": "code",
   "execution_count": 7,
   "metadata": {
    "Collapsed": "false"
   },
   "outputs": [
    {
     "data": {
      "text/plain": [
       "(4846, 18)"
      ]
     },
     "execution_count": 7,
     "metadata": {},
     "output_type": "execute_result"
    }
   ],
   "source": [
    "# # Remove incomplete years (2008 & 2020)\n",
    "# df = df.loc[(df['opened'] >= '2009-01-01') & (df['opened'] <= '2019-12-31')]\n",
    "\n",
    "# TEMP\n",
    "df = df.loc[(df['opened'] >= '2019-01-01') & (df['closed'] <= '2019-01-31')].sample(5000)\n",
    "\n",
    "# Drop all rows with any missing value\n",
    "df.dropna(how='any', inplace=True)\n",
    "\n",
    "# Drop 'status' column as all incidents are 'closed' after running the code above\n",
    "df.drop('status', axis=1, inplace=True)\n",
    "\n",
    "df.shape"
   ]
  },
  {
   "cell_type": "code",
   "execution_count": 8,
   "metadata": {
    "Collapsed": "false"
   },
   "outputs": [
    {
     "name": "stdout",
     "output_type": "stream",
     "text": [
      "<class 'pandas.core.frame.DataFrame'>\n",
      "Int64Index: 4846 entries, 772129 to 780093\n",
      "Data columns (total 18 columns):\n",
      "case_id                4846 non-null int64\n",
      "opened                 4846 non-null datetime64[ns]\n",
      "closed                 4846 non-null datetime64[ns]\n",
      "updated                4846 non-null datetime64[ns]\n",
      "status_notes           4846 non-null object\n",
      "responsible_agency     4846 non-null object\n",
      "category               4846 non-null category\n",
      "request_type           4846 non-null object\n",
      "request_details        4846 non-null object\n",
      "address                4846 non-null object\n",
      "street                 4846 non-null object\n",
      "supervisor_district    4846 non-null category\n",
      "neighborhood           4846 non-null category\n",
      "police_district        4846 non-null category\n",
      "latitude               4846 non-null float64\n",
      "longitude              4846 non-null float64\n",
      "point                  4846 non-null object\n",
      "source                 4846 non-null category\n",
      "dtypes: category(5), datetime64[ns](3), float64(2), int64(1), object(7)\n",
      "memory usage: 562.1+ KB\n"
     ]
    }
   ],
   "source": [
    "# Convert categorical columns to 'category' type\n",
    "df['supervisor_district'] = pd.to_numeric(df['supervisor_district'], downcast='integer').astype('category')\n",
    "\n",
    "cols = df[['category', 'neighborhood', 'police_district', 'source']]\n",
    "for col in cols:\n",
    "    df[col] = df[col].astype('category')\n",
    "    \n",
    "df.info()"
   ]
  },
  {
   "cell_type": "code",
   "execution_count": 9,
   "metadata": {
    "Collapsed": "false"
   },
   "outputs": [
    {
     "data": {
      "text/html": [
       "<div>\n",
       "<style scoped>\n",
       "    .dataframe tbody tr th:only-of-type {\n",
       "        vertical-align: middle;\n",
       "    }\n",
       "\n",
       "    .dataframe tbody tr th {\n",
       "        vertical-align: top;\n",
       "    }\n",
       "\n",
       "    .dataframe thead th {\n",
       "        text-align: right;\n",
       "    }\n",
       "</style>\n",
       "<table border=\"1\" class=\"dataframe\">\n",
       "  <thead>\n",
       "    <tr style=\"text-align: right;\">\n",
       "      <th></th>\n",
       "      <th>case_id</th>\n",
       "      <th>is_duplicate</th>\n",
       "      <th>opened</th>\n",
       "      <th>closed</th>\n",
       "      <th>updated</th>\n",
       "      <th>status_notes</th>\n",
       "      <th>responsible_agency</th>\n",
       "      <th>category</th>\n",
       "      <th>request_type</th>\n",
       "      <th>request_details</th>\n",
       "      <th>address</th>\n",
       "      <th>street</th>\n",
       "      <th>supervisor_district</th>\n",
       "      <th>neighborhood</th>\n",
       "      <th>police_district</th>\n",
       "      <th>latitude</th>\n",
       "      <th>longitude</th>\n",
       "      <th>point</th>\n",
       "      <th>source</th>\n",
       "    </tr>\n",
       "  </thead>\n",
       "  <tbody>\n",
       "    <tr>\n",
       "      <th>772129</th>\n",
       "      <td>10390775</td>\n",
       "      <td>0</td>\n",
       "      <td>2019-01-22 14:02:41</td>\n",
       "      <td>2019-01-22 18:08:07</td>\n",
       "      <td>2019-01-22 18:08:07</td>\n",
       "      <td>Case Resolved - Pickup completed.</td>\n",
       "      <td>Recology_Abandoned</td>\n",
       "      <td>Street and Sidewalk Cleaning</td>\n",
       "      <td>Bulky Items</td>\n",
       "      <td>Mattress</td>\n",
       "      <td>290 TRUMBULL ST, SAN FRANCISCO, CA, 94112</td>\n",
       "      <td>TRUMBULL ST</td>\n",
       "      <td>11</td>\n",
       "      <td>Mission Terrace</td>\n",
       "      <td>INGLESIDE</td>\n",
       "      <td>37.730783</td>\n",
       "      <td>-122.424126</td>\n",
       "      <td>(37.730783, -122.424126)</td>\n",
       "      <td>Mobile/Open311</td>\n",
       "    </tr>\n",
       "    <tr>\n",
       "      <th>790082</th>\n",
       "      <td>10347011</td>\n",
       "      <td>0</td>\n",
       "      <td>2019-01-11 20:08:06</td>\n",
       "      <td>2019-01-12 12:47:43</td>\n",
       "      <td>2019-01-12 12:47:43</td>\n",
       "      <td>Case Resolved - WASTE NOT FOUND</td>\n",
       "      <td>Recology_Abandoned</td>\n",
       "      <td>Street and Sidewalk Cleaning</td>\n",
       "      <td>Bulky Items</td>\n",
       "      <td>Electronics</td>\n",
       "      <td>319 SILVER AVE, SAN FRANCISCO, CA, 94112</td>\n",
       "      <td>SILVER AVE</td>\n",
       "      <td>11</td>\n",
       "      <td>Mission Terrace</td>\n",
       "      <td>INGLESIDE</td>\n",
       "      <td>37.728667</td>\n",
       "      <td>-122.430557</td>\n",
       "      <td>(37.72866734, -122.4305567)</td>\n",
       "      <td>Mobile/Open311</td>\n",
       "    </tr>\n",
       "    <tr>\n",
       "      <th>788739</th>\n",
       "      <td>10349923</td>\n",
       "      <td>0</td>\n",
       "      <td>2019-01-12 20:36:00</td>\n",
       "      <td>2019-01-14 07:16:09</td>\n",
       "      <td>2019-01-14 07:16:09</td>\n",
       "      <td>Encampment Removed\\nhandled</td>\n",
       "      <td>HSOC Queue</td>\n",
       "      <td>Encampments</td>\n",
       "      <td>Encampment Reports</td>\n",
       "      <td>Encampment Cleanup</td>\n",
       "      <td>Intersection of CHURCH ST and 18TH ST</td>\n",
       "      <td>CHURCH ST</td>\n",
       "      <td>8</td>\n",
       "      <td>Mission Dolores</td>\n",
       "      <td>MISSION</td>\n",
       "      <td>37.761288</td>\n",
       "      <td>-122.428352</td>\n",
       "      <td>(37.76128769, -122.42835236)</td>\n",
       "      <td>Phone</td>\n",
       "    </tr>\n",
       "    <tr>\n",
       "      <th>773049</th>\n",
       "      <td>10388187</td>\n",
       "      <td>1</td>\n",
       "      <td>2019-01-22 09:08:00</td>\n",
       "      <td>2019-01-22 09:50:55</td>\n",
       "      <td>2019-01-22 09:50:55</td>\n",
       "      <td>Case is a Duplicate - This issue has already b...</td>\n",
       "      <td>Parking Enforcement Dispatch Queue</td>\n",
       "      <td>Parking Enforcement</td>\n",
       "      <td>Blocking_Driveway_Cite_Only</td>\n",
       "      <td>Blue - BMW - 7vfv578</td>\n",
       "      <td>2204 STEINER ST, SAN FRANCISCO, CA, 94115</td>\n",
       "      <td>STEINER ST</td>\n",
       "      <td>2</td>\n",
       "      <td>Pacific Heights</td>\n",
       "      <td>NORTHERN</td>\n",
       "      <td>37.789950</td>\n",
       "      <td>-122.435616</td>\n",
       "      <td>(37.78994958, -122.43561595)</td>\n",
       "      <td>Mobile/Open311</td>\n",
       "    </tr>\n",
       "    <tr>\n",
       "      <th>782771</th>\n",
       "      <td>10364426</td>\n",
       "      <td>0</td>\n",
       "      <td>2019-01-16 12:26:35</td>\n",
       "      <td>2019-01-16 15:44:07</td>\n",
       "      <td>2019-01-16 15:44:07</td>\n",
       "      <td>Case Resolved - Pickup completed.</td>\n",
       "      <td>Recology_Abandoned</td>\n",
       "      <td>Street and Sidewalk Cleaning</td>\n",
       "      <td>Bulky Items</td>\n",
       "      <td>Furniture</td>\n",
       "      <td>2410 VAN NESS AVE, SAN FRANCISCO, CA, 94109</td>\n",
       "      <td>VAN NESS AVE</td>\n",
       "      <td>3</td>\n",
       "      <td>Polk Gulch</td>\n",
       "      <td>NORTHERN</td>\n",
       "      <td>37.797686</td>\n",
       "      <td>-122.423524</td>\n",
       "      <td>(37.79768623, -122.42352412)</td>\n",
       "      <td>Mobile/Open311</td>\n",
       "    </tr>\n",
       "  </tbody>\n",
       "</table>\n",
       "</div>"
      ],
      "text/plain": [
       "         case_id  is_duplicate              opened              closed  \\\n",
       "772129  10390775             0 2019-01-22 14:02:41 2019-01-22 18:08:07   \n",
       "790082  10347011             0 2019-01-11 20:08:06 2019-01-12 12:47:43   \n",
       "788739  10349923             0 2019-01-12 20:36:00 2019-01-14 07:16:09   \n",
       "773049  10388187             1 2019-01-22 09:08:00 2019-01-22 09:50:55   \n",
       "782771  10364426             0 2019-01-16 12:26:35 2019-01-16 15:44:07   \n",
       "\n",
       "                   updated                                       status_notes  \\\n",
       "772129 2019-01-22 18:08:07                  Case Resolved - Pickup completed.   \n",
       "790082 2019-01-12 12:47:43                    Case Resolved - WASTE NOT FOUND   \n",
       "788739 2019-01-14 07:16:09                        Encampment Removed\\nhandled   \n",
       "773049 2019-01-22 09:50:55  Case is a Duplicate - This issue has already b...   \n",
       "782771 2019-01-16 15:44:07                  Case Resolved - Pickup completed.   \n",
       "\n",
       "                        responsible_agency                      category  \\\n",
       "772129                  Recology_Abandoned  Street and Sidewalk Cleaning   \n",
       "790082                  Recology_Abandoned  Street and Sidewalk Cleaning   \n",
       "788739                          HSOC Queue                   Encampments   \n",
       "773049  Parking Enforcement Dispatch Queue           Parking Enforcement   \n",
       "782771                  Recology_Abandoned  Street and Sidewalk Cleaning   \n",
       "\n",
       "                       request_type       request_details  \\\n",
       "772129                  Bulky Items              Mattress   \n",
       "790082                  Bulky Items           Electronics   \n",
       "788739           Encampment Reports    Encampment Cleanup   \n",
       "773049  Blocking_Driveway_Cite_Only  Blue - BMW - 7vfv578   \n",
       "782771                  Bulky Items             Furniture   \n",
       "\n",
       "                                            address        street  \\\n",
       "772129    290 TRUMBULL ST, SAN FRANCISCO, CA, 94112   TRUMBULL ST   \n",
       "790082     319 SILVER AVE, SAN FRANCISCO, CA, 94112    SILVER AVE   \n",
       "788739        Intersection of CHURCH ST and 18TH ST     CHURCH ST   \n",
       "773049    2204 STEINER ST, SAN FRANCISCO, CA, 94115    STEINER ST   \n",
       "782771  2410 VAN NESS AVE, SAN FRANCISCO, CA, 94109  VAN NESS AVE   \n",
       "\n",
       "       supervisor_district     neighborhood police_district   latitude  \\\n",
       "772129                  11  Mission Terrace       INGLESIDE  37.730783   \n",
       "790082                  11  Mission Terrace       INGLESIDE  37.728667   \n",
       "788739                   8  Mission Dolores         MISSION  37.761288   \n",
       "773049                   2  Pacific Heights        NORTHERN  37.789950   \n",
       "782771                   3       Polk Gulch        NORTHERN  37.797686   \n",
       "\n",
       "         longitude                         point          source  \n",
       "772129 -122.424126      (37.730783, -122.424126)  Mobile/Open311  \n",
       "790082 -122.430557   (37.72866734, -122.4305567)  Mobile/Open311  \n",
       "788739 -122.428352  (37.76128769, -122.42835236)           Phone  \n",
       "773049 -122.435616  (37.78994958, -122.43561595)  Mobile/Open311  \n",
       "782771 -122.423524  (37.79768623, -122.42352412)  Mobile/Open311  "
      ]
     },
     "execution_count": 9,
     "metadata": {},
     "output_type": "execute_result"
    }
   ],
   "source": [
    "# Create 'is_duplicate' column\n",
    "def create_is_duplicate(df):\n",
    "    \"\"\"Create 'is_duplicate' column\"\"\"\n",
    "    \n",
    "    # Search for duplicates in 'status_notes'\n",
    "    df.insert(loc=1, column='is_duplicate', \n",
    "              value=df['status_notes'].str.lower().str.contains('dupe|duplicate', regex=True).astype('int'))\n",
    "    \n",
    "    # Fill 'nan' values with False\n",
    "    df['is_duplicate'].fillna(False, inplace=True)\n",
    "    \n",
    "    return df\n",
    "\n",
    "create_is_duplicate(df)\n",
    "\n",
    "# Move target variable to 2nd index\n",
    "\n",
    "\n",
    "df.head()"
   ]
  },
  {
   "cell_type": "code",
   "execution_count": 10,
   "metadata": {
    "Collapsed": "false"
   },
   "outputs": [],
   "source": [
    "# profile = ProfileReport(df, title='Pandas Profiling Report', html={'style':{'full_width':True}})\n",
    "# profile.to_notebook_iframe()"
   ]
  },
  {
   "cell_type": "code",
   "execution_count": null,
   "metadata": {
    "Collapsed": "false"
   },
   "outputs": [],
   "source": [
    "# # Pickle dataframe\n",
    "# df.to_pickle('../data/df_clean_20k.pkl')"
   ]
  },
  {
   "cell_type": "code",
   "execution_count": 11,
   "metadata": {},
   "outputs": [],
   "source": [
    "# TEMP\n",
    "df.to_pickle('../data/df_clean_5k_Jan19.pkl')"
   ]
  },
  {
   "cell_type": "code",
   "execution_count": null,
   "metadata": {},
   "outputs": [],
   "source": []
  }
 ],
 "metadata": {
  "kernelspec": {
   "display_name": "Python 3",
   "language": "python",
   "name": "python3"
  },
  "language_info": {
   "codemirror_mode": {
    "name": "ipython",
    "version": 3
   },
   "file_extension": ".py",
   "mimetype": "text/x-python",
   "name": "python",
   "nbconvert_exporter": "python",
   "pygments_lexer": "ipython3",
   "version": "3.7.6"
  }
 },
 "nbformat": 4,
 "nbformat_minor": 4
}
