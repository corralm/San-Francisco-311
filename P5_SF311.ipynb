{
 "cells": [
  {
   "cell_type": "code",
   "execution_count": 53,
   "metadata": {
    "Collapsed": "false"
   },
   "outputs": [
    {
     "name": "stderr",
     "output_type": "stream",
     "text": [
      "WARNING:root:Requests made without an app_token will be subject to strict throttling limits.\n"
     ]
    }
   ],
   "source": [
    "import pandas as pd\n",
    "from sodapy import Socrata\n",
    "\n",
    "# Unauthenticated client only works with public data sets. Note 'None'\n",
    "# in place of application token, and no username or password:\n",
    "client = Socrata('data.sfgov.org', None)\n",
    "\n",
    "# Authenticate the client\n",
    "domain = 'data.sfgov.org'\n",
    "app_token = 'tZuHs7ko1xQezRBAgUN10D0i9'\n",
    "username = 'corraljrmiguel@gmail.com'\n",
    "password = 'Xd9@rzwPhZjKsNg8cima'\n",
    "\n",
    "client = Socrata(domain,\n",
    "                 app_token,\n",
    "                 username=username,\n",
    "                 password=password)\n",
    "\n",
    "# Returns as JSON from API\n",
    "# converted to Python list of dictionaries by sodapy.\n",
    "results = client.get('vw6y-z8j6', limit=10000)\n",
    "# results = client.get('vw6y-z8j6', where='service_request_id=12167455')\n",
    "\n",
    "# Convert to pandas dataframe\n",
    "df = pd.DataFrame.from_records(results)"
   ]
  },
  {
   "cell_type": "code",
   "execution_count": 60,
   "metadata": {
    "Collapsed": "false"
   },
   "outputs": [
    {
     "data": {
      "text/plain": [
       "(10000, 47)"
      ]
     },
     "execution_count": 60,
     "metadata": {},
     "output_type": "execute_result"
    }
   ],
   "source": [
    "df.shape"
   ]
  },
  {
   "cell_type": "code",
   "execution_count": 79,
   "metadata": {
    "Collapsed": "false"
   },
   "outputs": [],
   "source": [
    "# # Pickle dataframe\n",
    "# df.to_pickle('data/df_raw_10k.pkl')\n",
    "\n",
    "# Load dataframe\n",
    "df = pd.read_pickle('data/df_raw_10k.pkl')"
   ]
  },
  {
   "cell_type": "code",
   "execution_count": 80,
   "metadata": {
    "Collapsed": "false"
   },
   "outputs": [
    {
     "data": {
      "text/plain": [
       "(10000, 20)"
      ]
     },
     "execution_count": 80,
     "metadata": {},
     "output_type": "execute_result"
    }
   ],
   "source": [
    "# Drop all \"computed_region\" columns\n",
    "df = df.loc[:, ~df.columns.str.contains('^:@')]\n",
    "df.shape"
   ]
  },
  {
   "cell_type": "code",
   "execution_count": 81,
   "metadata": {
    "Collapsed": "false"
   },
   "outputs": [],
   "source": [
    "def reorder_time_column(df):\n",
    "    '''Reorder 'updated_datetime' column'''\n",
    "    cols = df.columns.to_list()\n",
    "    cols = cols[:3] + cols[-1:] + cols[3:-1]\n",
    "    df = df[cols]\n",
    "    return df\n",
    "\n",
    "df = reorder_time_column(df)"
   ]
  },
  {
   "cell_type": "markdown",
   "metadata": {
    "Collapsed": "false"
   },
   "source": [
    "- [ ] Find all duplicates\n",
    "- [ ] Create column for duplicates\n",
    "- [ ] Create base model\n",
    "- [ ] Feature selection\n",
    "- [ ] Feature engineering"
   ]
  },
  {
   "cell_type": "code",
   "execution_count": 178,
   "metadata": {
    "Collapsed": "false"
   },
   "outputs": [],
   "source": [
    "df['is_duplicate'] = df['status_notes'].str.lower().str.contains('duplicate')"
   ]
  },
  {
   "cell_type": "code",
   "execution_count": 184,
   "metadata": {
    "Collapsed": "false"
   },
   "outputs": [
    {
     "data": {
      "text/html": [
       "<div>\n",
       "<style scoped>\n",
       "    .dataframe tbody tr th:only-of-type {\n",
       "        vertical-align: middle;\n",
       "    }\n",
       "\n",
       "    .dataframe tbody tr th {\n",
       "        vertical-align: top;\n",
       "    }\n",
       "\n",
       "    .dataframe thead th {\n",
       "        text-align: right;\n",
       "    }\n",
       "</style>\n",
       "<table border=\"1\" class=\"dataframe\">\n",
       "  <thead>\n",
       "    <tr style=\"text-align: right;\">\n",
       "      <th></th>\n",
       "      <th>requested_datetime</th>\n",
       "      <th>updated_datetime</th>\n",
       "      <th>closed_date</th>\n",
       "    </tr>\n",
       "  </thead>\n",
       "  <tbody>\n",
       "    <tr>\n",
       "      <th>0</th>\n",
       "      <td>2020-03-09T01:11:00.000</td>\n",
       "      <td>2020-03-09T01:13:08.000</td>\n",
       "      <td>NaN</td>\n",
       "    </tr>\n",
       "    <tr>\n",
       "      <th>1</th>\n",
       "      <td>2020-03-09T01:10:00.000</td>\n",
       "      <td>2020-03-09T03:34:13.000</td>\n",
       "      <td>NaN</td>\n",
       "    </tr>\n",
       "    <tr>\n",
       "      <th>2</th>\n",
       "      <td>2020-03-09T01:08:03.000</td>\n",
       "      <td>2020-03-09T01:08:04.000</td>\n",
       "      <td>NaN</td>\n",
       "    </tr>\n",
       "    <tr>\n",
       "      <th>3</th>\n",
       "      <td>2020-03-09T01:02:48.000</td>\n",
       "      <td>2020-03-09T01:02:51.000</td>\n",
       "      <td>NaN</td>\n",
       "    </tr>\n",
       "    <tr>\n",
       "      <th>4</th>\n",
       "      <td>2020-03-09T00:41:23.000</td>\n",
       "      <td>2020-03-09T02:10:01.000</td>\n",
       "      <td>NaN</td>\n",
       "    </tr>\n",
       "    <tr>\n",
       "      <th>...</th>\n",
       "      <td>...</td>\n",
       "      <td>...</td>\n",
       "      <td>...</td>\n",
       "    </tr>\n",
       "    <tr>\n",
       "      <th>9995</th>\n",
       "      <td>2020-03-03T14:51:00.000</td>\n",
       "      <td>2020-03-08T10:03:34.000</td>\n",
       "      <td>2020-03-08T10:03:34.000</td>\n",
       "    </tr>\n",
       "    <tr>\n",
       "      <th>9996</th>\n",
       "      <td>2020-03-03T14:51:00.000</td>\n",
       "      <td>2020-03-03T17:48:33.000</td>\n",
       "      <td>2020-03-03T17:48:33.000</td>\n",
       "    </tr>\n",
       "    <tr>\n",
       "      <th>9997</th>\n",
       "      <td>2020-03-03T14:50:40.000</td>\n",
       "      <td>2020-03-03T15:15:04.000</td>\n",
       "      <td>NaN</td>\n",
       "    </tr>\n",
       "    <tr>\n",
       "      <th>9998</th>\n",
       "      <td>2020-03-03T14:50:20.000</td>\n",
       "      <td>2020-03-03T16:00:54.000</td>\n",
       "      <td>2020-03-03T16:00:54.000</td>\n",
       "    </tr>\n",
       "    <tr>\n",
       "      <th>9999</th>\n",
       "      <td>2020-03-03T14:50:13.000</td>\n",
       "      <td>2020-03-06T14:39:00.000</td>\n",
       "      <td>2020-03-06T14:39:00.000</td>\n",
       "    </tr>\n",
       "  </tbody>\n",
       "</table>\n",
       "<p>10000 rows × 3 columns</p>\n",
       "</div>"
      ],
      "text/plain": [
       "           requested_datetime         updated_datetime  \\\n",
       "0     2020-03-09T01:11:00.000  2020-03-09T01:13:08.000   \n",
       "1     2020-03-09T01:10:00.000  2020-03-09T03:34:13.000   \n",
       "2     2020-03-09T01:08:03.000  2020-03-09T01:08:04.000   \n",
       "3     2020-03-09T01:02:48.000  2020-03-09T01:02:51.000   \n",
       "4     2020-03-09T00:41:23.000  2020-03-09T02:10:01.000   \n",
       "...                       ...                      ...   \n",
       "9995  2020-03-03T14:51:00.000  2020-03-08T10:03:34.000   \n",
       "9996  2020-03-03T14:51:00.000  2020-03-03T17:48:33.000   \n",
       "9997  2020-03-03T14:50:40.000  2020-03-03T15:15:04.000   \n",
       "9998  2020-03-03T14:50:20.000  2020-03-03T16:00:54.000   \n",
       "9999  2020-03-03T14:50:13.000  2020-03-06T14:39:00.000   \n",
       "\n",
       "                  closed_date  \n",
       "0                         NaN  \n",
       "1                         NaN  \n",
       "2                         NaN  \n",
       "3                         NaN  \n",
       "4                         NaN  \n",
       "...                       ...  \n",
       "9995  2020-03-08T10:03:34.000  \n",
       "9996  2020-03-03T17:48:33.000  \n",
       "9997                      NaN  \n",
       "9998  2020-03-03T16:00:54.000  \n",
       "9999  2020-03-06T14:39:00.000  \n",
       "\n",
       "[10000 rows x 3 columns]"
      ]
     },
     "execution_count": 184,
     "metadata": {},
     "output_type": "execute_result"
    }
   ],
   "source": [
    "# Convert timestamps (strings) to date format\n",
    "df.iloc[:, 1:4].to_timedelta()"
   ]
  },
  {
   "cell_type": "code",
   "execution_count": null,
   "metadata": {
    "Collapsed": "false"
   },
   "outputs": [],
   "source": []
  }
 ],
 "metadata": {
  "kernelspec": {
   "display_name": "Python 3.7.4 64-bit ('metis': conda)",
   "language": "python",
   "name": "python37464bitmetiscondab8a2cd9d238449bd838e7f95913d7792"
  },
  "language_info": {
   "codemirror_mode": {
    "name": "ipython",
    "version": 3
   },
   "file_extension": ".py",
   "mimetype": "text/x-python",
   "name": "python",
   "nbconvert_exporter": "python",
   "pygments_lexer": "ipython3",
   "version": "3.7.4"
  }
 },
 "nbformat": 4,
 "nbformat_minor": 4
}
