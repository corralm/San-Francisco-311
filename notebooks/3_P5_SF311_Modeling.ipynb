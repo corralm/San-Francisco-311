{
 "cells": [
  {
   "cell_type": "markdown",
   "metadata": {
    "Collapsed": "false"
   },
   "source": [
    "Todos\n",
    "* Recursive Feature Elimination\n",
    "    * from sklearn.feature_selection import RFE"
   ]
  },
  {
   "cell_type": "code",
   "execution_count": null,
   "metadata": {
    "Collapsed": "false"
   },
   "outputs": [],
   "source": [
    "# Add table of contents"
   ]
  },
  {
   "cell_type": "code",
   "execution_count": 70,
   "metadata": {
    "Collapsed": "false"
   },
   "outputs": [],
   "source": [
    "import pandas as pd\n",
    "import numpy as np\n",
    "\n",
    "# Tools\n",
    "from collections import Counter\n",
    "import pickle\n",
    "# import joblib\n",
    "# svc_model = joblib.load('../models/SVC_20k.pkl')\n",
    "\n",
    "# Metrics\n",
    "from sklearn.metrics import confusion_matrix\n",
    "from sklearn.metrics import accuracy_score\n",
    "from sklearn.metrics import precision_recall_curve, precision_score, recall_score\n",
    "from sklearn.metrics import f1_score, fbeta_score\n",
    "from sklearn.metrics import roc_auc_score, roc_curve, auc\n",
    "\n",
    "# Model Prep & Selection\n",
    "from sklearn.model_selection import train_test_split, KFold\n",
    "from sklearn.model_selection import RandomizedSearchCV, GridSearchCV\n",
    "from imblearn.pipeline import Pipeline\n",
    "from imblearn.over_sampling import SMOTE\n",
    "from sklearn.model_selection import cross_val_score\n",
    "from sklearn.model_selection import StratifiedKFold\n",
    "\n",
    "# Models\n",
    "from sklearn.linear_model import LogisticRegression\n",
    "from sklearn.neighbors import KNeighborsClassifier\n",
    "from sklearn.svm import SVC\n",
    "from sklearn.ensemble import RandomForestClassifier, VotingClassifier\n",
    "from xgboost import XGBClassifier\n",
    "\n",
    "# Feature Importance\n",
    "from xgboost import plot_importance\n",
    "\n",
    "# Visualizations\n",
    "from matplotlib.pyplot import figure\n",
    "import matplotlib.pyplot as plt\n",
    "import seaborn as sns\n",
    "\n",
    "%matplotlib inline\n",
    "plt.style.use('ggplot')"
   ]
  },
  {
   "cell_type": "markdown",
   "metadata": {
    "Collapsed": "false"
   },
   "source": [
    "# Train and Test Splitting"
   ]
  },
  {
   "cell_type": "code",
   "execution_count": 2,
   "metadata": {
    "Collapsed": "false"
   },
   "outputs": [
    {
     "data": {
      "text/html": [
       "<div>\n",
       "<style scoped>\n",
       "    .dataframe tbody tr th:only-of-type {\n",
       "        vertical-align: middle;\n",
       "    }\n",
       "\n",
       "    .dataframe tbody tr th {\n",
       "        vertical-align: top;\n",
       "    }\n",
       "\n",
       "    .dataframe thead th {\n",
       "        text-align: right;\n",
       "    }\n",
       "</style>\n",
       "<table border=\"1\" class=\"dataframe\">\n",
       "  <thead>\n",
       "    <tr style=\"text-align: right;\">\n",
       "      <th></th>\n",
       "      <th>case_id</th>\n",
       "      <th>is_duplicate</th>\n",
       "      <th>opened</th>\n",
       "      <th>closed</th>\n",
       "      <th>updated</th>\n",
       "      <th>status_notes</th>\n",
       "      <th>responsible_agency</th>\n",
       "      <th>category</th>\n",
       "      <th>request_type</th>\n",
       "      <th>request_details</th>\n",
       "      <th>...</th>\n",
       "      <th>source</th>\n",
       "      <th>opened_year</th>\n",
       "      <th>opened_month_sin</th>\n",
       "      <th>opened_month_cos</th>\n",
       "      <th>opened_week_sin</th>\n",
       "      <th>opened_week_cos</th>\n",
       "      <th>opened_day_sin</th>\n",
       "      <th>opened_day_cos</th>\n",
       "      <th>opened_hour_sin</th>\n",
       "      <th>opened_hour_cos</th>\n",
       "    </tr>\n",
       "  </thead>\n",
       "  <tbody>\n",
       "    <tr>\n",
       "      <th>772129</th>\n",
       "      <td>10390775</td>\n",
       "      <td>0</td>\n",
       "      <td>2019-01-22 14:02:41</td>\n",
       "      <td>2019-01-22 18:08:07</td>\n",
       "      <td>2019-01-22 18:08:07</td>\n",
       "      <td>Case Resolved - Pickup completed.</td>\n",
       "      <td>Recology_Abandoned</td>\n",
       "      <td>Street and Sidewalk Cleaning</td>\n",
       "      <td>Bulky Items</td>\n",
       "      <td>Mattress</td>\n",
       "      <td>...</td>\n",
       "      <td>Mobile/Open311</td>\n",
       "      <td>2019</td>\n",
       "      <td>0.5</td>\n",
       "      <td>0.866025</td>\n",
       "      <td>0.464723</td>\n",
       "      <td>0.885456</td>\n",
       "      <td>0.781831</td>\n",
       "      <td>0.623490</td>\n",
       "      <td>-5.000000e-01</td>\n",
       "      <td>-0.866025</td>\n",
       "    </tr>\n",
       "    <tr>\n",
       "      <th>790082</th>\n",
       "      <td>10347011</td>\n",
       "      <td>0</td>\n",
       "      <td>2019-01-11 20:08:06</td>\n",
       "      <td>2019-01-12 12:47:43</td>\n",
       "      <td>2019-01-12 12:47:43</td>\n",
       "      <td>Case Resolved - WASTE NOT FOUND</td>\n",
       "      <td>Recology_Abandoned</td>\n",
       "      <td>Street and Sidewalk Cleaning</td>\n",
       "      <td>Bulky Items</td>\n",
       "      <td>Electronics</td>\n",
       "      <td>...</td>\n",
       "      <td>Mobile/Open311</td>\n",
       "      <td>2019</td>\n",
       "      <td>0.5</td>\n",
       "      <td>0.866025</td>\n",
       "      <td>0.239316</td>\n",
       "      <td>0.970942</td>\n",
       "      <td>-0.433884</td>\n",
       "      <td>-0.900969</td>\n",
       "      <td>-8.660254e-01</td>\n",
       "      <td>0.500000</td>\n",
       "    </tr>\n",
       "    <tr>\n",
       "      <th>788739</th>\n",
       "      <td>10349923</td>\n",
       "      <td>0</td>\n",
       "      <td>2019-01-12 20:36:00</td>\n",
       "      <td>2019-01-14 07:16:09</td>\n",
       "      <td>2019-01-14 07:16:09</td>\n",
       "      <td>Encampment Removed\\nhandled</td>\n",
       "      <td>HSOC Queue</td>\n",
       "      <td>Encampments</td>\n",
       "      <td>Encampment Reports</td>\n",
       "      <td>Encampment Cleanup</td>\n",
       "      <td>...</td>\n",
       "      <td>Phone</td>\n",
       "      <td>2019</td>\n",
       "      <td>0.5</td>\n",
       "      <td>0.866025</td>\n",
       "      <td>0.239316</td>\n",
       "      <td>0.970942</td>\n",
       "      <td>-0.974928</td>\n",
       "      <td>-0.222521</td>\n",
       "      <td>-8.660254e-01</td>\n",
       "      <td>0.500000</td>\n",
       "    </tr>\n",
       "    <tr>\n",
       "      <th>773049</th>\n",
       "      <td>10388187</td>\n",
       "      <td>1</td>\n",
       "      <td>2019-01-22 09:08:00</td>\n",
       "      <td>2019-01-22 09:50:55</td>\n",
       "      <td>2019-01-22 09:50:55</td>\n",
       "      <td>Case is a Duplicate - This issue has already b...</td>\n",
       "      <td>Parking Enforcement Dispatch Queue</td>\n",
       "      <td>Parking Enforcement</td>\n",
       "      <td>Blocking_Driveway_Cite_Only</td>\n",
       "      <td>Blue - BMW - 7vfv578</td>\n",
       "      <td>...</td>\n",
       "      <td>Mobile/Open311</td>\n",
       "      <td>2019</td>\n",
       "      <td>0.5</td>\n",
       "      <td>0.866025</td>\n",
       "      <td>0.464723</td>\n",
       "      <td>0.885456</td>\n",
       "      <td>0.781831</td>\n",
       "      <td>0.623490</td>\n",
       "      <td>7.071068e-01</td>\n",
       "      <td>-0.707107</td>\n",
       "    </tr>\n",
       "    <tr>\n",
       "      <th>782771</th>\n",
       "      <td>10364426</td>\n",
       "      <td>0</td>\n",
       "      <td>2019-01-16 12:26:35</td>\n",
       "      <td>2019-01-16 15:44:07</td>\n",
       "      <td>2019-01-16 15:44:07</td>\n",
       "      <td>Case Resolved - Pickup completed.</td>\n",
       "      <td>Recology_Abandoned</td>\n",
       "      <td>Street and Sidewalk Cleaning</td>\n",
       "      <td>Bulky Items</td>\n",
       "      <td>Furniture</td>\n",
       "      <td>...</td>\n",
       "      <td>Mobile/Open311</td>\n",
       "      <td>2019</td>\n",
       "      <td>0.5</td>\n",
       "      <td>0.866025</td>\n",
       "      <td>0.354605</td>\n",
       "      <td>0.935016</td>\n",
       "      <td>0.974928</td>\n",
       "      <td>-0.222521</td>\n",
       "      <td>1.224647e-16</td>\n",
       "      <td>-1.000000</td>\n",
       "    </tr>\n",
       "  </tbody>\n",
       "</table>\n",
       "<p>5 rows × 28 columns</p>\n",
       "</div>"
      ],
      "text/plain": [
       "         case_id  is_duplicate              opened              closed  \\\n",
       "772129  10390775             0 2019-01-22 14:02:41 2019-01-22 18:08:07   \n",
       "790082  10347011             0 2019-01-11 20:08:06 2019-01-12 12:47:43   \n",
       "788739  10349923             0 2019-01-12 20:36:00 2019-01-14 07:16:09   \n",
       "773049  10388187             1 2019-01-22 09:08:00 2019-01-22 09:50:55   \n",
       "782771  10364426             0 2019-01-16 12:26:35 2019-01-16 15:44:07   \n",
       "\n",
       "                   updated                                       status_notes  \\\n",
       "772129 2019-01-22 18:08:07                  Case Resolved - Pickup completed.   \n",
       "790082 2019-01-12 12:47:43                    Case Resolved - WASTE NOT FOUND   \n",
       "788739 2019-01-14 07:16:09                        Encampment Removed\\nhandled   \n",
       "773049 2019-01-22 09:50:55  Case is a Duplicate - This issue has already b...   \n",
       "782771 2019-01-16 15:44:07                  Case Resolved - Pickup completed.   \n",
       "\n",
       "                        responsible_agency                      category  \\\n",
       "772129                  Recology_Abandoned  Street and Sidewalk Cleaning   \n",
       "790082                  Recology_Abandoned  Street and Sidewalk Cleaning   \n",
       "788739                          HSOC Queue                   Encampments   \n",
       "773049  Parking Enforcement Dispatch Queue           Parking Enforcement   \n",
       "782771                  Recology_Abandoned  Street and Sidewalk Cleaning   \n",
       "\n",
       "                       request_type       request_details  ...  \\\n",
       "772129                  Bulky Items              Mattress  ...   \n",
       "790082                  Bulky Items           Electronics  ...   \n",
       "788739           Encampment Reports    Encampment Cleanup  ...   \n",
       "773049  Blocking_Driveway_Cite_Only  Blue - BMW - 7vfv578  ...   \n",
       "782771                  Bulky Items             Furniture  ...   \n",
       "\n",
       "                source opened_year opened_month_sin opened_month_cos  \\\n",
       "772129  Mobile/Open311        2019              0.5         0.866025   \n",
       "790082  Mobile/Open311        2019              0.5         0.866025   \n",
       "788739           Phone        2019              0.5         0.866025   \n",
       "773049  Mobile/Open311        2019              0.5         0.866025   \n",
       "782771  Mobile/Open311        2019              0.5         0.866025   \n",
       "\n",
       "       opened_week_sin  opened_week_cos  opened_day_sin opened_day_cos  \\\n",
       "772129        0.464723         0.885456        0.781831       0.623490   \n",
       "790082        0.239316         0.970942       -0.433884      -0.900969   \n",
       "788739        0.239316         0.970942       -0.974928      -0.222521   \n",
       "773049        0.464723         0.885456        0.781831       0.623490   \n",
       "782771        0.354605         0.935016        0.974928      -0.222521   \n",
       "\n",
       "       opened_hour_sin opened_hour_cos  \n",
       "772129   -5.000000e-01       -0.866025  \n",
       "790082   -8.660254e-01        0.500000  \n",
       "788739   -8.660254e-01        0.500000  \n",
       "773049    7.071068e-01       -0.707107  \n",
       "782771    1.224647e-16       -1.000000  \n",
       "\n",
       "[5 rows x 28 columns]"
      ]
     },
     "execution_count": 2,
     "metadata": {},
     "output_type": "execute_result"
    }
   ],
   "source": [
    "# Load dataframe\n",
    "df = pd.read_pickle('../data/df_clean_5k_Jan19.pkl')\n",
    "\n",
    "# # TEMPORARY\n",
    "# df = df.sample(5000)\n",
    "\n",
    "df.head()"
   ]
  },
  {
   "cell_type": "code",
   "execution_count": 3,
   "metadata": {
    "Collapsed": "false"
   },
   "outputs": [
    {
     "data": {
      "text/html": [
       "<div>\n",
       "<style scoped>\n",
       "    .dataframe tbody tr th:only-of-type {\n",
       "        vertical-align: middle;\n",
       "    }\n",
       "\n",
       "    .dataframe tbody tr th {\n",
       "        vertical-align: top;\n",
       "    }\n",
       "\n",
       "    .dataframe thead th {\n",
       "        text-align: right;\n",
       "    }\n",
       "</style>\n",
       "<table border=\"1\" class=\"dataframe\">\n",
       "  <thead>\n",
       "    <tr style=\"text-align: right;\">\n",
       "      <th></th>\n",
       "      <th>latitude</th>\n",
       "      <th>longitude</th>\n",
       "      <th>opened_month_sin</th>\n",
       "      <th>opened_month_cos</th>\n",
       "      <th>opened_week_sin</th>\n",
       "      <th>opened_week_cos</th>\n",
       "      <th>opened_day_sin</th>\n",
       "      <th>opened_day_cos</th>\n",
       "      <th>opened_hour_sin</th>\n",
       "      <th>opened_hour_cos</th>\n",
       "      <th>...</th>\n",
       "      <th>police_district_PARK</th>\n",
       "      <th>police_district_RICHMOND</th>\n",
       "      <th>police_district_SOUTHERN</th>\n",
       "      <th>police_district_TARAVAL</th>\n",
       "      <th>police_district_TENDERLOIN</th>\n",
       "      <th>source_Mobile/Open311</th>\n",
       "      <th>source_Other Department</th>\n",
       "      <th>source_Phone</th>\n",
       "      <th>source_Twitter</th>\n",
       "      <th>source_Web</th>\n",
       "    </tr>\n",
       "  </thead>\n",
       "  <tbody>\n",
       "    <tr>\n",
       "      <th>783400</th>\n",
       "      <td>37.795578</td>\n",
       "      <td>-122.423574</td>\n",
       "      <td>0.5</td>\n",
       "      <td>0.866025</td>\n",
       "      <td>0.354605</td>\n",
       "      <td>0.935016</td>\n",
       "      <td>0.974928</td>\n",
       "      <td>-0.222521</td>\n",
       "      <td>0.965926</td>\n",
       "      <td>-0.258819</td>\n",
       "      <td>...</td>\n",
       "      <td>0</td>\n",
       "      <td>0</td>\n",
       "      <td>0</td>\n",
       "      <td>0</td>\n",
       "      <td>0</td>\n",
       "      <td>1</td>\n",
       "      <td>0</td>\n",
       "      <td>0</td>\n",
       "      <td>0</td>\n",
       "      <td>0</td>\n",
       "    </tr>\n",
       "    <tr>\n",
       "      <th>777142</th>\n",
       "      <td>37.766731</td>\n",
       "      <td>-122.419444</td>\n",
       "      <td>0.5</td>\n",
       "      <td>0.866025</td>\n",
       "      <td>0.354605</td>\n",
       "      <td>0.935016</td>\n",
       "      <td>-0.974928</td>\n",
       "      <td>-0.222521</td>\n",
       "      <td>0.500000</td>\n",
       "      <td>-0.866025</td>\n",
       "      <td>...</td>\n",
       "      <td>0</td>\n",
       "      <td>0</td>\n",
       "      <td>0</td>\n",
       "      <td>0</td>\n",
       "      <td>0</td>\n",
       "      <td>1</td>\n",
       "      <td>0</td>\n",
       "      <td>0</td>\n",
       "      <td>0</td>\n",
       "      <td>0</td>\n",
       "    </tr>\n",
       "    <tr>\n",
       "      <th>801708</th>\n",
       "      <td>37.763075</td>\n",
       "      <td>-122.434191</td>\n",
       "      <td>0.5</td>\n",
       "      <td>0.866025</td>\n",
       "      <td>0.120537</td>\n",
       "      <td>0.992709</td>\n",
       "      <td>-0.974928</td>\n",
       "      <td>-0.222521</td>\n",
       "      <td>0.707107</td>\n",
       "      <td>-0.707107</td>\n",
       "      <td>...</td>\n",
       "      <td>0</td>\n",
       "      <td>0</td>\n",
       "      <td>0</td>\n",
       "      <td>0</td>\n",
       "      <td>0</td>\n",
       "      <td>0</td>\n",
       "      <td>0</td>\n",
       "      <td>0</td>\n",
       "      <td>1</td>\n",
       "      <td>0</td>\n",
       "    </tr>\n",
       "    <tr>\n",
       "      <th>805670</th>\n",
       "      <td>37.757858</td>\n",
       "      <td>-122.414743</td>\n",
       "      <td>0.5</td>\n",
       "      <td>0.866025</td>\n",
       "      <td>0.120537</td>\n",
       "      <td>0.992709</td>\n",
       "      <td>0.433884</td>\n",
       "      <td>-0.900969</td>\n",
       "      <td>0.707107</td>\n",
       "      <td>-0.707107</td>\n",
       "      <td>...</td>\n",
       "      <td>0</td>\n",
       "      <td>0</td>\n",
       "      <td>0</td>\n",
       "      <td>0</td>\n",
       "      <td>0</td>\n",
       "      <td>1</td>\n",
       "      <td>0</td>\n",
       "      <td>0</td>\n",
       "      <td>0</td>\n",
       "      <td>0</td>\n",
       "    </tr>\n",
       "    <tr>\n",
       "      <th>785763</th>\n",
       "      <td>37.783691</td>\n",
       "      <td>-122.392838</td>\n",
       "      <td>0.5</td>\n",
       "      <td>0.866025</td>\n",
       "      <td>0.354605</td>\n",
       "      <td>0.935016</td>\n",
       "      <td>0.000000</td>\n",
       "      <td>1.000000</td>\n",
       "      <td>-0.500000</td>\n",
       "      <td>-0.866025</td>\n",
       "      <td>...</td>\n",
       "      <td>0</td>\n",
       "      <td>0</td>\n",
       "      <td>1</td>\n",
       "      <td>0</td>\n",
       "      <td>0</td>\n",
       "      <td>0</td>\n",
       "      <td>0</td>\n",
       "      <td>1</td>\n",
       "      <td>0</td>\n",
       "      <td>0</td>\n",
       "    </tr>\n",
       "  </tbody>\n",
       "</table>\n",
       "<p>5 rows × 1052 columns</p>\n",
       "</div>"
      ],
      "text/plain": [
       "         latitude   longitude  opened_month_sin  opened_month_cos  \\\n",
       "783400  37.795578 -122.423574               0.5          0.866025   \n",
       "777142  37.766731 -122.419444               0.5          0.866025   \n",
       "801708  37.763075 -122.434191               0.5          0.866025   \n",
       "805670  37.757858 -122.414743               0.5          0.866025   \n",
       "785763  37.783691 -122.392838               0.5          0.866025   \n",
       "\n",
       "        opened_week_sin  opened_week_cos  opened_day_sin  opened_day_cos  \\\n",
       "783400         0.354605         0.935016        0.974928       -0.222521   \n",
       "777142         0.354605         0.935016       -0.974928       -0.222521   \n",
       "801708         0.120537         0.992709       -0.974928       -0.222521   \n",
       "805670         0.120537         0.992709        0.433884       -0.900969   \n",
       "785763         0.354605         0.935016        0.000000        1.000000   \n",
       "\n",
       "        opened_hour_sin  opened_hour_cos  ...  police_district_PARK  \\\n",
       "783400         0.965926        -0.258819  ...                     0   \n",
       "777142         0.500000        -0.866025  ...                     0   \n",
       "801708         0.707107        -0.707107  ...                     0   \n",
       "805670         0.707107        -0.707107  ...                     0   \n",
       "785763        -0.500000        -0.866025  ...                     0   \n",
       "\n",
       "        police_district_RICHMOND  police_district_SOUTHERN  \\\n",
       "783400                         0                         0   \n",
       "777142                         0                         0   \n",
       "801708                         0                         0   \n",
       "805670                         0                         0   \n",
       "785763                         0                         1   \n",
       "\n",
       "        police_district_TARAVAL  police_district_TENDERLOIN  \\\n",
       "783400                        0                           0   \n",
       "777142                        0                           0   \n",
       "801708                        0                           0   \n",
       "805670                        0                           0   \n",
       "785763                        0                           0   \n",
       "\n",
       "        source_Mobile/Open311  source_Other Department  source_Phone  \\\n",
       "783400                      1                        0             0   \n",
       "777142                      1                        0             0   \n",
       "801708                      0                        0             0   \n",
       "805670                      1                        0             0   \n",
       "785763                      0                        0             1   \n",
       "\n",
       "        source_Twitter  source_Web  \n",
       "783400               0           0  \n",
       "777142               0           0  \n",
       "801708               1           0  \n",
       "805670               0           0  \n",
       "785763               0           0  \n",
       "\n",
       "[5 rows x 1052 columns]"
      ]
     },
     "execution_count": 3,
     "metadata": {},
     "output_type": "execute_result"
    }
   ],
   "source": [
    "# Columns to exclude\n",
    "exclude_cols = [\n",
    "    'is_duplicate', # Target variable\n",
    "    'case_id',\n",
    "    'opened', # Needs Feature Eng\n",
    "    'closed', # Needs Feature Eng\n",
    "    'updated',\n",
    "    'responsible_agency', # Needs NLP\n",
    "    'status_notes', # Needs NLP\n",
    "    'request_type', # Needs NLP\n",
    "    'request_details', # Needs NLP\n",
    "    'address', # Needs NLP\n",
    "#     'street', # Convert to 'category' type to get dummies\n",
    "    'point'\n",
    "]\n",
    "\n",
    "# # Scale data using MinMax scaler\n",
    "# # No need to standardize as all features are categorical (maybe scale lat/long....)\n",
    "# scaler = MinMaxScaler()\n",
    "\n",
    "# Predictor variables\n",
    "x_variables_df = df.drop(columns=exclude_cols, axis=0, inplace=False)\n",
    "\n",
    "# Get dummies for categorical variables\n",
    "X = pd.get_dummies(x_variables_df, drop_first=True)\n",
    "\n",
    "# Target variable\n",
    "y = df['is_duplicate']\n",
    "\n",
    "# Split train and test\n",
    "X_train, X_test, y_train, y_test = train_test_split(X, y,\n",
    "                                                    test_size=0.2, \n",
    "                                                    random_state=2020, \n",
    "                                                    stratify=y,  # Stratify to keep same class ratios\n",
    "                                                    shuffle=True # Shuffle data since it's ordered chronologically\n",
    "                                                   )\n",
    "X_train.head()"
   ]
  },
  {
   "cell_type": "code",
   "execution_count": 4,
   "metadata": {
    "Collapsed": "false"
   },
   "outputs": [
    {
     "name": "stdout",
     "output_type": "stream",
     "text": [
      "df\t (4846, 28)\n",
      "X_train\t (3876, 1052)\n",
      "X_test\t (970, 1052)\n",
      "y_train\t (3876,)\n",
      "y_test\t (970,)\n"
     ]
    }
   ],
   "source": [
    "print('df\\t', df.shape)\n",
    "print('X_train\\t', X_train.shape)\n",
    "print('X_test\\t', X_test.shape)\n",
    "print('y_train\\t', y_train.shape)\n",
    "print('y_test\\t', y_test.shape)"
   ]
  },
  {
   "cell_type": "markdown",
   "metadata": {
    "Collapsed": "false"
   },
   "source": [
    "## Class Balancing"
   ]
  },
  {
   "cell_type": "code",
   "execution_count": 5,
   "metadata": {
    "Collapsed": "false"
   },
   "outputs": [
    {
     "name": "stdout",
     "output_type": "stream",
     "text": [
      "Class 0: 4467\n",
      "Class 1: 379\n",
      "Proportion: 11.79 : 1\n",
      "Percentage of Majority Class: 92.2\n"
     ]
    }
   ],
   "source": [
    "# Target variable\n",
    "target_count = df['is_duplicate'].value_counts()\n",
    "\n",
    "# Print class balance\n",
    "print(f'Class 0: {target_count[0]}')\n",
    "print(f'Class 1: {target_count[1]}')\n",
    "print(f'Proportion: {round(target_count[0] / target_count[1], 2)} : 1')\n",
    "print(f'Percentage of Majority Class: {round(target_count[0] / sum(target_count), 3)*100}')"
   ]
  },
  {
   "cell_type": "code",
   "execution_count": 6,
   "metadata": {
    "Collapsed": "false"
   },
   "outputs": [
    {
     "data": {
      "text/plain": [
       "Counter({0: 3573, 1: 3573})"
      ]
     },
     "execution_count": 6,
     "metadata": {},
     "output_type": "execute_result"
    }
   ],
   "source": [
    "# A ratio of .5 is saying that 50% of my data is simulated\n",
    "# Trevor noted that .2 would be good but let's try different ratios\n",
    "smote = SMOTE(random_state=2020)\n",
    "X_train_smote, y_train_smote = smote.fit_sample(X_train, y_train)\n",
    "Counter(y_train_smote)\n",
    "# pd.Series(y_train_smote).value_counts().plot.bar()"
   ]
  },
  {
   "cell_type": "markdown",
   "metadata": {
    "Collapsed": "false"
   },
   "source": [
    "# Modeling"
   ]
  },
  {
   "cell_type": "markdown",
   "metadata": {
    "Collapsed": "false"
   },
   "source": [
    "Objective: Maximize ROC AUC Score as both recall and precision are equally important and the classes are imbalanced"
   ]
  },
  {
   "cell_type": "code",
   "execution_count": 7,
   "metadata": {
    "Collapsed": "false"
   },
   "outputs": [],
   "source": [
    "# Create list of model and performance\n",
    "model_performance = []\n",
    "models_optimized = []"
   ]
  },
  {
   "cell_type": "markdown",
   "metadata": {
    "Collapsed": "false"
   },
   "source": [
    "User RandomizedSearchCV instead:\n",
    "https://blog.usejournal.com/a-comparison-of-grid-search-and-randomized-search-using-scikit-learn-29823179bc85\n"
   ]
  },
  {
   "cell_type": "markdown",
   "metadata": {
    "Collapsed": "false"
   },
   "source": [
    "# Baseline Models"
   ]
  },
  {
   "cell_type": "code",
   "execution_count": 9,
   "metadata": {
    "Collapsed": "false"
   },
   "outputs": [
    {
     "name": "stdout",
     "output_type": "stream",
     "text": [
      "y actual\t: Counter({0: 894, 1: 76})\n",
      "y predicted\t: Counter({0: 970})\n",
      "\n",
      "Confusion Matrix\n",
      "[[894   0]\n",
      " [ 76   0]]\n"
     ]
    }
   ],
   "source": [
    "#Dummy Classifier\n",
    "from sklearn.dummy import DummyClassifier\n",
    "clf = DummyClassifier(strategy= 'most_frequent').fit(X_train_smote, y_train_smote)\n",
    "y_pred = clf.predict(X_test)\n",
    "\n",
    "#Distribution of y test\n",
    "print('y actual\\t:', Counter(y_test))\n",
    "\n",
    "#Distribution of y predicted\n",
    "print('y predicted\\t:', Counter(y_pred))\n",
    "\n",
    "# Confusion matrix\n",
    "print('\\nConfusion Matrix\\n' + str(confusion_matrix(y_test, y_pred)))"
   ]
  },
  {
   "cell_type": "code",
   "execution_count": 11,
   "metadata": {
    "Collapsed": "false"
   },
   "outputs": [
    {
     "name": "stdout",
     "output_type": "stream",
     "text": [
      "LogisticRegression 0.963\n",
      "KNeighbors 0.881\n",
      "RandomForest 0.984\n",
      "XGBoost 0.984\n"
     ]
    }
   ],
   "source": [
    "base_models = []\n",
    "\n",
    "# Instantiate the models\n",
    "base_models.append(('LogisticRegression', LogisticRegression(solver='liblinear')))\n",
    "# base_models.append(('SVC', SVC(gamma='auto')))\n",
    "base_models.append(('KNeighbors', KNeighborsClassifier()))\n",
    "base_models.append(('RandomForest', RandomForestClassifier(n_estimators=10)))\n",
    "base_models.append(('XGBoost', XGBClassifier()))\n",
    "\n",
    "cv_results = []\n",
    "names = []\n",
    "\n",
    "# Cross Validate - 5 fold\n",
    "for name, model in base_models:\n",
    "    names.append(name)\n",
    "    cv_results.append(np.round_(cross_val_score(model, X_train_smote, y_train_smote, cv=5, scoring='roc_auc'), 3))\n",
    "#     with open(f'../models/{name}_20k.pkl', 'wb') as f: # how can I save the model for later use?ii\n",
    "#         pickle.dump(model, f)\n",
    "\n",
    "for i in range(len(names)):\n",
    "    print(names[i], round(cv_results[i].mean(), 3))"
   ]
  },
  {
   "cell_type": "markdown",
   "metadata": {
    "Collapsed": "false"
   },
   "source": [
    "## Logistic Regression"
   ]
  },
  {
   "cell_type": "code",
   "execution_count": 12,
   "metadata": {
    "Collapsed": "false"
   },
   "outputs": [
    {
     "name": "stdout",
     "output_type": "stream",
     "text": [
      "Best Score: 0.967\n",
      "Params: {'smt__random_state': 2020, 'lgr__solver': 'liblinear', 'lgr__penalty': 'l2', 'lgr__C': 10}\n",
      "\n",
      "Train 0.85\tTest 0.845\tParams: {'smt__random_state': 2020, 'lgr__solver': 'saga', 'lgr__penalty': 'l2', 'lgr__C': 100}\n",
      "Train 0.85\tTest 0.845\tParams: {'smt__random_state': 2020, 'lgr__solver': 'saga', 'lgr__penalty': 'l1', 'lgr__C': 100}\n",
      "Train 0.846\tTest 0.841\tParams: {'smt__random_state': 2020, 'lgr__solver': 'saga', 'lgr__penalty': 'l1', 'lgr__C': 1}\n",
      "Train 0.892\tTest 0.886\tParams: {'smt__random_state': 2020, 'lgr__solver': 'liblinear', 'lgr__penalty': 'l1', 'lgr__C': 0.1}\n",
      "Train 0.5\tTest 0.5\tParams: {'smt__random_state': 2020, 'lgr__solver': 'saga', 'lgr__penalty': 'l1', 'lgr__C': 0.001}\n",
      "Train 0.82\tTest 0.816\tParams: {'smt__random_state': 2020, 'lgr__solver': 'saga', 'lgr__penalty': 'l1', 'lgr__C': 0.1}\n",
      "Train 0.936\tTest 0.926\tParams: {'smt__random_state': 2020, 'lgr__solver': 'liblinear', 'lgr__penalty': 'l2', 'lgr__C': 0.1}\n",
      "Train 0.991\tTest 0.967\tParams: {'smt__random_state': 2020, 'lgr__solver': 'liblinear', 'lgr__penalty': 'l2', 'lgr__C': 10}\n",
      "Train 0.5\tTest 0.5\tParams: {'smt__random_state': 2020, 'lgr__solver': 'liblinear', 'lgr__penalty': 'l1', 'lgr__C': 0.001}\n",
      "Train 0.85\tTest 0.844\tParams: {'smt__random_state': 2020, 'lgr__solver': 'saga', 'lgr__penalty': 'l2', 'lgr__C': 1}\n"
     ]
    }
   ],
   "source": [
    "# Grid searching key hyperparameters for logistic regression\n",
    "\n",
    "# Instantiate model and SMOTE\n",
    "lg_model = LogisticRegression()\n",
    "smote = SMOTE(random_state=2020)\n",
    "\n",
    "# Construct pipeline\n",
    "steps = [('smt', smote), ('lgr', lg_model)]\n",
    "pipeline = Pipeline(steps)\n",
    "\n",
    "# Define parameter grid values to be searched\n",
    "param_grid = {\n",
    "    'smt__random_state': [2020],\n",
    "    'lgr__solver': ['saga', 'liblinear'],\n",
    "    'lgr__penalty': ['l1', 'l2'],\n",
    "    'lgr__C': [0.001, 0.01, 0.1, 1, 10, 100, 1000]\n",
    "}\n",
    "\n",
    "# Use stratify version of k-fold to keep class imbalance ratio\n",
    "k_fold = StratifiedKFold(n_splits=3, shuffle = True, random_state=2020)\n",
    "\n",
    "# Cross Validation\n",
    "# lg_grid = GridSearchCV(pipeline, param_grid=param_grid, cv=k_fold, n_jobs=-1, return_train_score=True, scoring='roc_auc')\n",
    "lg_rndm = RandomizedSearchCV(pipeline, param_distributions=param_grid, cv=k_fold, n_jobs=-1, return_train_score=True, scoring='roc_auc')\n",
    "\n",
    "# Train with balanced classes\n",
    "grid_result = lg_rndm.fit(X_train_smote, y_train_smote) # Should I use X_train, y_train here?\n",
    "\n",
    "# Summarize results\n",
    "print(f'Best Score: {round(grid_result.best_score_, 3)}\\nParams: {grid_result.best_params_}\\n')\n",
    "\n",
    "mean_train = grid_result.cv_results_['mean_train_score']\n",
    "mean_test = grid_result.cv_results_['mean_test_score']\n",
    "params = grid_result.cv_results_['params']\n",
    "for mean_tr, mean_ts, param in zip(mean_train, mean_test, params):\n",
    "    print(f'Train {round(mean_tr, 3)}\\tTest {round(mean_ts, 3)}\\tParams: {param}')\n",
    "    \n",
    "# # Examine the best model\n",
    "# print(lg_grid.best_score_)\n",
    "# print(lg_grid.best_params_)"
   ]
  },
  {
   "cell_type": "code",
   "execution_count": 38,
   "metadata": {
    "Collapsed": "false"
   },
   "outputs": [
    {
     "name": "stdout",
     "output_type": "stream",
     "text": [
      "Accuracy  : 0.87\n",
      "ROC_AUC   : 0.562\n",
      "Precision : 0.188\n",
      "Recall    : 0.197\n",
      "F-score   : 0.192\n",
      "\n",
      "Confusion Matrix\n",
      "[[829  65]\n",
      " [ 61  15]]\n"
     ]
    }
   ],
   "source": [
    "# Instantiate model with best paramaters\n",
    "lg_best = LogisticRegression(C=10, penalty='l2', solver='liblinear', random_state=2020) # Check the params\n",
    "\n",
    "# Train with balanced classes\n",
    "lg_best.fit(X_train_smote, y_train_smote)\n",
    "\n",
    "# Get predictions\n",
    "lg_best_preds = lg_best.predict(X_test)\n",
    "# lg_best_y_score = lg_best.predict_proba(X_test)\n",
    "\n",
    "# Get ROC AUC Score, precision, recall, f1-score\n",
    "accuracy  = round(accuracy_score(y_test, lg_best_preds), 3)\n",
    "roc_auc   = round(roc_auc_score(y_test, lg_best_preds), 3)\n",
    "precision = round(precision_score(y_test, lg_best_preds), 3)\n",
    "recall    = round(recall_score(y_test, lg_best_preds), 3)\n",
    "f1        = round(f1_score(y_test, lg_best_preds), 3)\n",
    "\n",
    "print(f'Accuracy  : {accuracy}')\n",
    "print(f'ROC_AUC   : {roc_auc}')\n",
    "print(f'Precision : {precision}')\n",
    "print(f'Recall    : {recall}')\n",
    "print(f'F-score   : {f1}')\n",
    "\n",
    "# Confusion matrix\n",
    "print('\\nConfusion Matrix\\n' + str(confusion_matrix(y_test, lg_best_preds)))"
   ]
  },
  {
   "cell_type": "markdown",
   "metadata": {
    "Collapsed": "false"
   },
   "source": [
    ">Why are my scores high in the CV but much lower after using best params?\n",
    ">* The FP Rate is really high..."
   ]
  },
  {
   "cell_type": "code",
   "execution_count": 39,
   "metadata": {
    "Collapsed": "false"
   },
   "outputs": [],
   "source": [
    "# Add model and accuracy dict to list\n",
    "model_performance.append(dict([\n",
    "    ('Model', 'Logistic Regression'),\n",
    "    ('ROC AUC', round(roc_auc, 3)),\n",
    "    ('Precision', round(precision, 3)),\n",
    "    ('Recall', round(recall, 3)),\n",
    "    ('F1', round(fscore, 3))\n",
    "     ]))\n",
    "\n",
    "# Add model to list\n",
    "models_optimized.append('Logistic Regression')"
   ]
  },
  {
   "cell_type": "markdown",
   "metadata": {
    "Collapsed": "false"
   },
   "source": [
    "# KNN"
   ]
  },
  {
   "cell_type": "code",
   "execution_count": 40,
   "metadata": {
    "Collapsed": "false"
   },
   "outputs": [
    {
     "name": "stderr",
     "output_type": "stream",
     "text": [
      "/home/corraljrmiguel/anaconda3/lib/python3.7/site-packages/sklearn/model_selection/_search.py:281: UserWarning: The total space of parameters 3 is smaller than n_iter=10. Running 3 iterations. For exhaustive searches, use GridSearchCV.\n",
      "  % (grid_size, self.n_iter, grid_size), UserWarning)\n"
     ]
    },
    {
     "name": "stdout",
     "output_type": "stream",
     "text": [
      "Best Score: 0.889\n",
      "Params: {'smt__random_state': 2020, 'knn__n_neighbors': 7}\n",
      "\n",
      "Train 0.995\tTest 0.849\tParams: {'smt__random_state': 2020, 'knn__n_neighbors': 3}\n",
      "Train 0.991\tTest 0.873\tParams: {'smt__random_state': 2020, 'knn__n_neighbors': 5}\n",
      "Train 0.987\tTest 0.889\tParams: {'smt__random_state': 2020, 'knn__n_neighbors': 7}\n"
     ]
    }
   ],
   "source": [
    "# Grid searching key hyperparameters for KNN\n",
    "\n",
    "# Instantiate model and SMOTE\n",
    "knn_model = KNeighborsClassifier()\n",
    "smote = SMOTE(random_state=2020)\n",
    "\n",
    "# Construct pipeline\n",
    "steps = [('smt', smote), ('knn', knn_model)]\n",
    "pipeline = Pipeline(steps)\n",
    "\n",
    "# Define parameter grid values to be searched\n",
    "param_grid = {\n",
    "    'smt__random_state': [2020],\n",
    "    'knn__n_neighbors' : [3, 5, 7]\n",
    "}\n",
    "\n",
    "# Use stratify version of k-fold to keep class imbalance ratio\n",
    "k_fold = StratifiedKFold(n_splits=3, shuffle = True, random_state=2020)\n",
    "\n",
    "# Cross Validation\n",
    "# knn_grid = GridSearchCV(pipeline, param_grid=param_grid, cv=k_fold, n_jobs=-1, return_train_score=True, scoring='roc_auc')\n",
    "knn_rndm = RandomizedSearchCV(pipeline, param_distributions=param_grid, cv=k_fold, n_jobs=-1, return_train_score=True, scoring='roc_auc')\n",
    "\n",
    "# Train with balanced classes\n",
    "grid_result = knn_rndm.fit(X_train_smote, y_train_smote) # Should I use X_train, y_train here?\n",
    "\n",
    "# Summarize results\n",
    "print(f'Best Score: {round(grid_result.best_score_, 3)}\\nParams: {grid_result.best_params_}\\n')\n",
    "\n",
    "mean_train = grid_result.cv_results_['mean_train_score']\n",
    "mean_test = grid_result.cv_results_['mean_test_score']\n",
    "params = grid_result.cv_results_['params']\n",
    "for mean_tr, mean_ts, param in zip(mean_train, mean_test, params):\n",
    "    print(f'Train {round(mean_tr, 3)}\\tTest {round(mean_ts, 3)}\\tParams: {param}')\n",
    "    \n",
    "# # Examine the best model\n",
    "# print(knn_grid.best_score_)\n",
    "# print(knn_grid.best_params_)"
   ]
  },
  {
   "cell_type": "code",
   "execution_count": 41,
   "metadata": {
    "Collapsed": "false"
   },
   "outputs": [
    {
     "name": "stdout",
     "output_type": "stream",
     "text": [
      "Accuracy  : 0.388\n",
      "ROC_AUC   : 0.559\n",
      "Precision : 0.091\n",
      "Recall    : 0.763\n",
      "F-score   : 0.163\n",
      "\n",
      "Confusion Matrix\n",
      "[[318 576]\n",
      " [ 18  58]]\n"
     ]
    }
   ],
   "source": [
    "# Instantiate model with best paramaters\n",
    "knn_best = KNeighborsClassifier(n_neighbors=7)\n",
    "\n",
    "# Train with balanced classes\n",
    "knn_best.fit(X_train_smote, y_train_smote)\n",
    "\n",
    "# Get predictions\n",
    "knn_best_preds = knn_best.predict(X_test)\n",
    "# knn_best_y_score = knn_best.predict_proba(X_test)\n",
    "\n",
    "# Get ROC AUC Score, precision, recall, f1-score\n",
    "accuracy  = round(accuracy_score(y_test,  knn_best_preds), 3)\n",
    "roc_auc   = round(roc_auc_score(y_test,   knn_best_preds), 3)\n",
    "precision = round(precision_score(y_test, knn_best_preds), 3)\n",
    "recall    = round(recall_score(y_test,    knn_best_preds), 3)\n",
    "f1        = round(f1_score(y_test,        knn_best_preds), 3)\n",
    "\n",
    "print(f'Accuracy  : {accuracy}')\n",
    "print(f'ROC_AUC   : {roc_auc}')\n",
    "print(f'Precision : {precision}')\n",
    "print(f'Recall    : {recall}')\n",
    "print(f'F-score   : {f1}')\n",
    "\n",
    "# Confusion matrix\n",
    "print('\\nConfusion Matrix\\n' + str(confusion_matrix(y_test, knn_best_preds)))"
   ]
  },
  {
   "cell_type": "code",
   "execution_count": 42,
   "metadata": {
    "Collapsed": "false"
   },
   "outputs": [],
   "source": [
    "# Add model and accuracy dict to list\n",
    "model_performance.append(dict([\n",
    "    ('Model', 'KNN'),\n",
    "    ('ROC AUC', round(roc_auc, 3)),\n",
    "    ('Precision', round(precision, 3)),\n",
    "    ('Recall', round(recall, 3)),\n",
    "    ('F1', round(fscore, 3))\n",
    "     ]))\n",
    "\n",
    "# Add model to list\n",
    "models_optimized.append('KNN')"
   ]
  },
  {
   "cell_type": "markdown",
   "metadata": {
    "Collapsed": "false"
   },
   "source": [
    "## Random Forest"
   ]
  },
  {
   "cell_type": "code",
   "execution_count": 43,
   "metadata": {
    "Collapsed": "false"
   },
   "outputs": [
    {
     "name": "stdout",
     "output_type": "stream",
     "text": [
      "Best Score: 0.908\n",
      "Params: {'smt__random_state': 2020, 'rfc__random_state': 2020, 'rfc__n_estimators': 1000, 'rfc__max_features': 10, 'rfc__max_depth': 4, 'rfc__criterion': 'gini'}\n",
      "\n",
      "Train 0.885\tTest 0.863\tParams: {'smt__random_state': 2020, 'rfc__random_state': 2020, 'rfc__n_estimators': 100, 'rfc__max_features': 10, 'rfc__max_depth': 4, 'rfc__criterion': 'entropy'}\n",
      "Train 0.881\tTest 0.866\tParams: {'smt__random_state': 2020, 'rfc__random_state': 2020, 'rfc__n_estimators': 200, 'rfc__max_features': 15, 'rfc__max_depth': 2, 'rfc__criterion': 'gini'}\n",
      "Train 0.899\tTest 0.876\tParams: {'smt__random_state': 2020, 'rfc__random_state': 2020, 'rfc__n_estimators': 200, 'rfc__max_features': 5, 'rfc__max_depth': 3, 'rfc__criterion': 'gini'}\n",
      "Train 0.903\tTest 0.888\tParams: {'smt__random_state': 2020, 'rfc__random_state': 2020, 'rfc__n_estimators': 1000, 'rfc__max_features': 15, 'rfc__max_depth': 2, 'rfc__criterion': 'gini'}\n",
      "Train 0.897\tTest 0.879\tParams: {'smt__random_state': 2020, 'rfc__random_state': 2020, 'rfc__n_estimators': 150, 'rfc__max_features': 10, 'rfc__max_depth': 3, 'rfc__criterion': 'entropy'}\n",
      "Train 0.912\tTest 0.884\tParams: {'smt__random_state': 2020, 'rfc__random_state': 2020, 'rfc__n_estimators': 150, 'rfc__max_features': 5, 'rfc__max_depth': 4, 'rfc__criterion': 'entropy'}\n",
      "Train 0.875\tTest 0.854\tParams: {'smt__random_state': 2020, 'rfc__random_state': 2020, 'rfc__n_estimators': 100, 'rfc__max_features': 10, 'rfc__max_depth': 3, 'rfc__criterion': 'gini'}\n",
      "Train 0.913\tTest 0.895\tParams: {'smt__random_state': 2020, 'rfc__random_state': 2020, 'rfc__n_estimators': 1000, 'rfc__max_features': 10, 'rfc__max_depth': 2, 'rfc__criterion': 'entropy'}\n",
      "Train 0.93\tTest 0.908\tParams: {'smt__random_state': 2020, 'rfc__random_state': 2020, 'rfc__n_estimators': 1000, 'rfc__max_features': 10, 'rfc__max_depth': 4, 'rfc__criterion': 'gini'}\n",
      "Train 0.905\tTest 0.887\tParams: {'smt__random_state': 2020, 'rfc__random_state': 2020, 'rfc__n_estimators': 200, 'rfc__max_features': 10, 'rfc__max_depth': 3, 'rfc__criterion': 'entropy'}\n"
     ]
    }
   ],
   "source": [
    "# Grid searching key hyperparameters for Random Forest\n",
    "\n",
    "# Instantiate model and SMOTE\n",
    "rf_model = RandomForestClassifier()\n",
    "smote = SMOTE(random_state=2020)\n",
    "\n",
    "# Construct pipeline\n",
    "steps = [('smt', smote), ('rfc', rf_model)]\n",
    "pipeline = Pipeline(steps)\n",
    "\n",
    "# Define parameter grid values to be searched\n",
    "param_grid = {\n",
    "    'smt__random_state': [2020],\n",
    "    'rfc__n_estimators': [50, 100, 150, 200, 1000],\n",
    "    'rfc__max_depth' : [2, 3, 4],\n",
    "    'rfc__max_features' : [5, 10, 15],\n",
    "    'rfc__criterion' : ['gini', 'entropy'],\n",
    "    'rfc__random_state' :[2020]\n",
    "}\n",
    "\n",
    "# Use stratify version of k-fold to keep class imbalance ratio\n",
    "k_fold = StratifiedKFold(n_splits=3, shuffle = True, random_state=2020)\n",
    "\n",
    "# Cross Validation\n",
    "# rf_grid = GridSearchCV(pipeline, param_grid=param_grid, cv=k_fold, n_jobs=-1, return_train_score=True, scoring='roc_auc')\n",
    "rf_rndm = RandomizedSearchCV(pipeline, param_distributions=param_grid, cv=k_fold, n_jobs=-1, return_train_score=True, scoring='roc_auc')\n",
    "\n",
    "# Train with balanced classes\n",
    "grid_result = rf_rndm.fit(X_train_smote, y_train_smote) # Should I use X_train, y_train here?\n",
    "\n",
    "# Summarize results\n",
    "print(f'Best Score: {round(grid_result.best_score_, 3)}\\nParams: {grid_result.best_params_}\\n')\n",
    "\n",
    "mean_train = grid_result.cv_results_['mean_train_score']\n",
    "mean_test = grid_result.cv_results_['mean_test_score']\n",
    "params = grid_result.cv_results_['params']\n",
    "for mean_tr, mean_ts, param in zip(mean_train, mean_test, params):\n",
    "    print(f'Train {round(mean_tr, 3)}\\tTest {round(mean_ts, 3)}\\tParams: {param}')\n",
    "    \n",
    "# # Examine the best model\n",
    "# print(rf_grid.best_score_)\n",
    "# print(rf_grid.best_params_)"
   ]
  },
  {
   "cell_type": "code",
   "execution_count": 45,
   "metadata": {
    "Collapsed": "false"
   },
   "outputs": [
    {
     "name": "stdout",
     "output_type": "stream",
     "text": [
      "Accuracy  : 0.782\n",
      "ROC_AUC   : 0.611\n",
      "Precision : 0.157\n",
      "Recall    : 0.408\n",
      "F-score   : 0.227\n",
      "\n",
      "Confusion Matrix\n",
      "[[728 166]\n",
      " [ 45  31]]\n"
     ]
    }
   ],
   "source": [
    "# Instantiate model with best paramaters\n",
    "rf_best = RandomForestClassifier(max_depth=4, n_estimators=1000, random_state=2020)\n",
    "\n",
    "# Train with balanced classes\n",
    "rf_best.fit(X_train_smote, y_train_smote)\n",
    "\n",
    "# Get predictions\n",
    "rf_best_preds = rf_best.predict(X_test)\n",
    "# rf_best_y_score = rf_best.predict_proba(X_test)\n",
    "\n",
    "# Get ROC AUC Score, precision, recall, f1-score\n",
    "accuracy  = round(accuracy_score(y_test,  rf_best_preds), 3)\n",
    "roc_auc   = round(roc_auc_score(y_test,   rf_best_preds), 3)\n",
    "precision = round(precision_score(y_test, rf_best_preds), 3)\n",
    "recall    = round(recall_score(y_test,    rf_best_preds), 3)\n",
    "f1        = round(f1_score(y_test,        rf_best_preds), 3)\n",
    "\n",
    "print(f'Accuracy  : {accuracy}')\n",
    "print(f'ROC_AUC   : {roc_auc}')\n",
    "print(f'Precision : {precision}')\n",
    "print(f'Recall    : {recall}')\n",
    "print(f'F-score   : {f1}')\n",
    "\n",
    "# Confusion matrix\n",
    "print('\\nConfusion Matrix\\n' + str(confusion_matrix(y_test, rf_best_preds)))"
   ]
  },
  {
   "cell_type": "code",
   "execution_count": 46,
   "metadata": {
    "Collapsed": "false"
   },
   "outputs": [],
   "source": [
    "# Add model and accuracy dict to list\n",
    "model_performance.append(dict([\n",
    "    ('Model', 'Random Forest'),\n",
    "    ('ROC AUC', round(roc_auc, 3)),\n",
    "    ('Precision', round(precision, 3)),\n",
    "    ('Recall', round(recall, 3)),\n",
    "    ('F1', round(fscore, 3))\n",
    "     ]))\n",
    "\n",
    "# Add model to list\n",
    "models_optimized.append('Random Forest')"
   ]
  },
  {
   "cell_type": "markdown",
   "metadata": {
    "Collapsed": "false"
   },
   "source": [
    "## XGBoost"
   ]
  },
  {
   "cell_type": "code",
   "execution_count": 47,
   "metadata": {
    "Collapsed": "false"
   },
   "outputs": [
    {
     "name": "stdout",
     "output_type": "stream",
     "text": [
      "Best Score: 0.982\n",
      "Params: {'xgb__n_estimators': 1000, 'xgb__max_depth': 5, 'xgb__learning_rate': 0.01, 'smt__random_state': 2020}\n",
      "\n",
      "Train 0.902\tTest 0.896\tParams: {'xgb__n_estimators': 100, 'xgb__max_depth': 3, 'xgb__learning_rate': 0.01, 'smt__random_state': 2020}\n",
      "Train 0.983\tTest 0.975\tParams: {'xgb__n_estimators': 1000, 'xgb__max_depth': 3, 'xgb__learning_rate': 0.01, 'smt__random_state': 2020}\n",
      "Train 0.993\tTest 0.982\tParams: {'xgb__n_estimators': 1000, 'xgb__max_depth': 5, 'xgb__learning_rate': 0.01, 'smt__random_state': 2020}\n",
      "Train 0.995\tTest 0.979\tParams: {'xgb__n_estimators': 500, 'xgb__max_depth': 3, 'xgb__learning_rate': 0.1, 'smt__random_state': 2020}\n",
      "Train 0.998\tTest 0.981\tParams: {'xgb__n_estimators': 250, 'xgb__max_depth': 5, 'xgb__learning_rate': 0.1, 'smt__random_state': 2020}\n",
      "Train 1.0\tTest 0.979\tParams: {'xgb__n_estimators': 1000, 'xgb__max_depth': 5, 'xgb__learning_rate': 0.1, 'smt__random_state': 2020}\n",
      "Train 0.995\tTest 0.981\tParams: {'xgb__n_estimators': 250, 'xgb__max_depth': 4, 'xgb__learning_rate': 0.1, 'smt__random_state': 2020}\n",
      "Train 0.994\tTest 0.981\tParams: {'xgb__n_estimators': 100, 'xgb__max_depth': 5, 'xgb__learning_rate': 0.1, 'smt__random_state': 2020}\n",
      "Train 0.871\tTest 0.86\tParams: {'xgb__n_estimators': 500, 'xgb__max_depth': 4, 'xgb__learning_rate': 0.001, 'smt__random_state': 2020}\n",
      "Train 0.971\tTest 0.964\tParams: {'xgb__n_estimators': 500, 'xgb__max_depth': 3, 'xgb__learning_rate': 0.01, 'smt__random_state': 2020}\n"
     ]
    }
   ],
   "source": [
    "# Grid searching key hyperparameters for XGBoost\n",
    "\n",
    "# Instantiate model and SMOTE\n",
    "xgb_model = XGBClassifier()\n",
    "smote = SMOTE(random_state=2020)\n",
    "\n",
    "# Construct pipeline\n",
    "steps = [('smt', smote), ('xgb', xgb_model)]\n",
    "pipeline = Pipeline(steps)\n",
    "\n",
    "# Define parameter grid values to be searched\n",
    "param_grid = {\n",
    "    'smt__random_state': [2020],\n",
    "    'xgb__n_estimators': [100, 250, 500, 1000], \n",
    "    'xgb__max_depth': [3, 4, 5], \n",
    "    'xgb__learning_rate': [0.001, 0.01, 0.1]\n",
    "}\n",
    "\n",
    "# Use stratify version of k-fold to keep class imbalance ratio\n",
    "k_fold = StratifiedKFold(n_splits=3, shuffle = True, random_state=2020)\n",
    "\n",
    "# Cross Validation\n",
    "# xgb_grid = GridSearchCV(pipeline, param_grid=param_grid, cv=k_fold, n_jobs=-1, return_train_score=True, scoring='roc_auc')\n",
    "xgb_rndm = RandomizedSearchCV(pipeline, param_distributions=param_grid, cv=k_fold, n_jobs=-1, return_train_score=True, scoring='roc_auc')\n",
    "\n",
    "# Train with balanced classes\n",
    "grid_result = xgb_rndm.fit(X_train_smote, y_train_smote) # Should I use X_train, y_train here?\n",
    "\n",
    "# Summarize results\n",
    "print(f'Best Score: {round(grid_result.best_score_, 3)}\\nParams: {grid_result.best_params_}\\n')\n",
    "\n",
    "mean_train = grid_result.cv_results_['mean_train_score']\n",
    "mean_test = grid_result.cv_results_['mean_test_score']\n",
    "params = grid_result.cv_results_['params']\n",
    "for mean_tr, mean_ts, param in zip(mean_train, mean_test, params):\n",
    "    print(f'Train {round(mean_tr, 3)}\\tTest {round(mean_ts, 3)}\\tParams: {param}')\n",
    "    \n",
    "# # Examine the best model\n",
    "# print(lg_grid.best_score_)\n",
    "# print(lg_grid.best_params_)"
   ]
  },
  {
   "cell_type": "code",
   "execution_count": 48,
   "metadata": {
    "Collapsed": "false"
   },
   "outputs": [
    {
     "name": "stdout",
     "output_type": "stream",
     "text": [
      "Accuracy  : 0.782\n",
      "ROC_AUC   : 0.611\n",
      "Precision : 0.157\n",
      "Recall    : 0.408\n",
      "F-score   : 0.227\n",
      "\n",
      "Confusion Matrix\n",
      "[[880  14]\n",
      " [ 66  10]]\n"
     ]
    }
   ],
   "source": [
    "# Instantiate model with best paramaters\n",
    "xgb_best = XGBClassifier(n_estimators=1000, max_depth=5, learning_rate=0.01)\n",
    "\n",
    "# Train with balanced classes\n",
    "xgb_best.fit(X_train_smote, y_train_smote)\n",
    "\n",
    "# Get predictions\n",
    "xgb_best_preds = xgb_best.predict(X_test)\n",
    "# xgb_best_y_score = xgb_best.predict_proba(X_test)\n",
    "\n",
    "# Get ROC AUC Score, precision, recall, f1-score\n",
    "accuracy  = round(accuracy_score(y_test,  rf_best_preds), 3)\n",
    "roc_auc   = round(roc_auc_score(y_test,   rf_best_preds), 3)\n",
    "precision = round(precision_score(y_test, rf_best_preds), 3)\n",
    "recall    = round(recall_score(y_test,    rf_best_preds), 3)\n",
    "f1        = round(f1_score(y_test,        rf_best_preds), 3)\n",
    "\n",
    "print(f'Accuracy  : {accuracy}')\n",
    "print(f'ROC_AUC   : {roc_auc}')\n",
    "print(f'Precision : {precision}')\n",
    "print(f'Recall    : {recall}')\n",
    "print(f'F-score   : {f1}')\n",
    "\n",
    "# Confusion matrix\n",
    "print('\\nConfusion Matrix\\n' + str(confusion_matrix(y_test, xgb_best_preds)))"
   ]
  },
  {
   "cell_type": "code",
   "execution_count": 49,
   "metadata": {
    "Collapsed": "false"
   },
   "outputs": [],
   "source": [
    "# Add model and accuracy dict to list\n",
    "model_performance.append(dict([\n",
    "    ('Model', 'XGBoost'),\n",
    "    ('ROC AUC', round(roc_auc, 3)),\n",
    "    ('Precision', round(precision, 3)),\n",
    "    ('Recall', round(recall, 3)),\n",
    "    ('F1', round(fscore, 3))\n",
    "     ]))\n",
    "\n",
    "# Add model to list\n",
    "models_optimized.append('XGBoost')"
   ]
  },
  {
   "cell_type": "markdown",
   "metadata": {
    "Collapsed": "false"
   },
   "source": [
    "# Feature Selection"
   ]
  },
  {
   "cell_type": "code",
   "execution_count": 80,
   "metadata": {
    "Collapsed": "false"
   },
   "outputs": [
    {
     "data": {
      "text/plain": [
       "Text(0.5, 1.0, 'Feature Importance')"
      ]
     },
     "execution_count": 80,
     "metadata": {},
     "output_type": "execute_result"
    },
    {
     "data": {
      "image/png": "[encoded data removed]",
      "text/plain": [
       "<Figure size 720x720 with 1 Axes>"
      ]
     },
     "metadata": {},
     "output_type": "display_data"
    }
   ],
   "source": [
    "# Feature Importance – XGBoost\n",
    "fig, ax = plt.subplots(figsize=(10,10))\n",
    "xgb_best.get_booster().feature_names = list(X_test.columns)\n",
    "plot_importance(xgb_best.get_booster(), max_num_features=15, height=0.8, ax=ax)\n",
    "plt.title('Feature Importance')\n",
    "\n",
    "# plt.savefig('feature_importance.png', bbox_inches='tight');"
   ]
  },
  {
   "cell_type": "markdown",
   "metadata": {
    "Collapsed": "false"
   },
   "source": [
    "# Model Comparison"
   ]
  },
  {
   "cell_type": "code",
   "execution_count": 68,
   "metadata": {
    "Collapsed": "false"
   },
   "outputs": [],
   "source": [
    "def plot_roc_curves(classifiers, X_train, y_train, X_test, y_test, sampler = None):\n",
    "    \"\"\"\n",
    "        Function for plotting roc curves of classifiers for comparison\n",
    "        \n",
    "        :param classifiers: dictionary of classifiers\n",
    "        :param sampler: sampling method to use e.g. SMOTE\n",
    "        \n",
    "        :returns fpr: an array of false positive rate values from roc_curve\n",
    "        :returns tpr: an array of true positive rate values from roc_curve\n",
    "        :returns thresholds: an array of threshold values from roc_curve\n",
    "        :returns roc_auc: roc_auc scores for each classifier in classifiers\n",
    "        \n",
    "        https://github.com/kevinchiv/Predicting-Kickstarter-Success/blob/master/02%20-%20Classification%20Modeling.ipynb\n",
    "    \"\"\"\n",
    "\n",
    "    fpr, tpr, thresholds = {}, {}, {}\n",
    "    roc_auc = {}\n",
    "\n",
    "\n",
    "    for classifier_name, classifier in classifiers.items():\n",
    "\n",
    "        #set n_jobs = -1 for faster performance\n",
    "        classifier = classifier.set_params(n_jobs = -1)\n",
    "\n",
    "#         if sampler:\n",
    "#             sampler.set_params(random_state = 42, n_jobs = -1)\n",
    "\n",
    "        steps = [('sampling', sampler),\n",
    "                 (classifier_name, classifier)]\n",
    "\n",
    "        model = Pipeline(steps)\n",
    "\n",
    "        model.fit(X_train, y_train)\n",
    "\n",
    "        y_proba = model.predict_proba(X_test)[:,1]\n",
    "\n",
    "        fpr[classifier_name], tpr[classifier_name], thresholds[classifier_name] = roc_curve(y_test, y_proba)\n",
    "\n",
    "        roc_auc[classifier_name] = round(auc(fpr[classifier_name], tpr[classifier_name]), 3)\n",
    "\n",
    "        print(classifier_name + ' roc_auc score: ' + str(roc_auc[classifier_name]))\n",
    "\n",
    "\n",
    "    plt.figure(figsize=(8, 8))\n",
    "\n",
    "    for classifier_name, classifier in classifiers.items():\n",
    "        sns.lineplot(fpr[classifier_name], tpr[classifier_name], err_style = None);\n",
    "\n",
    "    midline_points = np.arange(0, 1.05, 0.05) \n",
    "\n",
    "    plt.plot(midline_points, midline_points, linestyle ='--', color = 'black');\n",
    "    plt.title(\"ROC Curves for Different Classification Models\", y =1.05, fontsize = 16);\n",
    "    plt.xlabel('FPR', fontsize = 12, x = 1.05);\n",
    "    plt.ylabel('TPR', fontsize = 12, rotation =0, y = 1.05);\n",
    "    plt.legend(list(zip(classifiers.keys(), roc_auc.values())));\n",
    "\n",
    "    return fpr, tpr, thresholds, roc_auc"
   ]
  },
  {
   "cell_type": "code",
   "execution_count": 72,
   "metadata": {
    "Collapsed": "false"
   },
   "outputs": [
    {
     "name": "stdout",
     "output_type": "stream",
     "text": [
      "KNN roc_auc score: 0.604\n",
      "LGR roc_auc score: 0.626\n"
     ]
    },
    {
     "name": "stderr",
     "output_type": "stream",
     "text": [
      "/home/corraljrmiguel/anaconda3/lib/python3.7/site-packages/sklearn/linear_model/_logistic.py:1539: UserWarning: 'n_jobs' > 1 does not have any effect when 'solver' is set to 'liblinear'. Got 'n_jobs' = 16.\n",
      "  \" = {}.\".format(effective_n_jobs(self.n_jobs)))\n"
     ]
    },
    {
     "name": "stdout",
     "output_type": "stream",
     "text": [
      "RFC roc_auc score: 0.702\n",
      "XGB roc_auc score: 0.712\n",
      "Ensemble roc_auc score: 0.681\n"
     ]
    },
    {
     "data": {
      "image/png": "[encoded data removed]",
      "text/plain": [
       "<Figure size 576x576 with 1 Axes>"
      ]
     },
     "metadata": {},
     "output_type": "display_data"
    }
   ],
   "source": [
    "classifiers = {'KNN': knn_best, \n",
    "               'LGR': lg_best, \n",
    "               'RFC': rf_best, \n",
    "               'XGB': xgb_best,\n",
    "               'Ensemble': VotingClassifier(estimators=[('lr', lg_best), ('rf', rf_best), ('xgb', xgb_best)],\n",
    "                                            voting='soft', weights=[1, 1, 1])\n",
    "              }\n",
    "\n",
    "fpr, tpr, thresholds, roc_auc = plot_roc_curves(classifiers, X_train_smote, y_train_smote, X_test, y_test)"
   ]
  },
  {
   "cell_type": "code",
   "execution_count": null,
   "metadata": {
    "Collapsed": "false"
   },
   "outputs": [],
   "source": []
  },
  {
   "cell_type": "code",
   "execution_count": null,
   "metadata": {
    "Collapsed": "false"
   },
   "outputs": [],
   "source": []
  },
  {
   "cell_type": "code",
   "execution_count": null,
   "metadata": {
    "Collapsed": "false"
   },
   "outputs": [],
   "source": []
  },
  {
   "cell_type": "markdown",
   "metadata": {
    "Collapsed": "false"
   },
   "source": [
    "## Confusion Matrix for Test Dataset"
   ]
  },
  {
   "cell_type": "code",
   "execution_count": null,
   "metadata": {
    "Collapsed": "false"
   },
   "outputs": [],
   "source": [
    "# # Print confusion matrix for XGBoost\n",
    "# xgb_confusion = confusion_matrix(y_test, test_pred_smote)\n",
    "\n",
    "# plt.figure(dpi=125)\n",
    "# sns.heatmap(xgb_confusion, annot=True, fmt='g', square=True, cbar=False,\n",
    "#             xticklabels=['no duplicate', 'is duplicate'],\n",
    "#             yticklabels=['no duplicate', 'is duplicate'])\n",
    "\n",
    "# plt.title('Confusion Matrix - Test Dataset\\nXGBoost', pad=20)\n",
    "# plt.xlabel('Predicted\\n', labelpad=20)\n",
    "# plt.ylabel('Actual\\n', labelpad=20);"
   ]
  }
 ],
 "metadata": {
  "kernelspec": {
   "display_name": "Python 3",
   "language": "python",
   "name": "python3"
  },
  "language_info": {
   "codemirror_mode": {
    "name": "ipython",
    "version": 3
   },
   "file_extension": ".py",
   "mimetype": "text/x-python",
   "name": "python",
   "nbconvert_exporter": "python",
   "pygments_lexer": "ipython3",
   "version": "3.7.6"
  }
 },
 "nbformat": 4,
 "nbformat_minor": 4
}
